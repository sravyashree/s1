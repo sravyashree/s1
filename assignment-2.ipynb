{
 "cells": [
  {
   "cell_type": "code",
   "execution_count": 3,
   "id": "0dd9aa80",
   "metadata": {},
   "outputs": [
    {
     "name": "stdout",
     "output_type": "stream",
     "text": [
      "enter a basic salary:350000\n",
      "gross_salary 560000.0\n"
     ]
    }
   ],
   "source": [
    "##q1\n",
    "#ramesh's basic salary is input through the keyboard .his dearness allowance is 40%of basic salary,and house rent allowance is 20%\n",
    "#of basic salary.write a program to calculate his gross salary.\n",
    "try:\n",
    "    salary=eval(input(\"enter a basic salary:\"))\n",
    "    DA=(40*salary)/100\n",
    "    hra=(20*salary)/100\n",
    "    gross_salary=salary+DA+hra\n",
    "    print(\"gross_salary\",gross_salary)\n",
    "except Exception as e:\n",
    "    print(e)"
   ]
  },
  {
   "cell_type": "code",
   "execution_count": 7,
   "id": "796c9195",
   "metadata": {},
   "outputs": [
    {
     "name": "stdout",
     "output_type": "stream",
     "text": [
      "the distance between two cities:34\n",
      "the distance in meters 34000\n",
      "the distance in feet 111554\n",
      "the distance in inches 1338580\n",
      "the distance in centimeters 3400000\n"
     ]
    }
   ],
   "source": [
    "##q2\n",
    "#The distance between two cities (in km.) is input through the keyboard. Write a program\n",
    "#to convert and print this distance in meters, feet, inches and centimeters\n",
    "try:\n",
    "    distance=eval(input(\"the distance between two cities:\"))\n",
    "    distance_meters=(distance)*1000\n",
    "    print(\"the distance in meters\",distance_meters)\n",
    "    distance_feet=(distance)*3281\n",
    "    print(\"the distance in feet\",distance_feet)\n",
    "    distance_inches=(distance)*39370\n",
    "    print(\"the distance in inches\",distance_inches)\n",
    "    distance_centimeters=100000*(distance)\n",
    "    print(\"the distance in centimeters\",distance_centimeters)\n",
    "except Exception as e:\n",
    "    print(e)"
   ]
  },
  {
   "cell_type": "code",
   "execution_count": 7,
   "id": "3711544b",
   "metadata": {},
   "outputs": [
    {
     "name": "stdout",
     "output_type": "stream",
     "text": [
      "enter marks of 1st subject:45\n",
      "enter marks of 2nd subject:47\n",
      "enter marks of 3rd subject:89\n",
      "enter marks of 4th subject:67\n",
      "enter marks of 5th subject:89\n",
      "the aggregate marks obtained by student 337\n",
      "the percentage marks obtained by student 67.4\n"
     ]
    }
   ],
   "source": [
    "##q3\n",
    "#If the marks obtained by a student in five different subjects are input through the\n",
    "#keyboard, find out the aggregate marks and percentage marks obtained by the student.\n",
    "#Assume that the maximum marks that can be obtained by a student in each subject is 100\n",
    "try:\n",
    "    val1=eval(input(\"enter marks of 1st subject:\"))\n",
    "    val2=eval(input(\"enter marks of 2nd subject:\"))\n",
    "    val3=eval(input(\"enter marks of 3rd subject:\"))\n",
    "    val4=eval(input(\"enter marks of 4th subject:\"))\n",
    "    val5=eval(input(\"enter marks of 5th subject:\"))\n",
    "    aggregate_marks=(val1+val2+val3+val4+val5)\n",
    "    print(\"the aggregate marks obtained by student\",aggregate_marks)\n",
    "    percentage_marks=((val1+val2+val3+val4+val5)/500)*100\n",
    "    print(\"the percentage marks obtained by student\",percentage_marks)\n",
    "except Exception as e:\n",
    "    print(e)"
   ]
  },
  {
   "cell_type": "code",
   "execution_count": 5,
   "id": "daadfe49",
   "metadata": {},
   "outputs": [
    {
     "name": "stdout",
     "output_type": "stream",
     "text": [
      "temperature of a city in fahrenheit degrees:23\n",
      "temperature into centigrades is -5.0\n"
     ]
    }
   ],
   "source": [
    "#q4\n",
    "#Temperature of a city in Fahrenheit degrees is input through the keyboard. Write a\n",
    "#program to convert this temperature into Centigrade degrees.\n",
    "try:\n",
    "    tem=eval(input(\"temperature of a city in fahrenheit degrees:\"))\n",
    "    tem_centigrades=(tem-32)*5/9\n",
    "    print(\"temperature into centigrades is\",tem_centigrades)\n",
    "except Exception as e:\n",
    "    print(e)"
   ]
  },
  {
   "cell_type": "code",
   "execution_count": 3,
   "id": "8d04ad8b",
   "metadata": {},
   "outputs": [
    {
     "name": "stdout",
     "output_type": "stream",
     "text": [
      "enter the lenghtof a rectangle:2\n",
      "enter the breath of a rectangle:3\n",
      "enter the radius of a circle:4\n",
      "the area of the rectangle is 6\n",
      "the perimeter of the rectangle is 10\n",
      "the area of a circle is 50.24\n",
      "the circumference of a circle is 25.12\n"
     ]
    }
   ],
   "source": [
    "##q5\n",
    "#The length & breadth of a rectangle and radius of a circle are input through the\n",
    "#keyboard. Write a program to calculate the area & perimeter of the rectangle, and the\n",
    "#area & circumference of the circle.\n",
    "try:\n",
    "    lght=eval(input(\"enter the lenghtof a rectangle:\"))\n",
    "    brth=eval(input(\"enter the breath of a rectangle:\"))\n",
    "    rd=eval(input(\"enter the radius of a circle:\"))\n",
    "    area_rectangle=lght*brth\n",
    "    perimeter_rectangle=2*(lght+brth)\n",
    "    print(\"the area of the rectangle is\",area_rectangle)\n",
    "    print(\"the perimeter of the rectangle is\",perimeter_rectangle)\n",
    "    area_circle=3.14*rd*rd\n",
    "    circumference_circle=2*3.14*rd\n",
    "    print(\"the area of a circle is\",area_circle)\n",
    "    print(\"the circumference of a circle is\",circumference_circle)\n",
    "except Exception as e:\n",
    "    print(e)"
   ]
  },
  {
   "cell_type": "code",
   "execution_count": 24,
   "id": "c4438a77",
   "metadata": {},
   "outputs": [
    {
     "name": "stdout",
     "output_type": "stream",
     "text": [
      "enter the location of c:46\n",
      "enter the location of d:56\n",
      "the interchange of the contents of c and d is 56 46\n"
     ]
    }
   ],
   "source": [
    "##q6\n",
    "#Two numbers are input through the keyboard into two locations C and D. Write a\n",
    "#program to interchange the contents of C and D.\n",
    "try:\n",
    "    c=eval(input(\"enter the location of c:\"))\n",
    "    d=eval(input(\"enter the location of d:\"))\n",
    "    x=c\n",
    "    c=d\n",
    "    d=x\n",
    "    print(\"the interchange of the contents of c and d is\",c,d)\n",
    "except Exception as e:\n",
    "    print(e)"
   ]
  },
  {
   "cell_type": "code",
   "execution_count": 24,
   "id": "9000d98c",
   "metadata": {},
   "outputs": [
    {
     "name": "stdout",
     "output_type": "stream",
     "text": [
      "enter a five digit number:12345\n",
      "the reversed number is 54321\n"
     ]
    }
   ],
   "source": [
    "##q7\n",
    "#If a five-digit number is input through the keyboard, write a program to reverse the\n",
    "#number.\n",
    "try:\n",
    "    num=eval(input(\"enter a five digit number:\"))\n",
    "    num1=num#12345\n",
    "    digit = num % 10\n",
    "    num2=num//10\n",
    "    digit2=num2%10\n",
    "    num3=num2//10\n",
    "    digit3=num3%10\n",
    "    num4=num3//10\n",
    "    digit4=num4%10\n",
    "    num5=num4//10\n",
    "    reverse_number=digit*10000+digit2*1000+digit3*100+digit4*10+1\n",
    "    print(\"the reversed number is\",reverse_number)\n",
    "except Excption as e:\n",
    "    print(e)"
   ]
  },
  {
   "cell_type": "code",
   "execution_count": 33,
   "id": "414c8a11",
   "metadata": {},
   "outputs": [
    {
     "name": "stdout",
     "output_type": "stream",
     "text": [
      "enter a four digit number:7890\n",
      "the sum of first and last digits is 7\n"
     ]
    }
   ],
   "source": [
    "#q8\n",
    "#If a four-digit number is input through the keyboard, write a program to obtain the sum of\n",
    "#the first and last digit of this number\n",
    "try:\n",
    "    num=eval(input(\"enter a four digit number:\"))\n",
    "    num1=num#1234\n",
    "    digit = num % 10\n",
    "    num2=num//10\n",
    "    digit2=num2%10\n",
    "    num3=num2//10\n",
    "    digit3=num3%10\n",
    "    num4=num3//10\n",
    "    digit4=num4%10\n",
    "    sum=digit+digit4\n",
    "    print(\"the sum of first and last digits is\",sum)\n",
    "except Exception as e:\n",
    "    print(e)"
   ]
  },
  {
   "cell_type": "code",
   "execution_count": 42,
   "id": "7b82d5db",
   "metadata": {},
   "outputs": [
    {
     "name": "stdout",
     "output_type": "stream",
     "text": [
      "the number of illiterate men and women is 28160.0 13440.0\n"
     ]
    }
   ],
   "source": [
    "##q9\n",
    "#In a town, the percentage of men is 52. The percentage of total literacy is 48. If total\n",
    "#percentage of literate men is 35 of the total population, write a program to find the total\n",
    "#number of illiterate men and women if the population of the town is 80,000.\n",
    "try:\n",
    "    percentage_men=52\n",
    "    total_literacy_percentage=48\n",
    "    literate_men_percentage=35\n",
    "    total_population=80000\n",
    "    total_men=(percentage_men/100)*total_population\n",
    "    total_literate=(total_literacy_percentage/100)*total_population\n",
    "    literate_men=(literate_men_percentage/100)*total_literate\n",
    "    literate_women=total_literate-literate_men\n",
    "    percentage_women=100-percentage_men\n",
    "    total_women=total_population-total_men\n",
    "    illiterate_men=total_men-literate_men\n",
    "    illiterate_women=total_women-literate_women\n",
    "    print(\"the number of illiterate men and women is\",illiterate_men,illiterate_women)\n",
    "except Exception as e:\n",
    "    print(e)"
   ]
  },
  {
   "cell_type": "code",
   "execution_count": 44,
   "id": "3c2f9d14",
   "metadata": {},
   "outputs": [
    {
     "name": "stdout",
     "output_type": "stream",
     "text": [
      "enter ammount in hunderds:123\n",
      "nothing\n"
     ]
    }
   ],
   "source": [
    "#q10. A cashier has currency notes of denominations 10, 50 and 100. If the amount to be\n",
    "#withdrawn is input through the keyboard in hundreds, find the total number of currency\n",
    "#notes of each denomination the cashier will have to give to the withdrawer.\n",
    "try:\n",
    "    cash=eval(input(\"enter ammount in hunderds:\"))\n",
    "    if cash%10==0:\n",
    "        _100_notes=cash//100\n",
    "        remainder=cash%100\n",
    "        _50_notes=cash//50\n",
    "        remainder12=cash%50\n",
    "        _10_notes=remainder12//10\n",
    "        print(\"total cash {} ,{},{}are\".format(_100_notes,_50_notes,_10_notes))\n",
    "    else:\n",
    "        print(\"nothing\")\n",
    "except Exception as e:\n",
    "        print(e)"
   ]
  }
 ],
 "metadata": {
  "kernelspec": {
   "display_name": "Python 3 (ipykernel)",
   "language": "python",
   "name": "python3"
  },
  "language_info": {
   "codemirror_mode": {
    "name": "ipython",
    "version": 3
   },
   "file_extension": ".py",
   "mimetype": "text/x-python",
   "name": "python",
   "nbconvert_exporter": "python",
   "pygments_lexer": "ipython3",
   "version": "3.11.5"
  }
 },
 "nbformat": 4,
 "nbformat_minor": 5
}
