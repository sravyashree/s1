{
 "cells": [
  {
   "cell_type": "code",
   "execution_count": null,
   "id": "04d03f7d",
   "metadata": {},
   "outputs": [],
   "source": [
    "#Q1)ASK THE USER TO A ENTER A NUMBER.PRINT OUT THE SQUARE OF THE NUMBER,\n",
    "        #SAMPLE OUTPUT IS SHOWN BELOW.\n",
    "                ##ENTER A NUMBER \n",
    "                NUMBER:5\n",
    "                THE SQUARE OF 5 IS 25 "
   ]
  },
  {
   "cell_type": "code",
   "execution_count": 3,
   "id": "8f8e5ef4",
   "metadata": {},
   "outputs": [
    {
     "name": "stdout",
     "output_type": "stream",
     "text": [
      "enter a number:2\n",
      "the sqaure of2 is 4\n"
     ]
    }
   ],
   "source": [
    "try:\n",
    "    val=eval(input(\"enter a number:\"))#A number given by user is saved in val---i.e.,variable\n",
    "    square=val*val\n",
    "    print(\"the sqaure of{} is {}\".format(val,square))# here we are printing the square of the number which is given by user\n",
    "except Exception as e:\n",
    "    print(e)"
   ]
  },
  {
   "cell_type": "code",
   "execution_count": null,
   "id": "ba193af1",
   "metadata": {},
   "outputs": [],
   "source": [
    "2. Ask the user to enter a number x. print out x, 2x, 3x, 4x, and 5x,\n",
    "each separated by three dashes, like below.\n",
    "Enter a number: 7\n",
    "7---14---21---28---35"
   ]
  },
  {
   "cell_type": "code",
   "execution_count": 4,
   "id": "a9af747a",
   "metadata": {},
   "outputs": [
    {
     "name": "stdout",
     "output_type": "stream",
     "text": [
      "enter a number x:2\n",
      "2---4---6---8---10---12\n"
     ]
    }
   ],
   "source": [
    "try:\n",
    "    num=eval(input(\"enter a number x:\"))# A number(x) is given by user which is saved in num---variable\n",
    "    print(num,end=\"---\")                #here num=x i.e.,x=2 \n",
    "    print(2*num,end=\"---\")              #here num=2*x i.e.,num=2*(x=2)=4\n",
    "    print(3*num,end=\"---\")              #here num=3*x i.e.,num=3*(x=2)=6\n",
    "    print(4*num,end=\"---\")              #here num=4*x i.e.,num=4*(x=2)=8\n",
    "    print(5*num,end=\"---\")              #here num=5*x i.e.,num=5*(x=2)=10              \n",
    "    print(6*num,)                       #here num=6*x i.e.,num=6*(x=2)=12\n",
    "except Exception as e:\n",
    "    print(e)\n"
   ]
  },
  {
   "cell_type": "code",
   "execution_count": null,
   "id": "8de5aefc",
   "metadata": {},
   "outputs": [],
   "source": [
    "#q3)WRITE A PROGRAM THAT ASKS THE USER FOR A WEIGHT IN KILOGRAMS AND CONVERTS IT TO POUNDS.THERE ARE 2.2 POUNDS IN A KILOGRAM."
   ]
  },
  {
   "cell_type": "code",
   "execution_count": 5,
   "id": "62144eb4",
   "metadata": {},
   "outputs": [
    {
     "name": "stdout",
     "output_type": "stream",
     "text": [
      "enter a weight in kilograms:23\n",
      "weight in pounds 10.454545454545453\n"
     ]
    }
   ],
   "source": [
    "try:\n",
    "    weight_kg=eval(input(\"enter a weight in kilograms:\"))#A number is given by the user which is in weight in kilograms and saved in weight_kg---variable\n",
    "    weight_pounds=weight_kg/2.2\n",
    "    print(\"weight in pounds\",weight_pounds)#here we are printing weights in pounds\n",
    "except Exception as e:\n",
    "    print(e)\n"
   ]
  },
  {
   "cell_type": "code",
   "execution_count": null,
   "id": "b47ac88a",
   "metadata": {},
   "outputs": [],
   "source": [
    "######q4) WRITE A PROGRAM THAT ASKS THE USER TO ENTER THREE NUMBERS(USER THREE SEPERATE INPUT STATEMENTS).CREATE VARIABLES CALLED TOTAL AND AVERAGE THAT HOLD\n",
    "######THE SUM AND AVERAGE OF THE THREE NUMBERS AND PRINT OUT THE VALUES OF TOTAL AND AVERAGE"
   ]
  },
  {
   "cell_type": "code",
   "execution_count": 6,
   "id": "8ebe471e",
   "metadata": {},
   "outputs": [
    {
     "name": "stdout",
     "output_type": "stream",
     "text": [
      "enter 1st number:2\n",
      "enter 2nd number:3\n",
      "enter 3rd number:4\n",
      "sum of the three numbers 9\n",
      "average of the three number 3.0\n"
     ]
    }
   ],
   "source": [
    "try:\n",
    "    val1=eval(input(\"enter 1st number:\"))#1st number is saved in val1\n",
    "    val2=eval(input(\"enter 2nd number:\"))#2nd number is saved in val2\n",
    "    val3=eval(input(\"enter 3rd number:\"))#3rd number is saved in val3\n",
    "    total_sum=val1+val2+val3             #we are calculating the total/sum\n",
    "    print(\"sum of the three numbers\",total_sum)#we are printing the toat/sum\n",
    "    average=(val1+val2+val3)/3                 #we are calculating the average\n",
    "    print(\"average of the three number\",average)#we are printing the average\n",
    "except Exception as e:\n",
    "    print(e)"
   ]
  },
  {
   "cell_type": "code",
   "execution_count": null,
   "id": "b1eabe79",
   "metadata": {},
   "outputs": [],
   "source": [
    "5. A lot of cell phones have tip calculators. Write one. Ask the user for\n",
    "the price of the meal and the percent tip they want to leave. Then\n",
    "print both the tip amount and the total bill with the tip included."
   ]
  },
  {
   "cell_type": "code",
   "execution_count": 7,
   "id": "0a2a88f5",
   "metadata": {},
   "outputs": [
    {
     "name": "stdout",
     "output_type": "stream",
     "text": [
      "enter the price of the meal:300\n",
      "how much is the percent tip:40\n",
      "total ammount 420.0\n"
     ]
    }
   ],
   "source": [
    "try:\n",
    "    price_meal=eval(input(\"enter the price of the meal:\"))#price of the meal is saved in price_meal---variable\n",
    "    percent_tip=eval(input(\"how much is the percent tip:\"))#percent tip is saved in percent_tip\n",
    "    tip_ammount=(percent_tip/100)*price_meal               #we are calculating the tip_ammount\n",
    "    total_bill=price_meal+tip_ammount                      #we are calculating the total_bill\n",
    "    print(\"total ammount\",total_bill)                      #we are printing the total_bill\n",
    "except Exception as e:\n",
    "    print(e)"
   ]
  },
  {
   "cell_type": "code",
   "execution_count": 8,
   "id": "364391dc",
   "metadata": {},
   "outputs": [
    {
     "name": "stdout",
     "output_type": "stream",
     "text": [
      "enter a basic salary:10000\n",
      "gross_salary 16000.0\n"
     ]
    }
   ],
   "source": [
    "##q6\n",
    "#ramesh's basic salary is input through the keyboard .his dearness allowance is 40%of basic salary,and house rent allowance is 20%\n",
    "#of basic salary.write a program to calculate his gross salary.\n",
    "try:\n",
    "    salary=eval(input(\"enter a basic salary:\"))\n",
    "    DA=(40*salary)/100\n",
    "    hra=(20*salary)/100\n",
    "    gross_salary=salary+DA+hra\n",
    "    print(\"gross_salary\",gross_salary)\n",
    "except Exception as e:\n",
    "    print(e)"
   ]
  },
  {
   "cell_type": "code",
   "execution_count": 9,
   "id": "b91c7cb9",
   "metadata": {},
   "outputs": [
    {
     "name": "stdout",
     "output_type": "stream",
     "text": [
      "the distance between two cities:12\n",
      "the distance in meters 12000\n",
      "the distance in feet 39372\n",
      "the distance in inches 472440\n",
      "the distance in centimeters 1200000\n"
     ]
    }
   ],
   "source": [
    "##q7\n",
    "#The distance between two cities (in km.) is input through the keyboard. Write a program\n",
    "#to convert and print this distance in meters, feet, inches and centimeters\n",
    "try:\n",
    "    distance=eval(input(\"the distance between two cities:\"))\n",
    "    distance_meters=(distance)*1000\n",
    "    print(\"the distance in meters\",distance_meters)\n",
    "    distance_feet=(distance)*3281\n",
    "    print(\"the distance in feet\",distance_feet)\n",
    "    distance_inches=(distance)*39370\n",
    "    print(\"the distance in inches\",distance_inches)\n",
    "    distance_centimeters=100000*(distance)\n",
    "    print(\"the distance in centimeters\",distance_centimeters)\n",
    "except Exception as e:\n",
    "    print(e)"
   ]
  },
  {
   "cell_type": "code",
   "execution_count": 10,
   "id": "0ad11045",
   "metadata": {},
   "outputs": [
    {
     "name": "stdout",
     "output_type": "stream",
     "text": [
      "enter marks of 1st subject:34\n",
      "enter marks of 2nd subject:567\n",
      "enter marks of 3rd subject:67\n",
      "enter marks of 4th subject:67\n",
      "enter marks of 5th subject:78\n",
      "the aggregate marks obtained by student 813\n",
      "the percentage marks obtained by student 162.6\n"
     ]
    }
   ],
   "source": [
    "##q8\n",
    "#If the marks obtained by a student in five different subjects are input through the\n",
    "#keyboard, find out the aggregate marks and percentage marks obtained by the student.\n",
    "#Assume that the maximum marks that can be obtained by a student in each subject is 100\n",
    "try:\n",
    "    val1=eval(input(\"enter marks of 1st subject:\"))\n",
    "    val2=eval(input(\"enter marks of 2nd subject:\"))\n",
    "    val3=eval(input(\"enter marks of 3rd subject:\"))\n",
    "    val4=eval(input(\"enter marks of 4th subject:\"))\n",
    "    val5=eval(input(\"enter marks of 5th subject:\"))\n",
    "    aggregate_marks=(val1+val2+val3+val4+val5)\n",
    "    print(\"the aggregate marks obtained by student\",aggregate_marks)\n",
    "    percentage_marks=((val1+val2+val3+val4+val5)/500)*100\n",
    "    print(\"the percentage marks obtained by student\",percentage_marks)\n",
    "except Exception as e:\n",
    "    print(e)"
   ]
  },
  {
   "cell_type": "code",
   "execution_count": 11,
   "id": "8ee91ae2",
   "metadata": {},
   "outputs": [
    {
     "name": "stdout",
     "output_type": "stream",
     "text": [
      "temperature of a city in fahrenheit degrees:12\n",
      "temperature into centigrades is -11.11111111111111\n"
     ]
    }
   ],
   "source": [
    "#q9\n",
    "#Temperature of a city in Fahrenheit degrees is input through the keyboard. Write a\n",
    "#program to convert this temperature into Centigrade degrees.\n",
    "try:\n",
    "    tem=eval(input(\"temperature of a city in fahrenheit degrees:\"))\n",
    "    tem_centigrades=(tem-32)*5/9\n",
    "    print(\"temperature into centigrades is\",tem_centigrades)\n",
    "except Exception as e:\n",
    "    print(e)"
   ]
  },
  {
   "cell_type": "code",
   "execution_count": 12,
   "id": "a3dc8083",
   "metadata": {},
   "outputs": [
    {
     "name": "stdout",
     "output_type": "stream",
     "text": [
      "enter the lenghtof a rectangle:3\n",
      "enter the breath of a rectangle:4\n",
      "enter the radius of a circle:5\n",
      "the area of the rectangle is 12\n",
      "the perimeter of the rectangle is 14\n",
      "the area of a circle is 78.5\n",
      "the circumference of a circle is 31.400000000000002\n"
     ]
    }
   ],
   "source": [
    "##q10\n",
    "#The length & breadth of a rectangle and radius of a circle are input through the\n",
    "#keyboard. Write a program to calculate the area & perimeter of the rectangle, and the\n",
    "#area & circumference of the circle.\n",
    "try:\n",
    "    lght=eval(input(\"enter the lenghtof a rectangle:\"))\n",
    "    brth=eval(input(\"enter the breath of a rectangle:\"))\n",
    "    rd=eval(input(\"enter the radius of a circle:\"))\n",
    "    area_rectangle=lght*brth\n",
    "    perimeter_rectangle=2*(lght+brth)\n",
    "    print(\"the area of the rectangle is\",area_rectangle)\n",
    "    print(\"the perimeter of the rectangle is\",perimeter_rectangle)\n",
    "    area_circle=3.14*rd*rd\n",
    "    circumference_circle=2*3.14*rd\n",
    "    print(\"the area of a circle is\",area_circle)\n",
    "    print(\"the circumference of a circle is\",circumference_circle)\n",
    "except Exception as e:\n",
    "    print(e)"
   ]
  },
  {
   "cell_type": "code",
   "execution_count": 13,
   "id": "9d135c64",
   "metadata": {},
   "outputs": [
    {
     "name": "stdout",
     "output_type": "stream",
     "text": [
      "enter the location of c:2\n",
      "enter the location of d:3\n",
      "the interchange of the contents of c and d is 3 2\n"
     ]
    }
   ],
   "source": [
    "##q11\n",
    "#Two numbers are input through the keyboard into two locations C and D. Write a\n",
    "#program to interchange the contents of C and D.\n",
    "try:\n",
    "    c=eval(input(\"enter the location of c:\"))\n",
    "    d=eval(input(\"enter the location of d:\"))\n",
    "    x=c\n",
    "    c=d\n",
    "    d=x\n",
    "    print(\"the interchange of the contents of c and d is\",c,d)\n",
    "except Exception as e:\n",
    "    print(e)"
   ]
  },
  {
   "cell_type": "code",
   "execution_count": 14,
   "id": "374ca21c",
   "metadata": {},
   "outputs": [
    {
     "name": "stdout",
     "output_type": "stream",
     "text": [
      "enter a five digit number:12345\n",
      "the reversed number is 54321\n"
     ]
    }
   ],
   "source": [
    "##q12\n",
    "#If a five-digit number is input through the keyboard, write a program to reverse the\n",
    "#number.\n",
    "try:\n",
    "    num=eval(input(\"enter a five digit number:\"))\n",
    "    num1=num#12345\n",
    "    digit = num % 10\n",
    "    num2=num//10\n",
    "    digit2=num2%10\n",
    "    num3=num2//10\n",
    "    digit3=num3%10\n",
    "    num4=num3//10\n",
    "    digit4=num4%10\n",
    "    num5=num4//10\n",
    "    reverse_number=digit*10000+digit2*1000+digit3*100+digit4*10+1\n",
    "    print(\"the reversed number is\",reverse_number)\n",
    "except Excption as e:\n",
    "    print(e)"
   ]
  },
  {
   "cell_type": "code",
   "execution_count": 15,
   "id": "75072fe3",
   "metadata": {},
   "outputs": [
    {
     "name": "stdout",
     "output_type": "stream",
     "text": [
      "enter a four digit number:1234\n",
      "the sum of first and last digits is 5\n"
     ]
    }
   ],
   "source": [
    "#q13\n",
    "#If a four-digit number is input through the keyboard, write a program to obtain the sum of\n",
    "#the first and last digit of this number\n",
    "try:\n",
    "    num=eval(input(\"enter a four digit number:\"))\n",
    "    num1=num#1234\n",
    "    digit = num % 10\n",
    "    num2=num//10\n",
    "    digit2=num2%10\n",
    "    num3=num2//10\n",
    "    digit3=num3%10\n",
    "    num4=num3//10\n",
    "    digit4=num4%10\n",
    "    sum=digit+digit4\n",
    "    print(\"the sum of first and last digits is\",sum)\n",
    "except Exception as e:\n",
    "    print(e)"
   ]
  },
  {
   "cell_type": "code",
   "execution_count": 16,
   "id": "ffc6f195",
   "metadata": {},
   "outputs": [
    {
     "name": "stdout",
     "output_type": "stream",
     "text": [
      "the number of illiterate men and women is 28160.0 13440.0\n"
     ]
    }
   ],
   "source": [
    "##q14\n",
    "#In a town, the percentage of men is 52. The percentage of total literacy is 48. If total\n",
    "#percentage of literate men is 35 of the total population, write a program to find the total\n",
    "#number of illiterate men and women if the population of the town is 80,000.\n",
    "try:\n",
    "    percentage_men=52\n",
    "    total_literacy_percentage=48\n",
    "    literate_men_percentage=35\n",
    "    total_population=80000\n",
    "    total_men=(percentage_men/100)*total_population\n",
    "    total_literate=(total_literacy_percentage/100)*total_population\n",
    "    literate_men=(literate_men_percentage/100)*total_literate\n",
    "    literate_women=total_literate-literate_men\n",
    "    percentage_women=100-percentage_men\n",
    "    total_women=total_population-total_men\n",
    "    illiterate_men=total_men-literate_men\n",
    "    illiterate_women=total_women-literate_women\n",
    "    print(\"the number of illiterate men and women is\",illiterate_men,illiterate_women)\n",
    "except Exception as e:\n",
    "    print(e)"
   ]
  },
  {
   "cell_type": "code",
   "execution_count": 20,
   "id": "0ef10978",
   "metadata": {},
   "outputs": [
    {
     "name": "stdout",
     "output_type": "stream",
     "text": [
      "enter ammount in hunderds:123\n",
      "nothing\n"
     ]
    }
   ],
   "source": [
    "#q15. A cashier has currency notes of denominations 10, 50 and 100. If the amount to be\n",
    "#withdrawn is input through the keyboard in hundreds, find the total number of currency\n",
    "#notes of each denomination the cashier will have to give to the withdrawer.\n",
    "try:\n",
    "    cash=eval(input(\"enter ammount in hunderds:\"))\n",
    "    if cash%10==0:\n",
    "        _100_notes=cash//100\n",
    "        remainder=cash%100\n",
    "        _50_notes=cash//50\n",
    "        remainder12=cash%50\n",
    "        _10_notes=remainder12//10\n",
    "        print(\"total cash {} ,{},{}are\".format(_100_notes,_50_notes,_10_notes))\n",
    "    else:\n",
    "        print(\"nothing\")\n",
    "except Exception as e:\n",
    "        print(e)"
   ]
  }
 ],
 "metadata": {
  "kernelspec": {
   "display_name": "Python 3 (ipykernel)",
   "language": "python",
   "name": "python3"
  },
  "language_info": {
   "codemirror_mode": {
    "name": "ipython",
    "version": 3
   },
   "file_extension": ".py",
   "mimetype": "text/x-python",
   "name": "python",
   "nbconvert_exporter": "python",
   "pygments_lexer": "ipython3",
   "version": "3.11.5"
  }
 },
 "nbformat": 4,
 "nbformat_minor": 5
}
