{
 "cells": [
  {
   "cell_type": "markdown",
   "id": "9adc7d18",
   "metadata": {},
   "source": [
    "### ASSIGNMENT_1"
   ]
  },
  {
   "cell_type": "markdown",
   "id": "c8125f61",
   "metadata": {},
   "source": [
    "#Q1)ASK THE USER TO A ENTER A NUMBER.PRINT OUT THE SQUARE OF THE NUMBER,\n",
    "        #SAMPLE OUTPUT IS SHOWN BELOW.\n",
    "                ##ENTER A NUMBER \n",
    "                NUMBER:5\n",
    "                THE SQUARE OF 5 IS 25 "
   ]
  },
  {
   "cell_type": "code",
   "execution_count": 2,
   "id": "df8eaccc",
   "metadata": {},
   "outputs": [
    {
     "name": "stdout",
     "output_type": "stream",
     "text": [
      "enter a number:2\n",
      "the sqaure of2 is 4\n"
     ]
    }
   ],
   "source": [
    "val=eval(input(\"enter a number:\"))#A number given by user is saved in val---i.e.,variable\n",
    "square=val*val\n",
    "print(\"the sqaure of{} is {}\".format(val,square))# here we are printing the square of the number which is given by user"
   ]
  },
  {
   "cell_type": "code",
   "execution_count": null,
   "id": "81c21e95",
   "metadata": {},
   "outputs": [],
   "source": [
    "2. Ask the user to enter a number x. print out x, 2x, 3x, 4x, and 5x,\n",
    "each separated by three dashes, like below.\n",
    "Enter a number: 7\n",
    "7---14---21---28---35"
   ]
  },
  {
   "cell_type": "code",
   "execution_count": 13,
   "id": "06596b40",
   "metadata": {},
   "outputs": [
    {
     "name": "stdout",
     "output_type": "stream",
     "text": [
      "enter a number x:2\n",
      "2---4---6---8---10---12\n"
     ]
    }
   ],
   "source": [
    "num=eval(input(\"enter a number x:\"))# A number(x) is given by user which is saved in num---variable\n",
    "print(num,end=\"---\")                #here num=x i.e.,x=2 \n",
    "print(2*num,end=\"---\")              #here num=2*x i.e.,num=2*(x=2)=4\n",
    "print(3*num,end=\"---\")              #here num=3*x i.e.,num=3*(x=2)=6\n",
    "print(4*num,end=\"---\")              #here num=4*x i.e.,num=4*(x=2)=8\n",
    "print(5*num,end=\"---\")              #here num=5*x i.e.,num=5*(x=2)=10              \n",
    "print(6*num,)                       #here num=6*x i.e.,num=6*(x=2)=12\n"
   ]
  },
  {
   "cell_type": "markdown",
   "id": "75e3196d",
   "metadata": {},
   "source": [
    "#q3)WRITE A PROGRAM THAT ASKS THE USER FOR A WEIGHT IN KILOGRAMS AND CONVERTS IT TO POUNDS.THERE ARE 2.2 POUNDS IN A KILOGRAM."
   ]
  },
  {
   "cell_type": "code",
   "execution_count": 14,
   "id": "90ead0b4",
   "metadata": {},
   "outputs": [
    {
     "name": "stdout",
     "output_type": "stream",
     "text": [
      "enter a weight in kilograms:23\n",
      "weight in pounds 10.454545454545453\n"
     ]
    }
   ],
   "source": [
    "weight_kg=eval(input(\"enter a weight in kilograms:\"))#A number is given by the user which is in weight in kilograms and saved in weight_kg---variable\n",
    "weight_pounds=weight_kg/2.2\n",
    "print(\"weight in pounds\",weight_pounds)#here we are printing weights in pounds\n"
   ]
  },
  {
   "cell_type": "markdown",
   "id": "b782b63d",
   "metadata": {},
   "source": [
    "######q4) WRITE A PROGRAM THAT ASKS THE USER TO ENTER THREE NUMBERS(USER THREE SEPERATE INPUT STATEMENTS).CREATE VARIABLES CALLED TOTAL AND AVERAGE THAT HOLD\n",
    "######THE SUM AND AVERAGE OF THE THREE NUMBERS AND PRINT OUT THE VALUES OF TOTAL AND AVERAGE"
   ]
  },
  {
   "cell_type": "code",
   "execution_count": 20,
   "id": "26c86531",
   "metadata": {},
   "outputs": [
    {
     "name": "stdout",
     "output_type": "stream",
     "text": [
      "enter 1st number:1\n",
      "enter 2nd number:2\n",
      "enter 3rd number:3\n",
      "sum of the three numbers 6\n",
      "average of the three number 2.0\n"
     ]
    }
   ],
   "source": [
    "val1=eval(input(\"enter 1st number:\"))#1st number is saved in val1\n",
    "val2=eval(input(\"enter 2nd number:\"))#2nd number is saved in val2\n",
    "val3=eval(input(\"enter 3rd number:\"))#3rd number is saved in val3\n",
    "total_sum=val1+val2+val3             #we are calculating the total/sum\n",
    "print(\"sum of the three numbers\",total_sum)#we are printing the toat/sum\n",
    "average=(val1+val2+val3)/3                 #we are calculating the average\n",
    "print(\"average of the three number\",average)#we are printing the average"
   ]
  },
  {
   "cell_type": "code",
   "execution_count": null,
   "id": "66df2f19",
   "metadata": {},
   "outputs": [],
   "source": [
    "5. A lot of cell phones have tip calculators. Write one. Ask the user for\n",
    "the price of the meal and the percent tip they want to leave. Then\n",
    "print both the tip amount and the total bill with the tip included."
   ]
  },
  {
   "cell_type": "code",
   "execution_count": 23,
   "id": "af411eae",
   "metadata": {},
   "outputs": [
    {
     "name": "stdout",
     "output_type": "stream",
     "text": [
      "enter the price of the meal:250\n",
      "how is the percent tip:20\n",
      "total ammount 300.0\n"
     ]
    }
   ],
   "source": [
    "price_meal=eval(input(\"enter the price of the meal:\"))#price of the meal is saved in price_meal---variable\n",
    "percent_tip=eval(input(\"how much is the percent tip:\"))#percent tip is saved in percent_tip\n",
    "tip_ammount=(percent_tip/100)*price_meal               #we are calculating the tip_ammount\n",
    "total_bill=price_meal+tip_ammount                      #we are calculating the total_bill\n",
    "print(\"total ammount\",total_bill)                      #we are printing the total_bill"
   ]
  }
 ],
 "metadata": {
  "kernelspec": {
   "display_name": "Python 3 (ipykernel)",
   "language": "python",
   "name": "python3"
  },
  "language_info": {
   "codemirror_mode": {
    "name": "ipython",
    "version": 3
   },
   "file_extension": ".py",
   "mimetype": "text/x-python",
   "name": "python",
   "nbconvert_exporter": "python",
   "pygments_lexer": "ipython3",
   "version": "3.11.5"
  }
 },
 "nbformat": 4,
 "nbformat_minor": 5
}
