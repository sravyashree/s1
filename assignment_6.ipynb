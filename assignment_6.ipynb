{
 "cells": [
  {
   "cell_type": "code",
   "execution_count": 38,
   "id": "ba8642fa",
   "metadata": {},
   "outputs": [
    {
     "name": "stdout",
     "output_type": "stream",
     "text": [
      "enter a string:sravani\n",
      "7\n",
      "sravani\n",
      "sravani\n",
      "sravani\n",
      "sravani\n",
      "sravani\n",
      "sravani\n",
      "sravani\n",
      "sravani\n",
      "sravani\n",
      "sravani\n",
      "s\n",
      "sra\n",
      "ina\n",
      "inavars\n",
      "i\n",
      "ravan\n",
      "SRAVANI\n",
      "sreveni\n"
     ]
    }
   ],
   "source": [
    "#1. Write a program that asks the user to enter a string. The program should then print the following:\n",
    "# (a) The total number of characters in the string\n",
    "# (b) The string repeated 10 times\n",
    "# (c) The first character of the string (remember that string indices start at 0) (d) The first three\n",
    "# characters of the string\n",
    "# (e) The last three characters of the string\n",
    "# (f) The string backwards\n",
    "# (g) The seventh character of the string if the string is long enough and a message otherwise\n",
    "# (h) The string with its first and last characters removed\n",
    "# (i) The string in all caps\n",
    "# (j) The string with every a replaced with an e\n",
    "str1=input(\"enter a string:\")\n",
    "print(len(str1))\n",
    "for i in range(10):\n",
    "    print(str1)\n",
    "print(str1[0])\n",
    "print(str1[0:3])\n",
    "print(str1[:3:-1])\n",
    "print(str1[::-1])\n",
    "print(str1[6:])\n",
    "print(str1[1:-1])\n",
    "print(str1.upper())\n",
    "print(str1.replace(\"a\",\"e\"))"
   ]
  },
  {
   "cell_type": "code",
   "execution_count": 59,
   "id": "d4156134",
   "metadata": {},
   "outputs": [
    {
     "name": "stdout",
     "output_type": "stream",
     "text": [
      "enter a string:sravya hi\n",
      "2\n"
     ]
    }
   ],
   "source": [
    "# 2. A simple way to estimate the number of words in a string is to count the number of spaces in the\n",
    "# string. Write a program that asks the user for a string and returns an estimate of how many words\n",
    "# are in the string.\n",
    "# Tip: You need to count the number of words using spaces\n",
    "string1=input(\"enter a string:\")\n",
    "count=0\n",
    "for i in string1:\n",
    "    #print(i)\n",
    "    count=string1.count(\" \")\n",
    "    count=count+1\n",
    "print(count)"
   ]
  },
  {
   "cell_type": "code",
   "execution_count": 60,
   "id": "64e3d447",
   "metadata": {},
   "outputs": [
    {
     "name": "stdout",
     "output_type": "stream",
     "text": [
      "sravya\n",
      "yes\n"
     ]
    }
   ],
   "source": [
    "# 3.Write a program that asks the user to enter a word and prints out whether that word contains any\n",
    "# vowels.\n",
    "\n",
    "a = input()\n",
    "a = list(a)\n",
    "res = ['a','e','i','o','u']\n",
    "for i in res:\n",
    "    if i in a:\n",
    "        print('yes')\n",
    "        break\n",
    "    else:\n",
    "        print('no')\n",
    "        break"
   ]
  },
  {
   "cell_type": "code",
   "execution_count": 16,
   "id": "b0c57b4c",
   "metadata": {},
   "outputs": [
    {
     "name": "stdout",
     "output_type": "stream",
     "text": [
      "enter a string:sravya\n",
      "a\n",
      "1\n"
     ]
    }
   ],
   "source": [
    "# 4. Improvise above code by providing unique vowels\n",
    "string6=input(\"enter a string:\")\n",
    "str7=\"\"\n",
    "count1=0\n",
    "for i in string6:\n",
    "    #print(i)\n",
    "    if i in\"aeiou\" :\n",
    "          if i not in str7:\n",
    "            count1=count1+1\n",
    "            str7=str7+i      \n",
    "print(str7)       \n",
    "print(count1)"
   ]
  },
  {
   "cell_type": "code",
   "execution_count": 6,
   "id": "42ecfa75",
   "metadata": {},
   "outputs": [
    {
     "name": "stdout",
     "output_type": "stream",
     "text": [
      "enter a string:abcd\n",
      "a*cd!!!\n"
     ]
    }
   ],
   "source": [
    "# 5. Write a program that asks the user to enter a string. The program should create a new string\n",
    "# called new_string from the user’s string such that the second character is changed to an asterisk and\n",
    "# three exclamation points are attached to the end of the string. Finally, print new_string.\n",
    "# Typical output is shown below:\n",
    "# Enter your string: Qbert\n",
    "# Output: Q*ert!!!\n",
    "string1=input(\"enter a string:\")\n",
    "new_string=\"\"\n",
    "s_c=\"*\"\n",
    "str1=string1[0]+s_c+string1[2:]+\"!!!\"\n",
    "print(str1)"
   ]
  },
  {
   "cell_type": "code",
   "execution_count": 8,
   "id": "485c018a",
   "metadata": {},
   "outputs": [
    {
     "name": "stdout",
     "output_type": "stream",
     "text": [
      "enter a word:sravani\n",
      "the word is not palindrome\n"
     ]
    }
   ],
   "source": [
    "# 6. Write a program that asks the user to enter a word and determines whether the word is a\n",
    "# palindrome or not. A palindrome is a word that reads the same backwards as forwards\n",
    "s=input(\"enter a word:\")\n",
    "if s==s[::-1]:\n",
    "    print(\"the word is palindrome\")\n",
    "else:\n",
    "    print(\"the word is not palindrome\")"
   ]
  },
  {
   "cell_type": "code",
   "execution_count": 1,
   "id": "466ab7fb",
   "metadata": {},
   "outputs": [
    {
     "name": "stdout",
     "output_type": "stream",
     "text": [
      "enter how many emailaddresses do u want to enter:2\n",
      "enter ur email addresses:sravya@student.college.edu\n",
      "all addresses are student addresses\n",
      "enter ur email addresses:sravya@prof.college.edu\n",
      "all the addresses are pro addresses\n"
     ]
    }
   ],
   "source": [
    "# 7. At a certain school, student email addresses end with @student.college.edu, while professor\n",
    "# email addresses end with @prof.college.edu. Write a program that first asks the user how many\n",
    "# email addresses they will be entering, and then has the user enter those addresses. After all the\n",
    "# email addresses are entered, the program should print out a message indicating either that all the\n",
    "# addresses are student addresses or that there were some professor addresses entered.\n",
    "h_m=eval(input(\"enter how many emailaddresses do u want to enter:\"))\n",
    "for i in range(h_m):\n",
    "    e_m=input(\"enter ur email addresses:\")\n",
    "    if \"student\" in e_m:\n",
    "        print(\"all addresses are student addresses\")\n",
    "    else:\n",
    "        \"prof\" in e_m\n",
    "        print(\"all the addresses are pro addresses\")\n"
   ]
  },
  {
   "cell_type": "code",
   "execution_count": 3,
   "id": "ba674f3b",
   "metadata": {},
   "outputs": [
    {
     "name": "stdout",
     "output_type": "stream",
     "text": [
      "enter a string:HEY\n",
      "HH\n",
      "EE\n",
      "YY\n"
     ]
    }
   ],
   "source": [
    "# 8. Write a program that asks the user to enter a string, then prints out each letter of the string\n",
    "# doubled and on a separate line. For instance,\n",
    "# if the user entered HEY,\n",
    "# the output would be\n",
    "# HH\n",
    "# EE\n",
    "# YY\n",
    "s1=input(\"\"\"enter a string:\"\"\")\n",
    "for i in s1:\n",
    "    print(i*2) "
   ]
  },
  {
   "cell_type": "code",
   "execution_count": 26,
   "id": "72343b6e",
   "metadata": {},
   "outputs": [
    {
     "name": "stdout",
     "output_type": "stream",
     "text": [
      "enter a word:sravani\n",
      "sra\n",
      "vani\n"
     ]
    }
   ],
   "source": [
    "# 9.Write a program that asks the user to enter a word that contains the letter a. The program should\n",
    "# then print the following two lines: On the first line should be the part of the string up to and\n",
    "# including the the first a, and on the second line should be the rest of the string.\n",
    "s=input(\"enter a word:\")\n",
    "if \"a\" in s:\n",
    "    s1=\"a\"\n",
    "    print(s[:s.find(s1)+1])\n",
    "    s1\n",
    "    print(s[s.find(\"a\")+1:])\n",
    "# print(s)"
   ]
  },
  {
   "cell_type": "code",
   "execution_count": 71,
   "id": "e2afc967",
   "metadata": {},
   "outputs": [
    {
     "name": "stdout",
     "output_type": "stream",
     "text": [
      "sravya\n"
     ]
    },
    {
     "data": {
      "text/plain": [
       "'sRaVyA'"
      ]
     },
     "execution_count": 71,
     "metadata": {},
     "output_type": "execute_result"
    }
   ],
   "source": [
    "# 10. Write a program that asks the user to enter a word and then capitalizes every other letter of that\n",
    "# word.\n",
    "a = input()\n",
    "res = ''\n",
    "for i in range(len(a)):\n",
    "    if i%2!=0:\n",
    "        res = res+a[i].upper()\n",
    "    else:\n",
    "        res = res+a[i]\n",
    "res"
   ]
  },
  {
   "cell_type": "code",
   "execution_count": 104,
   "id": "c53009d0",
   "metadata": {},
   "outputs": [
    {
     "name": "stdout",
     "output_type": "stream",
     "text": [
      "enter 1st string:abcd\n",
      "enter 2nd string:ABCD\n",
      "AaBbCcDd\n"
     ]
    }
   ],
   "source": [
    "# 11. Write a program that asks the user to enter two strings of the same length. The program should\n",
    "# then check to see if the strings are of the same length. If they are not, the program should print an\n",
    "# appropriate message and exit. If they are of the same length, the program should alternate the\n",
    "# characters of the two strings.\n",
    "str1=input(\"enter 1st string:\")\n",
    "str2=input(\"enter 2nd string:\")\n",
    "if len(str1)==len(str2): \n",
    "    res1 = ''\n",
    "    for i in range(len(str2)):\n",
    "        if i%2==0:\n",
    "            res1 = res1+(str2[i].upper()+str1[i].lower())\n",
    "        else:\n",
    "            res1 = res1+str2[i]+str1[i]\n",
    "    res1\n",
    "    print(res1)\n",
    "else:\n",
    "    print(\"sry th len of two strings are not same\")"
   ]
  },
  {
   "cell_type": "code",
   "execution_count": 61,
   "id": "5f06cf53",
   "metadata": {},
   "outputs": [
    {
     "name": "stdout",
     "output_type": "stream",
     "text": [
      "enter a name in lowercase:sravya hello\n"
     ]
    },
    {
     "data": {
      "text/plain": [
       "'Sravya Hello'"
      ]
     },
     "execution_count": 61,
     "metadata": {},
     "output_type": "execute_result"
    }
   ],
   "source": [
    "# 12. Write a program that asks the user to enter their name in lowercase and then capitalizes the first\n",
    "# letter of each word of their name.\n",
    "string1=input(\"enter a name in lowercase:\")\n",
    "str1=string1.split()\n",
    "''.join(str1)\n",
    "for i in range(len(str1)):\n",
    "    str1[i]=str1[i].capitalize()\n",
    "# print(str1)\n",
    "str3=' '.join(str1)\n",
    "str3"
   ]
  },
  {
   "cell_type": "code",
   "execution_count": 62,
   "id": "9a425966",
   "metadata": {},
   "outputs": [
    {
     "name": "stdout",
     "output_type": "stream",
     "text": [
      "enter a string:sravya\n",
      "enter a letter:a\n",
      "present\n"
     ]
    }
   ],
   "source": [
    "# 13. The goal of this exercise is to see if you can mimic the behavior of the in operator and the count\n",
    "# and index methods using only variables, for loops, and if statements.\n",
    "# (a) Without using the in operator, write a program that asks the user for a string and a letter\n",
    "# and prints out whether or not the letter appears in the string.\n",
    "# (b) Without using the count method, write a program that asks the user for a string and a\n",
    "# letter and counts how many occurrences there are of the letter in the string.\n",
    "# (c) Without using the index method, write a program that asks the user for a string and a\n",
    "# letter and prints out the index of the first occurrence of the letter in the string. If the letter is\n",
    "# not in the string, the program should say no.\n",
    "#a\n",
    "string1=input(\"enter a string:\")\n",
    "a = list(string1)\n",
    "l=input(\"enter a letter:\")\n",
    "for i in l:\n",
    "    for j in range(len(string1)):\n",
    "        if i == a[j]:\n",
    "            print('present')\n",
    "            break\n",
    "        elif j==len(string1)-1:\n",
    "            print('not present')"
   ]
  },
  {
   "cell_type": "code",
   "execution_count": 52,
   "id": "763e5e27",
   "metadata": {},
   "outputs": [
    {
     "name": "stdout",
     "output_type": "stream",
     "text": [
      "enter a string:sravya\n",
      "enter a letter:a\n",
      "2\n"
     ]
    }
   ],
   "source": [
    "#b\n",
    "string2=input(\"enter a string:\")\n",
    "l1=input(\"enter a letter:\")\n",
    "a = list(string1)\n",
    "count=0\n",
    "for i in l:\n",
    "    for j in range(len(string1)):\n",
    "        if i == a[j]:\n",
    "#             print('present')\n",
    "            break\n",
    "        elif j==len(string1)-1:\n",
    "#             print('not present')\n",
    "            count+=1\n",
    "            index+=1\n",
    "print(count)"
   ]
  },
  {
   "cell_type": "code",
   "execution_count": 8,
   "id": "2db3c757",
   "metadata": {},
   "outputs": [
    {
     "name": "stdout",
     "output_type": "stream",
     "text": [
      "enter a string:sravya\n",
      "enter a letter:v\n",
      "3\n"
     ]
    }
   ],
   "source": [
    "#c\n",
    "string2=input(\"enter a string:\")\n",
    "l1=input(\"enter a letter:\")\n",
    "a = list(string2)\n",
    "index=0\n",
    "for i in l1:\n",
    "    for j in range(len(string2)):\n",
    "        if i == a[j]:\n",
    "            print(j)\n",
    "            break\n",
    "        elif j==len(string2)-1:\n",
    "            print('not present')\n",
    "            index+=1"
   ]
  },
  {
   "cell_type": "code",
   "execution_count": 14,
   "id": "ce6ddbca",
   "metadata": {},
   "outputs": [
    {
     "data": {
      "text/plain": [
       "'uct.ac.za'"
      ]
     },
     "execution_count": 14,
     "metadata": {},
     "output_type": "execute_result"
    }
   ],
   "source": [
    "# 14. Finding a substring within a string\n",
    "# For example, if we were presented a series of lines formatted as follows:\n",
    "# From stephen.marquard@uct.ac.za Sat Jan 5 09:14:16 2008\n",
    "# and we wanted to pull out only the second half of the address (i.e., uct.ac.za)\n",
    "str1=\"stephen.marquard@uct.ac.za Sat Jan 5 09:14:16 2008\"\n",
    "str1.index(\".\")\n",
    "str1.index(\"@\")\n",
    "str1.index(\".\",str1.index(\".\")+1)+1+1\n",
    "str1[str1.index(\"@\")+1:str1.index(\".\",str1.index(\".\")+1)+1+1+1+1+1+1]"
   ]
  },
  {
   "cell_type": "code",
   "execution_count": 54,
   "id": "fc707f28",
   "metadata": {},
   "outputs": [
    {
     "name": "stdout",
     "output_type": "stream",
     "text": [
      "enter a string:string\n",
      "stringly\n"
     ]
    }
   ],
   "source": [
    "# # 15. Write a Python program to add 'ing' at the end of a given string (length should be at least 3). If the\n",
    "# given string already ends with 'ing' then add 'ly' instead.\n",
    "# If the string length of the given string is less than 3, leave it unchanged.\n",
    "# Go to the editor\n",
    "# Sample String : 'abc'\n",
    "# Expected Result : 'abcing'\n",
    "# Sample String : 'string'\n",
    "# # Expected Result : 'stringly'\n",
    "string1=input(\"enter a string:\")\n",
    "end=\"ing\"\n",
    "end1=\"ly\"\n",
    "new_str=''\n",
    "for i in range(len(string1)):\n",
    "    if len(string1)<3:\n",
    "        str1=string1\n",
    "    elif len(string1)==3:\n",
    "        str1=string1+end\n",
    "    else:\n",
    "        len(string1)>3\n",
    "        str1=string1+end1  \n",
    "print(str1)"
   ]
  },
  {
   "cell_type": "code",
   "execution_count": 58,
   "id": "89910f70",
   "metadata": {},
   "outputs": [
    {
     "data": {
      "text/plain": [
       "0.8475"
      ]
     },
     "execution_count": 58,
     "metadata": {},
     "output_type": "execute_result"
    }
   ],
   "source": [
    "# 16. Take the following Python code that stores a string:‘\n",
    "# string = 'X-DSPAM-Confidence: 0.8475'\n",
    "# Extract the portion of the string after the colon character and then use the float function to convert\n",
    "# the extracted string into a floating point number.\n",
    "str1='X-DSPAM-Confidence: 0.8475'\n",
    "str1.index(\":\")\n",
    "str1[str1.index(\":\")+1:]\n",
    "float(str1[str1.index(\":\")+1:])"
   ]
  }
 ],
 "metadata": {
  "kernelspec": {
   "display_name": "Python 3 (ipykernel)",
   "language": "python",
   "name": "python3"
  },
  "language_info": {
   "codemirror_mode": {
    "name": "ipython",
    "version": 3
   },
   "file_extension": ".py",
   "mimetype": "text/x-python",
   "name": "python",
   "nbconvert_exporter": "python",
   "pygments_lexer": "ipython3",
   "version": "3.11.5"
  }
 },
 "nbformat": 4,
 "nbformat_minor": 5
}
