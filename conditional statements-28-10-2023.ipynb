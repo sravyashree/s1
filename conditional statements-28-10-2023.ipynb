{
 "cells": [
  {
   "cell_type": "code",
   "execution_count": null,
   "id": "c54aef69",
   "metadata": {},
   "outputs": [],
   "source": [
    "if-else\n",
    "if pak won the match they have more chance to go to sf\n",
    "else they have more  chance to go home\n",
    "\n",
    "if i study i  will pass\n",
    "else i will fail"
   ]
  },
  {
   "cell_type": "code",
   "execution_count": null,
   "id": "8fd68ec3",
   "metadata": {},
   "outputs": [],
   "source": [
    "name=\"python\"\n",
    "# i want to make some condition\n",
    "#whenever the name ==python=====>success\n",
    "          otherwise ========> fail"
   ]
  },
  {
   "cell_type": "code",
   "execution_count": null,
   "id": "8131986b",
   "metadata": {},
   "outputs": [],
   "source": [
    "name=\"python\"\n",
    "if <condition>:\n",
    "    #stage-1\n",
    "    #code\n",
    "else:\n",
    "    #code"
   ]
  },
  {
   "cell_type": "code",
   "execution_count": 1,
   "id": "4ece199d",
   "metadata": {},
   "outputs": [
    {
     "name": "stdout",
     "output_type": "stream",
     "text": [
      "won\n"
     ]
    }
   ],
   "source": [
    "name=\"python\"      #\"python\"is saved in a variable\" name\"\n",
    "if name==\"python\": #is the name really equal to python \n",
    "    print(\"won\")"
   ]
  },
  {
   "cell_type": "code",
   "execution_count": null,
   "id": "4ce19ae8",
   "metadata": {},
   "outputs": [],
   "source": [
    "a=10  #value 10 is saved in a variable\"a\"\n",
    "a==10 # the value of a really equal to 10\n",
    "=assign\n",
    "==condition"
   ]
  },
  {
   "cell_type": "code",
   "execution_count": 1,
   "id": "af67793b",
   "metadata": {},
   "outputs": [
    {
     "data": {
      "text/plain": [
       "True"
      ]
     },
     "execution_count": 1,
     "metadata": {},
     "output_type": "execute_result"
    }
   ],
   "source": [
    "name=\"python\" #assign\n",
    "name==\"python\" #condition"
   ]
  },
  {
   "cell_type": "code",
   "execution_count": 2,
   "id": "461a4e69",
   "metadata": {},
   "outputs": [
    {
     "data": {
      "text/plain": [
       "False"
      ]
     },
     "execution_count": 2,
     "metadata": {},
     "output_type": "execute_result"
    }
   ],
   "source": [
    "name=\"python\" #assign\n",
    "name==\"py\" #condition"
   ]
  },
  {
   "cell_type": "code",
   "execution_count": null,
   "id": "ccb7e1d9",
   "metadata": {},
   "outputs": [],
   "source": [
    "if <condition>:\n",
    "if True/False:\n",
    "    inside the block"
   ]
  },
  {
   "cell_type": "code",
   "execution_count": 3,
   "id": "2f586acc",
   "metadata": {},
   "outputs": [
    {
     "name": "stdout",
     "output_type": "stream",
     "text": [
      "won\n"
     ]
    }
   ],
   "source": [
    "name=\"python\"      #\"python\"is saved in a variable\" name\"\n",
    "if name==\"python\": #is the name really equal to python if true or false\n",
    "    print(\"won\")"
   ]
  },
  {
   "cell_type": "code",
   "execution_count": null,
   "id": "a78f547c",
   "metadata": {},
   "outputs": [],
   "source": [
    "#erroe capture====>my code should not stop\n",
    "#try:100lines 50 line you get error\n",
    "#first 49 try block will run then nxt exec===== 50=====>  exception block"
   ]
  },
  {
   "cell_type": "code",
   "execution_count": 4,
   "id": "b20d006a",
   "metadata": {},
   "outputs": [
    {
     "name": "stdout",
     "output_type": "stream",
     "text": [
      "30\n"
     ]
    }
   ],
   "source": [
    "#true case:\n",
    "name=\"python\"      #\"python\"is saved in a variable\" name\"\n",
    "if name==\"python\":  #is the name really equal to python \n",
    "    a=10\n",
    "    b=20\n",
    "    print(a+b)"
   ]
  },
  {
   "cell_type": "code",
   "execution_count": 6,
   "id": "cd510fc2",
   "metadata": {},
   "outputs": [
    {
     "name": "stdout",
     "output_type": "stream",
     "text": [
      "false\n"
     ]
    }
   ],
   "source": [
    "#doubt\n",
    "#false case:\n",
    "name=\"python\"      #\"python\"is saved in a variable\" name\"\n",
    "if name==\"py\":     #is the name really equal to py ----false  \n",
    "    a=10\n",
    "    b=20\n",
    "    c=a+b\n",
    "    print(c)\n",
    "else:\n",
    "    print(\"false\")"
   ]
  },
  {
   "cell_type": "code",
   "execution_count": 7,
   "id": "482e4c71",
   "metadata": {},
   "outputs": [
    {
     "name": "stdout",
     "output_type": "stream",
     "text": [
      "won\n"
     ]
    }
   ],
   "source": [
    "name=\"python\"      #\"python\"is saved in a variable\" name\"\n",
    "if name==\"python\":   #is the name really equal to python \n",
    "    print(\"won\")\n",
    "else:\n",
    "    print(\"lost\")"
   ]
  },
  {
   "cell_type": "code",
   "execution_count": 8,
   "id": "3d24f8f8",
   "metadata": {},
   "outputs": [
    {
     "name": "stdout",
     "output_type": "stream",
     "text": [
      "lost\n"
     ]
    }
   ],
   "source": [
    "name=\"python\"      #\"python\"is saved in a variable\" name\"\n",
    "if name==\"py\":   #is the name really equal to python \n",
    "    print(\"won\")\n",
    "else:\n",
    "    print(\"lost\")"
   ]
  },
  {
   "cell_type": "code",
   "execution_count": 13,
   "id": "1b95f8bf",
   "metadata": {},
   "outputs": [
    {
     "name": "stdout",
     "output_type": "stream",
     "text": [
      "hello\n",
      "10\n",
      "enter 1st number:2\n",
      "enter 2nd number:3\n",
      "this is false case\n",
      "we are doing multipliaction\n",
      "the multiplication of 2 and 3 is 6\n",
      "substraction: -1\n",
      "great\n"
     ]
    }
   ],
   "source": [
    "#false case\n",
    "print(\"hello\")\n",
    "print(10)\n",
    "num1=eval(input(\"enter 1st number:\"))\n",
    "num2=eval(input(\"enter 2nd number:\"))\n",
    "if num1==num2:\n",
    "    print(\"this is true case\")\n",
    "    print(\"we are doing addition operation\")\n",
    "    print(\"the addition of {} and{} is {}\".format(num1,num2,num1+num2))\n",
    "    print(\"happy ending\")\n",
    "else:\n",
    "    print(\"this is false case\")\n",
    "    print(\"we are doing multipliaction\")\n",
    "    print(\"the multiplication of {} and {} is {}\".format(num1,num2,num1*num2))\n",
    "    \n",
    "subtraction=num1-num2\n",
    "print(\"substraction:\",subtraction)\n",
    "print(\"great\")\n",
    "    \n"
   ]
  },
  {
   "cell_type": "code",
   "execution_count": 14,
   "id": "cbeed669",
   "metadata": {},
   "outputs": [
    {
     "name": "stdout",
     "output_type": "stream",
     "text": [
      "hello\n",
      "10\n",
      "enter 1st number:2\n",
      "enter 2nd number:2\n",
      "this is true case\n",
      "we are doing addition operation\n",
      "the addition of 2 and2 is 4\n",
      "happy ending\n",
      "substraction: 0\n",
      "great\n"
     ]
    }
   ],
   "source": [
    "#true case\n",
    "print(\"hello\")\n",
    "print(10)\n",
    "num1=eval(input(\"enter 1st number:\"))\n",
    "num2=eval(input(\"enter 2nd number:\"))\n",
    "if num1==num2:\n",
    "    print(\"this is true case\")\n",
    "    print(\"we are doing addition operation\")\n",
    "    print(\"the addition of {} and{} is {}\".format(num1,num2,num1+num2))\n",
    "    print(\"happy ending\")\n",
    "else:\n",
    "    print(\"this is false case\")\n",
    "    print(\"we are doing multipliaction\")\n",
    "    print(\"the multiplication of {} and {} is {}\".format(num1,num2,num1*num2))\n",
    "    \n",
    "subtraction=num1-num2\n",
    "print(\"substraction:\",subtraction)\n",
    "print(\"great\")\n",
    "    \n"
   ]
  },
  {
   "cell_type": "code",
   "execution_count": 19,
   "id": "200c815b",
   "metadata": {},
   "outputs": [
    {
     "name": "stdout",
     "output_type": "stream",
     "text": [
      "enter a number:2\n",
      "the number is even number\n"
     ]
    }
   ],
   "source": [
    "#wap ask the user entera number\n",
    "#find the number is even or odd number\n",
    "#eve number:if you didvide with 2 the reminder is zero\n",
    "#odd number\n",
    "#in python modulas operator gives reminder\n",
    "num1=eval(input(\"enter a number:\"))\n",
    "if (num1%2==0):\n",
    "    print(\"the number is even number\")\n",
    "else:\n",
    "    print(\"the number is odd number\")\n",
    "\n"
   ]
  },
  {
   "cell_type": "code",
   "execution_count": 22,
   "id": "7b0a9638",
   "metadata": {},
   "outputs": [
    {
     "name": "stdout",
     "output_type": "stream",
     "text": [
      "enter a number:2\n",
      "the number is even number\n"
     ]
    }
   ],
   "source": [
    "try:\n",
    "    num1=eval(input(\"enter a number:\"))\n",
    "    if (num1%2==0):\n",
    "        \n",
    "        print(\"the number is even number\")\n",
    "    else:\n",
    "        \n",
    "        print(\"the number is odd number\")\n",
    "\n",
    "except Exception as e:\n",
    "        print(e)\n",
    "\n",
    "\n"
   ]
  },
  {
   "cell_type": "code",
   "execution_count": 24,
   "id": "a81eff55",
   "metadata": {},
   "outputs": [
    {
     "name": "stdout",
     "output_type": "stream",
     "text": [
      "enter a number:3\n",
      "the number is odd number\n"
     ]
    }
   ],
   "source": [
    "try:\n",
    "    num1=eval(input(\"enter a number:\"))\n",
    "    if (num1%2!=0):\n",
    "        \n",
    "        print(\"the number is odd number\")\n",
    "    else:\n",
    "        \n",
    "        print(\"the number is even number\")\n",
    "\n",
    "except Exception as e:\n",
    "        print(e)\n",
    "\n",
    "\n"
   ]
  },
  {
   "cell_type": "code",
   "execution_count": 44,
   "id": "20fad117",
   "metadata": {},
   "outputs": [
    {
     "name": "stdout",
     "output_type": "stream",
     "text": [
      "48\n",
      "it is a even number\n"
     ]
    }
   ],
   "source": [
    "#wap ask the user get a random number 1 to 50\n",
    "#and check if it is even or odd number\n",
    "import random\n",
    "num=random.randint(1,50)\n",
    "print(num)\n",
    "if (num%2==0):\n",
    "    print(\"it is a even number\")\n",
    "else:\n",
    "    print(\"it is a odd number\")\n"
   ]
  },
  {
   "cell_type": "code",
   "execution_count": 32,
   "id": "d6c54b23",
   "metadata": {},
   "outputs": [
    {
     "name": "stdout",
     "output_type": "stream",
     "text": [
      "173\n",
      "you lost\n"
     ]
    }
   ],
   "source": [
    "#wap get a random number 1 to 200\n",
    "#print you won ,if number between 10 to 99\n",
    "#otherwise u lost\n",
    "import random\n",
    "num=random.randint(1,200)\n",
    "print(num)\n",
    "if num==random.randint(10,99):\n",
    "    \n",
    "         print(\"you won\")\n",
    "else:\n",
    "    num==random.randint(100,200)\n",
    "    print(\"you lost\")\n",
    "     "
   ]
  },
  {
   "cell_type": "code",
   "execution_count": 40,
   "id": "6899b991",
   "metadata": {},
   "outputs": [
    {
     "name": "stdout",
     "output_type": "stream",
     "text": [
      "enter a number:25\n",
      "you won\n"
     ]
    }
   ],
   "source": [
    "num=eval(input(\"enter a number:\"))\n",
    "if (num>10 and num<99):\n",
    "    print(\"you won\")       \n",
    "else:    \n",
    "    print(\"you lost\")\n",
    "     "
   ]
  },
  {
   "cell_type": "code",
   "execution_count": 30,
   "id": "8fdcd4ce",
   "metadata": {},
   "outputs": [
    {
     "name": "stdout",
     "output_type": "stream",
     "text": [
      "enter a number3\n",
      "it is a positive number\n"
     ]
    }
   ],
   "source": [
    "#wap ask the user enter a number\n",
    "#if the number >=0 print it is a positive number\n",
    "#otherwise print it is a negative number\n",
    "num1=eval(input(\"enter a number\"))\n",
    "if (num1>=0):\n",
    "    print(\"it is a positive number\")\n",
    "else:\n",
    "    print(\"it is a negative number\")"
   ]
  },
  {
   "cell_type": "code",
   "execution_count": 34,
   "id": "6e0f60d4",
   "metadata": {},
   "outputs": [
    {
     "name": "stdout",
     "output_type": "stream",
     "text": [
      "enter a number:2\n",
      "it is a pos num\n"
     ]
    }
   ],
   "source": [
    "#case1: >0========pos   if<con>:\n",
    "#case2: <0========neg   elseif<con>\n",
    "#case3: =0========zero   else\n",
    "\n",
    "#two conditions:   if-else\n",
    "# > two cond:        if-elif-else\n",
    "num1=eval(input(\"enter a number:\"))\n",
    "if (num1>=0):\n",
    "    print(\"it is a pos num\")\n",
    "elif (num1<=0):\n",
    "    print(\"it is a neg num\")\n",
    "else:\n",
    "    print(\"it is a zero\")\n",
    "    "
   ]
  },
  {
   "cell_type": "code",
   "execution_count": 38,
   "id": "b6c908be",
   "metadata": {},
   "outputs": [
    {
     "name": "stdout",
     "output_type": "stream",
     "text": [
      "enter percentage of marks:56\n",
      "c\n"
     ]
    }
   ],
   "source": [
    "#wap ask the user enter percentage of marks \n",
    "#if per>90 print A\n",
    "#if per between 70 to 90 print b\n",
    "#if per between 50 to 70 print c\n",
    "#otherwise d\n",
    "num1=eval(input(\"enter percentage of marks:\"))\n",
    "if (num1>90):\n",
    "    print(\"a\")\n",
    "elif (num1>70 and num1<90):\n",
    "    print(\"b\")\n",
    "elif (num1>50 and num1<70):\n",
    "    print(\"c\")\n",
    "else:\n",
    "    print(\"d\")"
   ]
  },
  {
   "cell_type": "code",
   "execution_count": 1,
   "id": "3ba2d1c9",
   "metadata": {},
   "outputs": [
    {
     "name": "stdout",
     "output_type": "stream",
     "text": [
      "enter percentage of marks:23\n",
      "d\n"
     ]
    }
   ],
   "source": [
    "num1=eval(input(\"enter percentage of marks:\"))\n",
    "if (num1>=90):\n",
    "    print(\"a\")\n",
    "elif (num1>=70):\n",
    "    print(\"b\")\n",
    "elif (num1>=50):\n",
    "    print(\"c\")\n",
    "else:\n",
    "    print(\"d\")"
   ]
  },
  {
   "cell_type": "code",
   "execution_count": 43,
   "id": "44bf9f01",
   "metadata": {},
   "outputs": [
    {
     "name": "stdout",
     "output_type": "stream",
     "text": [
      "enter ur age:67\n",
      "sc\n"
     ]
    }
   ],
   "source": [
    "#wap ask the user enter age\n",
    "#if age >60 print(sc)\n",
    "#if age between 45 to 60 (aged)\n",
    "#if age between 30 to 45 (ma)\n",
    "#if age between 20 to 30 (young)\n",
    "#if age is betwwen 13 to 20 (teenage)\n",
    "#otherwise child\n",
    "#if elif elif elif elif else\n",
    "num=eval(input(\"enter ur age:\"))\n",
    "if (num>=60):\n",
    "    print(\"sc\")\n",
    "elif (num>=45):\n",
    "    print(\"aged\")\n",
    "elif (num>=30):\n",
    "    print(\"ma\")\n",
    "elif (num>=20):\n",
    "    print(\"young\")\n",
    "elif(num>=13):\n",
    "    print(\"teenage\")\n",
    "else:\n",
    "    print(\"child\")"
   ]
  },
  {
   "cell_type": "code",
   "execution_count": null,
   "id": "e7fac8e7",
   "metadata": {},
   "outputs": [],
   "source": []
  }
 ],
 "metadata": {
  "kernelspec": {
   "display_name": "Python 3 (ipykernel)",
   "language": "python",
   "name": "python3"
  },
  "language_info": {
   "codemirror_mode": {
    "name": "ipython",
    "version": 3
   },
   "file_extension": ".py",
   "mimetype": "text/x-python",
   "name": "python",
   "nbconvert_exporter": "python",
   "pygments_lexer": "ipython3",
   "version": "3.11.5"
  }
 },
 "nbformat": 4,
 "nbformat_minor": 5
}
