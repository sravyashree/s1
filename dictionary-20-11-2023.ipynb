{
 "cells": [
  {
   "cell_type": "markdown",
   "id": "8f872c97",
   "metadata": {},
   "source": [
    "$dictionary$"
   ]
  },
  {
   "cell_type": "code",
   "execution_count": 2,
   "id": "32e90ad7",
   "metadata": {},
   "outputs": [
    {
     "data": {
      "text/plain": [
       "'robert has age 35'"
      ]
     },
     "execution_count": 2,
     "metadata": {},
     "output_type": "execute_result"
    }
   ],
   "source": [
    "list1=[\"ram\",\"raheem\",\"robert\"]\n",
    "list2=[25,30,35]\n",
    "\"ram has age 25\"\n",
    "\"raheem has age 30\"\n",
    "\"robert has age 35\""
   ]
  },
  {
   "cell_type": "code",
   "execution_count": 3,
   "id": "90d689b7",
   "metadata": {},
   "outputs": [
    {
     "name": "stdout",
     "output_type": "stream",
     "text": [
      "ram 25\n",
      "raheem 30\n",
      "robert 35\n"
     ]
    }
   ],
   "source": [
    "for i,j in zip(list1,list2):\n",
    "    print(i,j)"
   ]
  },
  {
   "cell_type": "code",
   "execution_count": 7,
   "id": "f7fa35ca",
   "metadata": {},
   "outputs": [
    {
     "data": {
      "text/plain": [
       "{'ram': 25, 'raheem': 30, 'robert': 35}"
      ]
     },
     "execution_count": 7,
     "metadata": {},
     "output_type": "execute_result"
    }
   ],
   "source": [
    "#{key:value}\n",
    "d1={\"ram\":25,\"raheem\":30,\"robert\":35}\n",
    "d1\n",
    "#key=ram,raheem,robert\n",
    "#value=25,30,35"
   ]
  },
  {
   "cell_type": "code",
   "execution_count": 8,
   "id": "53c42416",
   "metadata": {},
   "outputs": [
    {
     "data": {
      "text/plain": [
       "{25: 'ram', 30: 'raheem', 35: 'robert'}"
      ]
     },
     "execution_count": 8,
     "metadata": {},
     "output_type": "execute_result"
    }
   ],
   "source": [
    "d2={25:\"ram\",30:\"raheem\",35:\"robert\"}\n",
    "d2\n",
    "#key=25,30,35\n",
    "#value=ram,raheem,robert"
   ]
  },
  {
   "cell_type": "code",
   "execution_count": 9,
   "id": "1bafae8e",
   "metadata": {},
   "outputs": [
    {
     "data": {
      "text/plain": [
       "{'evan': [2, 4, 6], 'odd': [3, 5, 7]}"
      ]
     },
     "execution_count": 9,
     "metadata": {},
     "output_type": "execute_result"
    }
   ],
   "source": [
    "d3={\"evan\":[2,4,6],\"odd\":[3,5,7]}\n",
    "d3"
   ]
  },
  {
   "cell_type": "code",
   "execution_count": 10,
   "id": "98aec665",
   "metadata": {},
   "outputs": [
    {
     "ename": "TypeError",
     "evalue": "unhashable type: 'list'",
     "output_type": "error",
     "traceback": [
      "\u001b[1;31m---------------------------------------------------------------------------\u001b[0m",
      "\u001b[1;31mTypeError\u001b[0m                                 Traceback (most recent call last)",
      "Cell \u001b[1;32mIn[10], line 1\u001b[0m\n\u001b[1;32m----> 1\u001b[0m d4\u001b[38;5;241m=\u001b[39m{[\u001b[38;5;241m2\u001b[39m,\u001b[38;5;241m4\u001b[39m,\u001b[38;5;241m6\u001b[39m]:\u001b[38;5;124m\"\u001b[39m\u001b[38;5;124meven\u001b[39m\u001b[38;5;124m\"\u001b[39m,[\u001b[38;5;241m3\u001b[39m,\u001b[38;5;241m5\u001b[39m,\u001b[38;5;241m7\u001b[39m]:\u001b[38;5;124m\"\u001b[39m\u001b[38;5;124modd\u001b[39m\u001b[38;5;124m\"\u001b[39m}\n\u001b[0;32m      2\u001b[0m d4\n",
      "\u001b[1;31mTypeError\u001b[0m: unhashable type: 'list'"
     ]
    }
   ],
   "source": [
    "d4={[2,4,6]:\"even\",[3,5,7]:\"odd\"}\n",
    "d4\n",
    "#if key is list will not work"
   ]
  },
  {
   "cell_type": "code",
   "execution_count": 11,
   "id": "67679a39",
   "metadata": {},
   "outputs": [
    {
     "data": {
      "text/plain": [
       "{(2, 4, 6): 'even'}"
      ]
     },
     "execution_count": 11,
     "metadata": {},
     "output_type": "execute_result"
    }
   ],
   "source": [
    "d4={(2,4,6):\"even\"}\n",
    "d4"
   ]
  },
  {
   "cell_type": "code",
   "execution_count": 12,
   "id": "ed38225f",
   "metadata": {},
   "outputs": [
    {
     "data": {
      "text/plain": [
       "{'item_list': {'fruits': 'apple'}}"
      ]
     },
     "execution_count": 12,
     "metadata": {},
     "output_type": "execute_result"
    }
   ],
   "source": [
    "#{\"key\":<{}>}\n",
    "d5={\"item_list\":{\"fruits\":\"apple\"}}\n",
    "d5"
   ]
  },
  {
   "cell_type": "code",
   "execution_count": 13,
   "id": "a2b6bac0",
   "metadata": {},
   "outputs": [
    {
     "ename": "TypeError",
     "evalue": "unhashable type: 'dict'",
     "output_type": "error",
     "traceback": [
      "\u001b[1;31m---------------------------------------------------------------------------\u001b[0m",
      "\u001b[1;31mTypeError\u001b[0m                                 Traceback (most recent call last)",
      "Cell \u001b[1;32mIn[13], line 1\u001b[0m\n\u001b[1;32m----> 1\u001b[0m d6\u001b[38;5;241m=\u001b[39m{{\u001b[38;5;124m\"\u001b[39m\u001b[38;5;124mfruits\u001b[39m\u001b[38;5;124m\"\u001b[39m:\u001b[38;5;124m\"\u001b[39m\u001b[38;5;124mapple\u001b[39m\u001b[38;5;124m\"\u001b[39m}:\u001b[38;5;124m\"\u001b[39m\u001b[38;5;124mitem_list\u001b[39m\u001b[38;5;124m\"\u001b[39m}\n\u001b[0;32m      2\u001b[0m d6\n",
      "\u001b[1;31mTypeError\u001b[0m: unhashable type: 'dict'"
     ]
    }
   ],
   "source": [
    "d6={{\"fruits\":\"apple\"}:\"item_list\"}\n",
    "d6"
   ]
  },
  {
   "cell_type": "code",
   "execution_count": 16,
   "id": "08dba5f7",
   "metadata": {},
   "outputs": [
    {
     "data": {
      "text/plain": [
       "(1, 2)"
      ]
     },
     "execution_count": 16,
     "metadata": {},
     "output_type": "execute_result"
    }
   ],
   "source": [
    "a=[1,2]\n",
    "b=(1,2)\n",
    "a,b=[1,2]\n",
    "c,d=(1,2)\n",
    "a,b"
   ]
  },
  {
   "cell_type": "code",
   "execution_count": 17,
   "id": "ee75e949",
   "metadata": {},
   "outputs": [
    {
     "data": {
      "text/plain": [
       "1"
      ]
     },
     "execution_count": 17,
     "metadata": {},
     "output_type": "execute_result"
    }
   ],
   "source": [
    "a"
   ]
  },
  {
   "cell_type": "code",
   "execution_count": 18,
   "id": "e04dd669",
   "metadata": {},
   "outputs": [
    {
     "data": {
      "text/plain": [
       "2"
      ]
     },
     "execution_count": 18,
     "metadata": {},
     "output_type": "execute_result"
    }
   ],
   "source": [
    "b"
   ]
  },
  {
   "cell_type": "code",
   "execution_count": 19,
   "id": "f74975be",
   "metadata": {},
   "outputs": [
    {
     "data": {
      "text/plain": [
       "1"
      ]
     },
     "execution_count": 19,
     "metadata": {},
     "output_type": "execute_result"
    }
   ],
   "source": [
    "c"
   ]
  },
  {
   "cell_type": "code",
   "execution_count": 20,
   "id": "c160abbc",
   "metadata": {},
   "outputs": [
    {
     "data": {
      "text/plain": [
       "2"
      ]
     },
     "execution_count": 20,
     "metadata": {},
     "output_type": "execute_result"
    }
   ],
   "source": [
    "d"
   ]
  },
  {
   "cell_type": "code",
   "execution_count": 21,
   "id": "b0804415",
   "metadata": {},
   "outputs": [
    {
     "data": {
      "text/plain": [
       "(1, 2)"
      ]
     },
     "execution_count": 21,
     "metadata": {},
     "output_type": "execute_result"
    }
   ],
   "source": [
    "a=1,2\n",
    "a"
   ]
  },
  {
   "cell_type": "code",
   "execution_count": 22,
   "id": "094f1092",
   "metadata": {},
   "outputs": [
    {
     "data": {
      "text/plain": [
       "{'a': 1, 'b': 2}"
      ]
     },
     "execution_count": 22,
     "metadata": {},
     "output_type": "execute_result"
    }
   ],
   "source": [
    "d1={\"a\":1,\"b\":2,\"a\":1}\n",
    "d1"
   ]
  },
  {
   "cell_type": "code",
   "execution_count": 23,
   "id": "45b509a1",
   "metadata": {},
   "outputs": [
    {
     "data": {
      "text/plain": [
       "{'a': 3, 'b': 2}"
      ]
     },
     "execution_count": 23,
     "metadata": {},
     "output_type": "execute_result"
    }
   ],
   "source": [
    "d1={\"a\":1,\"b\":2,\"a\":3}\n",
    "d1"
   ]
  },
  {
   "cell_type": "code",
   "execution_count": null,
   "id": "e407c711",
   "metadata": {},
   "outputs": [],
   "source": [
    "#dictionary is a key:value pair\n",
    "#at values position we can take any data type\n",
    "#but at keys position list and dictionary will fail\n",
    "#duplicates are not allowed\n",
    "#if u want update a key value then it will take lastest value"
   ]
  },
  {
   "cell_type": "markdown",
   "id": "9368752e",
   "metadata": {},
   "source": [
    "$type$"
   ]
  },
  {
   "cell_type": "code",
   "execution_count": 24,
   "id": "c57421e2",
   "metadata": {},
   "outputs": [
    {
     "data": {
      "text/plain": [
       "dict"
      ]
     },
     "execution_count": 24,
     "metadata": {},
     "output_type": "execute_result"
    }
   ],
   "source": [
    "type(d1)"
   ]
  },
  {
   "cell_type": "code",
   "execution_count": null,
   "id": "cf70a253",
   "metadata": {},
   "outputs": [],
   "source": [
    "-str\n",
    "-list\n",
    "-dict\n",
    "-int\n",
    "-float\n",
    "-bool\n",
    "-complex\n",
    "-tuple\n",
    "-set"
   ]
  },
  {
   "cell_type": "code",
   "execution_count": 28,
   "id": "27df6a5e",
   "metadata": {},
   "outputs": [
    {
     "data": {
      "text/plain": [
       "'robert'"
      ]
     },
     "execution_count": 28,
     "metadata": {},
     "output_type": "execute_result"
    }
   ],
   "source": [
    "d1={\"ram\":25,\"raheem\":30,\"robert\":3}\n",
    "max(d1)\n",
    "#this max we are getting based on key or value"
   ]
  },
  {
   "cell_type": "markdown",
   "id": "324f38bc",
   "metadata": {},
   "source": [
    "$note$:\n",
    "max value and min value is based on key only"
   ]
  },
  {
   "cell_type": "code",
   "execution_count": 30,
   "id": "9c143860",
   "metadata": {},
   "outputs": [
    {
     "data": {
      "text/plain": [
       "'raheem'"
      ]
     },
     "execution_count": 30,
     "metadata": {},
     "output_type": "execute_result"
    }
   ],
   "source": [
    "min(d1)"
   ]
  },
  {
   "cell_type": "code",
   "execution_count": 31,
   "id": "48d0b22a",
   "metadata": {},
   "outputs": [
    {
     "data": {
      "text/plain": [
       "3"
      ]
     },
     "execution_count": 31,
     "metadata": {},
     "output_type": "execute_result"
    }
   ],
   "source": [
    "len(d1)  #3 elements"
   ]
  },
  {
   "cell_type": "code",
   "execution_count": 32,
   "id": "8fbba050",
   "metadata": {},
   "outputs": [
    {
     "ename": "TypeError",
     "evalue": "unsupported operand type(s) for +: 'int' and 'str'",
     "output_type": "error",
     "traceback": [
      "\u001b[1;31m---------------------------------------------------------------------------\u001b[0m",
      "\u001b[1;31mTypeError\u001b[0m                                 Traceback (most recent call last)",
      "Cell \u001b[1;32mIn[32], line 1\u001b[0m\n\u001b[1;32m----> 1\u001b[0m \u001b[38;5;28msum\u001b[39m(d1)\n",
      "\u001b[1;31mTypeError\u001b[0m: unsupported operand type(s) for +: 'int' and 'str'"
     ]
    }
   ],
   "source": [
    "sum(d1)"
   ]
  },
  {
   "cell_type": "code",
   "execution_count": 35,
   "id": "5e9ff09a",
   "metadata": {},
   "outputs": [
    {
     "data": {
      "text/plain": [
       "103"
      ]
     },
     "execution_count": 35,
     "metadata": {},
     "output_type": "execute_result"
    }
   ],
   "source": [
    "d2={100:2,3:4}\n",
    "sum(d2)  #it will add the value of keys"
   ]
  },
  {
   "cell_type": "markdown",
   "id": "e5708107",
   "metadata": {},
   "source": [
    "$note$:if keys have numeric value it will work we can do sum"
   ]
  },
  {
   "cell_type": "markdown",
   "id": "e7479b01",
   "metadata": {},
   "source": [
    "$in operator$"
   ]
  },
  {
   "cell_type": "code",
   "execution_count": null,
   "id": "2a965c25",
   "metadata": {},
   "outputs": [],
   "source": [
    "d1={\"ram\":25,\"raheem\":30,\"robert\":35}\n",
    "d1\n",
    "\"ram\":25 in d1======fail\n",
    "\"ram\" in d1======works\n",
    "25 in d1=====fail"
   ]
  },
  {
   "cell_type": "code",
   "execution_count": 36,
   "id": "e60aaa51",
   "metadata": {},
   "outputs": [
    {
     "name": "stdout",
     "output_type": "stream",
     "text": [
      "ram\n",
      "raheem\n",
      "robert\n"
     ]
    }
   ],
   "source": [
    "for i in d1:\n",
    "    print(i)"
   ]
  },
  {
   "cell_type": "markdown",
   "id": "96bf71a1",
   "metadata": {},
   "source": [
    "$index$"
   ]
  },
  {
   "cell_type": "code",
   "execution_count": 37,
   "id": "6a95f948",
   "metadata": {},
   "outputs": [
    {
     "data": {
      "text/plain": [
       "10"
      ]
     },
     "execution_count": 37,
     "metadata": {},
     "output_type": "execute_result"
    }
   ],
   "source": [
    "l1=[10,20,30,40]\n",
    "l1[0]"
   ]
  },
  {
   "cell_type": "code",
   "execution_count": 46,
   "id": "8c7a8394",
   "metadata": {},
   "outputs": [
    {
     "data": {
      "text/plain": [
       "'a'"
      ]
     },
     "execution_count": 46,
     "metadata": {},
     "output_type": "execute_result"
    }
   ],
   "source": [
    "str1=\"apple\"\n",
    "str1[0]"
   ]
  },
  {
   "cell_type": "code",
   "execution_count": 40,
   "id": "2cd5cca5",
   "metadata": {},
   "outputs": [
    {
     "data": {
      "text/plain": [
       "25"
      ]
     },
     "execution_count": 40,
     "metadata": {},
     "output_type": "execute_result"
    }
   ],
   "source": [
    "d1={\"ram\":25,\"raheem\":30,\"robert\":35}\n",
    "d1[\"ram\"]"
   ]
  },
  {
   "cell_type": "code",
   "execution_count": 108,
   "id": "1ad818d1",
   "metadata": {
    "scrolled": true
   },
   "outputs": [
    {
     "name": "stdout",
     "output_type": "stream",
     "text": [
      "ram 25\n",
      "raheem 30\n",
      "robert 35\n"
     ]
    }
   ],
   "source": [
    "d1={\"ram\":25,\"raheem\":30,\"robert\":35}\n",
    "for value in d1:\n",
    "    print(value,d1[value])"
   ]
  },
  {
   "cell_type": "code",
   "execution_count": 104,
   "id": "f2365162",
   "metadata": {},
   "outputs": [
    {
     "name": "stdout",
     "output_type": "stream",
     "text": [
      "ram 25\n",
      "raheem 30\n",
      "robert 35\n"
     ]
    }
   ],
   "source": [
    "d1={\"ram\":25,\"raheem\":30,\"robert\":35}\n",
    "for i in d1:\n",
    "    print(i,d1[i])"
   ]
  },
  {
   "cell_type": "code",
   "execution_count": 45,
   "id": "8c2420c9",
   "metadata": {},
   "outputs": [
    {
     "name": "stdout",
     "output_type": "stream",
     "text": [
      "0 10\n",
      "1 20\n",
      "2 30\n",
      "3 40\n"
     ]
    }
   ],
   "source": [
    "for i in range(len(l1)):\n",
    "    print(i,l1[i])"
   ]
  },
  {
   "cell_type": "code",
   "execution_count": 110,
   "id": "0cc14f47",
   "metadata": {},
   "outputs": [
    {
     "name": "stdout",
     "output_type": "stream",
     "text": [
      "0\n",
      "1\n",
      "2\n"
     ]
    }
   ],
   "source": [
    "for key in range(len(d1)):\n",
    "    print(key)\n",
    "    "
   ]
  },
  {
   "cell_type": "markdown",
   "id": "17996494",
   "metadata": {},
   "source": [
    "$creating$ $a$ $empty$ $dictionary$ $and$ $update$"
   ]
  },
  {
   "cell_type": "code",
   "execution_count": 111,
   "id": "456e6084",
   "metadata": {},
   "outputs": [
    {
     "name": "stdout",
     "output_type": "stream",
     "text": [
      "shshhapple\n"
     ]
    }
   ],
   "source": [
    "s=\"shshh\" \n",
    "for i in \"apple\":\n",
    "    s=s+i\n",
    "print(s)"
   ]
  },
  {
   "cell_type": "code",
   "execution_count": 49,
   "id": "d9dd1401",
   "metadata": {},
   "outputs": [
    {
     "data": {
      "text/plain": [
       "{'fruit': 'apple'}"
      ]
     },
     "execution_count": 49,
     "metadata": {},
     "output_type": "execute_result"
    }
   ],
   "source": [
    "d1={}\n",
    "d1[\"fruit\"]=\"apple\"\n",
    "d1"
   ]
  },
  {
   "cell_type": "code",
   "execution_count": 51,
   "id": "5aa8cce5",
   "metadata": {},
   "outputs": [
    {
     "data": {
      "text/plain": [
       "{'name': 'sravya', 'couse': 'ds and ai', 'institue': 'nareshit'}"
      ]
     },
     "execution_count": 51,
     "metadata": {},
     "output_type": "execute_result"
    }
   ],
   "source": [
    "#wap create a database\n",
    "d1={}\n",
    "d1[\"name\"]=\"sravya\"\n",
    "d1[\"couse\"]=\"ds and ai\"\n",
    "d1[\"institue\"]=\"nareshit\"\n",
    "d1"
   ]
  },
  {
   "cell_type": "code",
   "execution_count": 64,
   "id": "0607718f",
   "metadata": {},
   "outputs": [
    {
     "data": {
      "text/plain": [
       "{'ram': 25, 'raheem': 30, 'robert': 35}"
      ]
     },
     "execution_count": 64,
     "metadata": {},
     "output_type": "execute_result"
    }
   ],
   "source": [
    "#wap create a dictionary based on two lists\n",
    "names=[\"ram\",\"raheem\",\"robert\"]\n",
    "age=[25,30,35]\n",
    "d1={}\n",
    "for i,j in zip(names,age):\n",
    "    d1[i]=j\n",
    "d1"
   ]
  },
  {
   "cell_type": "code",
   "execution_count": 115,
   "id": "cad21696",
   "metadata": {},
   "outputs": [
    {
     "name": "stdout",
     "output_type": "stream",
     "text": [
      "0 ram 25\n",
      "1 raheem 30\n",
      "2 robert 35\n"
     ]
    },
    {
     "data": {
      "text/plain": [
       "{'ram': 25, 'raheem': 30, 'robert': 35}"
      ]
     },
     "execution_count": 115,
     "metadata": {},
     "output_type": "execute_result"
    }
   ],
   "source": [
    "dict1={}\n",
    "for i in range(len(names)):\n",
    "    print(i,names[i],age[i])\n",
    "    dict1[names[i]]=age[i]\n",
    "dict1={names[i]:age[i] for i in range(len(names))}\n",
    "dict1={names:age for names,age in zip(names,age)}\n",
    "dict1 "
   ]
  },
  {
   "cell_type": "code",
   "execution_count": 102,
   "id": "a4072215",
   "metadata": {},
   "outputs": [
    {
     "data": {
      "text/plain": [
       "{'even': [66, 30, 28], 'odd': [79, 67]}"
      ]
     },
     "execution_count": 102,
     "metadata": {},
     "output_type": "execute_result"
    }
   ],
   "source": [
    "#wap take 5 random numbers and create a dictionary with even and odd\n",
    "#output:{\"even\":[20,22],\"odd\":[19,22,23]}\n",
    "d1={}\n",
    "even=[]\n",
    "odd=[]\n",
    "import random\n",
    "for i in range(5):\n",
    "    num=random.randint(1,100)\n",
    "    if num%2==0:\n",
    "        even.append(num)\n",
    "    else:\n",
    "        odd.append(num)\n",
    "\n",
    "d1['even']=even\n",
    "d1['odd']=odd\n",
    "d1"
   ]
  },
  {
   "cell_type": "code",
   "execution_count": 112,
   "id": "f6df49b2",
   "metadata": {},
   "outputs": [
    {
     "data": {
      "text/plain": [
       "['__class__',\n",
       " '__class_getitem__',\n",
       " '__contains__',\n",
       " '__delattr__',\n",
       " '__delitem__',\n",
       " '__dir__',\n",
       " '__doc__',\n",
       " '__eq__',\n",
       " '__format__',\n",
       " '__ge__',\n",
       " '__getattribute__',\n",
       " '__getitem__',\n",
       " '__getstate__',\n",
       " '__gt__',\n",
       " '__hash__',\n",
       " '__init__',\n",
       " '__init_subclass__',\n",
       " '__ior__',\n",
       " '__iter__',\n",
       " '__le__',\n",
       " '__len__',\n",
       " '__lt__',\n",
       " '__ne__',\n",
       " '__new__',\n",
       " '__or__',\n",
       " '__reduce__',\n",
       " '__reduce_ex__',\n",
       " '__repr__',\n",
       " '__reversed__',\n",
       " '__ror__',\n",
       " '__setattr__',\n",
       " '__setitem__',\n",
       " '__sizeof__',\n",
       " '__str__',\n",
       " '__subclasshook__',\n",
       " 'clear',\n",
       " 'copy',\n",
       " 'fromkeys',\n",
       " 'get',\n",
       " 'items',\n",
       " 'keys',\n",
       " 'pop',\n",
       " 'popitem',\n",
       " 'setdefault',\n",
       " 'update',\n",
       " 'values']"
      ]
     },
     "execution_count": 112,
     "metadata": {},
     "output_type": "execute_result"
    }
   ],
   "source": [
    "dir(dict)"
   ]
  },
  {
   "cell_type": "code",
   "execution_count": 2,
   "id": "5853d9f9",
   "metadata": {},
   "outputs": [
    {
     "data": {
      "text/plain": [
       "'C:\\\\Users\\\\shrav\\\\Desktop\\\\Data science'"
      ]
     },
     "execution_count": 2,
     "metadata": {},
     "output_type": "execute_result"
    }
   ],
   "source": [
    "import os\n",
    "os.getcwd()  #directoray"
   ]
  },
  {
   "cell_type": "markdown",
   "id": "a739d7e7",
   "metadata": {},
   "source": [
    "$dictionary$ $methods$"
   ]
  },
  {
   "cell_type": "markdown",
   "id": "dd93fbbe",
   "metadata": {},
   "source": [
    "$items-keys-values$"
   ]
  },
  {
   "cell_type": "code",
   "execution_count": 3,
   "id": "a7c78a9d",
   "metadata": {},
   "outputs": [
    {
     "data": {
      "text/plain": [
       "{'ram': 25, 'raheem': 30, 'robert': 35}"
      ]
     },
     "execution_count": 3,
     "metadata": {},
     "output_type": "execute_result"
    }
   ],
   "source": [
    "d1={\"ram\":25,\"raheem\":30,\"robert\":35}\n",
    "d1"
   ]
  },
  {
   "cell_type": "code",
   "execution_count": 8,
   "id": "f6a21e4c",
   "metadata": {},
   "outputs": [
    {
     "data": {
      "text/plain": [
       "dict_items([('ram', 25), ('raheem', 30), ('robert', 35)])"
      ]
     },
     "execution_count": 8,
     "metadata": {},
     "output_type": "execute_result"
    }
   ],
   "source": [
    "items=d1.items()\n",
    "items"
   ]
  },
  {
   "cell_type": "code",
   "execution_count": 10,
   "id": "24c7090b",
   "metadata": {},
   "outputs": [
    {
     "data": {
      "text/plain": [
       "dict_items"
      ]
     },
     "execution_count": 10,
     "metadata": {},
     "output_type": "execute_result"
    }
   ],
   "source": [
    "type(items)"
   ]
  },
  {
   "cell_type": "code",
   "execution_count": 18,
   "id": "f907874a",
   "metadata": {},
   "outputs": [
    {
     "data": {
      "text/plain": [
       "dict_keys(['ram', 'raheem', 'robert'])"
      ]
     },
     "execution_count": 18,
     "metadata": {},
     "output_type": "execute_result"
    }
   ],
   "source": [
    "keys=d1.keys()\n",
    "keys"
   ]
  },
  {
   "cell_type": "code",
   "execution_count": 14,
   "id": "0ac509e2",
   "metadata": {},
   "outputs": [
    {
     "data": {
      "text/plain": [
       "dict_values([25, 30, 35])"
      ]
     },
     "execution_count": 14,
     "metadata": {},
     "output_type": "execute_result"
    }
   ],
   "source": [
    "values=d1.values()\n",
    "values"
   ]
  },
  {
   "cell_type": "code",
   "execution_count": 15,
   "id": "a30ec6eb",
   "metadata": {},
   "outputs": [],
   "source": [
    "l1=[25,30,35]\n",
    "l1.append(400)"
   ]
  },
  {
   "cell_type": "code",
   "execution_count": 16,
   "id": "35d071be",
   "metadata": {},
   "outputs": [
    {
     "data": {
      "text/plain": [
       "[25, 30, 35, 400]"
      ]
     },
     "execution_count": 16,
     "metadata": {},
     "output_type": "execute_result"
    }
   ],
   "source": [
    "l1"
   ]
  },
  {
   "cell_type": "code",
   "execution_count": 17,
   "id": "43978f0b",
   "metadata": {},
   "outputs": [
    {
     "data": {
      "text/plain": [
       "[25, 30, 35]"
      ]
     },
     "execution_count": 17,
     "metadata": {},
     "output_type": "execute_result"
    }
   ],
   "source": [
    "values  #i want to convert into list\n",
    "list(values) #then you can apply list methods"
   ]
  },
  {
   "cell_type": "code",
   "execution_count": 19,
   "id": "27cb3838",
   "metadata": {},
   "outputs": [
    {
     "data": {
      "text/plain": [
       "['ram', 'raheem', 'robert']"
      ]
     },
     "execution_count": 19,
     "metadata": {},
     "output_type": "execute_result"
    }
   ],
   "source": [
    "list(keys)"
   ]
  },
  {
   "cell_type": "code",
   "execution_count": 21,
   "id": "803a9053",
   "metadata": {},
   "outputs": [],
   "source": [
    "#interview question\n",
    "#a)#i will give the dictionary\n",
    "#can you extract keys ans values in a list\n",
    "#b)#i will give two list keys and values\n",
    "#can you create a dictionary\n",
    "#a\n",
    "d1={\"ram\":25,\"raheem\":30,\"robert\":35}\n",
    "keys=list(d1.keys())\n",
    "values=list(d1.values())"
   ]
  },
  {
   "cell_type": "code",
   "execution_count": 22,
   "id": "f2b066d7",
   "metadata": {},
   "outputs": [
    {
     "data": {
      "text/plain": [
       "(['ram', 'raheem', 'robert'], [25, 30, 35])"
      ]
     },
     "execution_count": 22,
     "metadata": {},
     "output_type": "execute_result"
    }
   ],
   "source": [
    "keys,values"
   ]
  },
  {
   "cell_type": "code",
   "execution_count": 23,
   "id": "3dccb47a",
   "metadata": {},
   "outputs": [
    {
     "data": {
      "text/plain": [
       "{'ram': 25, 'raheem': 30, 'robert': 35}"
      ]
     },
     "execution_count": 23,
     "metadata": {},
     "output_type": "execute_result"
    }
   ],
   "source": [
    "#b==m1\n",
    "names=[\"ram\",\"raheem\",\"robert\"]\n",
    "age=[25,30,35]\n",
    "d1={}\n",
    "for i,j in zip(names,age):\n",
    "    d1[i]=j\n",
    "d1"
   ]
  },
  {
   "cell_type": "code",
   "execution_count": 24,
   "id": "a14a94ff",
   "metadata": {},
   "outputs": [
    {
     "name": "stdout",
     "output_type": "stream",
     "text": [
      "0 ram 25\n",
      "1 raheem 30\n",
      "2 robert 35\n"
     ]
    },
    {
     "data": {
      "text/plain": [
       "{'ram': 25, 'raheem': 30, 'robert': 35}"
      ]
     },
     "execution_count": 24,
     "metadata": {},
     "output_type": "execute_result"
    }
   ],
   "source": [
    "#b==m2\n",
    "dict1={}\n",
    "for i in range(len(names)):\n",
    "    print(i,names[i],age[i])\n",
    "    dict1[names[i]]=age[i]\n",
    "dict1={names[i]:age[i] for i in range(len(names))}\n",
    "dict1={names:age for names,age in zip(names,age)}\n",
    "dict1 "
   ]
  },
  {
   "cell_type": "code",
   "execution_count": 207,
   "id": "3d85e7a6",
   "metadata": {},
   "outputs": [
    {
     "data": {
      "text/plain": [
       "'virat'"
      ]
     },
     "execution_count": 207,
     "metadata": {},
     "output_type": "execute_result"
    }
   ],
   "source": [
    "s1=\"virat.kohli@blr.com,rohit.shrama@mumbai.com,kl.rahul@lucknow.com\"\n",
    "#{\"1st_name\":[\"virat\",\"rohit\",\"kl\"]\n",
    " # \"second_name\":[\"kohil\",\"sharma\",\"rahul\"]\n",
    " #  \"company\":[\"blr\",\"mumbai\",\"lucknow\"] }\n",
    "#print(s1.index(\".\"))\n",
    "d4={}\n",
    "d1={}\n",
    "f_n=s1[:s1.index(\".\")]\n",
    "f_n"
   ]
  },
  {
   "cell_type": "code",
   "execution_count": 208,
   "id": "8326c85d",
   "metadata": {
    "scrolled": true
   },
   "outputs": [
    {
     "data": {
      "text/plain": [
       "'kohli'"
      ]
     },
     "execution_count": 208,
     "metadata": {},
     "output_type": "execute_result"
    }
   ],
   "source": [
    "s1[s1.index(\".\")+1:s1.index(\"@\")]"
   ]
  },
  {
   "cell_type": "code",
   "execution_count": 209,
   "id": "73909393",
   "metadata": {},
   "outputs": [
    {
     "data": {
      "text/plain": [
       "15"
      ]
     },
     "execution_count": 209,
     "metadata": {},
     "output_type": "execute_result"
    }
   ],
   "source": [
    "s1.index(\".\",s1.index(\".\")+1)"
   ]
  },
  {
   "cell_type": "code",
   "execution_count": 210,
   "id": "d6b2863e",
   "metadata": {},
   "outputs": [
    {
     "data": {
      "text/plain": [
       "'blr'"
      ]
     },
     "execution_count": 210,
     "metadata": {},
     "output_type": "execute_result"
    }
   ],
   "source": [
    "s1[s1.index(\"@\")+1:s1.index(\".\",s1.index(\".\")+1)]"
   ]
  },
  {
   "cell_type": "code",
   "execution_count": 211,
   "id": "17eb52d0",
   "metadata": {},
   "outputs": [
    {
     "data": {
      "text/plain": [
       "{'f_n': 'virat', 's_n': 'kohli', 't_n': 'blr'}"
      ]
     },
     "execution_count": 211,
     "metadata": {},
     "output_type": "execute_result"
    }
   ],
   "source": [
    "f_n=s1[:s1.index(\".\")]\n",
    "s_n=s1[s1.index(\".\")+1:s1.index(\"@\")]\n",
    "t_n=s1[s1.index(\"@\")+1:s1.index(\".\",s1.index(\".\")+1)]\n",
    "f_n,s_n,t_n\n",
    "d1[\"f_n\"]=f_n\n",
    "d1[\"s_n\"]=s_n\n",
    "d1[\"t_n\"]=t_n\n",
    "d1"
   ]
  },
  {
   "cell_type": "code",
   "execution_count": 212,
   "id": "d9e16fdc",
   "metadata": {},
   "outputs": [
    {
     "data": {
      "text/plain": [
       "5"
      ]
     },
     "execution_count": 212,
     "metadata": {},
     "output_type": "execute_result"
    }
   ],
   "source": [
    "d2={}\n",
    "str1=\"rohit.shrama@mumbai.com\"\n",
    "str1.index(\".\")"
   ]
  },
  {
   "cell_type": "code",
   "execution_count": 213,
   "id": "35448007",
   "metadata": {},
   "outputs": [
    {
     "data": {
      "text/plain": [
       "'rohit'"
      ]
     },
     "execution_count": 213,
     "metadata": {},
     "output_type": "execute_result"
    }
   ],
   "source": [
    "f_n=str1[:str1.index(\".\")]\n",
    "f_n\n"
   ]
  },
  {
   "cell_type": "code",
   "execution_count": 214,
   "id": "4ca34ffd",
   "metadata": {},
   "outputs": [
    {
     "data": {
      "text/plain": [
       "12"
      ]
     },
     "execution_count": 214,
     "metadata": {},
     "output_type": "execute_result"
    }
   ],
   "source": [
    "str1.index(\"@\")"
   ]
  },
  {
   "cell_type": "code",
   "execution_count": 215,
   "id": "7aa67b5b",
   "metadata": {},
   "outputs": [
    {
     "data": {
      "text/plain": [
       "'shrama'"
      ]
     },
     "execution_count": 215,
     "metadata": {},
     "output_type": "execute_result"
    }
   ],
   "source": [
    "s_n=str1[str1.index(\".\")+1:str1.index(\"@\")]\n",
    "s_n"
   ]
  },
  {
   "cell_type": "code",
   "execution_count": 216,
   "id": "4bbece1d",
   "metadata": {},
   "outputs": [
    {
     "data": {
      "text/plain": [
       "19"
      ]
     },
     "execution_count": 216,
     "metadata": {},
     "output_type": "execute_result"
    }
   ],
   "source": [
    "str1.index(\".\",str1.index(\".\")+1)"
   ]
  },
  {
   "cell_type": "code",
   "execution_count": 217,
   "id": "ab2bbabc",
   "metadata": {
    "scrolled": true
   },
   "outputs": [
    {
     "data": {
      "text/plain": [
       "'mumbai'"
      ]
     },
     "execution_count": 217,
     "metadata": {},
     "output_type": "execute_result"
    }
   ],
   "source": [
    "t_n=str1[str1.index(\"@\")+1:str1.index(\".\",str1.index(\".\")+1)]\n",
    "t_n"
   ]
  },
  {
   "cell_type": "code",
   "execution_count": 218,
   "id": "7a6279e1",
   "metadata": {},
   "outputs": [
    {
     "data": {
      "text/plain": [
       "{'f_n': 'rohit', 's_n': 'shrama', 't_n': 'mumbai'}"
      ]
     },
     "execution_count": 218,
     "metadata": {},
     "output_type": "execute_result"
    }
   ],
   "source": [
    "d2[\"f_n\"]=f_n\n",
    "d2[\"s_n\"]=s_n\n",
    "d2[\"t_n\"]=t_n\n",
    "d2"
   ]
  },
  {
   "cell_type": "code",
   "execution_count": 219,
   "id": "b0ede2fe",
   "metadata": {},
   "outputs": [
    {
     "data": {
      "text/plain": [
       "'kl'"
      ]
     },
     "execution_count": 219,
     "metadata": {},
     "output_type": "execute_result"
    }
   ],
   "source": [
    "d3={}\n",
    "s11=\"kl.rahul@lucknow.com\"\n",
    "f_n=s11[:s11.index(\".\")]\n",
    "f_n"
   ]
  },
  {
   "cell_type": "code",
   "execution_count": 220,
   "id": "359b8fdc",
   "metadata": {},
   "outputs": [
    {
     "data": {
      "text/plain": [
       "2"
      ]
     },
     "execution_count": 220,
     "metadata": {},
     "output_type": "execute_result"
    }
   ],
   "source": [
    "s11.index(\".\")"
   ]
  },
  {
   "cell_type": "code",
   "execution_count": 221,
   "id": "97d1b4c4",
   "metadata": {},
   "outputs": [
    {
     "data": {
      "text/plain": [
       "8"
      ]
     },
     "execution_count": 221,
     "metadata": {},
     "output_type": "execute_result"
    }
   ],
   "source": [
    "s11.index(\"@\")"
   ]
  },
  {
   "cell_type": "code",
   "execution_count": 222,
   "id": "71d76c0b",
   "metadata": {},
   "outputs": [
    {
     "data": {
      "text/plain": [
       "'rahul'"
      ]
     },
     "execution_count": 222,
     "metadata": {},
     "output_type": "execute_result"
    }
   ],
   "source": [
    "s_n=s11[s11.index(\".\")+1:s11.index(\"@\")]\n",
    "s_n"
   ]
  },
  {
   "cell_type": "code",
   "execution_count": 223,
   "id": "85c30fcf",
   "metadata": {},
   "outputs": [
    {
     "data": {
      "text/plain": [
       "16"
      ]
     },
     "execution_count": 223,
     "metadata": {},
     "output_type": "execute_result"
    }
   ],
   "source": [
    "s11.index(\".\",s11.index(\".\")+1)"
   ]
  },
  {
   "cell_type": "code",
   "execution_count": 224,
   "id": "a33cfff7",
   "metadata": {},
   "outputs": [
    {
     "data": {
      "text/plain": [
       "'lucknow'"
      ]
     },
     "execution_count": 224,
     "metadata": {},
     "output_type": "execute_result"
    }
   ],
   "source": [
    "t_n=s11[s11.index(\"@\")+1:s11.index(\".\",s11.index(\".\")+1)]\n",
    "t_n"
   ]
  },
  {
   "cell_type": "code",
   "execution_count": 225,
   "id": "6e4d32bc",
   "metadata": {},
   "outputs": [
    {
     "data": {
      "text/plain": [
       "{'f_n': 'kl', 's_n': 'rahul', 't_n': 'lucknow'}"
      ]
     },
     "execution_count": 225,
     "metadata": {},
     "output_type": "execute_result"
    }
   ],
   "source": [
    "d3[\"f_n\"]=f_n\n",
    "d3[\"s_n\"]=s_n\n",
    "d3[\"t_n\"]=t_n\n",
    "d3"
   ]
  },
  {
   "cell_type": "code",
   "execution_count": 231,
   "id": "b7a10b37",
   "metadata": {},
   "outputs": [],
   "source": [
    "d4[\"f_n\"]=list(d1.values())\n",
    "d4[\"s_n\"]=list(d2.values())\n",
    "d4[\"t_n\"]=list(d3.values())"
   ]
  },
  {
   "cell_type": "code",
   "execution_count": 232,
   "id": "71ac9882",
   "metadata": {},
   "outputs": [
    {
     "data": {
      "text/plain": [
       "{'f_n': ['virat', 'kohli', 'blr'],\n",
       " 's_n': ['rohit', 'shrama', 'mumbai'],\n",
       " 't_n': ['kl', 'rahul', 'lucknow']}"
      ]
     },
     "execution_count": 232,
     "metadata": {},
     "output_type": "execute_result"
    }
   ],
   "source": [
    "d4"
   ]
  },
  {
   "cell_type": "code",
   "execution_count": 98,
   "id": "cbe8e282",
   "metadata": {},
   "outputs": [
    {
     "data": {
      "text/plain": [
       "{'can': 4, 'you': 2, 'canner': 2, 'able': 1, 'to': 1}"
      ]
     },
     "execution_count": 98,
     "metadata": {},
     "output_type": "execute_result"
    }
   ],
   "source": [
    "#words-frequency\n",
    "str11=\"can can you canner can you able to can canner\"\n",
    "#{\"can\":4,\"you\":2,\"canner\":2,\"able\":1,\"to\":1}\n",
    "d1={}\n",
    "l11=str11.split(\" \")\n",
    "l11\n",
    "count=0\n",
    "for i in l11:\n",
    "    #print(i)\n",
    "    d1[i]=l11.count(i)\n",
    "d1"
   ]
  },
  {
   "cell_type": "code",
   "execution_count": 99,
   "id": "5147d311",
   "metadata": {},
   "outputs": [
    {
     "data": {
      "text/plain": [
       "['can', 'can', 'you', 'canner', 'can', 'you', 'able', 'to', 'can', 'canner']"
      ]
     },
     "execution_count": 99,
     "metadata": {},
     "output_type": "execute_result"
    }
   ],
   "source": [
    "str11=\"can can you canner can you able to can canner\"\n",
    "str11.split()"
   ]
  },
  {
   "cell_type": "code",
   "execution_count": 100,
   "id": "ee5bd122",
   "metadata": {},
   "outputs": [
    {
     "data": {
      "text/plain": [
       "4"
      ]
     },
     "execution_count": 100,
     "metadata": {},
     "output_type": "execute_result"
    }
   ],
   "source": [
    "l11.count(\"can\")"
   ]
  },
  {
   "cell_type": "code",
   "execution_count": 233,
   "id": "3fa86384",
   "metadata": {},
   "outputs": [
    {
     "data": {
      "text/plain": [
       "{'a': 70, 'b': 130, 'c': 240}"
      ]
     },
     "execution_count": 233,
     "metadata": {},
     "output_type": "execute_result"
    }
   ],
   "source": [
    "d111={\"a\":20,\"b\":30,\"c\":40}\n",
    "d222={\"a\":50,\"b\":100,\"c\":200}\n",
    "#o/p{\"a\":70,\"b\":130,\"c\":240}\n",
    "d3={}\n",
    "if len(d111)==len(d222):\n",
    "        for i in d111:\n",
    "            d3[i]=d111[i]+d222[i]\n",
    "d3"
   ]
  },
  {
   "cell_type": "code",
   "execution_count": 234,
   "id": "f55c2548",
   "metadata": {},
   "outputs": [
    {
     "data": {
      "text/plain": [
       "{'a': 20, 'b': 30, 'c': 40, 'd': 500}"
      ]
     },
     "execution_count": 234,
     "metadata": {},
     "output_type": "execute_result"
    }
   ],
   "source": [
    "d111={\"a\":20,\"b\":30,\"c\":40,\"d\":500}\n",
    "d222={\"a\":50,\"b\":100,\"c\":200}\n",
    "d3={}\n",
    "if len(d111)==len(d222):\n",
    "        for i in d111:\n",
    "            d3[i]=d111[i]+d222[i]\n",
    "else: len(d111)>len(d222)  \n",
    "for i in d111:\n",
    "    \n",
    "    #d3[i]=d111[i]+\n",
    "    d3[i]=d111[i]\n",
    "        \n",
    "d3 "
   ]
  },
  {
   "cell_type": "markdown",
   "id": "e03c536e",
   "metadata": {},
   "source": [
    "$clear-copy$"
   ]
  },
  {
   "cell_type": "code",
   "execution_count": 8,
   "id": "8a7c8182",
   "metadata": {},
   "outputs": [
    {
     "name": "stdout",
     "output_type": "stream",
     "text": [
      "{}\n",
      "{'a': 20, 'b': 30, 'c': 40}\n"
     ]
    }
   ],
   "source": [
    "d1={\"a\":20,\"b\":30,\"c\":40}\n",
    "d2={\"d\":30,\"f\":40,\"e\":50}\n",
    "d2=d1.copy()\n",
    "d1.clear()\n",
    "print(d1)\n",
    "print(d2)"
   ]
  },
  {
   "cell_type": "markdown",
   "id": "01614a3f",
   "metadata": {},
   "source": [
    "$pop-popitem-del$"
   ]
  },
  {
   "cell_type": "code",
   "execution_count": null,
   "id": "5c60eae2",
   "metadata": {},
   "outputs": [],
   "source": [
    "#POP-will remove  specified item and return value\n",
    "#popitem()will remove last item and returns the key-value\n",
    "#del will delete the item by providing key/dictionary"
   ]
  },
  {
   "cell_type": "code",
   "execution_count": 16,
   "id": "98493e57",
   "metadata": {},
   "outputs": [
    {
     "data": {
      "text/plain": [
       "40"
      ]
     },
     "execution_count": 16,
     "metadata": {},
     "output_type": "execute_result"
    }
   ],
   "source": [
    "d1={\"a\":20,\"b\":30,\"c\":40}\n",
    "d2={\"d\":30,\"f\":40,\"e\":50}\n",
    "d1.pop(\"c\")"
   ]
  },
  {
   "cell_type": "code",
   "execution_count": 17,
   "id": "6d09a649",
   "metadata": {
    "scrolled": true
   },
   "outputs": [
    {
     "data": {
      "text/plain": [
       "('b', 30)"
      ]
     },
     "execution_count": 17,
     "metadata": {},
     "output_type": "execute_result"
    }
   ],
   "source": [
    "d1.popitem()"
   ]
  },
  {
   "cell_type": "code",
   "execution_count": 26,
   "id": "9afc2c74",
   "metadata": {},
   "outputs": [],
   "source": [
    "del d2[\"e\"]"
   ]
  },
  {
   "cell_type": "code",
   "execution_count": 27,
   "id": "eb6eda75",
   "metadata": {},
   "outputs": [
    {
     "data": {
      "text/plain": [
       "{'d': 30, 'f': 40}"
      ]
     },
     "execution_count": 27,
     "metadata": {},
     "output_type": "execute_result"
    }
   ],
   "source": [
    "d2"
   ]
  },
  {
   "cell_type": "code",
   "execution_count": 23,
   "id": "7919645c",
   "metadata": {},
   "outputs": [],
   "source": [
    "d1={\"a\":20,\"b\":30,\"c\":40}"
   ]
  },
  {
   "cell_type": "code",
   "execution_count": 25,
   "id": "8e8361d8",
   "metadata": {},
   "outputs": [],
   "source": [
    "del(d1)"
   ]
  },
  {
   "cell_type": "code",
   "execution_count": 21,
   "id": "67dc9a24",
   "metadata": {},
   "outputs": [],
   "source": [
    "l1=[10,20,30,40]\n",
    "del l1[1]"
   ]
  },
  {
   "cell_type": "code",
   "execution_count": 22,
   "id": "c8713291",
   "metadata": {},
   "outputs": [
    {
     "data": {
      "text/plain": [
       "[10, 30, 40]"
      ]
     },
     "execution_count": 22,
     "metadata": {},
     "output_type": "execute_result"
    }
   ],
   "source": [
    "l1"
   ]
  },
  {
   "cell_type": "code",
   "execution_count": null,
   "id": "1e212a55",
   "metadata": {},
   "outputs": [],
   "source": [
    "-items/keys/values\n",
    "-if i provide two lists how to make dictionary\n",
    "-if i provide dictionary you know how to generate list\n",
    "-create an empty string/list/dictionary\n",
    "-counter program\n",
    "-summ\n",
    "-function\n",
    "-pop/popitem/del\n",
    "-copy/clear"
   ]
  },
  {
   "cell_type": "markdown",
   "id": "5962665c",
   "metadata": {},
   "source": [
    "$fromkeys-get$"
   ]
  },
  {
   "cell_type": "code",
   "execution_count": 30,
   "id": "e54debaa",
   "metadata": {},
   "outputs": [
    {
     "data": {
      "text/plain": [
       "40"
      ]
     },
     "execution_count": 30,
     "metadata": {},
     "output_type": "execute_result"
    }
   ],
   "source": [
    "d3={\"a\":20,\"b\":30,\"c\":40}\n",
    "d4={\"d\":30,\"f\":40,\"e\":50}\n",
    "d3.get(\"c\") "
   ]
  },
  {
   "cell_type": "code",
   "execution_count": 32,
   "id": "2f61fee9",
   "metadata": {},
   "outputs": [],
   "source": [
    "d3.get(\"z\")    #no error default \n",
    "#how many ways we can do\n",
    "#what output it is showing\n",
    "#what is the difference\n",
    "#we can access the values by providing key as index and key in get method\n",
    "#but if the key is not present in dictionary ,key as index will give key error\n",
    "#get method will not return anything and no error"
   ]
  },
  {
   "cell_type": "code",
   "execution_count": 43,
   "id": "58389de9",
   "metadata": {},
   "outputs": [],
   "source": [
    "d1={\"raheem\"}\n",
    "d2={}.fromkeys(\"raheem\")"
   ]
  },
  {
   "cell_type": "code",
   "execution_count": 44,
   "id": "ff4f3962",
   "metadata": {},
   "outputs": [
    {
     "data": {
      "text/plain": [
       "{'r': None, 'a': None, 'h': None, 'e': None, 'm': None}"
      ]
     },
     "execution_count": 44,
     "metadata": {},
     "output_type": "execute_result"
    }
   ],
   "source": [
    "d2"
   ]
  },
  {
   "cell_type": "markdown",
   "id": "8900ddc0",
   "metadata": {},
   "source": [
    "$setasdefault$"
   ]
  },
  {
   "cell_type": "code",
   "execution_count": 45,
   "id": "77a2c703",
   "metadata": {},
   "outputs": [],
   "source": [
    "d3={\"a\":20,\"b\":30,\"c\":40}\n",
    "d4={\"d\":30,\"f\":40,\"e\":50}\n",
    "d3.setdefault(\"d\")"
   ]
  },
  {
   "cell_type": "code",
   "execution_count": 46,
   "id": "9dd20317",
   "metadata": {},
   "outputs": [
    {
     "data": {
      "text/plain": [
       "{'a': 20, 'b': 30, 'c': 40, 'd': None}"
      ]
     },
     "execution_count": 46,
     "metadata": {},
     "output_type": "execute_result"
    }
   ],
   "source": [
    "d3"
   ]
  },
  {
   "cell_type": "code",
   "execution_count": 47,
   "id": "7447269e",
   "metadata": {},
   "outputs": [
    {
     "data": {
      "text/plain": [
       "'ds'"
      ]
     },
     "execution_count": 47,
     "metadata": {},
     "output_type": "execute_result"
    }
   ],
   "source": [
    "d5={}\n",
    "d5.setdefault(\"nareshit\",\"ds\")"
   ]
  },
  {
   "cell_type": "code",
   "execution_count": 48,
   "id": "1becc6ff",
   "metadata": {},
   "outputs": [
    {
     "data": {
      "text/plain": [
       "{'nareshit': 'ds'}"
      ]
     },
     "execution_count": 48,
     "metadata": {},
     "output_type": "execute_result"
    }
   ],
   "source": [
    "d5"
   ]
  },
  {
   "cell_type": "code",
   "execution_count": 50,
   "id": "5cdb875e",
   "metadata": {},
   "outputs": [
    {
     "ename": "KeyError",
     "evalue": "'city'",
     "output_type": "error",
     "traceback": [
      "\u001b[1;31m---------------------------------------------------------------------------\u001b[0m",
      "\u001b[1;31mKeyError\u001b[0m                                  Traceback (most recent call last)",
      "Cell \u001b[1;32mIn[50], line 3\u001b[0m\n\u001b[0;32m      1\u001b[0m d2\u001b[38;5;241m=\u001b[39m{}\n\u001b[0;32m      2\u001b[0m d2[\u001b[38;5;124m\"\u001b[39m\u001b[38;5;124mnareshit\u001b[39m\u001b[38;5;124m\"\u001b[39m]\u001b[38;5;241m=\u001b[39m\u001b[38;5;124m\"\u001b[39m\u001b[38;5;124mds\u001b[39m\u001b[38;5;124m\"\u001b[39m\n\u001b[1;32m----> 3\u001b[0m d2[\u001b[38;5;124m\"\u001b[39m\u001b[38;5;124mcity\u001b[39m\u001b[38;5;124m\"\u001b[39m]\n",
      "\u001b[1;31mKeyError\u001b[0m: 'city'"
     ]
    }
   ],
   "source": [
    "d2={}\n",
    "d2[\"nareshit\"]=\"ds\"\n",
    "d2[\"city\"]"
   ]
  },
  {
   "cell_type": "code",
   "execution_count": 51,
   "id": "e1a81a80",
   "metadata": {},
   "outputs": [
    {
     "data": {
      "text/plain": [
       "{'nareshit': ['ds'], 'city': None}"
      ]
     },
     "execution_count": 51,
     "metadata": {},
     "output_type": "execute_result"
    }
   ],
   "source": [
    "d6={}\n",
    "d6.setdefault(\"nareshit\",\"ds\")\n",
    "d6.setdefault(\"city\")\n",
    "d6.setdefault(\"nareshit\",[\"ds\",\"mlops\",\"de\"])\n",
    "d6[\"nareshit\"]=[\"ds\"]\n",
    "d6.setdefault(\"city\",\"hyd\")\n",
    "d6"
   ]
  },
  {
   "cell_type": "code",
   "execution_count": 63,
   "id": "9e7cad88",
   "metadata": {},
   "outputs": [],
   "source": [
    "d3={\"a\":20,\"b\":30,\"c\":40}\n",
    "d4={\"a\":30,\"f\":40,\"e\":50}"
   ]
  },
  {
   "cell_type": "code",
   "execution_count": 64,
   "id": "1b906d95",
   "metadata": {},
   "outputs": [],
   "source": [
    "d3.update(d4)"
   ]
  },
  {
   "cell_type": "code",
   "execution_count": 65,
   "id": "afc55164",
   "metadata": {},
   "outputs": [
    {
     "data": {
      "text/plain": [
       "{'a': 30, 'b': 30, 'c': 40, 'f': 40, 'e': 50}"
      ]
     },
     "execution_count": 65,
     "metadata": {},
     "output_type": "execute_result"
    }
   ],
   "source": [
    "d3"
   ]
  },
  {
   "cell_type": "code",
   "execution_count": 66,
   "id": "a056cda7",
   "metadata": {},
   "outputs": [],
   "source": [
    "d4.update(d3)"
   ]
  },
  {
   "cell_type": "code",
   "execution_count": 67,
   "id": "a3199592",
   "metadata": {},
   "outputs": [
    {
     "data": {
      "text/plain": [
       "{'a': 30, 'f': 40, 'e': 50, 'b': 30, 'c': 40}"
      ]
     },
     "execution_count": 67,
     "metadata": {},
     "output_type": "execute_result"
    }
   ],
   "source": [
    "d4"
   ]
  },
  {
   "cell_type": "code",
   "execution_count": 69,
   "id": "64e6b57a",
   "metadata": {},
   "outputs": [
    {
     "data": {
      "text/plain": [
       "{1: 2, 2: 3}"
      ]
     },
     "execution_count": 69,
     "metadata": {},
     "output_type": "execute_result"
    }
   ],
   "source": [
    "t1=[(1,2),(2,3)]\n",
    "d1={}\n",
    "d1.update(t1)\n",
    "d1"
   ]
  },
  {
   "cell_type": "code",
   "execution_count": null,
   "id": "b7911b03",
   "metadata": {},
   "outputs": [],
   "source": []
  }
 ],
 "metadata": {
  "kernelspec": {
   "display_name": "Python 3 (ipykernel)",
   "language": "python",
   "name": "python3"
  },
  "language_info": {
   "codemirror_mode": {
    "name": "ipython",
    "version": 3
   },
   "file_extension": ".py",
   "mimetype": "text/x-python",
   "name": "python",
   "nbconvert_exporter": "python",
   "pygments_lexer": "ipython3",
   "version": "3.11.5"
  }
 },
 "nbformat": 4,
 "nbformat_minor": 5
}
