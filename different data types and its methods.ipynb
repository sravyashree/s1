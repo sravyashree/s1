{
 "cells": [
  {
   "cell_type": "markdown",
   "id": "29a5267c",
   "metadata": {},
   "source": [
    "$string-methods$"
   ]
  },
  {
   "cell_type": "code",
   "execution_count": null,
   "id": "7434b433",
   "metadata": {},
   "outputs": [],
   "source": [
    "capitalize\n",
    "casefold\n",
    "count\n",
    "endswith\n",
    "find\n",
    "index\n",
    "isalnum\n",
    "isalpha\n",
    "isascii\n",
    "islower\n",
    "isnumeric\n",
    "isupper\n",
    "lower\n",
    "lstrip\n",
    "removeprefix\n",
    "removesuffix\n",
    "replace\n",
    "split\n",
    "startswith\n",
    "strip\n",
    "upper"
   ]
  },
  {
   "cell_type": "code",
   "execution_count": 38,
   "id": "b550c268",
   "metadata": {},
   "outputs": [
    {
     "name": "stdout",
     "output_type": "stream",
     "text": [
      " sra12a  \n",
      " sra12a  \n",
      "1\n",
      "False\n",
      "4\n",
      "6\n",
      "False\n",
      "False\n",
      "True\n",
      "True\n",
      "False\n",
      "False\n",
      " sra12a  \n",
      "sra12a  \n",
      "ra12a  \n",
      " sra12a\n",
      " Sra12a  \n",
      "['sra12a']\n",
      "sra12a\n",
      " SRA12A  \n"
     ]
    }
   ],
   "source": [
    "str1=\" sra12a  \"\n",
    "print(str1.capitalize())\n",
    "print(str1.casefold())\n",
    "print(str1.count(\"s\"))\n",
    "print(str1.endswith(\"   \"))\n",
    "print(str1.find(\"1\"))\n",
    "print(str1.index(\"a\",str1.index(\"a\")+1))\n",
    "print(str1.isalnum())\n",
    "print(str1.isalpha())\n",
    "print(str1.isascii())\n",
    "print(str1.islower())\n",
    "print(str1.isnumeric())\n",
    "print(str1.isupper())\n",
    "print(str1.lower())\n",
    "print(str1.lstrip())\n",
    "print(str1.removeprefix(\" s\"))\n",
    "print(str1.removesuffix(\"  \"))\n",
    "print(str1.replace(\"s\",\"S\"))\n",
    "print(str1.split())\n",
    "print(str1.strip())\n",
    "print(str1.upper())"
   ]
  },
  {
   "cell_type": "code",
   "execution_count": 18,
   "id": "bd058348",
   "metadata": {},
   "outputs": [
    {
     "data": {
      "text/plain": [
       "False"
      ]
     },
     "execution_count": 18,
     "metadata": {},
     "output_type": "execute_result"
    }
   ],
   "source": [
    "str1=\"srav1\"\n",
    "str1.isalpha()"
   ]
  },
  {
   "cell_type": "code",
   "execution_count": 42,
   "id": "24c4f008",
   "metadata": {},
   "outputs": [
    {
     "data": {
      "text/plain": [
       "True"
      ]
     },
     "execution_count": 42,
     "metadata": {},
     "output_type": "execute_result"
    }
   ],
   "source": [
    "str1=\"1\"\n",
    "str1.isnumeric()"
   ]
  }
 ],
 "metadata": {
  "kernelspec": {
   "display_name": "Python 3 (ipykernel)",
   "language": "python",
   "name": "python3"
  },
  "language_info": {
   "codemirror_mode": {
    "name": "ipython",
    "version": 3
   },
   "file_extension": ".py",
   "mimetype": "text/x-python",
   "name": "python",
   "nbconvert_exporter": "python",
   "pygments_lexer": "ipython3",
   "version": "3.11.5"
  }
 },
 "nbformat": 4,
 "nbformat_minor": 5
}
