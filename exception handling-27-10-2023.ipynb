{
 "cells": [
  {
   "cell_type": "code",
   "execution_count": 1,
   "id": "dc4fa0b9",
   "metadata": {},
   "outputs": [
    {
     "name": "stdout",
     "output_type": "stream",
     "text": [
      "enter a number1:199\n",
      "enter a number2:299\n",
      "498\n"
     ]
    }
   ],
   "source": [
    "num1=eval(input(\"enter a number1:\"))\n",
    "num2=eval(input(\"enter a number2:\"))\n",
    "add=num1+num2\n",
    "print(add)"
   ]
  },
  {
   "cell_type": "code",
   "execution_count": 2,
   "id": "c2f64a18",
   "metadata": {},
   "outputs": [
    {
     "name": "stdout",
     "output_type": "stream",
     "text": [
      "enter a number1:123\n",
      "enter a number2:123\n"
     ]
    },
    {
     "ename": "NameError",
     "evalue": "name 'num3' is not defined",
     "output_type": "error",
     "traceback": [
      "\u001b[1;31m---------------------------------------------------------------------------\u001b[0m",
      "\u001b[1;31mNameError\u001b[0m                                 Traceback (most recent call last)",
      "Cell \u001b[1;32mIn[2], line 4\u001b[0m\n\u001b[0;32m      2\u001b[0m num1\u001b[38;5;241m=\u001b[39m\u001b[38;5;28meval\u001b[39m(\u001b[38;5;28minput\u001b[39m(\u001b[38;5;124m\"\u001b[39m\u001b[38;5;124menter a number1:\u001b[39m\u001b[38;5;124m\"\u001b[39m))\n\u001b[0;32m      3\u001b[0m num2\u001b[38;5;241m=\u001b[39m\u001b[38;5;28meval\u001b[39m(\u001b[38;5;28minput\u001b[39m(\u001b[38;5;124m\"\u001b[39m\u001b[38;5;124menter a number2:\u001b[39m\u001b[38;5;124m\"\u001b[39m))\n\u001b[1;32m----> 4\u001b[0m add\u001b[38;5;241m=\u001b[39mnum1\u001b[38;5;241m+\u001b[39mnum3\n\u001b[0;32m      5\u001b[0m \u001b[38;5;28mprint\u001b[39m(add)\n",
      "\u001b[1;31mNameError\u001b[0m: name 'num3' is not defined"
     ]
    }
   ],
   "source": [
    "#error1: name error:num3 is not defined\n",
    "num1=eval(input(\"enter a number1:\"))\n",
    "num2=eval(input(\"enter a number2:\"))\n",
    "add=num1+num3\n",
    "print(add)"
   ]
  },
  {
   "cell_type": "code",
   "execution_count": 3,
   "id": "c05563f5",
   "metadata": {},
   "outputs": [
    {
     "ename": "SyntaxError",
     "evalue": "'(' was never closed (94155841.py, line 2)",
     "output_type": "error",
     "traceback": [
      "\u001b[1;36m  Cell \u001b[1;32mIn[3], line 2\u001b[1;36m\u001b[0m\n\u001b[1;33m    num1=eval(input(\"enter a number1:\")\u001b[0m\n\u001b[1;37m             ^\u001b[0m\n\u001b[1;31mSyntaxError\u001b[0m\u001b[1;31m:\u001b[0m '(' was never closed\n"
     ]
    }
   ],
   "source": [
    "#error2:'(' was never closed----syntax error (brackets should be closed)\n",
    "num1=eval(input(\"enter a number1:\")\n",
    "num2=eval(input(\"enter a number2:\"))\n",
    "add=num1+num2\n",
    "print(add)"
   ]
  },
  {
   "cell_type": "code",
   "execution_count": 5,
   "id": "36c05498",
   "metadata": {},
   "outputs": [
    {
     "name": "stdout",
     "output_type": "stream",
     "text": [
      "enter a number1:100\n",
      "enter a number2:0\n"
     ]
    },
    {
     "ename": "ZeroDivisionError",
     "evalue": "division by zero",
     "output_type": "error",
     "traceback": [
      "\u001b[1;31m---------------------------------------------------------------------------\u001b[0m",
      "\u001b[1;31mZeroDivisionError\u001b[0m                         Traceback (most recent call last)",
      "Cell \u001b[1;32mIn[5], line 4\u001b[0m\n\u001b[0;32m      2\u001b[0m num1\u001b[38;5;241m=\u001b[39m\u001b[38;5;28meval\u001b[39m(\u001b[38;5;28minput\u001b[39m(\u001b[38;5;124m\"\u001b[39m\u001b[38;5;124menter a number1:\u001b[39m\u001b[38;5;124m\"\u001b[39m))\n\u001b[0;32m      3\u001b[0m num2\u001b[38;5;241m=\u001b[39m\u001b[38;5;28meval\u001b[39m(\u001b[38;5;28minput\u001b[39m(\u001b[38;5;124m\"\u001b[39m\u001b[38;5;124menter a number2:\u001b[39m\u001b[38;5;124m\"\u001b[39m))\n\u001b[1;32m----> 4\u001b[0m add\u001b[38;5;241m=\u001b[39mnum1\u001b[38;5;241m/\u001b[39mnum2\n\u001b[0;32m      5\u001b[0m \u001b[38;5;28mprint\u001b[39m(add)\n",
      "\u001b[1;31mZeroDivisionError\u001b[0m: division by zero"
     ]
    }
   ],
   "source": [
    "#error3:division by zero\n",
    "num1=eval(input(\"enter a number1:\"))\n",
    "num2=eval(input(\"enter a number2:\"))\n",
    "add=num1/num2\n",
    "print(add)\n"
   ]
  },
  {
   "cell_type": "code",
   "execution_count": 6,
   "id": "77caccf1",
   "metadata": {},
   "outputs": [
    {
     "name": "stdout",
     "output_type": "stream",
     "text": [
      "enter a number1:123\n",
      "enter a number2:34\n"
     ]
    },
    {
     "ename": "TypeError",
     "evalue": "unsupported operand type(s) for /: 'str' and 'int'",
     "output_type": "error",
     "traceback": [
      "\u001b[1;31m---------------------------------------------------------------------------\u001b[0m",
      "\u001b[1;31mTypeError\u001b[0m                                 Traceback (most recent call last)",
      "Cell \u001b[1;32mIn[6], line 4\u001b[0m\n\u001b[0;32m      2\u001b[0m num1\u001b[38;5;241m=\u001b[39m\u001b[38;5;28minput\u001b[39m(\u001b[38;5;124m\"\u001b[39m\u001b[38;5;124menter a number1:\u001b[39m\u001b[38;5;124m\"\u001b[39m)\n\u001b[0;32m      3\u001b[0m num2\u001b[38;5;241m=\u001b[39m\u001b[38;5;28meval\u001b[39m(\u001b[38;5;28minput\u001b[39m(\u001b[38;5;124m\"\u001b[39m\u001b[38;5;124menter a number2:\u001b[39m\u001b[38;5;124m\"\u001b[39m))\n\u001b[1;32m----> 4\u001b[0m add\u001b[38;5;241m=\u001b[39mnum1\u001b[38;5;241m/\u001b[39mnum2\n\u001b[0;32m      5\u001b[0m \u001b[38;5;28mprint\u001b[39m(add)\n",
      "\u001b[1;31mTypeError\u001b[0m: unsupported operand type(s) for /: 'str' and 'int'"
     ]
    }
   ],
   "source": [
    "#erroe4:unsupported operand type(s) for /: 'str' and 'int'\n",
    "num1=input(\"enter a number1:\")\n",
    "num2=eval(input(\"enter a number2:\"))\n",
    "add=num1/num2\n",
    "print(add)\n"
   ]
  },
  {
   "cell_type": "code",
   "execution_count": 7,
   "id": "2d4eafa8",
   "metadata": {},
   "outputs": [
    {
     "ename": "SyntaxError",
     "evalue": "Missing parentheses in call to 'print'. Did you mean print(...)? (1496823604.py, line 5)",
     "output_type": "error",
     "traceback": [
      "\u001b[1;36m  Cell \u001b[1;32mIn[7], line 5\u001b[1;36m\u001b[0m\n\u001b[1;33m    print add\u001b[0m\n\u001b[1;37m    ^\u001b[0m\n\u001b[1;31mSyntaxError\u001b[0m\u001b[1;31m:\u001b[0m Missing parentheses in call to 'print'. Did you mean print(...)?\n"
     ]
    }
   ],
   "source": [
    "#error5:Missing parentheses in call to 'print'. Did you mean print(...)?\n",
    "num1=eval(input(\"enter a number1:\"))\n",
    "num2=eval(input(\"enter a number2:\"))\n",
    "add=num1/num2\n",
    "print add\n"
   ]
  },
  {
   "cell_type": "code",
   "execution_count": 8,
   "id": "90378797",
   "metadata": {},
   "outputs": [
    {
     "name": "stdout",
     "output_type": "stream",
     "text": [
      "enter a number1:111\n",
      "enter a number2:132\n"
     ]
    },
    {
     "ename": "NameError",
     "evalue": "name 'Print' is not defined",
     "output_type": "error",
     "traceback": [
      "\u001b[1;31m---------------------------------------------------------------------------\u001b[0m",
      "\u001b[1;31mNameError\u001b[0m                                 Traceback (most recent call last)",
      "Cell \u001b[1;32mIn[8], line 5\u001b[0m\n\u001b[0;32m      3\u001b[0m num2\u001b[38;5;241m=\u001b[39m\u001b[38;5;28meval\u001b[39m(\u001b[38;5;28minput\u001b[39m(\u001b[38;5;124m\"\u001b[39m\u001b[38;5;124menter a number2:\u001b[39m\u001b[38;5;124m\"\u001b[39m))\n\u001b[0;32m      4\u001b[0m add\u001b[38;5;241m=\u001b[39mnum1\u001b[38;5;241m/\u001b[39mnum2\n\u001b[1;32m----> 5\u001b[0m Print(add)\n",
      "\u001b[1;31mNameError\u001b[0m: name 'Print' is not defined"
     ]
    }
   ],
   "source": [
    "#error6:name 'Print' is not defined\n",
    "num1=eval(input(\"enter a number1:\"))\n",
    "num2=eval(input(\"enter a number2:\"))\n",
    "add=num1/num2\n",
    "Print(add)\n"
   ]
  },
  {
   "cell_type": "code",
   "execution_count": null,
   "id": "404100e6",
   "metadata": {},
   "outputs": [],
   "source": [
    "###possible errors:----\n",
    "1)name error\n",
    "2)'(' was never closed----syntax error (brackets should be closed)\n",
    "3)zero division erroe:division by zero\n",
    "4)type error:unsupported operand type(s) for /: 'str' and 'int'\n",
    "5)Missing parentheses in call to 'print'. Did you mean print(...)?\n",
    "6)name 'Print' is not defined"
   ]
  },
  {
   "cell_type": "code",
   "execution_count": null,
   "id": "543c52ab",
   "metadata": {},
   "outputs": [],
   "source": [
    "#suppose you have written 200 line of code\n",
    "at 200 line u get error\n",
    "this error may impact nxt line code\n"
   ]
  },
  {
   "cell_type": "markdown",
   "id": "7e45f6e7",
   "metadata": {},
   "source": [
    "---exception handling"
   ]
  },
  {
   "cell_type": "code",
   "execution_count": null,
   "id": "8659efe8",
   "metadata": {},
   "outputs": [],
   "source": [
    "try except\n",
    "-there are two blocks\n",
    "-one try block\n",
    "-another is exception block\n",
    "-your code will be there in try block\n",
    "-error cappture will  happens in except block\n",
    "-indentation:space ###type(try:--enter)  \n",
    "-red color:space/indentation not mintained properly\n",
    "-indentation requires minimum 4 characters\n",
    "-:is there,indentation will be there"
   ]
  },
  {
   "cell_type": "code",
   "execution_count": 11,
   "id": "6a00513c",
   "metadata": {},
   "outputs": [
    {
     "name": "stdout",
     "output_type": "stream",
     "text": [
      "60\n"
     ]
    }
   ],
   "source": [
    "try:\n",
    "    num=10\n",
    "    num2=20\n",
    "    num3=30\n",
    "    add=num+num2+num3\n",
    "    print(add)\n",
    "except:\n",
    "    print(\"error is there,check code\")"
   ]
  },
  {
   "cell_type": "code",
   "execution_count": 13,
   "id": "fd1fe61b",
   "metadata": {},
   "outputs": [
    {
     "name": "stdout",
     "output_type": "stream",
     "text": [
      "0.5\n"
     ]
    }
   ],
   "source": [
    "#method1\n",
    "try:\n",
    "    num=10\n",
    "    num2=20\n",
    "    num3=30\n",
    "    add=num/num2\n",
    "    print(add)\n",
    "except:\n",
    "    print(\"error is there,check code\")"
   ]
  },
  {
   "cell_type": "code",
   "execution_count": 12,
   "id": "7c8d6a04",
   "metadata": {},
   "outputs": [
    {
     "name": "stdout",
     "output_type": "stream",
     "text": [
      "error is there,check code\n"
     ]
    }
   ],
   "source": [
    "#method1\n",
    "try:\n",
    "    num=10\n",
    "    num2=0\n",
    "    num3=30\n",
    "    add=num/num2   #10/0----zero\n",
    "    print(add)\n",
    "except:\n",
    "    print(\"error is there,check code\")"
   ]
  },
  {
   "cell_type": "code",
   "execution_count": 14,
   "id": "56948007",
   "metadata": {},
   "outputs": [
    {
     "name": "stdout",
     "output_type": "stream",
     "text": [
      "enter 1st number:1\n",
      "enter 2nd number:2\n",
      "enter 3rd number:3\n",
      "the average of three number 2.0\n"
     ]
    }
   ],
   "source": [
    "#wap ask the user to enter 3 numbers and find the average\n",
    "num1=eval(input(\"enter 1st number:\"))\n",
    "num2=eval(input(\"enter 2nd number:\"))\n",
    "num3=eval(input(\"enter 3rd number:\"))\n",
    "average=(num1+num2+num3)/3\n",
    "print(\"the average of three number\",average)"
   ]
  },
  {
   "cell_type": "code",
   "execution_count": 15,
   "id": "35ca9157",
   "metadata": {},
   "outputs": [
    {
     "name": "stdout",
     "output_type": "stream",
     "text": [
      "enter 1st number:20\n",
      "enter 2nd number:29\n",
      "enter 3rd number:34\n",
      "the average of three number 27.666666666666668\n"
     ]
    }
   ],
   "source": [
    "try:\n",
    "    num1=eval(input(\"enter 1st number:\"))\n",
    "    num2=eval(input(\"enter 2nd number:\"))\n",
    "    num3=eval(input(\"enter 3rd number:\"))\n",
    "    average=(num1+num2+num3)/3\n",
    "    print(\"the average of three number\",average)\n",
    "except:\n",
    "    print(\"check the code\")"
   ]
  },
  {
   "cell_type": "code",
   "execution_count": 18,
   "id": "a5b405a8",
   "metadata": {},
   "outputs": [
    {
     "name": "stdout",
     "output_type": "stream",
     "text": [
      "enter 1st number:2\n",
      "enter 2nd number:3\n",
      "enter 3rd number:4\n",
      "name 'num333' is not defined\n"
     ]
    }
   ],
   "source": [
    "try:\n",
    "    num1=eval(input(\"enter 1st number:\"))\n",
    "    num2=eval(input(\"enter 2nd number:\"))\n",
    "    num3=eval(input(\"enter 3rd number:\"))\n",
    "    average=(num1+num2+num333)/3\n",
    "    print(\"the average of three number\",average)\n",
    "except Exception as e:\n",
    "    print(e)\n",
    "#error1--name error"
   ]
  },
  {
   "cell_type": "code",
   "execution_count": 20,
   "id": "152051c5",
   "metadata": {},
   "outputs": [
    {
     "name": "stdout",
     "output_type": "stream",
     "text": [
      "enter 1st number:1\n",
      "enter 2nd number:2\n",
      "enter 3rd number:3\n",
      "division by zero\n"
     ]
    }
   ],
   "source": [
    "#error2--division error\n",
    "try:\n",
    "    num1=eval(input(\"enter 1st number:\"))\n",
    "    num2=eval(input(\"enter 2nd number:\"))\n",
    "    num3=eval(input(\"enter 3rd number:\"))\n",
    "    average=(num1+num2+num3)/0\n",
    "    print(\"the average of three number\",average)\n",
    "except Exception as e:\n",
    "    print(e)"
   ]
  },
  {
   "cell_type": "code",
   "execution_count": 22,
   "id": "f3ee64e0",
   "metadata": {},
   "outputs": [
    {
     "name": "stdout",
     "output_type": "stream",
     "text": [
      "enter a number:2\n",
      "the square of the given number is 4\n"
     ]
    }
   ],
   "source": [
    "#wap ask the user enter a number and find the square os the number\n",
    "try:\n",
    "    num1=eval(input(\"enter a number:\"))\n",
    "    square=num1*num1\n",
    "    print(\"the square of the given number is\",square)\n",
    "except Exception as e:\n",
    "    print(e)"
   ]
  },
  {
   "cell_type": "code",
   "execution_count": 24,
   "id": "bdb58749",
   "metadata": {},
   "outputs": [
    {
     "name": "stdout",
     "output_type": "stream",
     "text": [
      "enter a number:10\n",
      "the square of 10 is 100\n"
     ]
    }
   ],
   "source": [
    "num=eval(input(\"enter a number:\"))\n",
    "print(\"the square of {} is {}\".format(num,num*num))"
   ]
  },
  {
   "cell_type": "code",
   "execution_count": 25,
   "id": "d9f42141",
   "metadata": {},
   "outputs": [
    {
     "name": "stdout",
     "output_type": "stream",
     "text": [
      "enter a number:10\n",
      "the square of 10 is 100\n"
     ]
    }
   ],
   "source": [
    "try:\n",
    "    num=eval(input(\"enter a number:\"))\n",
    "    print(\"the square of {} is {}\".format(num,num*num))\n",
    "except Exception as e:\n",
    "    print(e)"
   ]
  },
  {
   "cell_type": "code",
   "execution_count": 28,
   "id": "c715f48d",
   "metadata": {},
   "outputs": [
    {
     "data": {
      "text/plain": [
       "(None, None, None)"
      ]
     },
     "execution_count": 28,
     "metadata": {},
     "output_type": "execute_result"
    }
   ],
   "source": [
    "import sys\n",
    "sys.exc_info()"
   ]
  },
  {
   "cell_type": "code",
   "execution_count": 31,
   "id": "fd5ea371",
   "metadata": {},
   "outputs": [
    {
     "name": "stdout",
     "output_type": "stream",
     "text": [
      "enter a number:10\n",
      "name 'num22' is not defined\n",
      "hello\n"
     ]
    }
   ],
   "source": [
    "try:\n",
    "    num=eval(input(\"enter a number:\"))\n",
    "    print(\"the square of {} is {}\".format(num,num22*num))\n",
    "except Exception as e:\n",
    "    print(e)        ##capture the error\n",
    "    print(\"hello\")  #hello"
   ]
  },
  {
   "cell_type": "code",
   "execution_count": 32,
   "id": "5ba2c907",
   "metadata": {},
   "outputs": [
    {
     "name": "stdout",
     "output_type": "stream",
     "text": [
      "enter a number:10\n",
      "hai\n",
      "name 'num22' is not defined\n",
      "hello\n"
     ]
    }
   ],
   "source": [
    "try:\n",
    "    num=eval(input(\"enter a number:\"))\n",
    "    print(\"the square of {} is {}\".format(num,num22*num))\n",
    "except Exception as e:\n",
    "    print(\"hai\")\n",
    "    print(e)        ##capture the error\n",
    "    print(\"hello\")  #hello        \n",
    "           ####### in exception block anything will be printed"
   ]
  },
  {
   "cell_type": "code",
   "execution_count": 33,
   "id": "251745ba",
   "metadata": {},
   "outputs": [
    {
     "name": "stdout",
     "output_type": "stream",
     "text": [
      "enter a number:10\n",
      "name 'num22' is not defined\n",
      "hello\n",
      "hello\n",
      "1\n",
      "2\n"
     ]
    }
   ],
   "source": [
    "try:\n",
    "    num=eval(input(\"enter a number:\"))\n",
    "    print(\"the square of {} is {}\".format(num,num22*num))\n",
    "except Exception as e:\n",
    "    print(e)        ##capture the error\n",
    "    print(\"hello\")  #hello\n",
    "    \n",
    "print(\"hello\")\n",
    "print(1)\n",
    "print(2)"
   ]
  },
  {
   "cell_type": "code",
   "execution_count": null,
   "id": "2b49e7c3",
   "metadata": {},
   "outputs": [],
   "source": [
    "-if ur code is with out error,try block will execute\n",
    "-if ur code has errors,it will redirect to except block\n",
    "-whatever you retrun inside except block that will retrun\n",
    "-try and except is always together\n",
    "-once try and except codes are complete,it will try to look if any other lines of code are there\n"
   ]
  }
 ],
 "metadata": {
  "kernelspec": {
   "display_name": "Python 3 (ipykernel)",
   "language": "python",
   "name": "python3"
  },
  "language_info": {
   "codemirror_mode": {
    "name": "ipython",
    "version": 3
   },
   "file_extension": ".py",
   "mimetype": "text/x-python",
   "name": "python",
   "nbconvert_exporter": "python",
   "pygments_lexer": "ipython3",
   "version": "3.11.5"
  }
 },
 "nbformat": 4,
 "nbformat_minor": 5
}
