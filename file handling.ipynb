{
 "cells": [
  {
   "cell_type": "code",
   "execution_count": 3,
   "id": "40f5f8f0",
   "metadata": {},
   "outputs": [],
   "source": [
    "str1=\"Santhanam, Jayendhran <jayendhran.ms@accenture.com>; Bhattacharjee, Sankalan <s.t.bhattacharjee@accenture.com>; Bansal, Vaishnavi <vaishnavi.a.bansal@accenture.com>; Chandra Shekhar, Pavuluri <p.a.chandra.shekhar@accenture.com>; J Doshi, Hiren <hiren.j.doshi@accenture.com>; Shimoga Prakash, Jeevan <j.shimoga.prakash@accenture.com>; Akhouri, Shreyash <shreyash.akhouri@accenture.com>; Nath, Nupanga <nupanga.nath@accenture.com>; Ponna, Ramesh <r.ponna@accenture.com>; Singhal, Aditya <aditya.d.singhal@accenture.com>; Gorai, Sumit <sumit.gorai@accenture.com>; Valdez, Mariele Dyan Francely <mariele.dyan.valdez@accenture.com>; Cancel, Abigail Kyle <abigail.kyle.cancel@accenture.com>; BONDALAKUNTA, POOJITHA <p.bondalakunta@accenture.com>; priyanka uppala, sai <sai.priyanka.uppala@accenture.com>; Nitin SHINDE, NIKHIL <nikhil.nitin.shinde@accenture.com>; Chidre, Swapna <swapna.chidre@accenture.com>; Sahu, Swastik <s.satyapragyan.sahu@accenture.com>; Sikka, Ankit <ankit.sikka@accenture.com>; Dara, Sai Madhukar <sai.madhukar.dara@accenture.com>; Pattanshetti, Sampreet <s.pattanshetti@accenture.com>; Sharma, Ayush <ayush.ad.sharma@accenture.com>; Latorena, Zairous Jay <zairous.jay.latorena@accenture.com>; Abhimanyu Pradhan, Roshankumar <r.abhimanyu.pradhan@accenture.com>; Jaiswal, Lehar <lehar.jaiswal@accenture.com>; Gupta, Retik <retik.gupta@accenture.com>; Satti, Phanindra Reddy <phanindra.r.satti@accenture.com>; Kumar, Manish <manish.dw.kumar@accenture.com>; Balakrishnan, Devi Priya <devi.p.balakrishnan@accenture.com>; M S, Roshni Priya <roshni.priya.m.s@accenture.com>; Cheerala, Vanaja <vanaja.cheerala@accenture.com>; G D, Chandrashekhar <chandrashekhar.g.d@accenture.com>; Nikhil Reddy, Madithati <m.nikhil.reddy@accenture.com>; Santos, Jeroshelle V. <jeroshelle.v.santos@accenture.com>; Milan, Gerald John <gerald.john.milan@accenture.com>; Gupta, Vivek <vivek.u.gupta@accenture.com>; Mandal, Sumit <s.sunilkumar.mandal@accenture.com>; Prakash Shukla, Ashok <ashok.prakash.shukla@accenture.com>; Naganathan, Siva <sivakumar.naganathan@accenture.com>; GAHLOT, NIKHIL <nikhil.gahlot@accenture.com>; Kanjilal, Sourav <s.a.kanti.kanjilal@accenture.com>; Nallagoni, Omkar <omkar.nallagoni@accenture.com>; Sahajan, Sandra <sandra.sahajan@accenture.com>; Nelluri, Chaitanya <chaitanya.nelluri@accenture.com>\""
   ]
  },
  {
   "cell_type": "code",
   "execution_count": 5,
   "id": "aedf04f8",
   "metadata": {},
   "outputs": [
    {
     "name": "stdout",
     "output_type": "stream",
     "text": [
      "['Santhanam, Jayendhran <jayendhran.ms@accenture.com>', ' Bhattacharjee, Sankalan <s.t.bhattacharjee@accenture.com>', ' Bansal, Vaishnavi <vaishnavi.a.bansal@accenture.com>', ' Chandra Shekhar, Pavuluri <p.a.chandra.shekhar@accenture.com>', ' J Doshi, Hiren <hiren.j.doshi@accenture.com>', ' Shimoga Prakash, Jeevan <j.shimoga.prakash@accenture.com>', ' Akhouri, Shreyash <shreyash.akhouri@accenture.com>', ' Nath, Nupanga <nupanga.nath@accenture.com>', ' Ponna, Ramesh <r.ponna@accenture.com>', ' Singhal, Aditya <aditya.d.singhal@accenture.com>', ' Gorai, Sumit <sumit.gorai@accenture.com>', ' Valdez, Mariele Dyan Francely <mariele.dyan.valdez@accenture.com>', ' Cancel, Abigail Kyle <abigail.kyle.cancel@accenture.com>', ' BONDALAKUNTA, POOJITHA <p.bondalakunta@accenture.com>', ' priyanka uppala, sai <sai.priyanka.uppala@accenture.com>', ' Nitin SHINDE, NIKHIL <nikhil.nitin.shinde@accenture.com>', ' Chidre, Swapna <swapna.chidre@accenture.com>', ' Sahu, Swastik <s.satyapragyan.sahu@accenture.com>', ' Sikka, Ankit <ankit.sikka@accenture.com>', ' Dara, Sai Madhukar <sai.madhukar.dara@accenture.com>', ' Pattanshetti, Sampreet <s.pattanshetti@accenture.com>', ' Sharma, Ayush <ayush.ad.sharma@accenture.com>', ' Latorena, Zairous Jay <zairous.jay.latorena@accenture.com>', ' Abhimanyu Pradhan, Roshankumar <r.abhimanyu.pradhan@accenture.com>', ' Jaiswal, Lehar <lehar.jaiswal@accenture.com>', ' Gupta, Retik <retik.gupta@accenture.com>', ' Satti, Phanindra Reddy <phanindra.r.satti@accenture.com>', ' Kumar, Manish <manish.dw.kumar@accenture.com>', ' Balakrishnan, Devi Priya <devi.p.balakrishnan@accenture.com>', ' M S, Roshni Priya <roshni.priya.m.s@accenture.com>', ' Cheerala, Vanaja <vanaja.cheerala@accenture.com>', ' G D, Chandrashekhar <chandrashekhar.g.d@accenture.com>', ' Nikhil Reddy, Madithati <m.nikhil.reddy@accenture.com>', ' Santos, Jeroshelle V. <jeroshelle.v.santos@accenture.com>', ' Milan, Gerald John <gerald.john.milan@accenture.com>', ' Gupta, Vivek <vivek.u.gupta@accenture.com>', ' Mandal, Sumit <s.sunilkumar.mandal@accenture.com>', ' Prakash Shukla, Ashok <ashok.prakash.shukla@accenture.com>', ' Naganathan, Siva <sivakumar.naganathan@accenture.com>', ' GAHLOT, NIKHIL <nikhil.gahlot@accenture.com>', ' Kanjilal, Sourav <s.a.kanti.kanjilal@accenture.com>', ' Nallagoni, Omkar <omkar.nallagoni@accenture.com>', ' Sahajan, Sandra <sandra.sahajan@accenture.com>', ' Nelluri, Chaitanya <chaitanya.nelluri@accenture.com>']\n",
      "['Santhanam', 'Bhattacharjee', 'Bansal', 'Chandra Shekhar', 'J Doshi', 'Shimoga Prakash', 'Akhouri', 'Nath', 'Ponna', 'Singhal', 'Gorai', 'Valdez', 'Cancel', 'BONDALAKUNTA', 'priyanka uppala', 'Nitin SHINDE', 'Chidre', 'Sahu', 'Sikka', 'Dara', 'Pattanshetti', 'Sharma', 'Latorena', 'Abhimanyu Pradhan', 'Jaiswal', 'Gupta', 'Satti', 'Kumar', 'Balakrishnan', 'M S', 'Cheerala', 'G D', 'Nikhil Reddy', 'Santos', 'Milan', 'Gupta', 'Mandal', 'Prakash Shukla', 'Naganathan', 'GAHLOT', 'Kanjilal', 'Nallagoni', 'Sahajan', 'Nelluri']\n",
      "['Jayendhran', 'Sankalan', 'Vaishnavi', 'Pavuluri', 'Hiren', 'Jeevan', 'Shreyash', 'Nupanga', 'Ramesh', 'Aditya', 'Sumit', 'Mariele Dyan Francely', 'Abigail Kyle', 'POOJITHA', 'sai', 'NIKHIL', 'Swapna', 'Swastik', 'Ankit', 'Sai Madhukar', 'Sampreet', 'Ayush', 'Zairous Jay', 'Roshankumar', 'Lehar', 'Retik', 'Phanindra Reddy', 'Manish', 'Devi Priya', 'Roshni Priya', 'Vanaja', 'Chandrashekhar', 'Madithati', 'Jeroshelle V.', 'Gerald John', 'Vivek', 'Sumit', 'Ashok', 'Siva', 'NIKHIL', 'Sourav', 'Omkar', 'Sandra', 'Chaitanya']\n",
      "['jayendhran.ms@accenture.com', 's.t.bhattacharjee@accenture.com', 'vaishnavi.a.bansal@accenture.com', 'p.a.chandra.shekhar@accenture.com', 'hiren.j.doshi@accenture.com', 'j.shimoga.prakash@accenture.com', 'shreyash.akhouri@accenture.com', 'nupanga.nath@accenture.com', 'r.ponna@accenture.com', 'aditya.d.singhal@accenture.com', 'sumit.gorai@accenture.com', 'mariele.dyan.valdez@accenture.com', 'abigail.kyle.cancel@accenture.com', 'p.bondalakunta@accenture.com', 'sai.priyanka.uppala@accenture.com', 'nikhil.nitin.shinde@accenture.com', 'swapna.chidre@accenture.com', 's.satyapragyan.sahu@accenture.com', 'ankit.sikka@accenture.com', 'sai.madhukar.dara@accenture.com', 's.pattanshetti@accenture.com', 'ayush.ad.sharma@accenture.com', 'zairous.jay.latorena@accenture.com', 'r.abhimanyu.pradhan@accenture.com', 'lehar.jaiswal@accenture.com', 'retik.gupta@accenture.com', 'phanindra.r.satti@accenture.com', 'manish.dw.kumar@accenture.com', 'devi.p.balakrishnan@accenture.com', 'roshni.priya.m.s@accenture.com', 'vanaja.cheerala@accenture.com', 'chandrashekhar.g.d@accenture.com', 'm.nikhil.reddy@accenture.com', 'jeroshelle.v.santos@accenture.com', 'gerald.john.milan@accenture.com', 'vivek.u.gupta@accenture.com', 's.sunilkumar.mandal@accenture.com', 'ashok.prakash.shukla@accenture.com', 'sivakumar.naganathan@accenture.com', 'nikhil.gahlot@accenture.com', 's.a.kanti.kanjilal@accenture.com', 'omkar.nallagoni@accenture.com', 'sandra.sahajan@accenture.com', 'chaitanya.nelluri@accenture.com']\n",
      "['accenture', 'accenture', 'accenture', 'accenture', 'accenture', 'accenture', 'accenture', 'accenture', 'accenture', 'accenture', 'accenture', 'accenture', 'accenture', 'accenture', 'accenture', 'accenture', 'accenture', 'accenture', 'accenture', 'accenture', 'accenture', 'accenture', 'accenture', 'accenture', 'accenture', 'accenture', 'accenture', 'accenture', 'accenture', 'accenture', 'accenture', 'accenture', 'accenture', 'accenture', 'accenture', 'accenture', 'accenture', 'accenture', 'accenture', 'accenture', 'accenture', 'accenture', 'accenture', 'accenture']\n"
     ]
    }
   ],
   "source": [
    "# file_path=\"emails.txt\"\n",
    "# file_path=\"mbox-short.txt\"\n",
    "# file=open(file_path,encoding=\"utf-8-sig\")\n",
    "str1=str1.split(\";\")\n",
    "print(str1)\n",
    "str1[0][:str1[0].index(\",\")]\n",
    "f_name=[]\n",
    "l_name=[]\n",
    "e_name=[]\n",
    "c_name=[]\n",
    "for i in range(len(str1)):\n",
    "    f_name.append(str1[i][:str1[i].index(\",\")].strip())\n",
    "    l_name.append(str1[i][str1[i].index(\",\")+1:str1[i].index(\"<\")].strip())\n",
    "    e_name.append(str1[i][str1[i].index(\"<\")+1:str1[i].index(\">\")].strip())\n",
    "    c_name.append(str1[i][str1[i].index(\"@\")+1:str1[i].index(\".com\")].strip())\n",
    "print(f_name)\n",
    "print(l_name)\n",
    "print(e_name)\n",
    "print(c_name)\n",
    "# for i in range(len(file_path)):\n",
    "#      f_n=[]\n",
    "# #      str1.index(\".\")\n",
    "#     f_n.append(str1[:str1.index(\",\")])\n",
    "# f_n\n",
    "# # str1.index(\"<\")\n",
    "# # s_n=print(str1[str1.index(\",\")+1:str1.index(\"<\")])\n",
    "# # s_n\n",
    "# str1.index(\"<\")\n",
    "# t_n=print(str1[str1.index(\"<\")+1:str1.index(\">\")])\n",
    "# t_n\n",
    "# str1.index(\"@\")\n",
    "# str1.index(\".\",str1.index(\".\")+1)\n",
    "# c_n=print(str1[str1.index(\"@\")+1:str1.index(\".\",str1.index(\".\")+1)])\n",
    "# c_n"
   ]
  }
 ],
 "metadata": {
  "kernelspec": {
   "display_name": "Python 3 (ipykernel)",
   "language": "python",
   "name": "python3"
  },
  "language_info": {
   "codemirror_mode": {
    "name": "ipython",
    "version": 3
   },
   "file_extension": ".py",
   "mimetype": "text/x-python",
   "name": "python",
   "nbconvert_exporter": "python",
   "pygments_lexer": "ipython3",
   "version": "3.11.5"
  }
 },
 "nbformat": 4,
 "nbformat_minor": 5
}
