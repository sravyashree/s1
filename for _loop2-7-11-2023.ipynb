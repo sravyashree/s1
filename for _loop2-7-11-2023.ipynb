{
 "cells": [
  {
   "cell_type": "code",
   "execution_count": 6,
   "id": "099081da",
   "metadata": {},
   "outputs": [
    {
     "name": "stdout",
     "output_type": "stream",
     "text": [
      "1\n",
      "3\n",
      "6\n",
      "10\n",
      "15\n",
      "21\n",
      "28\n",
      "36\n",
      "45\n",
      "55\n"
     ]
    }
   ],
   "source": [
    "#wap ask the user get the sum of ten natural number\n",
    "sum1=0\n",
    "for i in range(1,11):\n",
    "    sum1=sum1+i       #i=1   sum=0   sum=0+1=1\n",
    "    print(sum1)       #i=2  sum=1    sum=1+2=3\n",
    "    #0+1=1\n",
    "    #1+2=3\n",
    "    #3+3=6\n",
    "    #6+4=10\n",
    "    #10+5=15\n",
    "    #15+6=21\n",
    "    #(21)+(7)=28\n",
    "    #(sum1)+(i)"
   ]
  },
  {
   "cell_type": "code",
   "execution_count": 7,
   "id": "dcda862e",
   "metadata": {},
   "outputs": [
    {
     "name": "stdout",
     "output_type": "stream",
     "text": [
      "1\n",
      "3\n",
      "6\n",
      "10\n",
      "15\n",
      "21\n",
      "28\n",
      "36\n",
      "45\n",
      "55\n",
      "the sum of first 10 natural numbers is 55\n"
     ]
    }
   ],
   "source": [
    "sum1=0\n",
    "for i in range(1,11):\n",
    "    sum1=sum1+i       #i=1   sum=0   sum=0+1=1\n",
    "    print(sum1)       #i=2  sum=1    sum=1+2=3\n",
    "    #0+1=1\n",
    "    #1+2=3\n",
    "    #3+3=6\n",
    "    #6+4=10\n",
    "    #10+5=15\n",
    "    #15+6=21\n",
    "    #(21)+(7)=28\n",
    "    #(sum1)+(i)\n",
    "print(\"the sum of first 10 natural numbers is\",sum1)"
   ]
  },
  {
   "cell_type": "code",
   "execution_count": 8,
   "id": "27c7595e",
   "metadata": {},
   "outputs": [
    {
     "name": "stdout",
     "output_type": "stream",
     "text": [
      "0\n",
      "1\n",
      "2\n",
      "3\n",
      "4\n",
      "5\n",
      "6\n",
      "7\n",
      "8\n",
      "9\n"
     ]
    },
    {
     "data": {
      "text/plain": [
       "9"
      ]
     },
     "execution_count": 8,
     "metadata": {},
     "output_type": "execute_result"
    }
   ],
   "source": [
    "for i in range(10):\n",
    "    num=i\n",
    "    print(i)\n",
    "num"
   ]
  },
  {
   "cell_type": "markdown",
   "id": "eb8ee23c",
   "metadata": {},
   "source": [
    "$note$"
   ]
  },
  {
   "cell_type": "markdown",
   "id": "e66ed8fb",
   "metadata": {},
   "source": [
    "---whenever if unwant to implement counter prog\n",
    "---sum prog\n",
    "---intilalize the variable with zero\n",
    "---like:summ=0 or count=0\n",
    "---inside the loop based on the problem update the variable like:summ=summ+i or count=count+i\n",
    "---   :sum+=i   or count+=i"
   ]
  },
  {
   "cell_type": "code",
   "execution_count": 20,
   "id": "1dab5ab3",
   "metadata": {},
   "outputs": [
    {
     "name": "stdout",
     "output_type": "stream",
     "text": [
      "the given number21 is odd \n",
      "the given number 12 is even\n",
      "the given number 16 is even\n",
      "the given number19 is odd \n",
      "the given number15 is odd \n",
      "the even numbers are 2, the odd numbers are3\n"
     ]
    }
   ],
   "source": [
    "#wap ask the user print the given number is even or odd\n",
    "#you need to take the numbers between 10 to 30\n",
    "even_count1=0\n",
    "odd_count1=0\n",
    "import random\n",
    "for i in range(5):\n",
    "    num=random.randint(10,30)\n",
    "    if num%2==0:\n",
    "        print(\"the given number {} is even\".format(num))\n",
    "        even_count1=even_count1+1\n",
    "    else:\n",
    "        print(\"the given number{} is odd \".format(num))\n",
    "        odd_count1=odd_count1+1\n",
    "print(\"the even numbers are {}, the odd numbers are{}\".format(even_count1,odd_count1))"
   ]
  },
  {
   "cell_type": "code",
   "execution_count": 29,
   "id": "8b596362",
   "metadata": {},
   "outputs": [
    {
     "name": "stdout",
     "output_type": "stream",
     "text": [
      "67\n",
      "87\n",
      "89\n",
      "71\n",
      "99\n",
      "91\n",
      "59\n",
      "84\n",
      "the number of values more than 50 is 28\n"
     ]
    }
   ],
   "source": [
    "#wap ask the user take a number between 1 to 99\n",
    "#iterate the loop 10 times\n",
    "#count how many times a number is coming and greater than 50\n",
    "import random\n",
    "count_+=0\n",
    "\n",
    "for i in range(10):\n",
    "    num=random.randint(1,99)\n",
    "    if (num>50):\n",
    "        print(num)\n",
    "        count_+=1\n",
    "    \n",
    "print(\"the number of values more than 50 is\",count_)"
   ]
  },
  {
   "cell_type": "code",
   "execution_count": 33,
   "id": "74e37803",
   "metadata": {},
   "outputs": [
    {
     "name": "stdout",
     "output_type": "stream",
     "text": [
      "enter which number is divisors want to know:10\n",
      "10 is divisible by 1\n",
      "10 is divisible by 2\n",
      "10 is divisible by 5\n",
      "10 is divisible by 10\n",
      "the number of divisors are: 4\n",
      "the number of non divisors count is 6\n"
     ]
    }
   ],
   "source": [
    "#number of divisors program\n",
    "#10 is divisible by what numbers\n",
    "count=0\n",
    "nd_count=0\n",
    "num=eval(input(\"enter which number is divisors want to know:\"))\n",
    "for i in range(1,num+1):\n",
    "    if(num%i==0):\n",
    "        print(\"{} is divisible by {}\".format(num,i))\n",
    "        count=count+1\n",
    "    else:\n",
    "        nd_count=nd_count+1\n",
    "print(\"the number of divisors are:\",count)\n",
    "print(\"the number of non divisors count is\",nd_count)"
   ]
  },
  {
   "cell_type": "code",
   "execution_count": 36,
   "id": "42032b26",
   "metadata": {},
   "outputs": [
    {
     "name": "stdout",
     "output_type": "stream",
     "text": [
      "enter which number is divisors want to know:10\n",
      "10 is divisible by 1\n",
      "10 is divisible by 2\n",
      "10 is divisible by 5\n",
      "10 is divisible by 10\n",
      "the number of divisors are: 4\n",
      "the number of non divisors count is 6\n",
      "4 6\n"
     ]
    }
   ],
   "source": [
    "def div():\n",
    "    count=0\n",
    "    nd_count=0\n",
    "    num=eval(input(\"enter which number is divisors want to know:\"))\n",
    "    for i in range(1,num+1):\n",
    "        if(num%i==0):\n",
    "             print(\"{} is divisible by {}\".format(num,i))\n",
    "            count=count+1\n",
    "        else:\n",
    "            nd_count=nd_count+1\n",
    "    print(\"the number of divisors are:\",count)\n",
    "    print(\"the number of non divisors count is\",nd_count)\n",
    "    return(count,nd_count)\n",
    "val1,val2=div()\n",
    "print(val1,val2)"
   ]
  },
  {
   "cell_type": "code",
   "execution_count": 37,
   "id": "97459d57",
   "metadata": {},
   "outputs": [
    {
     "name": "stdout",
     "output_type": "stream",
     "text": [
      "enter which number is divisors want to know:10\n",
      "10 is divisible by 1\n",
      "10 is divisible by 2\n",
      "10 is divisible by 5\n",
      "10 is divisible by 10\n",
      "the number of divisors are: 4\n",
      "the number of non divisors count is 6\n"
     ]
    },
    {
     "data": {
      "text/plain": [
       "(4, 6)"
      ]
     },
     "execution_count": 37,
     "metadata": {},
     "output_type": "execute_result"
    }
   ],
   "source": [
    "div()"
   ]
  },
  {
   "cell_type": "markdown",
   "id": "d17343f5",
   "metadata": {},
   "source": [
    "$note$"
   ]
  },
  {
   "cell_type": "markdown",
   "id": "3d254a5b",
   "metadata": {},
   "source": [
    "--whenever if you want to implement counter program\n",
    "--intilaize counter inside the funtion only"
   ]
  },
  {
   "cell_type": "code",
   "execution_count": 47,
   "id": "834d5519",
   "metadata": {},
   "outputs": [],
   "source": [
    "def div1(num,count,nd_count,i):\n",
    "    for i in range(1,num+1):\n",
    "        if(num%i==0):\n",
    "            \n",
    "            print(\"{} is divisible by {}\".format(num,i))\n",
    "            count=count+1\n",
    "        else:\n",
    "            nd_count=nd_count+1"
   ]
  },
  {
   "cell_type": "code",
   "execution_count": 52,
   "id": "844dc52d",
   "metadata": {},
   "outputs": [
    {
     "ename": "NameError",
     "evalue": "name 'num3434' is not defined",
     "output_type": "error",
     "traceback": [
      "\u001b[1;31m---------------------------------------------------------------------------\u001b[0m",
      "\u001b[1;31mNameError\u001b[0m                                 Traceback (most recent call last)",
      "Cell \u001b[1;32mIn[52], line 1\u001b[0m\n\u001b[1;32m----> 1\u001b[0m div1(num3434,count43,nd_count43,i)\n",
      "\u001b[1;31mNameError\u001b[0m: name 'num3434' is not defined"
     ]
    }
   ],
   "source": [
    "div1(num3434,count43,nd_count43,i)"
   ]
  },
  {
   "cell_type": "code",
   "execution_count": 51,
   "id": "6d511b89",
   "metadata": {},
   "outputs": [
    {
     "name": "stdout",
     "output_type": "stream",
     "text": [
      "10 is divisible by 1\n",
      "10 is divisible by 2\n",
      "10 is divisible by 5\n",
      "10 is divisible by 10\n"
     ]
    }
   ],
   "source": [
    "div1(10,0,0,5)"
   ]
  },
  {
   "cell_type": "code",
   "execution_count": 15,
   "id": "88dfbde8",
   "metadata": {},
   "outputs": [
    {
     "name": "stdout",
     "output_type": "stream",
     "text": [
      "enter which number is divisors want to know:10\n",
      "10 is divisible by 1\n",
      "10 is divisible by 2\n",
      "10 is divisible by 5\n",
      "10 is divisible by 10\n",
      "the number of divisors are: 4\n",
      "the number of non divisors count is 6\n",
      "4 6\n"
     ]
    }
   ],
   "source": [
    "def cond(num,count,nd_count,i):\n",
    "    if(num%i==0):\n",
    "             print(\"{} is divisible by {}\".format(num,i))\n",
    "             count=count+1\n",
    "    else:\n",
    "            nd_count=nd_count+1\n",
    "    return(count,nd_count)\n",
    "def div():\n",
    "    count=0\n",
    "    nd_count=0\n",
    "    num=eval(input(\"enter which number is divisors want to know:\"))\n",
    "    for i in range(1,num+1):\n",
    "        count,nd_count=cond(num,count,nd_count,i)\n",
    "    print(\"the number of divisors are:\",count)\n",
    "    print(\"the number of non divisors count is\",nd_count)\n",
    "    return(count,nd_count)\n",
    "   \n",
    "val1,val2=div()\n",
    "print(val1,val2)"
   ]
  }
 ],
 "metadata": {
  "kernelspec": {
   "display_name": "Python 3 (ipykernel)",
   "language": "python",
   "name": "python3"
  },
  "language_info": {
   "codemirror_mode": {
    "name": "ipython",
    "version": 3
   },
   "file_extension": ".py",
   "mimetype": "text/x-python",
   "name": "python",
   "nbconvert_exporter": "python",
   "pygments_lexer": "ipython3",
   "version": "3.11.5"
  }
 },
 "nbformat": 4,
 "nbformat_minor": 5
}
