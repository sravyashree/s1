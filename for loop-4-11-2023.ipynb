{
 "cells": [
  {
   "cell_type": "markdown",
   "id": "5a6a2578",
   "metadata": {},
   "source": [
    "#loop\n",
    "  -for loop\n",
    "  -while loop\n"
   ]
  },
  {
   "cell_type": "markdown",
   "id": "97387660",
   "metadata": {},
   "source": [
    "for loop"
   ]
  },
  {
   "cell_type": "markdown",
   "id": "9090d969",
   "metadata": {},
   "source": [
    "-you will be in the loop\n",
    "-when u will enter into the loop\n",
    "-how much time u will stay in the loop\n",
    "-how u will come out of the loop"
   ]
  },
  {
   "cell_type": "code",
   "execution_count": null,
   "id": "24b9efaf",
   "metadata": {},
   "outputs": [],
   "source": [
    "-intialization\n",
    "-increment / decrement\n",
    "-condition to stop the loop"
   ]
  },
  {
   "cell_type": "code",
   "execution_count": null,
   "id": "d576a291",
   "metadata": {},
   "outputs": [],
   "source": [
    "# i want to print first 10 numbers\n",
    "# intial point:0\n",
    "#increment \n",
    "#condition=10\n",
    "i=0\n",
    "i=1\n",
    "i=2\n",
    "i=3\n",
    "i=4"
   ]
  },
  {
   "cell_type": "markdown",
   "id": "90825b5e",
   "metadata": {},
   "source": [
    "$pattern-1$"
   ]
  },
  {
   "cell_type": "code",
   "execution_count": null,
   "id": "2c873171",
   "metadata": {},
   "outputs": [],
   "source": [
    "for i in range(stop):\n",
    "-in the bracket if we have only single value that is consider as stop value\n",
    "-the default start value is=0\n",
    "-python index always start with :0\n",
    "-if direction sign is not mentioned : increment (+) sign\n",
    "-if direction is positive side then end =stop-1"
   ]
  },
  {
   "cell_type": "code",
   "execution_count": 1,
   "id": "35145f21",
   "metadata": {},
   "outputs": [
    {
     "name": "stdout",
     "output_type": "stream",
     "text": [
      "0\n",
      "1\n",
      "2\n",
      "3\n",
      "4\n",
      "5\n",
      "6\n",
      "7\n",
      "8\n",
      "9\n"
     ]
    }
   ],
   "source": [
    "for i in range(10):\n",
    "    print(i)\n",
    "    #start=0\n",
    "    #direct=+\n",
    "    #end=stop-1=(10-1)=9"
   ]
  },
  {
   "cell_type": "code",
   "execution_count": 2,
   "id": "35fab18a",
   "metadata": {},
   "outputs": [
    {
     "name": "stdout",
     "output_type": "stream",
     "text": [
      "0\n",
      "1\n",
      "2\n",
      "3\n",
      "4\n",
      "5\n",
      "6\n",
      "7\n",
      "8\n",
      "9\n",
      "10\n",
      "11\n",
      "12\n",
      "13\n",
      "14\n",
      "15\n",
      "16\n",
      "17\n",
      "18\n",
      "19\n"
     ]
    }
   ],
   "source": [
    "for i in range(20):\n",
    "    print(i)"
   ]
  },
  {
   "cell_type": "code",
   "execution_count": 3,
   "id": "3f743d1f",
   "metadata": {},
   "outputs": [
    {
     "name": "stdout",
     "output_type": "stream",
     "text": [
      "0\n",
      "1\n",
      "2\n"
     ]
    }
   ],
   "source": [
    "print(0)\n",
    "print(1)\n",
    "print(2)\n",
    "#generalised :print(i)"
   ]
  },
  {
   "cell_type": "code",
   "execution_count": null,
   "id": "264d1b36",
   "metadata": {},
   "outputs": [],
   "source": [
    "-intial\n",
    "-increment/decrement\n",
    "-condition\n",
    "for i in range(20)"
   ]
  },
  {
   "cell_type": "code",
   "execution_count": 4,
   "id": "2310089e",
   "metadata": {},
   "outputs": [
    {
     "name": "stdout",
     "output_type": "stream",
     "text": [
      "0 1 2 "
     ]
    }
   ],
   "source": [
    "print(0,end=\" \")\n",
    "print(1,end=\" \")\n",
    "print(2,end=\" \")"
   ]
  },
  {
   "cell_type": "code",
   "execution_count": 5,
   "id": "9aa85b71",
   "metadata": {},
   "outputs": [
    {
     "name": "stdout",
     "output_type": "stream",
     "text": [
      "0 1 2 3 4 5 6 7 8 9 10 11 12 13 14 15 16 17 18 19 "
     ]
    }
   ],
   "source": [
    "#generalised :\n",
    "for i in range(20):\n",
    "    print(i,end=\" \")"
   ]
  },
  {
   "cell_type": "markdown",
   "id": "f06901fe",
   "metadata": {},
   "source": [
    "$pattern-2$"
   ]
  },
  {
   "cell_type": "code",
   "execution_count": null,
   "id": "31ea77c4",
   "metadata": {},
   "outputs": [],
   "source": [
    "for i in range(start,stop)\n",
    "-start:start of the loop,intial point\n",
    "-direction sign not mentioned :+ve direction i.e.,increment\n",
    "-end=stop-1"
   ]
  },
  {
   "cell_type": "code",
   "execution_count": 6,
   "id": "7582c402",
   "metadata": {},
   "outputs": [
    {
     "name": "stdout",
     "output_type": "stream",
     "text": [
      "10 11 12 13 14 15 16 17 18 19 "
     ]
    }
   ],
   "source": [
    "for i in range(10,20):\n",
    "    print(i,end=\" \")"
   ]
  },
  {
   "cell_type": "markdown",
   "id": "660de284",
   "metadata": {},
   "source": [
    "$pattern-3$"
   ]
  },
  {
   "cell_type": "code",
   "execution_count": null,
   "id": "b228e66e",
   "metadata": {},
   "outputs": [],
   "source": [
    "for i in range(start,stop,step)\n",
    "-start:start of the loop,intial point\n",
    "-direction:what is the sign of the step value,that is the direction\n",
    "    -direction will not decide by start and stop value\n",
    "    -direction will provided by step value\n",
    "-if step size is +ve direction \n",
    "     end=stop-1\n",
    "-if step size is -ve direction \n",
    "      end=stop+1"
   ]
  },
  {
   "cell_type": "code",
   "execution_count": 7,
   "id": "951da83c",
   "metadata": {},
   "outputs": [
    {
     "name": "stdout",
     "output_type": "stream",
     "text": [
      "2 4 6 8 10 12 14 16 18 "
     ]
    }
   ],
   "source": [
    "for i in range(2,20,2):     #(start,stop,step)\n",
    "    print(i,end=\" \")\n",
    "#start=2\n",
    "#direction: step size=+2\n",
    "#end=stop-1=20-1=19\n",
    "#2 4 6 8 10 12 14 16 18"
   ]
  },
  {
   "cell_type": "code",
   "execution_count": 1,
   "id": "bcba8a4c",
   "metadata": {},
   "outputs": [
    {
     "name": "stdout",
     "output_type": "stream",
     "text": [
      "-1 -2 -3 -4 -5 -6 -7 -8 -9 "
     ]
    }
   ],
   "source": [
    "for i in range(-1,-10,-1):     #(start,stop,step)\n",
    "    print(i,end=\" \")\n",
    "#"
   ]
  },
  {
   "cell_type": "code",
   "execution_count": 3,
   "id": "78237322",
   "metadata": {},
   "outputs": [
    {
     "name": "stdout",
     "output_type": "stream",
     "text": [
      "hello\n",
      "hello\n",
      "hello\n"
     ]
    }
   ],
   "source": [
    " #WAP print hello 3 times/iteration ====>loops\n",
    "for i in range(3):\n",
    "    print(\"hello\")    "
   ]
  },
  {
   "cell_type": "code",
   "execution_count": 4,
   "id": "d23af2e1",
   "metadata": {},
   "outputs": [
    {
     "name": "stdout",
     "output_type": "stream",
     "text": [
      "hai\n",
      "hello\n",
      "hello\n",
      "hello\n",
      "how do u do\n"
     ]
    }
   ],
   "source": [
    "print(\"hai\")\n",
    "for i in range(3):\n",
    "    print(\"hello\")  \n",
    "print(\"how do u do\")"
   ]
  },
  {
   "cell_type": "code",
   "execution_count": 6,
   "id": "b150a0df",
   "metadata": {},
   "outputs": [
    {
     "name": "stdout",
     "output_type": "stream",
     "text": [
      "a\n",
      "a\n",
      "a\n",
      "b\n",
      "b\n",
      "c\n",
      "c\n",
      "c\n"
     ]
    }
   ],
   "source": [
    "#A\n",
    "#A\n",
    "#A\n",
    "#B\n",
    "#B\n",
    "#C\n",
    "#C\n",
    "#C\n",
    "for i in range(3):\n",
    "    print(\"a\")\n",
    "for i in range(2):\n",
    "    print(\"b\")\n",
    "for i in range(3):\n",
    "    print(\"c\")"
   ]
  },
  {
   "cell_type": "code",
   "execution_count": 7,
   "id": "30ce7339",
   "metadata": {},
   "outputs": [
    {
     "name": "stdout",
     "output_type": "stream",
     "text": [
      "a\n",
      "b\n",
      "a\n",
      "b\n",
      "a\n",
      "b\n",
      "c\n",
      "c\n",
      "c\n"
     ]
    }
   ],
   "source": [
    "#A\n",
    "#b\n",
    "#A\n",
    "#B\n",
    "#a\n",
    "#b\n",
    "#C\n",
    "#C\n",
    "#c\n",
    "for i in range(3):\n",
    "    print(\"a\")\n",
    "    print(\"b\")\n",
    "for i in range(3):\n",
    "    print(\"c\")"
   ]
  },
  {
   "cell_type": "code",
   "execution_count": 12,
   "id": "3989476e",
   "metadata": {},
   "outputs": [
    {
     "name": "stdout",
     "output_type": "stream",
     "text": [
      "the square of10 is100\n",
      "the square of11 is121\n",
      "the square of12 is144\n",
      "the square of13 is169\n",
      "the square of14 is196\n",
      "the square of15 is225\n"
     ]
    }
   ],
   "source": [
    "#wap ask the user get the square of the numbers between 10 to 15\n",
    "for i in range(10,16):\n",
    "    print(\"the square of{} is{}\".format(i,i*i))"
   ]
  },
  {
   "cell_type": "code",
   "execution_count": 13,
   "id": "bfbfbc60",
   "metadata": {},
   "outputs": [],
   "source": [
    "#the sum above question\n",
    "#take the numbers from keyboard\n",
    "#num1=eval(input()) 10\n",
    "#num2=eval(input()) 16"
   ]
  },
  {
   "cell_type": "code",
   "execution_count": 20,
   "id": "2b4e534b",
   "metadata": {},
   "outputs": [
    {
     "name": "stdout",
     "output_type": "stream",
     "text": [
      "enter start number:10\n",
      "enter end number16\n",
      "the square of10 is100\n",
      "the square of11 is121\n",
      "the square of12 is144\n",
      "the square of13 is169\n",
      "the square of14 is196\n",
      "the square of15 is225\n"
     ]
    }
   ],
   "source": [
    "num1=eval(input(\"enter start number:\"))\n",
    "num2=eval(input(\"enter end number\"))\n",
    "for i in range(num1,num2):\n",
    "    print(\"the square of{} is{}\".format(i,i*i))"
   ]
  },
  {
   "cell_type": "code",
   "execution_count": 18,
   "id": "5bf800be",
   "metadata": {},
   "outputs": [],
   "source": [
    " def sum():\n",
    "        num1=eval(input(\"enter start number:\"))\n",
    "        num2=eval(input(\"enter end number\"))\n",
    "        for i in range(num1,num2):\n",
    "            print(\"the square of{} is{}\".format(i,i*i))"
   ]
  },
  {
   "cell_type": "code",
   "execution_count": 19,
   "id": "fe0a9c5a",
   "metadata": {},
   "outputs": [
    {
     "name": "stdout",
     "output_type": "stream",
     "text": [
      "enter start number:10\n",
      "enter end number16\n",
      "the square of10 is100\n",
      "the square of11 is121\n",
      "the square of12 is144\n",
      "the square of13 is169\n",
      "the square of14 is196\n",
      "the square of15 is225\n"
     ]
    }
   ],
   "source": [
    "sum()"
   ]
  },
  {
   "cell_type": "code",
   "execution_count": 21,
   "id": "6920d623",
   "metadata": {},
   "outputs": [
    {
     "name": "stdout",
     "output_type": "stream",
     "text": [
      "the square of10 is100\n",
      "the square of11 is121\n",
      "the square of12 is144\n",
      "the square of13 is169\n",
      "the square of14 is196\n",
      "the square of15 is225\n"
     ]
    }
   ],
   "source": [
    "num1=10\n",
    "num2=16\n",
    "for i in range(num1,num2):\n",
    "    print(\"the square of{} is{}\".format(i,i*i))"
   ]
  },
  {
   "cell_type": "code",
   "execution_count": 26,
   "id": "88a6f976",
   "metadata": {},
   "outputs": [],
   "source": [
    "def square1(num1,num2):\n",
    "    for i in range(num1,num2):\n",
    "        print(\"the square of{} is{}\".format(i,i*i))"
   ]
  },
  {
   "cell_type": "code",
   "execution_count": 27,
   "id": "8e26801c",
   "metadata": {},
   "outputs": [
    {
     "name": "stdout",
     "output_type": "stream",
     "text": [
      "the square of10 is100\n",
      "the square of11 is121\n",
      "the square of12 is144\n",
      "the square of13 is169\n",
      "the square of14 is196\n",
      "the square of15 is225\n"
     ]
    }
   ],
   "source": [
    "square1(10,16)"
   ]
  },
  {
   "cell_type": "code",
   "execution_count": 1,
   "id": "9857a1d1",
   "metadata": {},
   "outputs": [
    {
     "name": "stdout",
     "output_type": "stream",
     "text": [
      "enter the number:0\n",
      "the square of 0 is 0\n",
      "enter the number:1\n",
      "the square of 1 is 1\n",
      "enter the number:2\n",
      "the square of 2 is 4\n",
      "enter the number:3\n",
      "the square of 3 is 9\n",
      "enter the number:4\n",
      "the square of 4 is 16\n"
     ]
    }
   ],
   "source": [
    "#wap ask the user to print square of the 5 numbers and these 5 numbers u need to ask user evary time\n",
    "for i in range(5):\n",
    "    num=eval(input((\"enter the number:\")))\n",
    "    print(\"the square of {} is {}\".format(i,num*num))"
   ]
  },
  {
   "cell_type": "code",
   "execution_count": 1,
   "id": "f80ec677",
   "metadata": {},
   "outputs": [
    {
     "name": "stdout",
     "output_type": "stream",
     "text": [
      "the square of 0 is 0\n",
      "the square of 1 is 1\n",
      "the square of 2 is 4\n",
      "the square of 3 is 9\n",
      "the square of 4 is 16\n"
     ]
    }
   ],
   "source": [
    "for i in range(5):\n",
    "    #print=input((\"enter the number:\"))\n",
    "    print(\"the square of {} is {}\".format(i,i*i))"
   ]
  },
  {
   "cell_type": "code",
   "execution_count": 5,
   "id": "91aca338",
   "metadata": {},
   "outputs": [
    {
     "name": "stdout",
     "output_type": "stream",
     "text": [
      "the square of 16 is 256\n",
      "the square of 18 is 324\n",
      "the square of 11 is 121\n",
      "the square of 19 is 361\n",
      "the square of 14 is 196\n"
     ]
    }
   ],
   "source": [
    "#wap ask the user to print square of the number this time u need to take evary time a random number between 1 to 20\n",
    "for i in range(5):\n",
    "    import random\n",
    "    num=random.randint(10,20)\n",
    "    print(\"the square of {} is {}\".format(num,num*num))"
   ]
  },
  {
   "cell_type": "code",
   "execution_count": 6,
   "id": "a1ef2960",
   "metadata": {},
   "outputs": [
    {
     "name": "stdout",
     "output_type": "stream",
     "text": [
      "it is even number\n",
      "it is odd number\n",
      "it is even number\n",
      "it is odd number\n",
      "it is even number\n",
      "it is odd number\n",
      "it is even number\n",
      "it is odd number\n",
      "it is even number\n",
      "it is odd number\n",
      "it is even number\n",
      "it is odd number\n",
      "it is even number\n",
      "it is odd number\n",
      "it is even number\n",
      "it is odd number\n",
      "it is even number\n",
      "it is odd number\n",
      "it is even number\n",
      "it is odd number\n"
     ]
    }
   ],
   "source": [
    "#wap ask the user print the given number is even or odd\n",
    "#you need to take the numbers between 10 to 30\n",
    "for i in range(10,30):\n",
    "    if(i%2==0):\n",
    "        print(\"it is even number\")\n",
    "    else:\n",
    "        print(\"it is odd number\")"
   ]
  },
  {
   "cell_type": "code",
   "execution_count": 9,
   "id": "083f3a1f",
   "metadata": {},
   "outputs": [
    {
     "name": "stdout",
     "output_type": "stream",
     "text": [
      "the given 10is even number\n",
      "it is odd number\n",
      "the given 12is even number\n",
      "it is odd number\n",
      "the given 14is even number\n",
      "it is odd number\n",
      "the given 16is even number\n",
      "it is odd number\n",
      "the given 18is even number\n",
      "it is odd number\n",
      "the given 20is even number\n",
      "it is odd number\n",
      "the given 22is even number\n",
      "it is odd number\n",
      "the given 24is even number\n",
      "it is odd number\n",
      "the given 26is even number\n",
      "it is odd number\n",
      "the given 28is even number\n",
      "it is odd number\n"
     ]
    }
   ],
   "source": [
    "for num in range(10,30):\n",
    "    \n",
    "    if(num%2==0):\n",
    "        print(\"the given {}is even number\".format(num))\n",
    "    else:\n",
    "        print(\"it is odd number\")"
   ]
  },
  {
   "cell_type": "code",
   "execution_count": 18,
   "id": "28cad6aa",
   "metadata": {},
   "outputs": [
    {
     "name": "stdout",
     "output_type": "stream",
     "text": [
      "the given 24is even number\n",
      "the given 21is odd number\n",
      "the given 20is even number\n",
      "the given 13is odd number\n",
      "the given 27is odd number\n"
     ]
    }
   ],
   "source": [
    "#wap ask the user print the given number is even or odd\n",
    "#you need to take the numbers between 10 to 30\n",
    "for i in range(5):\n",
    "    import random\n",
    "    num=random.randint(10,30)\n",
    "    \n",
    "    if(num%2==0):\n",
    "        print(\"the given {}is even number\".format(num))\n",
    "    else:\n",
    "        print(\"the given {}is odd number\".format(num))"
   ]
  },
  {
   "cell_type": "code",
   "execution_count": 25,
   "id": "b9294d2f",
   "metadata": {},
   "outputs": [
    {
     "name": "stdout",
     "output_type": "stream",
     "text": [
      "it is even number\n",
      "its is odd number\n",
      "it is even number\n",
      "its is odd number\n",
      "it is even number\n"
     ]
    }
   ],
   "source": [
    "def num123456():\n",
    "    if(i%2==0):\n",
    "            print(\"it is even number\")\n",
    "    else:\n",
    "            print(\"its is odd number\")\n",
    "for i in range(5):\n",
    "    import random\n",
    "    num=random.randint(10,30)\n",
    "    num123456()"
   ]
  },
  {
   "cell_type": "code",
   "execution_count": 29,
   "id": "ee3bb8d0",
   "metadata": {},
   "outputs": [
    {
     "name": "stdout",
     "output_type": "stream",
     "text": [
      "enter a number:2\n",
      "you lost\n",
      "enter a number:3\n",
      "you won\n"
     ]
    }
   ],
   "source": [
    "#take a random number from random pacakage between 1 to 10\n",
    "import random\n",
    "num1=random.randint(1,10)\n",
    "for i in range(3):\n",
    "    \n",
    "#ask the user enter a number\n",
    "    num11=eval(input(\"enter a number:\"))\n",
    "#if the number==random number\n",
    "    if(num1==num11):\n",
    "        print(\"you won\")\n",
    "        break\n",
    "    else:\n",
    "        print(\"you lost\")"
   ]
  },
  {
   "cell_type": "code",
   "execution_count": null,
   "id": "49da50f4",
   "metadata": {},
   "outputs": [],
   "source": [
    "#improvise the above code\n",
    "#you need to mention number of chances last\n",
    "#the user whenever he fail/losr"
   ]
  },
  {
   "cell_type": "code",
   "execution_count": 31,
   "id": "6a180d6e",
   "metadata": {},
   "outputs": [
    {
     "name": "stdout",
     "output_type": "stream",
     "text": [
      "enter a number:2\n",
      "you lost\n",
      "the number of chances left is: 2\n",
      "enter a number:3\n",
      "you won\n"
     ]
    }
   ],
   "source": [
    "import random\n",
    "num1=random.randint(1,10)\n",
    "for i in range(3):\n",
    "    \n",
    "#ask the user enter a number\n",
    "    num11=eval(input(\"enter a number:\"))\n",
    "#if the number==random number\n",
    "    if(num1==num11):\n",
    "        print(\"you won\")\n",
    "        break\n",
    "    else:\n",
    "        print(\"you lost\")\n",
    "        print(\"the number of chances left is:\",2-i)"
   ]
  },
  {
   "cell_type": "code",
   "execution_count": 33,
   "id": "0aef11b2",
   "metadata": {},
   "outputs": [
    {
     "name": "stdout",
     "output_type": "stream",
     "text": [
      "enter how many chances u left:2\n",
      "enter a number:3\n",
      "you lost\n",
      "the number of chances left is: 1\n",
      "enter a number:4\n",
      "you lost\n",
      "the number of chances left is: 0\n"
     ]
    }
   ],
   "source": [
    "import random\n",
    "num1=random.randint(1,10)\n",
    "chances=eval(input(\"enter how many chances u left:\"))\n",
    "for i in range(chances):\n",
    "    \n",
    "#ask the user enter a number\n",
    "    num11=eval(input(\"enter a number:\"))\n",
    "#if the number==random number\n",
    "    if(num1==num11):\n",
    "        print(\"you won\")\n",
    "        break\n",
    "    else:\n",
    "        print(\"you lost\")\n",
    "        print(\"the number of chances left is:\",chances-1-i)"
   ]
  },
  {
   "cell_type": "code",
   "execution_count": 9,
   "id": "a8fe89eb",
   "metadata": {},
   "outputs": [
    {
     "name": "stdout",
     "output_type": "stream",
     "text": [
      "enter how many chances u left:3\n",
      "enter a number:8\n",
      "you lost\n",
      "the number of chances left is: 2\n",
      "enter a number:9\n",
      "you lost\n",
      "the number of chances left is: 1\n",
      "enter a number:0\n",
      "again after sometime\n"
     ]
    }
   ],
   "source": [
    "#improvise above code whenever the user lost all the chances \n",
    "#it should print all the chances are over\n",
    "#print(\"pls try again later\")\n",
    "import random\n",
    "num1=random.randint(1,10)\n",
    "chances=eval(input(\"enter how many chances u left:\"))\n",
    "for i in range(chances):\n",
    "    \n",
    "#ask the user enter a number\n",
    "    num11=eval(input(\"enter a number:\"))\n",
    "#if the number==random number\n",
    "    if(num1==num11):\n",
    "        print(\"you won\")\n",
    "        break\n",
    "    elif(chances-1-i==0):\n",
    "    \n",
    "        print(\"again after sometime\")\n",
    "    else:\n",
    "        print(\"you lost\")\n",
    "        print(\"the number of chances left is:\",chances-1-i)\n"
   ]
  }
 ],
 "metadata": {
  "kernelspec": {
   "display_name": "Python 3 (ipykernel)",
   "language": "python",
   "name": "python3"
  },
  "language_info": {
   "codemirror_mode": {
    "name": "ipython",
    "version": 3
   },
   "file_extension": ".py",
   "mimetype": "text/x-python",
   "name": "python",
   "nbconvert_exporter": "python",
   "pygments_lexer": "ipython3",
   "version": "3.11.5"
  }
 },
 "nbformat": 4,
 "nbformat_minor": 5
}
