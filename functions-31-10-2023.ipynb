{
 "cells": [
  {
   "cell_type": "markdown",
   "id": "5303a091",
   "metadata": {},
   "source": [
    "$functions$"
   ]
  },
  {
   "cell_type": "code",
   "execution_count": null,
   "id": "3404ba3c",
   "metadata": {},
   "outputs": [],
   "source": [
    "--reuse any part of code"
   ]
  },
  {
   "cell_type": "code",
   "execution_count": null,
   "id": "9022944b",
   "metadata": {},
   "outputs": [],
   "source": [
    "#without arguments"
   ]
  },
  {
   "cell_type": "code",
   "execution_count": 2,
   "id": "8a957a7e",
   "metadata": {},
   "outputs": [
    {
     "name": "stdout",
     "output_type": "stream",
     "text": [
      "the addition of10 and 20is 30\n"
     ]
    }
   ],
   "source": [
    "n1=10\n",
    "n2=20\n",
    "add=n1+n2\n",
    "print(\"the addition of{} and {}is {}\".format(n1,n2,add))"
   ]
  },
  {
   "cell_type": "code",
   "execution_count": null,
   "id": "f7f90b7a",
   "metadata": {},
   "outputs": [],
   "source": [
    "def <function_name>():\n",
    "    #write ur code here"
   ]
  },
  {
   "cell_type": "code",
   "execution_count": 6,
   "id": "687e6662",
   "metadata": {},
   "outputs": [],
   "source": [
    "def addition():\n",
    "    n1=10\n",
    "    n2=20\n",
    "    add=n1+n2\n",
    "    print(\"the addition of{} and {}is {}\".format(n1,n2,add))\n"
   ]
  },
  {
   "cell_type": "code",
   "execution_count": null,
   "id": "f6972486",
   "metadata": {},
   "outputs": [],
   "source": [
    "#the output will not display untill unless you call the function "
   ]
  },
  {
   "cell_type": "code",
   "execution_count": 7,
   "id": "3a8a3be0",
   "metadata": {},
   "outputs": [
    {
     "name": "stdout",
     "output_type": "stream",
     "text": [
      "the addition of10 and 20is 30\n"
     ]
    }
   ],
   "source": [
    "#calling the fuction\n",
    "addition()"
   ]
  },
  {
   "cell_type": "code",
   "execution_count": 8,
   "id": "9fc2e7ec",
   "metadata": {},
   "outputs": [],
   "source": [
    "def addition():\n",
    "    n1=eval(input(\"enter a number:\"))\n",
    "    print(\"hello\")\n",
    "    print(\"im writing function\")"
   ]
  },
  {
   "cell_type": "code",
   "execution_count": 9,
   "id": "bc70ef84",
   "metadata": {},
   "outputs": [
    {
     "name": "stdout",
     "output_type": "stream",
     "text": [
      "enter a number:2\n",
      "hello\n",
      "im writing function\n"
     ]
    }
   ],
   "source": [
    "addition()"
   ]
  },
  {
   "cell_type": "code",
   "execution_count": 10,
   "id": "8db143e9",
   "metadata": {},
   "outputs": [],
   "source": [
    "def hello():\n",
    "    n1=eval(input(\"enter a number:\"))\n",
    "    print(\"hello\")\n",
    "    print(\"im writing function\")"
   ]
  },
  {
   "cell_type": "code",
   "execution_count": 11,
   "id": "b5251ca3",
   "metadata": {},
   "outputs": [
    {
     "name": "stdout",
     "output_type": "stream",
     "text": [
      "enter a number:3\n",
      "hello\n",
      "im writing function\n"
     ]
    }
   ],
   "source": [
    "hello()"
   ]
  },
  {
   "cell_type": "code",
   "execution_count": 12,
   "id": "6f6a03f1",
   "metadata": {},
   "outputs": [],
   "source": [
    "#in this particular cell:500 lines"
   ]
  },
  {
   "cell_type": "code",
   "execution_count": 13,
   "id": "70913f78",
   "metadata": {},
   "outputs": [
    {
     "name": "stdout",
     "output_type": "stream",
     "text": [
      "gm\n"
     ]
    }
   ],
   "source": [
    "def hello_world():\n",
    "    print(\"gm\")\n",
    "hello_world()"
   ]
  },
  {
   "cell_type": "code",
   "execution_count": 16,
   "id": "2c090a77",
   "metadata": {},
   "outputs": [
    {
     "name": "stdout",
     "output_type": "stream",
     "text": [
      "enter 1st number:2\n",
      "enter 2nd number:3\n",
      "enter 3rd number:4\n"
     ]
    },
    {
     "ename": "AttributeError",
     "evalue": "'int' object has no attribute 'n3'",
     "output_type": "error",
     "traceback": [
      "\u001b[1;31m---------------------------------------------------------------------------\u001b[0m",
      "\u001b[1;31mAttributeError\u001b[0m                            Traceback (most recent call last)",
      "Cell \u001b[1;32mIn[16], line 8\u001b[0m\n\u001b[0;32m      6\u001b[0m n3\u001b[38;5;241m=\u001b[39m\u001b[38;5;28meval\u001b[39m(\u001b[38;5;28minput\u001b[39m(\u001b[38;5;124m\"\u001b[39m\u001b[38;5;124menter 3rd number:\u001b[39m\u001b[38;5;124m\"\u001b[39m))\n\u001b[0;32m      7\u001b[0m avg\u001b[38;5;241m=\u001b[39m(n1\u001b[38;5;241m+\u001b[39mn2\u001b[38;5;241m+\u001b[39mn3)\u001b[38;5;241m/\u001b[39m\u001b[38;5;241m3\u001b[39m\n\u001b[1;32m----> 8\u001b[0m \u001b[38;5;28mprint\u001b[39m(\u001b[38;5;124m\"\u001b[39m\u001b[38;5;124mthe average of three numbers\u001b[39m\u001b[38;5;124m\"\u001b[39m\u001b[38;5;241m.\u001b[39mformat(n1,n2\u001b[38;5;241m.\u001b[39mn3,avg))\n",
      "\u001b[1;31mAttributeError\u001b[0m: 'int' object has no attribute 'n3'"
     ]
    }
   ],
   "source": [
    "#take three numbers find the average\n",
    "#write a program ask the user enter 3 numbers\n",
    "#first write normal code \n",
    "n1=eval(input(\"enter 1st number:\"))\n",
    "n2=eval(input(\"enter 2nd number:\"))\n",
    "n3=eval(input(\"enter 3rd number:\"))\n",
    "avg=(n1+n2+n3)/3\n",
    "print(\"the average of three numbers\".format(n1,n2.n3,avg))"
   ]
  },
  {
   "cell_type": "code",
   "execution_count": 23,
   "id": "059de281",
   "metadata": {},
   "outputs": [],
   "source": [
    "def average():\n",
    "    n1=eval(input(\"enter 1st number:\"))\n",
    "    n2=eval(input(\"enter 2nd number:\"))\n",
    "    n3=eval(input(\"enter 3rd number:\"))\n",
    "    avg=(n1+n2+n3)/3\n",
    "    print(\"the average of {}, {} and {} is{}\".format(n1,n2,n3,avg))\n"
   ]
  },
  {
   "cell_type": "code",
   "execution_count": 24,
   "id": "3d770e38",
   "metadata": {},
   "outputs": [
    {
     "name": "stdout",
     "output_type": "stream",
     "text": [
      "enter 1st number:2\n",
      "enter 2nd number:3\n",
      "enter 3rd number:4\n",
      "the average of 2, 3 and 4 is3.0\n"
     ]
    }
   ],
   "source": [
    "average()"
   ]
  },
  {
   "cell_type": "markdown",
   "id": "a2d405f6",
   "metadata": {},
   "source": [
    "$note$"
   ]
  },
  {
   "cell_type": "code",
   "execution_count": null,
   "id": "9ac29f9d",
   "metadata": {},
   "outputs": [],
   "source": [
    "--we are not sure if the function is defined correct or wrong untill unless we call the function"
   ]
  },
  {
   "cell_type": "code",
   "execution_count": 29,
   "id": "85ad82d9",
   "metadata": {},
   "outputs": [],
   "source": [
    "def average():\n",
    "    try:\n",
    "        n1=eval(input(\"enter 1st number:\"))\n",
    "        n2=eval(input(\"enter 2nd number:\"))\n",
    "        n3=eval(input(\"enter 3rd number:\"))\n",
    "        avg=(n1+n2+n3)/3\n",
    "        print(\"the average of {},{} and {} is {}\".format(n1,n2,n3,avg))\n",
    "    except Exception as e:\n",
    "        print(e)"
   ]
  },
  {
   "cell_type": "code",
   "execution_count": 30,
   "id": "8fd26f8f",
   "metadata": {},
   "outputs": [
    {
     "name": "stdout",
     "output_type": "stream",
     "text": [
      "enter 1st number:1\n",
      "enter 2nd number:23\n",
      "enter 3rd number:3\n",
      "the average of 1,23 and 3 is 9.0\n"
     ]
    }
   ],
   "source": [
    "average()"
   ]
  },
  {
   "cell_type": "code",
   "execution_count": 31,
   "id": "de08f598",
   "metadata": {},
   "outputs": [
    {
     "name": "stdout",
     "output_type": "stream",
     "text": [
      "enter bill ammount:20\n",
      "enter tip ammount:20\n",
      "the total bill ammount is 40\n"
     ]
    }
   ],
   "source": [
    "#wap ask the user enter bill ammount\n",
    "#ask the user enter tip ammount\n",
    "#calculate total bill\n",
    "try:\n",
    "    bill_amt=eval(input(\"enter bill ammount:\"))\n",
    "    tip_amt=eval(input(\"enter tip ammount:\"))\n",
    "    total_bill=bill_amt+tip_amt\n",
    "    print(\"the total bill ammount is\",total_bill)\n",
    "except Exception as e:\n",
    "    print(e)"
   ]
  },
  {
   "cell_type": "code",
   "execution_count": 34,
   "id": "904e4c5e",
   "metadata": {},
   "outputs": [],
   "source": [
    "def bill_ammount():\n",
    "    try:\n",
    "        bill_amt=eval(input(\"enter bill ammount:\"))\n",
    "        tip_amt=eval(input(\"enter tip ammount:\"))\n",
    "        total_bill=bill_amt+tip_amt\n",
    "        print(\"the total bill ammount is\",total_bill)\n",
    "    except Exception as e:\n",
    "        print(e)\n"
   ]
  },
  {
   "cell_type": "code",
   "execution_count": 35,
   "id": "6d574418",
   "metadata": {},
   "outputs": [
    {
     "name": "stdout",
     "output_type": "stream",
     "text": [
      "enter bill ammount:20\n",
      "enter tip ammount:20\n",
      "the total bill ammount is 40\n"
     ]
    }
   ],
   "source": [
    "bill_ammount()"
   ]
  },
  {
   "cell_type": "code",
   "execution_count": 39,
   "id": "41700699",
   "metadata": {},
   "outputs": [
    {
     "name": "stdout",
     "output_type": "stream",
     "text": [
      "65 it is an odd number\n"
     ]
    }
   ],
   "source": [
    "#wap ask the user get a random number between 1 and 100\n",
    "#print it is even or odd\n",
    "#impliment using function\n",
    "import random\n",
    "num=random.randint(1,100)\n",
    "if num%2==0:\n",
    "    print(\"{} it is an even number\".format(num))\n",
    "else:\n",
    "    print(\"{} it is an odd number\".format(num))"
   ]
  },
  {
   "cell_type": "code",
   "execution_count": 42,
   "id": "3bf18ad9",
   "metadata": {},
   "outputs": [],
   "source": [
    "import random\n",
    "def random112():\n",
    "        num=random.randint(1,100)\n",
    "        if num%2==0:\n",
    "            print(\"{} it is an even number\".format(num))\n",
    "        else:\n",
    "            print(\"{} it is an odd number\".format(num))\n",
    "\n"
   ]
  },
  {
   "cell_type": "code",
   "execution_count": 43,
   "id": "b7730d6b",
   "metadata": {},
   "outputs": [
    {
     "name": "stdout",
     "output_type": "stream",
     "text": [
      "99 it is an odd number\n"
     ]
    }
   ],
   "source": [
    "random112()"
   ]
  },
  {
   "cell_type": "code",
   "execution_count": 46,
   "id": "f49c8c05",
   "metadata": {},
   "outputs": [
    {
     "name": "stdout",
     "output_type": "stream",
     "text": [
      "helo\n",
      "python\n",
      "gm\n",
      "bye\n"
     ]
    }
   ],
   "source": [
    "import random\n",
    "print(\"helo\")\n",
    "print(\"python\")\n",
    "def random112():\n",
    "    try:\n",
    "        num=random.randint(1,100)\n",
    "        if num%2==0:\n",
    "            print(\"{} it is an even number\".format(num))\n",
    "        else:\n",
    "            print(\"{} it is an odd number\".format(num))\n",
    "\n",
    "    except Exception as e:\n",
    "        print(e)\n",
    "print(\"gm\")\n",
    "print(\"bye\")\n",
    "        "
   ]
  },
  {
   "cell_type": "code",
   "execution_count": 48,
   "id": "2c33f549",
   "metadata": {},
   "outputs": [
    {
     "name": "stdout",
     "output_type": "stream",
     "text": [
      "bye\n",
      "95 it is an odd number\n",
      "123\n"
     ]
    }
   ],
   "source": [
    "print(\"bye\")\n",
    "random112()\n",
    "print(\"123\")"
   ]
  },
  {
   "cell_type": "code",
   "execution_count": 51,
   "id": "62f9ba22",
   "metadata": {},
   "outputs": [
    {
     "name": "stdout",
     "output_type": "stream",
     "text": [
      "mul function starts\n",
      "subtraction function starts\n",
      "anything reamins\n",
      "no\n"
     ]
    }
   ],
   "source": [
    "#wap\n",
    "def addition():\n",
    "    n1=10\n",
    "    n2=20\n",
    "    print(\"addition\",n1+n2)\n",
    "    \n",
    "print(\"mul function starts\")\n",
    "def mul():\n",
    "    n1=10\n",
    "    n2=20\n",
    "    print(\"mul\",n1*n2)\n",
    "    print(\"mul is done\")\n",
    "\n",
    "print(\"subtraction function starts\")\n",
    "def sub():\n",
    "    n1=10\n",
    "    n2=20\n",
    "    print(\"sub\",n1-n2)\n",
    "    print(\"subtraction is done\")\n",
    "    \n",
    "print(\"anything reamins\")\n",
    "print(\"no\")\n"
   ]
  },
  {
   "cell_type": "code",
   "execution_count": 53,
   "id": "09c8b838",
   "metadata": {},
   "outputs": [
    {
     "name": "stdout",
     "output_type": "stream",
     "text": [
      "addition 30\n",
      "mul 200\n",
      "mul is done\n",
      "sub -10\n",
      "subtraction is done\n"
     ]
    }
   ],
   "source": [
    "addition()\n",
    "mul()\n",
    "sub()"
   ]
  },
  {
   "cell_type": "code",
   "execution_count": null,
   "id": "cdfa3f8f",
   "metadata": {},
   "outputs": [],
   "source": [
    "--if you are not mentioning any value inside the function bracket----->without arguments/parameters\n",
    "--arguments or parameters"
   ]
  },
  {
   "cell_type": "markdown",
   "id": "49f2deae",
   "metadata": {},
   "source": [
    "$with arguments$"
   ]
  },
  {
   "cell_type": "code",
   "execution_count": 54,
   "id": "59d144f5",
   "metadata": {},
   "outputs": [],
   "source": [
    "def addition():\n",
    "    n1=10\n",
    "    n2=20\n",
    "    add=n1+n2\n",
    "    print(\"the addition of{} and {}is {}\".format(n1,n2,add))"
   ]
  },
  {
   "cell_type": "code",
   "execution_count": 55,
   "id": "df2b1be2",
   "metadata": {},
   "outputs": [
    {
     "name": "stdout",
     "output_type": "stream",
     "text": [
      "the addition of10 and 20is 30\n"
     ]
    }
   ],
   "source": [
    "addition()"
   ]
  },
  {
   "cell_type": "code",
   "execution_count": null,
   "id": "0ef796d0",
   "metadata": {},
   "outputs": [],
   "source": [
    "#inside function how many variables are there?\n",
    "#inside the function 3 variables\n",
    "#2(q) how many user provided variables\n",
    "#2 variables"
   ]
  },
  {
   "cell_type": "code",
   "execution_count": 57,
   "id": "9ac50541",
   "metadata": {},
   "outputs": [],
   "source": [
    "def addition(n1,n2):    #arguments\n",
    "    add=n1+n2\n",
    "    print(\"the addition of{} and {}is {}\".format(n1,n2,add))"
   ]
  },
  {
   "cell_type": "code",
   "execution_count": 58,
   "id": "aa5a5335",
   "metadata": {},
   "outputs": [
    {
     "name": "stdout",
     "output_type": "stream",
     "text": [
      "the addition of20 and 30is 50\n"
     ]
    }
   ],
   "source": [
    "addition(20,30)"
   ]
  },
  {
   "cell_type": "code",
   "execution_count": 62,
   "id": "8e33cfca",
   "metadata": {},
   "outputs": [],
   "source": [
    "def addition(n1,n2):    #arguments\n",
    "    add=n1+n2\n",
    "    print(\"the addition of{} and {}is {}\".format(n1,n2,add))"
   ]
  },
  {
   "cell_type": "code",
   "execution_count": 63,
   "id": "3e6608cd",
   "metadata": {},
   "outputs": [
    {
     "ename": "TypeError",
     "evalue": "addition() missing 1 required positional argument: 'n2'",
     "output_type": "error",
     "traceback": [
      "\u001b[1;31m---------------------------------------------------------------------------\u001b[0m",
      "\u001b[1;31mTypeError\u001b[0m                                 Traceback (most recent call last)",
      "Cell \u001b[1;32mIn[63], line 1\u001b[0m\n\u001b[1;32m----> 1\u001b[0m addition(\u001b[38;5;241m20\u001b[39m)\n",
      "\u001b[1;31mTypeError\u001b[0m: addition() missing 1 required positional argument: 'n2'"
     ]
    }
   ],
   "source": [
    "addition(20)"
   ]
  },
  {
   "cell_type": "code",
   "execution_count": 64,
   "id": "607bb1fb",
   "metadata": {},
   "outputs": [],
   "source": [
    "def addition():    #arguments\n",
    "    add=n1+n2\n",
    "    print(\"the addition of{} and {}is {}\".format(n1,n2,add))"
   ]
  },
  {
   "cell_type": "code",
   "execution_count": 65,
   "id": "ea754aeb",
   "metadata": {},
   "outputs": [
    {
     "ename": "TypeError",
     "evalue": "addition() takes 0 positional arguments but 2 were given",
     "output_type": "error",
     "traceback": [
      "\u001b[1;31m---------------------------------------------------------------------------\u001b[0m",
      "\u001b[1;31mTypeError\u001b[0m                                 Traceback (most recent call last)",
      "Cell \u001b[1;32mIn[65], line 1\u001b[0m\n\u001b[1;32m----> 1\u001b[0m addition(\u001b[38;5;241m10\u001b[39m,\u001b[38;5;241m20\u001b[39m)\n",
      "\u001b[1;31mTypeError\u001b[0m: addition() takes 0 positional arguments but 2 were given"
     ]
    }
   ],
   "source": [
    "addition(10,20)  #arguments error"
   ]
  },
  {
   "cell_type": "code",
   "execution_count": 66,
   "id": "60aafb95",
   "metadata": {},
   "outputs": [],
   "source": [
    "def addition11():    #arguments\n",
    "    add11=n11+n22\n",
    "    print(\"the addition of{} and {}is {}\".format(n11,n22,add11))"
   ]
  },
  {
   "cell_type": "code",
   "execution_count": 67,
   "id": "05ecbd03",
   "metadata": {},
   "outputs": [
    {
     "ename": "NameError",
     "evalue": "name 'n11' is not defined",
     "output_type": "error",
     "traceback": [
      "\u001b[1;31m---------------------------------------------------------------------------\u001b[0m",
      "\u001b[1;31mNameError\u001b[0m                                 Traceback (most recent call last)",
      "Cell \u001b[1;32mIn[67], line 1\u001b[0m\n\u001b[1;32m----> 1\u001b[0m addition11()\n",
      "Cell \u001b[1;32mIn[66], line 2\u001b[0m, in \u001b[0;36maddition11\u001b[1;34m()\u001b[0m\n\u001b[0;32m      1\u001b[0m \u001b[38;5;28;01mdef\u001b[39;00m \u001b[38;5;21maddition11\u001b[39m():    \u001b[38;5;66;03m#arguments\u001b[39;00m\n\u001b[1;32m----> 2\u001b[0m     add11\u001b[38;5;241m=\u001b[39mn11\u001b[38;5;241m+\u001b[39mn22\n\u001b[0;32m      3\u001b[0m     \u001b[38;5;28mprint\u001b[39m(\u001b[38;5;124m\"\u001b[39m\u001b[38;5;124mthe addition of\u001b[39m\u001b[38;5;132;01m{}\u001b[39;00m\u001b[38;5;124m and \u001b[39m\u001b[38;5;132;01m{}\u001b[39;00m\u001b[38;5;124mis \u001b[39m\u001b[38;5;132;01m{}\u001b[39;00m\u001b[38;5;124m\"\u001b[39m\u001b[38;5;241m.\u001b[39mformat(n11,n22,add11))\n",
      "\u001b[1;31mNameError\u001b[0m: name 'n11' is not defined"
     ]
    }
   ],
   "source": [
    "addition11()    #name error"
   ]
  },
  {
   "cell_type": "code",
   "execution_count": 74,
   "id": "2bfa7475",
   "metadata": {},
   "outputs": [],
   "source": [
    " def avg(n1,n2,n3):\n",
    "        avg=(n1+n2+n3)/3\n",
    "        print(\"the average of {},{} and {} is {}\".format(n1,n2,n3,avg))"
   ]
  },
  {
   "cell_type": "code",
   "execution_count": 75,
   "id": "b91ffdba",
   "metadata": {},
   "outputs": [
    {
     "name": "stdout",
     "output_type": "stream",
     "text": [
      "the average of 3,4 and 5 is 4.0\n"
     ]
    }
   ],
   "source": [
    "avg(3,4,5)"
   ]
  },
  {
   "cell_type": "code",
   "execution_count": null,
   "id": "a87eff6b",
   "metadata": {},
   "outputs": [],
   "source": []
  }
 ],
 "metadata": {
  "kernelspec": {
   "display_name": "Python 3 (ipykernel)",
   "language": "python",
   "name": "python3"
  },
  "language_info": {
   "codemirror_mode": {
    "name": "ipython",
    "version": 3
   },
   "file_extension": ".py",
   "mimetype": "text/x-python",
   "name": "python",
   "nbconvert_exporter": "python",
   "pygments_lexer": "ipython3",
   "version": "3.11.5"
  }
 },
 "nbformat": 4,
 "nbformat_minor": 5
}
