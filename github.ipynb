{
 "cells": [
  {
   "cell_type": "code",
   "execution_count": null,
   "id": "b78abb2b",
   "metadata": {},
   "outputs": [],
   "source": [
    "main code base: main branch\n",
    "dev code base: development branch\n",
    "sandbox code base:sandbox branch"
   ]
  },
  {
   "cell_type": "code",
   "execution_count": null,
   "id": "865a690b",
   "metadata": {},
   "outputs": [],
   "source": [
    "clinet talk to u===\n",
    "you immediatly start on sand box branch\n",
    "sandbox :manager and team lead client \n",
    "    EDA.py in the sandbox\n",
    "    strings=====for loop\n",
    "    list comprehension\n",
    "dev branch:eda.py best code than sandbox \n",
    "    lots of testing finally every one agree\n",
    "main branch====>manager and lead client"
   ]
  },
  {
   "cell_type": "code",
   "execution_count": null,
   "id": "8fbbac38",
   "metadata": {},
   "outputs": [],
   "source": [
    "no one will send the code through email id\n",
    "they will send through github"
   ]
  },
  {
   "cell_type": "code",
   "execution_count": null,
   "id": "6e46cdc6",
   "metadata": {},
   "outputs": [],
   "source": [
    "clone===========>repository\n",
    "    git clone===>download the filess\n",
    "                 from repository"
   ]
  },
  {
   "cell_type": "code",
   "execution_count": null,
   "id": "bcf0fe9c",
   "metadata": {},
   "outputs": [],
   "source": [
    "git account\n",
    "git bash"
   ]
  },
  {
   "cell_type": "code",
   "execution_count": null,
   "id": "eedc8944",
   "metadata": {},
   "outputs": [],
   "source": [
    "open command prompt"
   ]
  },
  {
   "cell_type": "code",
   "execution_count": null,
   "id": "dbf37930",
   "metadata": {},
   "outputs": [],
   "source": [
    "CI CD"
   ]
  },
  {
   "cell_type": "code",
   "execution_count": null,
   "id": "ae785e0c",
   "metadata": {},
   "outputs": [],
   "source": [
    "you uploaded python files in a repo\n",
    "main branch\n",
    "imagine-----done by client\n",
    "now you need work on main code base\n",
    "you download the codes:clone\n",
    "    create seperate folder\n",
    "    open command prompt"
   ]
  },
  {
   "cell_type": "code",
   "execution_count": null,
   "id": "98300a56",
   "metadata": {},
   "outputs": [],
   "source": [
    "sir why cant we download as a zip?\n",
    "what ever you do changes in downloaded files\n",
    "===that should automatic "
   ]
  },
  {
   "cell_type": "code",
   "execution_count": null,
   "id": "b7678c7a",
   "metadata": {},
   "outputs": [],
   "source": [
    "your code base==main branch\n",
    "a libk is established from ur file exploer to github link"
   ]
  },
  {
   "cell_type": "code",
   "execution_count": null,
   "id": "e7bea347",
   "metadata": {},
   "outputs": [],
   "source": [
    "*main means your loacl python_Sessions folder  is attached to main branch\n",
    "if u do what ever the changes it will refelect in main branch\n",
    "main branch is very important ,so we should not change or edit ourcodes\n",
    "================================================================================\n",
    "so will create a new feature branch name called as dev:\n",
    "    by using syntax/commands only"
   ]
  },
  {
   "cell_type": "code",
   "execution_count": null,
   "id": "27e55b89",
   "metadata": {},
   "outputs": [],
   "source": [
    "dev branch is created\n",
    "but * is still on main \n",
    "that means that codes are not attached to dev"
   ]
  },
  {
   "cell_type": "code",
   "execution_count": null,
   "id": "9548b373",
   "metadata": {},
   "outputs": [],
   "source": [
    "we created a branch we shifted our cides on that dev branch\n",
    "====================================================================\n",
    "git branch dev---create the dev branch\n",
    "git push origin dev------it show in the website also\n",
    "git checkout dev-----shift the codes to dev branch"
   ]
  },
  {
   "cell_type": "code",
   "execution_count": null,
   "id": "d9cb7be8",
   "metadata": {},
   "outputs": [],
   "source": [
    "go to jupyter change any file and save it"
   ]
  },
  {
   "cell_type": "code",
   "execution_count": null,
   "id": "1151864d",
   "metadata": {},
   "outputs": [],
   "source": [
    "git status==red colour\n",
    "git add .=\n",
    "git status===green color\n",
    "git commit-am'wor u'\n",
    "git push orgini dev"
   ]
  },
  {
   "cell_type": "code",
   "execution_count": null,
   "id": "83f11337",
   "metadata": {},
   "outputs": [],
   "source": [
    "changes are on dev branch====you are able to see\n",
    "now u are ask to manager===main branch\n",
    "raise a pr\n",
    "pull request"
   ]
  }
 ],
 "metadata": {
  "kernelspec": {
   "display_name": "Python 3 (ipykernel)",
   "language": "python",
   "name": "python3"
  },
  "language_info": {
   "codemirror_mode": {
    "name": "ipython",
    "version": 3
   },
   "file_extension": ".py",
   "mimetype": "text/x-python",
   "name": "python",
   "nbconvert_exporter": "python",
   "pygments_lexer": "ipython3",
   "version": "3.11.5"
  }
 },
 "nbformat": 4,
 "nbformat_minor": 5
}
