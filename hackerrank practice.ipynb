{
 "cells": [
  {
   "cell_type": "code",
   "execution_count": 2,
   "id": "198ef305",
   "metadata": {},
   "outputs": [
    {
     "name": "stdout",
     "output_type": "stream",
     "text": [
      "5\n",
      "0\n",
      "1\n",
      "4\n",
      "9\n",
      "16\n"
     ]
    }
   ],
   "source": [
    "n = int(input())\n",
    "i=0\n",
    "while(i<n): \n",
    "        square=i*i\n",
    "        print(square)\n",
    "        i=i+1"
   ]
  },
  {
   "cell_type": "code",
   "execution_count": 28,
   "id": "f7a4f57c",
   "metadata": {},
   "outputs": [
    {
     "name": "stdout",
     "output_type": "stream",
     "text": [
      "2023\n",
      "None\n"
     ]
    }
   ],
   "source": [
    "def is_leap(year):\n",
    "    if (year%4==0):\n",
    "        print(\"its a leap year\")\n",
    "    elif(year%400==0):\n",
    "        print(\"its a leap year\")\n",
    "    else:\n",
    "        year= False\n",
    "year = int(input())\n",
    "print(is_leap(year))"
   ]
  },
  {
   "cell_type": "code",
   "execution_count": 33,
   "id": "a3c75621",
   "metadata": {},
   "outputs": [
    {
     "name": "stdout",
     "output_type": "stream",
     "text": [
      "2100\n",
      "False\n"
     ]
    }
   ],
   "source": [
    "    def is_leap(year):\n",
    "        if (year%4==0 and year%100!=0):\n",
    "            leap=True\n",
    "            # return leap\n",
    "        elif(year%100==0 and year%400==0):\n",
    "            leap=True\n",
    "        # return leap \n",
    "        else:\n",
    "            leap=False\n",
    "        return leap\n",
    "    year = int(input())\n",
    "    print(is_leap(year))"
   ]
  },
  {
   "cell_type": "code",
   "execution_count": null,
   "id": "cb551b7a",
   "metadata": {},
   "outputs": [],
   "source": []
  }
 ],
 "metadata": {
  "kernelspec": {
   "display_name": "Python 3 (ipykernel)",
   "language": "python",
   "name": "python3"
  },
  "language_info": {
   "codemirror_mode": {
    "name": "ipython",
    "version": 3
   },
   "file_extension": ".py",
   "mimetype": "text/x-python",
   "name": "python",
   "nbconvert_exporter": "python",
   "pygments_lexer": "ipython3",
   "version": "3.11.5"
  }
 },
 "nbformat": 4,
 "nbformat_minor": 5
}
