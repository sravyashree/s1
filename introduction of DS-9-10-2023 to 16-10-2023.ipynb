{
 "cells": [
  {
   "cell_type": "markdown",
   "id": "6b7cbc38",
   "metadata": {},
   "source": [
    "--what is data science?"
   ]
  },
  {
   "cell_type": "code",
   "execution_count": null,
   "id": "4650ac26",
   "metadata": {},
   "outputs": [],
   "source": [
    "understand the past data,and make the insights from the data,finally provide the decisions to the company"
   ]
  },
  {
   "cell_type": "code",
   "execution_count": null,
   "id": "75f7b967",
   "metadata": {},
   "outputs": [],
   "source": [
    "ex:you are a bank manager .you need to find if coustomers can apply for a loan and they are able to pay(or)not?\n",
    "age gender income cr    ms   pay \n",
    "30  m      50k    good  no   yes\n",
    "by using machine leaarning algorithms he will understand the patterns\n",
    "ex:Ipl,astrology"
   ]
  },
  {
   "cell_type": "code",
   "execution_count": null,
   "id": "63bef8bd",
   "metadata": {},
   "outputs": [],
   "source": [
    "--patterns"
   ]
  },
  {
   "cell_type": "code",
   "execution_count": null,
   "id": "f4475448",
   "metadata": {},
   "outputs": [],
   "source": [
    "x     y\n",
    "1     1\n",
    "2     4\n",
    "3     9\n",
    "4     16\n",
    "5     ?   =25\n",
    "\n",
    "steps:\n",
    "    1)pass the data\n",
    "         x=1   y=1\n",
    "         x=2   y=4\n",
    "    2) pattern=y=x*x\n",
    "    3)x=5 so y=25"
   ]
  },
  {
   "cell_type": "markdown",
   "id": "84e2644c",
   "metadata": {},
   "source": [
    "--requirements for DS:\n",
    " sql,python,power bi,stats,ml,dl,nlp,azure ml"
   ]
  },
  {
   "cell_type": "markdown",
   "id": "c1965e4f",
   "metadata": {},
   "source": [
    "---life cycle of DS "
   ]
  },
  {
   "cell_type": "code",
   "execution_count": null,
   "id": "15b99c65",
   "metadata": {},
   "outputs": [],
   "source": [
    "1)understand the business prblm\n",
    "2)data gather                   ------sql\n",
    "3)data preprocess               ------sql/python\n",
    "4)analyse the data              ------stats\n",
    "5)model building                ------ml/dl/nlp\n",
    "6)model evaluation              ------theory metrics\n",
    "7)model depolyement             ------azure ml"
   ]
  },
  {
   "cell_type": "code",
   "execution_count": null,
   "id": "2bd31ad0",
   "metadata": {},
   "outputs": [],
   "source": [
    "DS is divided into 3 parts\n",
    "   1)machine learning\n",
    "      -wine quality\n",
    "      -loan prediction\n",
    "      -stork prediction\n",
    "      -forecast\n",
    "   2)deep learning\n",
    "      -image analytics\n",
    "      -object detection\n",
    "      -video detection\n",
    "      -face  detection\n",
    "   3)natural language process\n",
    "      -text analytics\n",
    "      -chat boat\n",
    "      -review analysis\n",
    "      -next word prediction\n",
    "      -spell correction\n",
    "      -document summary\n",
    "      -automation resume building\n",
    "    4)generative AI"
   ]
  },
  {
   "cell_type": "markdown",
   "id": "3efa977a",
   "metadata": {},
   "source": [
    "EDA: expolartory data analysis"
   ]
  },
  {
   "cell_type": "markdown",
   "id": "8cb13cfb",
   "metadata": {},
   "source": [
    "--supervised learning:"
   ]
  },
  {
   "cell_type": "code",
   "execution_count": null,
   "id": "d307759a",
   "metadata": {},
   "outputs": [],
   "source": [
    "--if a data has both output,input columns\n",
    "--out put column has two types of data\n",
    "     1)categorical data: alphabets/qualitative data\n",
    "     2)numerical data: numbers/quantitative data\n",
    "     \n",
    "     \n",
    "--ex 1)visa dataset:----categorical data\n",
    "       output lables is:certified or denied\n",
    "      2)wine data:-----numerical data\n",
    "       output lables is :1 2 3 4"
   ]
  },
  {
   "cell_type": "code",
   "execution_count": null,
   "id": "69e7b718",
   "metadata": {},
   "outputs": [],
   "source": [
    "categorical data:                         numerical data:\n",
    "  -classification algorithms                -regression algorithms\n",
    "       ex:1,0                                      ex:1534\n",
    "         yes,no                                  -linear regression\n",
    "  -logistic regression                           -lasso regression\n",
    "  -decision tree                                 -ridge regression\n",
    "  -k-nearest neighbours\n",
    "  -navie bayes\n",
    "  -support vector mechines\n",
    "  -random forest\n",
    "  -boosting algorithms"
   ]
  },
  {
   "cell_type": "markdown",
   "id": "0cbc8332",
   "metadata": {},
   "source": [
    "---unsupervised learning:"
   ]
  },
  {
   "cell_type": "code",
   "execution_count": null,
   "id": "50737683",
   "metadata": {},
   "outputs": [],
   "source": [
    "there is no output label,there is no specific target\n",
    "      ex:airtel manager\n",
    "1)cluster algorithms/segmentation /grouping\n",
    "       ---k-means cluster\n",
    "       ---hierarchical cluster"
   ]
  },
  {
   "cell_type": "markdown",
   "id": "649b8a23",
   "metadata": {},
   "source": [
    "----reinforcement learning:"
   ]
  },
  {
   "cell_type": "code",
   "execution_count": null,
   "id": "64fa56be",
   "metadata": {},
   "outputs": [],
   "source": [
    "it will be based on situations\n",
    "      ex: human being ,google etc.\n",
    "    ---dl:images\n",
    "    ---nlp:text\n",
    "    ---AI technologies\n",
    "azure:ms-chat gpt\n",
    "gcp:google-bard\n",
    "AWS:amazon\n",
    "    notepad----file.text\n",
    "    word-------.doc\n",
    "    ppt--------.ppt"
   ]
  },
  {
   "cell_type": "markdown",
   "id": "2b2743b2",
   "metadata": {},
   "source": [
    "----platform names:"
   ]
  },
  {
   "cell_type": "raw",
   "id": "59e744ab",
   "metadata": {},
   "source": [
    "    jupyter notebook,jupyterlab,spyder\n",
    "1)anaconda: offers jupyter notebook to write pyton programs \n",
    "    you need interent foe installing but no need for runing\n",
    "       file extension----.ipynb\n",
    "2)google colab: jupyter notebook\n",
    "       GPU free--graphical processing unit\n",
    "       CPU ------central processing unit\n",
    "       tpu-------tensor processing unit\n",
    "      file extension----.ipynb \n",
    "    (i python notebook)\n",
    "3)apps\n",
    "    visual studio code(vs code)\n",
    "    pycharm\n",
    "    notepad++------.py\n",
    "4)azure data bricks\n",
    "   DE will use (data engernies)\n",
    "5)goggle work bench\n",
    "  gcp ,azure,aws"
   ]
  },
  {
   "cell_type": "markdown",
   "id": "55b1bb7a",
   "metadata": {},
   "source": [
    "----coding-file"
   ]
  },
  {
   "cell_type": "code",
   "execution_count": null,
   "id": "febaaa9f",
   "metadata": {},
   "outputs": [],
   "source": [
    "kernal---idle---white color \n",
    "        busy----black color\n",
    "        dead----red color\n",
    "markdown----to write some write ups"
   ]
  }
 ],
 "metadata": {
  "kernelspec": {
   "display_name": "Python 3 (ipykernel)",
   "language": "python",
   "name": "python3"
  },
  "language_info": {
   "codemirror_mode": {
    "name": "ipython",
    "version": 3
   },
   "file_extension": ".py",
   "mimetype": "text/x-python",
   "name": "python",
   "nbconvert_exporter": "python",
   "pygments_lexer": "ipython3",
   "version": "3.11.5"
  }
 },
 "nbformat": 4,
 "nbformat_minor": 5
}
