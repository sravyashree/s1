{
 "cells": [
  {
   "cell_type": "markdown",
   "id": "d65c8711",
   "metadata": {},
   "source": [
    "$list$"
   ]
  },
  {
   "cell_type": "code",
   "execution_count": null,
   "id": "35665575",
   "metadata": {},
   "outputs": [],
   "source": [
    "array of elements"
   ]
  },
  {
   "cell_type": "code",
   "execution_count": null,
   "id": "0f26913d",
   "metadata": {},
   "outputs": [],
   "source": [
    "string1=\"python\""
   ]
  },
  {
   "cell_type": "code",
   "execution_count": 3,
   "id": "55828156",
   "metadata": {},
   "outputs": [
    {
     "data": {
      "text/plain": [
       "[1, 2, 3, 4]"
      ]
     },
     "execution_count": 3,
     "metadata": {},
     "output_type": "execute_result"
    }
   ],
   "source": [
    "list1=[1,2,3,4]\n",
    "list1    #u can write numbers"
   ]
  },
  {
   "cell_type": "code",
   "execution_count": 4,
   "id": "5abca75d",
   "metadata": {},
   "outputs": [
    {
     "data": {
      "text/plain": [
       "['a', 'b', 'c', 'd']"
      ]
     },
     "execution_count": 4,
     "metadata": {},
     "output_type": "execute_result"
    }
   ],
   "source": [
    "list2=['a','b','c','d'] #u can write strings\n",
    "list2"
   ]
  },
  {
   "cell_type": "code",
   "execution_count": 5,
   "id": "7f8fb884",
   "metadata": {},
   "outputs": [
    {
     "data": {
      "text/plain": [
       "[1, 2, 3, 4, 'a', 'b', 'c']"
      ]
     },
     "execution_count": 5,
     "metadata": {},
     "output_type": "execute_result"
    }
   ],
   "source": [
    "list3=[1,2,3,4,'a','b','c']\n",
    "list3"
   ]
  },
  {
   "cell_type": "code",
   "execution_count": 6,
   "id": "8c568c75",
   "metadata": {},
   "outputs": [
    {
     "data": {
      "text/plain": [
       "[1, 'apple', 2, 10.3, (10+3j)]"
      ]
     },
     "execution_count": 6,
     "metadata": {},
     "output_type": "execute_result"
    }
   ],
   "source": [
    "list4=[1,\"apple\",2,10.3,(10+3j)]\n",
    "list4"
   ]
  },
  {
   "cell_type": "markdown",
   "id": "6ff2bc96",
   "metadata": {},
   "source": [
    "-list is an array of elements\n",
    "-list elements are heterogenous (different)data types are allowed\n",
    "-duplicates are  allowed\n",
    "-list in list will also works"
   ]
  },
  {
   "cell_type": "code",
   "execution_count": 7,
   "id": "f51c94cc",
   "metadata": {},
   "outputs": [
    {
     "data": {
      "text/plain": [
       "[100, 100, 100]"
      ]
     },
     "execution_count": 7,
     "metadata": {},
     "output_type": "execute_result"
    }
   ],
   "source": [
    "list5=[100,100,100]\n",
    "list5"
   ]
  },
  {
   "cell_type": "code",
   "execution_count": 8,
   "id": "115cdf01",
   "metadata": {},
   "outputs": [
    {
     "data": {
      "text/plain": [
       "[[1, 2, 3]]"
      ]
     },
     "execution_count": 8,
     "metadata": {},
     "output_type": "execute_result"
    }
   ],
   "source": [
    "list1=[[1,2,3]]\n",
    "list1"
   ]
  },
  {
   "cell_type": "code",
   "execution_count": 9,
   "id": "badb0e88",
   "metadata": {},
   "outputs": [
    {
     "data": {
      "text/plain": [
       "'1,2,3'"
      ]
     },
     "execution_count": 9,
     "metadata": {},
     "output_type": "execute_result"
    }
   ],
   "source": [
    "list1=[[\"1,2,3\"]]\n",
    "list1[0][0]"
   ]
  },
  {
   "cell_type": "code",
   "execution_count": 10,
   "id": "15a03ae0",
   "metadata": {},
   "outputs": [
    {
     "data": {
      "text/plain": [
       "list"
      ]
     },
     "execution_count": 10,
     "metadata": {},
     "output_type": "execute_result"
    }
   ],
   "source": [
    "list4=[1,\"apple\",2,10.3,(10+3j)]\n",
    "type(list4)"
   ]
  },
  {
   "cell_type": "code",
   "execution_count": 11,
   "id": "a46e7e52",
   "metadata": {},
   "outputs": [
    {
     "data": {
      "text/plain": [
       "list"
      ]
     },
     "execution_count": 11,
     "metadata": {},
     "output_type": "execute_result"
    }
   ],
   "source": [
    "list3=[1,2,3,4,'a','b','c']\n",
    "type(list3)"
   ]
  },
  {
   "cell_type": "code",
   "execution_count": 12,
   "id": "7f1918a7",
   "metadata": {},
   "outputs": [
    {
     "data": {
      "text/plain": [
       "4"
      ]
     },
     "execution_count": 12,
     "metadata": {},
     "output_type": "execute_result"
    }
   ],
   "source": [
    "list1=[1,2,3,4]\n",
    "max(list1)"
   ]
  },
  {
   "cell_type": "code",
   "execution_count": 13,
   "id": "f74073fc",
   "metadata": {},
   "outputs": [
    {
     "data": {
      "text/plain": [
       "'d'"
      ]
     },
     "execution_count": 13,
     "metadata": {},
     "output_type": "execute_result"
    }
   ],
   "source": [
    "list2=['a','b','c','d'] \n",
    "max(list2)"
   ]
  },
  {
   "cell_type": "code",
   "execution_count": 14,
   "id": "bdf9804b",
   "metadata": {},
   "outputs": [
    {
     "ename": "TypeError",
     "evalue": "'>' not supported between instances of 'str' and 'int'",
     "output_type": "error",
     "traceback": [
      "\u001b[1;31m---------------------------------------------------------------------------\u001b[0m",
      "\u001b[1;31mTypeError\u001b[0m                                 Traceback (most recent call last)",
      "Cell \u001b[1;32mIn[14], line 2\u001b[0m\n\u001b[0;32m      1\u001b[0m list3\u001b[38;5;241m=\u001b[39m[\u001b[38;5;241m1\u001b[39m,\u001b[38;5;241m2\u001b[39m,\u001b[38;5;241m3\u001b[39m,\u001b[38;5;241m4\u001b[39m,\u001b[38;5;124m'\u001b[39m\u001b[38;5;124ma\u001b[39m\u001b[38;5;124m'\u001b[39m,\u001b[38;5;124m'\u001b[39m\u001b[38;5;124mb\u001b[39m\u001b[38;5;124m'\u001b[39m,\u001b[38;5;124m'\u001b[39m\u001b[38;5;124mc\u001b[39m\u001b[38;5;124m'\u001b[39m]\n\u001b[1;32m----> 2\u001b[0m \u001b[38;5;28mmax\u001b[39m(list3)\n",
      "\u001b[1;31mTypeError\u001b[0m: '>' not supported between instances of 'str' and 'int'"
     ]
    }
   ],
   "source": [
    "list3=[1,2,3,4,'a','b','c']\n",
    "max(list3)"
   ]
  },
  {
   "cell_type": "code",
   "execution_count": 15,
   "id": "d048624a",
   "metadata": {},
   "outputs": [
    {
     "ename": "TypeError",
     "evalue": "'>' not supported between instances of 'str' and 'int'",
     "output_type": "error",
     "traceback": [
      "\u001b[1;31m---------------------------------------------------------------------------\u001b[0m",
      "\u001b[1;31mTypeError\u001b[0m                                 Traceback (most recent call last)",
      "Cell \u001b[1;32mIn[15], line 2\u001b[0m\n\u001b[0;32m      1\u001b[0m list4\u001b[38;5;241m=\u001b[39m[\u001b[38;5;241m1\u001b[39m,\u001b[38;5;124m\"\u001b[39m\u001b[38;5;124mapple\u001b[39m\u001b[38;5;124m\"\u001b[39m,\u001b[38;5;241m2\u001b[39m,\u001b[38;5;241m10.3\u001b[39m,(\u001b[38;5;241m10\u001b[39m\u001b[38;5;241m+\u001b[39m\u001b[38;5;241m3\u001b[39mj)]\n\u001b[1;32m----> 2\u001b[0m \u001b[38;5;28mmax\u001b[39m(list4)\n",
      "\u001b[1;31mTypeError\u001b[0m: '>' not supported between instances of 'str' and 'int'"
     ]
    }
   ],
   "source": [
    "list4=[1,\"apple\",2,10.3,(10+3j)]\n",
    "max(list4)"
   ]
  },
  {
   "cell_type": "code",
   "execution_count": 16,
   "id": "9e5c4e3c",
   "metadata": {},
   "outputs": [],
   "source": [
    "#list1 #4\n",
    "#list2 #d=====>ascii ord\n",
    "#list3 #error we cant compare different data types\n",
    "#list4 #error we cant compare different data types"
   ]
  },
  {
   "cell_type": "code",
   "execution_count": 17,
   "id": "466b794a",
   "metadata": {},
   "outputs": [
    {
     "data": {
      "text/plain": [
       "1"
      ]
     },
     "execution_count": 17,
     "metadata": {},
     "output_type": "execute_result"
    }
   ],
   "source": [
    "list1=[1,2,3,4]\n",
    "min(list1)"
   ]
  },
  {
   "cell_type": "code",
   "execution_count": 18,
   "id": "b9e1e4de",
   "metadata": {},
   "outputs": [
    {
     "data": {
      "text/plain": [
       "'a'"
      ]
     },
     "execution_count": 18,
     "metadata": {},
     "output_type": "execute_result"
    }
   ],
   "source": [
    "min(list2)"
   ]
  },
  {
   "cell_type": "code",
   "execution_count": 19,
   "id": "934ccc30",
   "metadata": {},
   "outputs": [
    {
     "ename": "TypeError",
     "evalue": "'<' not supported between instances of 'str' and 'int'",
     "output_type": "error",
     "traceback": [
      "\u001b[1;31m---------------------------------------------------------------------------\u001b[0m",
      "\u001b[1;31mTypeError\u001b[0m                                 Traceback (most recent call last)",
      "Cell \u001b[1;32mIn[19], line 1\u001b[0m\n\u001b[1;32m----> 1\u001b[0m \u001b[38;5;28mmin\u001b[39m(list3)\n",
      "\u001b[1;31mTypeError\u001b[0m: '<' not supported between instances of 'str' and 'int'"
     ]
    }
   ],
   "source": [
    "min(list3)"
   ]
  },
  {
   "cell_type": "code",
   "execution_count": 20,
   "id": "54a41a17",
   "metadata": {},
   "outputs": [
    {
     "data": {
      "text/plain": [
       "4"
      ]
     },
     "execution_count": 20,
     "metadata": {},
     "output_type": "execute_result"
    }
   ],
   "source": [
    "len(list1)"
   ]
  },
  {
   "cell_type": "code",
   "execution_count": 21,
   "id": "cc175ce7",
   "metadata": {},
   "outputs": [
    {
     "data": {
      "text/plain": [
       "4"
      ]
     },
     "execution_count": 21,
     "metadata": {},
     "output_type": "execute_result"
    }
   ],
   "source": [
    "len(list2)"
   ]
  },
  {
   "cell_type": "code",
   "execution_count": 22,
   "id": "9ea75e81",
   "metadata": {},
   "outputs": [
    {
     "data": {
      "text/plain": [
       "7"
      ]
     },
     "execution_count": 22,
     "metadata": {},
     "output_type": "execute_result"
    }
   ],
   "source": [
    "len(list3)"
   ]
  },
  {
   "cell_type": "code",
   "execution_count": 23,
   "id": "1f8e79c3",
   "metadata": {},
   "outputs": [
    {
     "data": {
      "text/plain": [
       "5"
      ]
     },
     "execution_count": 23,
     "metadata": {},
     "output_type": "execute_result"
    }
   ],
   "source": [
    "len(list4)"
   ]
  },
  {
   "cell_type": "markdown",
   "id": "a8de495d",
   "metadata": {},
   "source": [
    "sum"
   ]
  },
  {
   "cell_type": "code",
   "execution_count": 24,
   "id": "992805d1",
   "metadata": {},
   "outputs": [
    {
     "data": {
      "text/plain": [
       "10"
      ]
     },
     "execution_count": 24,
     "metadata": {},
     "output_type": "execute_result"
    }
   ],
   "source": [
    "sum(list1)"
   ]
  },
  {
   "cell_type": "code",
   "execution_count": 25,
   "id": "207b1331",
   "metadata": {},
   "outputs": [
    {
     "name": "stdout",
     "output_type": "stream",
     "text": [
      "[1, 2, 3, 4]\n",
      "10\n"
     ]
    }
   ],
   "source": [
    "print(list1)\n",
    "print(sum(list1))"
   ]
  },
  {
   "cell_type": "code",
   "execution_count": 26,
   "id": "428117a5",
   "metadata": {},
   "outputs": [
    {
     "ename": "TypeError",
     "evalue": "unsupported operand type(s) for +: 'int' and 'str'",
     "output_type": "error",
     "traceback": [
      "\u001b[1;31m---------------------------------------------------------------------------\u001b[0m",
      "\u001b[1;31mTypeError\u001b[0m                                 Traceback (most recent call last)",
      "Cell \u001b[1;32mIn[26], line 1\u001b[0m\n\u001b[1;32m----> 1\u001b[0m \u001b[38;5;28msum\u001b[39m(list2)\n",
      "\u001b[1;31mTypeError\u001b[0m: unsupported operand type(s) for +: 'int' and 'str'"
     ]
    }
   ],
   "source": [
    "sum(list2)"
   ]
  },
  {
   "cell_type": "markdown",
   "id": "71579d2e",
   "metadata": {},
   "source": [
    "-sum\n",
    "-range\n",
    "-eval"
   ]
  },
  {
   "cell_type": "markdown",
   "id": "8d85c9ae",
   "metadata": {},
   "source": [
    "$in operator$"
   ]
  },
  {
   "cell_type": "code",
   "execution_count": 28,
   "id": "8551f0f2",
   "metadata": {},
   "outputs": [
    {
     "data": {
      "text/plain": [
       "True"
      ]
     },
     "execution_count": 28,
     "metadata": {},
     "output_type": "execute_result"
    }
   ],
   "source": [
    "1 in list1"
   ]
  },
  {
   "cell_type": "code",
   "execution_count": 29,
   "id": "073b14c5",
   "metadata": {},
   "outputs": [
    {
     "data": {
      "text/plain": [
       "True"
      ]
     },
     "execution_count": 29,
     "metadata": {},
     "output_type": "execute_result"
    }
   ],
   "source": [
    "2 in list1"
   ]
  },
  {
   "cell_type": "code",
   "execution_count": 30,
   "id": "46b6bff9",
   "metadata": {},
   "outputs": [
    {
     "data": {
      "text/plain": [
       "True"
      ]
     },
     "execution_count": 30,
     "metadata": {},
     "output_type": "execute_result"
    }
   ],
   "source": [
    "3 in list1"
   ]
  },
  {
   "cell_type": "code",
   "execution_count": 31,
   "id": "0a17bb5b",
   "metadata": {},
   "outputs": [
    {
     "data": {
      "text/plain": [
       "True"
      ]
     },
     "execution_count": 31,
     "metadata": {},
     "output_type": "execute_result"
    }
   ],
   "source": [
    "4 in list1"
   ]
  },
  {
   "cell_type": "code",
   "execution_count": 32,
   "id": "c5a6ee8f",
   "metadata": {},
   "outputs": [
    {
     "data": {
      "text/plain": [
       "False"
      ]
     },
     "execution_count": 32,
     "metadata": {},
     "output_type": "execute_result"
    }
   ],
   "source": [
    "5 in list1"
   ]
  },
  {
   "cell_type": "code",
   "execution_count": 33,
   "id": "6e60b5e3",
   "metadata": {},
   "outputs": [
    {
     "name": "stdout",
     "output_type": "stream",
     "text": [
      "1\n",
      "2\n",
      "3\n",
      "4\n"
     ]
    }
   ],
   "source": [
    "#can i iterate through for loop\n",
    "for i in list1:\n",
    "    print(i)"
   ]
  },
  {
   "cell_type": "markdown",
   "id": "cfd98cb8",
   "metadata": {},
   "source": [
    "$concatenation$"
   ]
  },
  {
   "cell_type": "code",
   "execution_count": 34,
   "id": "27110c6a",
   "metadata": {},
   "outputs": [
    {
     "data": {
      "text/plain": [
       "[1, 2, 3, 4]"
      ]
     },
     "execution_count": 34,
     "metadata": {},
     "output_type": "execute_result"
    }
   ],
   "source": [
    "list1"
   ]
  },
  {
   "cell_type": "code",
   "execution_count": 35,
   "id": "dbfdd83d",
   "metadata": {},
   "outputs": [
    {
     "data": {
      "text/plain": [
       "['a', 'b', 'c', 'd']"
      ]
     },
     "execution_count": 35,
     "metadata": {},
     "output_type": "execute_result"
    }
   ],
   "source": [
    "list2"
   ]
  },
  {
   "cell_type": "code",
   "execution_count": 36,
   "id": "f301a2b0",
   "metadata": {},
   "outputs": [
    {
     "name": "stdout",
     "output_type": "stream",
     "text": [
      "[1, 2, 3, 4, 'a', 'b', 'c', 'd']\n",
      "['a', 'b', 'c', 'd', 1, 2, 3, 4]\n"
     ]
    }
   ],
   "source": [
    "print(list1+list2)\n",
    "print(list2+list1)"
   ]
  },
  {
   "cell_type": "code",
   "execution_count": 37,
   "id": "8bd2bbdc",
   "metadata": {},
   "outputs": [],
   "source": [
    "new_list=(list1+list2)"
   ]
  },
  {
   "cell_type": "code",
   "execution_count": 38,
   "id": "315cc99a",
   "metadata": {},
   "outputs": [
    {
     "data": {
      "text/plain": [
       "[1, 2, 3, 4, 'a', 'b', 'c', 'd']"
      ]
     },
     "execution_count": 38,
     "metadata": {},
     "output_type": "execute_result"
    }
   ],
   "source": [
    "new_list"
   ]
  },
  {
   "cell_type": "code",
   "execution_count": 39,
   "id": "944a471d",
   "metadata": {},
   "outputs": [
    {
     "data": {
      "text/plain": [
       "[1, 2, 3, 4, 1, 2, 3, 4, 1, 2, 3, 4]"
      ]
     },
     "execution_count": 39,
     "metadata": {},
     "output_type": "execute_result"
    }
   ],
   "source": [
    "list1*3"
   ]
  },
  {
   "cell_type": "code",
   "execution_count": 40,
   "id": "a73b915d",
   "metadata": {},
   "outputs": [
    {
     "ename": "TypeError",
     "evalue": "unsupported operand type(s) for -: 'list' and 'list'",
     "output_type": "error",
     "traceback": [
      "\u001b[1;31m---------------------------------------------------------------------------\u001b[0m",
      "\u001b[1;31mTypeError\u001b[0m                                 Traceback (most recent call last)",
      "Cell \u001b[1;32mIn[40], line 1\u001b[0m\n\u001b[1;32m----> 1\u001b[0m list1\u001b[38;5;241m-\u001b[39mlist2\n",
      "\u001b[1;31mTypeError\u001b[0m: unsupported operand type(s) for -: 'list' and 'list'"
     ]
    }
   ],
   "source": [
    "list1-list2"
   ]
  },
  {
   "cell_type": "code",
   "execution_count": 41,
   "id": "a4fe0426",
   "metadata": {},
   "outputs": [
    {
     "ename": "TypeError",
     "evalue": "can't multiply sequence by non-int of type 'list'",
     "output_type": "error",
     "traceback": [
      "\u001b[1;31m---------------------------------------------------------------------------\u001b[0m",
      "\u001b[1;31mTypeError\u001b[0m                                 Traceback (most recent call last)",
      "Cell \u001b[1;32mIn[41], line 1\u001b[0m\n\u001b[1;32m----> 1\u001b[0m list1\u001b[38;5;241m*\u001b[39mlist2\n",
      "\u001b[1;31mTypeError\u001b[0m: can't multiply sequence by non-int of type 'list'"
     ]
    }
   ],
   "source": [
    "list1*list2"
   ]
  },
  {
   "cell_type": "code",
   "execution_count": 42,
   "id": "a3afbb37",
   "metadata": {},
   "outputs": [
    {
     "ename": "TypeError",
     "evalue": "unsupported operand type(s) for /: 'list' and 'list'",
     "output_type": "error",
     "traceback": [
      "\u001b[1;31m---------------------------------------------------------------------------\u001b[0m",
      "\u001b[1;31mTypeError\u001b[0m                                 Traceback (most recent call last)",
      "Cell \u001b[1;32mIn[42], line 1\u001b[0m\n\u001b[1;32m----> 1\u001b[0m list1\u001b[38;5;241m/\u001b[39mlist2\n",
      "\u001b[1;31mTypeError\u001b[0m: unsupported operand type(s) for /: 'list' and 'list'"
     ]
    }
   ],
   "source": [
    "list1/list2"
   ]
  },
  {
   "cell_type": "markdown",
   "id": "a0fd1d97",
   "metadata": {},
   "source": [
    " $index$"
   ]
  },
  {
   "cell_type": "code",
   "execution_count": 43,
   "id": "9b17b3d7",
   "metadata": {},
   "outputs": [
    {
     "data": {
      "text/plain": [
       "[1, 2, 3, 4, 'a', 'b', 'c']"
      ]
     },
     "execution_count": 43,
     "metadata": {},
     "output_type": "execute_result"
    }
   ],
   "source": [
    "list3"
   ]
  },
  {
   "cell_type": "code",
   "execution_count": 44,
   "id": "4e131b63",
   "metadata": {},
   "outputs": [
    {
     "data": {
      "text/plain": [
       "(1, 2, 3, 4)"
      ]
     },
     "execution_count": 44,
     "metadata": {},
     "output_type": "execute_result"
    }
   ],
   "source": [
    "#python index starts with zero\n",
    "list1[0],list2[1],list3[3],list4[4]\n",
    "list3[0],list3[1],list3[2],list3[3]"
   ]
  },
  {
   "cell_type": "code",
   "execution_count": 45,
   "id": "62c718e4",
   "metadata": {},
   "outputs": [
    {
     "name": "stdout",
     "output_type": "stream",
     "text": [
      "0 1\n",
      "1 2\n",
      "2 3\n",
      "3 4\n",
      "4 a\n",
      "5 b\n",
      "6 c\n"
     ]
    }
   ],
   "source": [
    "for i in range(len(list3)):\n",
    "    print(i,list3[i])"
   ]
  },
  {
   "cell_type": "markdown",
   "id": "ef110d3d",
   "metadata": {},
   "source": [
    "-1-2-3-4-5-6-7-8\n",
    "1  2 3 4 a b c d \n",
    "0  1 2 3 4 5 6 7"
   ]
  },
  {
   "cell_type": "code",
   "execution_count": 49,
   "id": "535242d4",
   "metadata": {},
   "outputs": [
    {
     "name": "stdout",
     "output_type": "stream",
     "text": [
      "positive index0 and negative index is-7 for a element 1\n",
      "positive index1 and negative index is-6 for a element 2\n",
      "positive index2 and negative index is-5 for a element 3\n",
      "positive index3 and negative index is-4 for a element 4\n",
      "positive index4 and negative index is-3 for a element a\n",
      "positive index5 and negative index is-2 for a element b\n",
      "positive index6 and negative index is-1 for a element c\n"
     ]
    }
   ],
   "source": [
    "for i in range(len(list3)):\n",
    "    print(\"positive index{} and negative index is{} for a element {}\".format(i,i-len(list3),list3[i]))\n",
    "#     print(len(list3))"
   ]
  },
  {
   "cell_type": "code",
   "execution_count": 1,
   "id": "cf95f35b",
   "metadata": {},
   "outputs": [
    {
     "name": "stdout",
     "output_type": "stream",
     "text": [
      "ab\n",
      "cd\n",
      "ef\n"
     ]
    }
   ],
   "source": [
    "#wap find the elements which are having len<3\n",
    "#list=[\"apple\",\"ball\",\"cat\",\"ab\",\"cd\".\"ef\"]\n",
    "list1=[\"apple\",\"ball\",\"cat\",\"ab\",\"cd\",\"ef\"]\n",
    "for i in range(len(list1)):\n",
    "# print(list1[i])\n",
    "    if len(list1[i])<3:\n",
    "        print(list1[i])\n",
    "# for i in list1:\n",
    "#     if len(i)<3:\n",
    "#         print(i)"
   ]
  },
  {
   "cell_type": "code",
   "execution_count": 58,
   "id": "6bde979b",
   "metadata": {},
   "outputs": [
    {
     "name": "stdout",
     "output_type": "stream",
     "text": [
      "ab\n",
      "cd\n",
      "ef\n"
     ]
    }
   ],
   "source": [
    "for i in list1:\n",
    "    if len(i)<3:\n",
    "        print(i)"
   ]
  },
  {
   "cell_type": "code",
   "execution_count": 6,
   "id": "a775dfda",
   "metadata": {
    "scrolled": true
   },
   "outputs": [
    {
     "name": "stdout",
     "output_type": "stream",
     "text": [
      "ap#le\n",
      "b#ll\n",
      "c#t\n",
      "ab\n",
      "cd\n",
      "ef\n",
      "#\n",
      "#\n"
     ]
    }
   ],
   "source": [
    "#wap the elements which are having #symbol\n",
    "#list=[\"ap#le\",\"b#ll\",\"c#t\",\"ab\",\"cd\".\"ef\"]\n",
    "list1=[\"ap#le\",\"b#ll\",\"c#t\",\"ab\",\"cd\",\"ef\",\"#\"]\n",
    "for i in range(len(list1)):\n",
    "    print(list1[i])\n",
    "    if list1[i]==\"#\":\n",
    "        print(list1[i])"
   ]
  },
  {
   "cell_type": "code",
   "execution_count": 7,
   "id": "f5273293",
   "metadata": {
    "scrolled": true
   },
   "outputs": [
    {
     "name": "stdout",
     "output_type": "stream",
     "text": [
      "ap#le\n",
      "b#ll\n",
      "c#t\n",
      "ab\n",
      "cd\n",
      "ef\n",
      "#\n"
     ]
    }
   ],
   "source": [
    "for i in range(len(list1)):\n",
    "    print(list1[i])"
   ]
  },
  {
   "cell_type": "code",
   "execution_count": 76,
   "id": "1bc5fc72",
   "metadata": {},
   "outputs": [
    {
     "name": "stdout",
     "output_type": "stream",
     "text": [
      "ap#le\n",
      "b#ll\n",
      "c#t\n",
      "3\n"
     ]
    }
   ],
   "source": [
    "list1=[\"ap#le\",\"b#ll\",\"c#t\",\"ab\",\"cd\",\"ef\"]\n",
    "count=0\n",
    "for i in list1:\n",
    "    if \"#\" in i:\n",
    "        print(i)\n",
    "        count=count+1\n",
    "print(count)"
   ]
  },
  {
   "cell_type": "code",
   "execution_count": 136,
   "id": "c0a17222",
   "metadata": {},
   "outputs": [
    {
     "data": {
      "text/plain": [
       "[1, 2, 3, 4]"
      ]
     },
     "execution_count": 136,
     "metadata": {},
     "output_type": "execute_result"
    }
   ],
   "source": [
    "list1=[1,2,3,4]\n",
    "list1"
   ]
  },
  {
   "cell_type": "code",
   "execution_count": 140,
   "id": "e01c1758",
   "metadata": {},
   "outputs": [
    {
     "data": {
      "text/plain": [
       "0"
      ]
     },
     "execution_count": 140,
     "metadata": {},
     "output_type": "execute_result"
    }
   ],
   "source": [
    "list2=[3]\n",
    "list2.index(3)"
   ]
  },
  {
   "cell_type": "code",
   "execution_count": 86,
   "id": "e5bf3e27",
   "metadata": {},
   "outputs": [
    {
     "data": {
      "text/plain": [
       "4"
      ]
     },
     "execution_count": 86,
     "metadata": {},
     "output_type": "execute_result"
    }
   ],
   "source": [
    "list1=[1,2,3,[\"apple\",\"ball\"]]\n",
    "#retrive the ball using index\n",
    "len(list1)"
   ]
  },
  {
   "cell_type": "code",
   "execution_count": 85,
   "id": "48e07f01",
   "metadata": {},
   "outputs": [
    {
     "data": {
      "text/plain": [
       "'ball'"
      ]
     },
     "execution_count": 85,
     "metadata": {},
     "output_type": "execute_result"
    }
   ],
   "source": [
    "list1=[1,2,3,[\"apple\",\"ball\"]]\n",
    "list1[3][1]"
   ]
  },
  {
   "cell_type": "code",
   "execution_count": 94,
   "id": "8e075b11",
   "metadata": {
    "scrolled": true
   },
   "outputs": [
    {
     "data": {
      "text/plain": [
       "'cherry'"
      ]
     },
     "execution_count": 94,
     "metadata": {},
     "output_type": "execute_result"
    }
   ],
   "source": [
    "list2=[[[[[[[\"cherry\"]]]]]]]\n",
    "list2[0][0][0][0][0][0][0]"
   ]
  },
  {
   "cell_type": "code",
   "execution_count": 145,
   "id": "80e56c6d",
   "metadata": {},
   "outputs": [
    {
     "data": {
      "text/plain": [
       "[[['cherry']]]"
      ]
     },
     "execution_count": 145,
     "metadata": {},
     "output_type": "execute_result"
    }
   ],
   "source": [
    "list2=[[[[[[[\"cherry\"]]]]]]]\n",
    "list2[0][0][0][0]"
   ]
  },
  {
   "cell_type": "code",
   "execution_count": 109,
   "id": "126cdda5",
   "metadata": {},
   "outputs": [
    {
     "data": {
      "text/plain": [
       "'car'"
      ]
     },
     "execution_count": 109,
     "metadata": {},
     "output_type": "execute_result"
    }
   ],
   "source": [
    "list3=[[[[\"a\",\"b\",[[[1,2,3,[\"car\"]]]]]]]]\n",
    "list3[0][0][0][2][0][0][3][0]"
   ]
  },
  {
   "cell_type": "code",
   "execution_count": 158,
   "id": "9d963e23",
   "metadata": {},
   "outputs": [
    {
     "data": {
      "text/plain": [
       "'car'"
      ]
     },
     "execution_count": 158,
     "metadata": {},
     "output_type": "execute_result"
    }
   ],
   "source": [
    "list3=[[[[\"a\",\"b\",[[[1,2,3,[\"car\"]]]]]]]]\n",
    "list3[0][0][0][2][0][0][3][0]"
   ]
  },
  {
   "cell_type": "code",
   "execution_count": 110,
   "id": "5acf6e71",
   "metadata": {},
   "outputs": [],
   "source": [
    "list5=[9,8,7]\n"
   ]
  },
  {
   "cell_type": "code",
   "execution_count": 111,
   "id": "9f194e03",
   "metadata": {},
   "outputs": [
    {
     "data": {
      "text/plain": [
       "9"
      ]
     },
     "execution_count": 111,
     "metadata": {},
     "output_type": "execute_result"
    }
   ],
   "source": [
    "list5[0]"
   ]
  },
  {
   "cell_type": "code",
   "execution_count": 112,
   "id": "8c9fe51d",
   "metadata": {},
   "outputs": [
    {
     "data": {
      "text/plain": [
       "8"
      ]
     },
     "execution_count": 112,
     "metadata": {},
     "output_type": "execute_result"
    }
   ],
   "source": [
    "list5[1]"
   ]
  },
  {
   "cell_type": "code",
   "execution_count": null,
   "id": "3d5dc050",
   "metadata": {},
   "outputs": [],
   "source": [
    "list6=[]"
   ]
  },
  {
   "cell_type": "markdown",
   "id": "420acc8e",
   "metadata": {},
   "source": [
    "$mutable$"
   ]
  },
  {
   "cell_type": "code",
   "execution_count": 115,
   "id": "01da5a2b",
   "metadata": {},
   "outputs": [
    {
     "data": {
      "text/plain": [
       "'weLcome'"
      ]
     },
     "execution_count": 115,
     "metadata": {},
     "output_type": "execute_result"
    }
   ],
   "source": [
    "list1=\"welcome\"\n",
    "list1.replace(\"l\",\"L\")"
   ]
  },
  {
   "cell_type": "code",
   "execution_count": 117,
   "id": "5b1b6f87",
   "metadata": {},
   "outputs": [
    {
     "data": {
      "text/plain": [
       "[100, 'b', 'c']"
      ]
     },
     "execution_count": 117,
     "metadata": {},
     "output_type": "execute_result"
    }
   ],
   "source": [
    "list1=[\"a\",\"b\",\"c\"]\n",
    "list1[0]=100\n",
    "list1"
   ]
  },
  {
   "cell_type": "markdown",
   "id": "4372ba0d",
   "metadata": {},
   "source": [
    "$slice$"
   ]
  },
  {
   "cell_type": "code",
   "execution_count": 159,
   "id": "2035c22d",
   "metadata": {},
   "outputs": [
    {
     "name": "stdout",
     "output_type": "stream",
     "text": [
      "[30, 'p', 'h', 'a']\n",
      "[]\n",
      "[]\n",
      "[30]\n",
      "['c']\n",
      "[]\n",
      "['c', 'n', 't', 50]\n",
      "[]\n"
     ]
    }
   ],
   "source": [
    "list1=[10,20,30,40,50,\"p\",\"y\",\"t\",\"h\",\"o\",\"n\",\"a\",\"b\",\"c\",\"d\"]\n",
    "print(list1[2:14:3])\n",
    "print(list1[2:14:-3])\n",
    "print(list1[2:-14:3])\n",
    "print(list1[2:-14:-3])\n",
    "print(list1[-2:14:3])\n",
    "print(list1[-2:-14:3])\n",
    "print(list1[-2:-14:-3])\n",
    "print(list1[-2:14:-3])"
   ]
  },
  {
   "cell_type": "code",
   "execution_count": 160,
   "id": "c0bf9f5b",
   "metadata": {},
   "outputs": [
    {
     "data": {
      "text/plain": [
       "['__add__',\n",
       " '__class__',\n",
       " '__class_getitem__',\n",
       " '__contains__',\n",
       " '__delattr__',\n",
       " '__delitem__',\n",
       " '__dir__',\n",
       " '__doc__',\n",
       " '__eq__',\n",
       " '__format__',\n",
       " '__ge__',\n",
       " '__getattribute__',\n",
       " '__getitem__',\n",
       " '__getstate__',\n",
       " '__gt__',\n",
       " '__hash__',\n",
       " '__iadd__',\n",
       " '__imul__',\n",
       " '__init__',\n",
       " '__init_subclass__',\n",
       " '__iter__',\n",
       " '__le__',\n",
       " '__len__',\n",
       " '__lt__',\n",
       " '__mul__',\n",
       " '__ne__',\n",
       " '__new__',\n",
       " '__reduce__',\n",
       " '__reduce_ex__',\n",
       " '__repr__',\n",
       " '__reversed__',\n",
       " '__rmul__',\n",
       " '__setattr__',\n",
       " '__setitem__',\n",
       " '__sizeof__',\n",
       " '__str__',\n",
       " '__subclasshook__',\n",
       " 'append',\n",
       " 'clear',\n",
       " 'copy',\n",
       " 'count',\n",
       " 'extend',\n",
       " 'index',\n",
       " 'insert',\n",
       " 'pop',\n",
       " 'remove',\n",
       " 'reverse',\n",
       " 'sort']"
      ]
     },
     "execution_count": 160,
     "metadata": {},
     "output_type": "execute_result"
    }
   ],
   "source": [
    "dir([])"
   ]
  },
  {
   "cell_type": "markdown",
   "id": "0985a525",
   "metadata": {},
   "source": [
    "$clear-copy$"
   ]
  },
  {
   "cell_type": "code",
   "execution_count": 125,
   "id": "e2e92a9d",
   "metadata": {},
   "outputs": [
    {
     "data": {
      "text/plain": [
       "[1, 2, 3, 4]"
      ]
     },
     "execution_count": 125,
     "metadata": {},
     "output_type": "execute_result"
    }
   ],
   "source": [
    "list1=[1,2,3,4]\n",
    "#i want to copy these elements in a list2\n",
    "list2=list1.copy()\n",
    "list2"
   ]
  },
  {
   "cell_type": "code",
   "execution_count": 126,
   "id": "e388b7f2",
   "metadata": {},
   "outputs": [],
   "source": [
    "list1.clear()"
   ]
  },
  {
   "cell_type": "code",
   "execution_count": 127,
   "id": "27dfe41c",
   "metadata": {},
   "outputs": [
    {
     "name": "stdout",
     "output_type": "stream",
     "text": [
      "list1: []\n",
      "list2: [1, 2, 3, 4]\n"
     ]
    }
   ],
   "source": [
    "print(\"list1:\",list1)\n",
    "print(\"list2:\",list2)"
   ]
  },
  {
   "cell_type": "markdown",
   "id": "ea09b0c2",
   "metadata": {},
   "source": [
    "17-11-2023"
   ]
  },
  {
   "cell_type": "markdown",
   "id": "11e87e94",
   "metadata": {},
   "source": [
    "$list methods$"
   ]
  },
  {
   "cell_type": "markdown",
   "id": "442f9cc0",
   "metadata": {},
   "source": [
    "$append$"
   ]
  },
  {
   "cell_type": "code",
   "execution_count": 2,
   "id": "0d30ccfe",
   "metadata": {},
   "outputs": [
    {
     "data": {
      "text/plain": [
       "[100, 200, 300]"
      ]
     },
     "execution_count": 2,
     "metadata": {},
     "output_type": "execute_result"
    }
   ],
   "source": [
    "#add something to the end of a written document\n",
    "list1=[100,200]\n",
    "#[100,200,300]\n",
    "list1.append(300)\n",
    "list1"
   ]
  },
  {
   "cell_type": "code",
   "execution_count": 3,
   "id": "26868e5f",
   "metadata": {},
   "outputs": [
    {
     "data": {
      "text/plain": [
       "[100, 200, 300]"
      ]
     },
     "execution_count": 3,
     "metadata": {},
     "output_type": "execute_result"
    }
   ],
   "source": [
    "list1=[]\n",
    "list1.append(100)\n",
    "list1.append(200)\n",
    "list1.append(300)\n",
    "list1"
   ]
  },
  {
   "cell_type": "code",
   "execution_count": 5,
   "id": "3063b485",
   "metadata": {},
   "outputs": [
    {
     "ename": "TypeError",
     "evalue": "list.append() takes exactly one argument (2 given)",
     "output_type": "error",
     "traceback": [
      "\u001b[1;31m---------------------------------------------------------------------------\u001b[0m",
      "\u001b[1;31mTypeError\u001b[0m                                 Traceback (most recent call last)",
      "Cell \u001b[1;32mIn[5], line 2\u001b[0m\n\u001b[0;32m      1\u001b[0m list1\u001b[38;5;241m=\u001b[39m[]\n\u001b[1;32m----> 2\u001b[0m list1\u001b[38;5;241m.\u001b[39mappend(\u001b[38;5;241m100\u001b[39m,\u001b[38;5;241m200\u001b[39m)\n\u001b[0;32m      3\u001b[0m list1\n",
      "\u001b[1;31mTypeError\u001b[0m: list.append() takes exactly one argument (2 given)"
     ]
    }
   ],
   "source": [
    "list1=[]\n",
    "list1.append(100,200) #list.append() take only one agrument\n",
    "list1"
   ]
  },
  {
   "cell_type": "code",
   "execution_count": 6,
   "id": "ac9713d6",
   "metadata": {},
   "outputs": [],
   "source": [
    "list1.append([100,200])"
   ]
  },
  {
   "cell_type": "code",
   "execution_count": 7,
   "id": "c4b42b9c",
   "metadata": {},
   "outputs": [
    {
     "data": {
      "text/plain": [
       "[[100, 200]]"
      ]
     },
     "execution_count": 7,
     "metadata": {},
     "output_type": "execute_result"
    }
   ],
   "source": [
    "list1"
   ]
  },
  {
   "cell_type": "code",
   "execution_count": 9,
   "id": "5ee7e922",
   "metadata": {},
   "outputs": [],
   "source": [
    "list1.append([100,200,\"apple\"])"
   ]
  },
  {
   "cell_type": "code",
   "execution_count": 10,
   "id": "465cec48",
   "metadata": {},
   "outputs": [
    {
     "data": {
      "text/plain": [
       "[[100, 200], [100, 200, 'apple']]"
      ]
     },
     "execution_count": 10,
     "metadata": {},
     "output_type": "execute_result"
    }
   ],
   "source": [
    "list1"
   ]
  },
  {
   "cell_type": "code",
   "execution_count": 11,
   "id": "3ca2df04",
   "metadata": {},
   "outputs": [
    {
     "name": "stdout",
     "output_type": "stream",
     "text": [
      "1\n",
      "4\n",
      "9\n",
      "16\n",
      "25\n"
     ]
    }
   ],
   "source": [
    "#input list=[1,2,3,4,5]\n",
    "#create a new list=[1,4,9,16,25]\n",
    "#write normal python code\n",
    "list1=[1,2,3,4,5]\n",
    "for i in list1:\n",
    "    print(i*i)"
   ]
  },
  {
   "cell_type": "code",
   "execution_count": 12,
   "id": "43932a21",
   "metadata": {},
   "outputs": [
    {
     "data": {
      "text/plain": [
       "[1, 4, 9, 16, 25]"
      ]
     },
     "execution_count": 12,
     "metadata": {},
     "output_type": "execute_result"
    }
   ],
   "source": [
    "#i dont want to print the values ,i want to save the values\n",
    "list1=[1,2,3,4,5]\n",
    "output=[] #to save the results we should type output=[] and then insteadof print(i*i)/output.append(i*i)\n",
    "for i in list1:\n",
    "    output.append(i*i)\n",
    "output"
   ]
  },
  {
   "cell_type": "code",
   "execution_count": 19,
   "id": "d4be6cf5",
   "metadata": {},
   "outputs": [
    {
     "data": {
      "text/plain": [
       "['Hyd', 'Bengaluru', 'Delhi']"
      ]
     },
     "execution_count": 19,
     "metadata": {},
     "output_type": "execute_result"
    }
   ],
   "source": [
    "list2=[\"hyd\",'bengaluru','delhi']\n",
    "output=[]\n",
    "for i in list2:\n",
    "    i=i.capitalize()\n",
    "    output.append(i)\n",
    "output "
   ]
  },
  {
   "cell_type": "code",
   "execution_count": 156,
   "id": "ad84637c",
   "metadata": {
    "scrolled": true
   },
   "outputs": [
    {
     "name": "stdout",
     "output_type": "stream",
     "text": [
      "h#d\n",
      "beng#luru\n"
     ]
    },
    {
     "data": {
      "text/plain": [
       "['h#d', 'beng#luru', 'delhi']"
      ]
     },
     "execution_count": 156,
     "metadata": {},
     "output_type": "execute_result"
    }
   ],
   "source": [
    "list3=[\"h#d\",'beng#luru','delhi']\n",
    "#output=['h#d','beng#luru'] \n",
    "output=[]\n",
    "for i in list3:\n",
    "    if '#'in i:\n",
    "        print(i)\n",
    "    output.append(i)\n",
    "output"
   ]
  },
  {
   "cell_type": "markdown",
   "id": "d1d20456",
   "metadata": {},
   "source": [
    "$list comprehension$"
   ]
  },
  {
   "cell_type": "code",
   "execution_count": 33,
   "id": "78886b33",
   "metadata": {},
   "outputs": [
    {
     "data": {
      "text/plain": [
       "[1, 4, 9, 16, 25]"
      ]
     },
     "execution_count": 33,
     "metadata": {},
     "output_type": "execute_result"
    }
   ],
   "source": [
    "#code in a single line====>speed the process\n",
    "lis1=[1,2,3,4,5]\n",
    "output=[]\n",
    "for i in list1:\n",
    "    output.append(i*i)\n",
    "output\n",
    "#step-1==intialized the list output=[]\n",
    "#step-2===iterate the loop\n",
    "#step-3===you save the output\n",
    "output1=[i*i for i in list1]\n",
    "output1"
   ]
  },
  {
   "cell_type": "code",
   "execution_count": 35,
   "id": "5f1b23a5",
   "metadata": {},
   "outputs": [
    {
     "data": {
      "text/plain": [
       "['Hyd', 'Bengaluru', 'Delhi']"
      ]
     },
     "execution_count": 35,
     "metadata": {},
     "output_type": "execute_result"
    }
   ],
   "source": [
    "list2=[\"hyd\",'bengaluru','delhi']\n",
    "output=[]\n",
    "for i in list2:\n",
    "    i=i.capitalize()\n",
    "    output.append(i)\n",
    "output \n",
    "output1=[i.capitalize() for i in list2]\n",
    "output1"
   ]
  },
  {
   "cell_type": "code",
   "execution_count": 39,
   "id": "c6f10c20",
   "metadata": {},
   "outputs": [
    {
     "name": "stdout",
     "output_type": "stream",
     "text": [
      "0\n",
      "1\n",
      "2\n",
      "3\n",
      "4\n",
      "5\n",
      "6\n",
      "7\n",
      "8\n",
      "9\n",
      "10\n",
      "11\n",
      "12\n",
      "13\n",
      "14\n",
      "15\n",
      "16\n",
      "17\n",
      "18\n",
      "19\n",
      "20\n"
     ]
    },
    {
     "data": {
      "text/plain": [
       "[0, 1, 2, 3, 4, 5, 6, 7, 8, 9, 10, 11, 12, 13, 14, 15, 16, 17, 18, 19, 20]"
      ]
     },
     "execution_count": 39,
     "metadata": {},
     "output_type": "execute_result"
    }
   ],
   "source": [
    "#create the list of 20 numbers from 1 to 20\n",
    "#==================================m-1\n",
    "for i in range(21):\n",
    "    print(i)\n",
    "#===================================m-2\n",
    "output=[]\n",
    "for i in range(21):\n",
    "    output.append(i)\n",
    "output\n",
    "#======================================m-3\n",
    "output1=[i for i in range(21)]\n",
    "output1"
   ]
  },
  {
   "cell_type": "code",
   "execution_count": 41,
   "id": "ac57d8f4",
   "metadata": {},
   "outputs": [
    {
     "data": {
      "text/plain": [
       "['h#d', 'beng#luru']"
      ]
     },
     "execution_count": 41,
     "metadata": {},
     "output_type": "execute_result"
    }
   ],
   "source": [
    "#list comprehenshion with if condition\n",
    "list3=[\"h#d\",'beng#luru','delhi']\n",
    "output=[]\n",
    "for i in list3:\n",
    "    if'#' in i:\n",
    "        output.append(i)\n",
    "output\n",
    "#<o/p><forloop><if_condition>\n",
    "output1=[i for i in list3 if'#' in i]\n",
    "output1"
   ]
  },
  {
   "cell_type": "code",
   "execution_count": 47,
   "id": "0095ecdb",
   "metadata": {},
   "outputs": [
    {
     "name": "stdout",
     "output_type": "stream",
     "text": [
      "ac\n",
      "a\n"
     ]
    },
    {
     "data": {
      "text/plain": [
       "['ac', 'a']"
      ]
     },
     "execution_count": 47,
     "metadata": {},
     "output_type": "execute_result"
    }
   ],
   "source": [
    "list4=[\"abcd\",\"abc\",\"ac\",\"a\"]\n",
    "#elements less than 3\n",
    "#[\"ac\",\"a\"]\n",
    "for i in list4:\n",
    "    if len(i)<3:\n",
    "        print(i)\n",
    "output=[]\n",
    "for i in list4:\n",
    "    if len(i)<3:\n",
    "        \n",
    "        output.append(i)\n",
    "output"
   ]
  },
  {
   "cell_type": "code",
   "execution_count": 61,
   "id": "34650a39",
   "metadata": {},
   "outputs": [
    {
     "data": {
      "text/plain": [
       "['odd number is 1',\n",
       " 'even number is 2',\n",
       " 'odd number is 3',\n",
       " 'even number is 4',\n",
       " 'odd number is 5',\n",
       " 'even number is 6']"
      ]
     },
     "execution_count": 61,
     "metadata": {},
     "output_type": "execute_result"
    }
   ],
   "source": [
    "list1=[1,2,3,4,5,6]\n",
    "output=[]\n",
    "for i in list1:\n",
    "    if i%2==0:\n",
    "        output.append(\"even number is {}\".format(i))\n",
    "    else:\n",
    "        output.append(\"odd number is {}\".format(i))\n",
    "output"
   ]
  },
  {
   "cell_type": "code",
   "execution_count": 62,
   "id": "a91c7a67",
   "metadata": {},
   "outputs": [
    {
     "data": {
      "text/plain": [
       "['odd number is 1',\n",
       " 'even number is 2',\n",
       " 'odd number is 3',\n",
       " 'even number is 4',\n",
       " 'odd number is 5',\n",
       " 'even number is 6']"
      ]
     },
     "execution_count": 62,
     "metadata": {},
     "output_type": "execute_result"
    }
   ],
   "source": [
    "output1=[\"even number is {}\".format(i) if i%2==0 else(\"odd number is {}\".format(i)) for i in list1]\n",
    "output1"
   ]
  },
  {
   "cell_type": "code",
   "execution_count": 59,
   "id": "c2972081",
   "metadata": {},
   "outputs": [
    {
     "data": {
      "text/plain": [
       "3"
      ]
     },
     "execution_count": 59,
     "metadata": {},
     "output_type": "execute_result"
    }
   ],
   "source": [
    "list1=[1,2,3,4,\"a\",\"b\",\"b\",\"b\",\"c\"]\n",
    "list1.count(\"b\")"
   ]
  },
  {
   "cell_type": "markdown",
   "id": "ee4a0922",
   "metadata": {},
   "source": [
    "$extend$"
   ]
  },
  {
   "cell_type": "code",
   "execution_count": 65,
   "id": "0132631c",
   "metadata": {},
   "outputs": [
    {
     "data": {
      "text/plain": [
       "['a', 'b', 'c', 1, 2, 3]"
      ]
     },
     "execution_count": 65,
     "metadata": {},
     "output_type": "execute_result"
    }
   ],
   "source": [
    "list1=[\"a\",\"b\",\"c\"]\n",
    "list2=[1,2,3]\n",
    "list1.extend(list2)\n",
    "list1\n",
    "#here the list1 will be updated "
   ]
  },
  {
   "cell_type": "code",
   "execution_count": 67,
   "id": "d88c96f4",
   "metadata": {},
   "outputs": [
    {
     "data": {
      "text/plain": [
       "['a', 'b', 'c', 1, 2, 3]"
      ]
     },
     "execution_count": 67,
     "metadata": {},
     "output_type": "execute_result"
    }
   ],
   "source": [
    "list1=[\"a\",\"b\",\"c\"]\n",
    "list2=[1,2,3]\n",
    "list1+list2"
   ]
  },
  {
   "cell_type": "code",
   "execution_count": 68,
   "id": "e5c7c73d",
   "metadata": {},
   "outputs": [],
   "source": [
    "list1=[\"a\",\"b\",\"c\"]\n",
    "list2=[1,2,3]\n",
    "list1.append(list2)"
   ]
  },
  {
   "cell_type": "code",
   "execution_count": 69,
   "id": "e048e223",
   "metadata": {},
   "outputs": [
    {
     "data": {
      "text/plain": [
       "['a', 'b', 'c', [1, 2, 3]]"
      ]
     },
     "execution_count": 69,
     "metadata": {},
     "output_type": "execute_result"
    }
   ],
   "source": [
    "list1"
   ]
  },
  {
   "cell_type": "code",
   "execution_count": 70,
   "id": "2c460156",
   "metadata": {},
   "outputs": [
    {
     "data": {
      "text/plain": [
       "['a', 'b', 'c', 1, 2, 3]"
      ]
     },
     "execution_count": 70,
     "metadata": {},
     "output_type": "execute_result"
    }
   ],
   "source": [
    "list1=[\"a\",\"b\",\"c\"]\n",
    "list2=[1,2,3]\n",
    "list1.extend(list2)\n",
    "list1"
   ]
  },
  {
   "cell_type": "markdown",
   "id": "c73f3229",
   "metadata": {},
   "source": [
    "append vs extend vs concat"
   ]
  },
  {
   "cell_type": "code",
   "execution_count": null,
   "id": "6c42ecd5",
   "metadata": {},
   "outputs": [],
   "source": [
    "#append will add the element at last,that element can be any type \n",
    "  -list1=[1,2,3]\n",
    "  -list2=[\"a\",\"b\"]\n",
    "  -list1.append(list2)=[1,2,3,[\"a\",\"b\"]]\n",
    "#extend will update the list by adding new elements,the result also save in a same list\n",
    "  -list1=[1,2,3]\n",
    "  -list2=[\"a\",\"b\"]\n",
    "  -list1.extend(list2)=[1,2,3,\"a\",\"b\"]\n",
    "#concat will add two lists,but the result will not update in a same list\n",
    "  -list1=[1,2,3]\n",
    "  -list2=[\"a\",\"b\"]\n",
    "  -list1.append(list2)=[1,2,3,\"a\",\"b\"]"
   ]
  },
  {
   "cell_type": "markdown",
   "id": "c34aa7e6",
   "metadata": {},
   "source": [
    "$iterator$"
   ]
  },
  {
   "cell_type": "code",
   "execution_count": null,
   "id": "66a1026d",
   "metadata": {},
   "outputs": [],
   "source": [
    "#iterator word====>loop\n",
    "#the elements we can print using for loop \n",
    "#-string=\"python\" we can print each letter using for loop\n",
    "#-list1=[1,2,3] we can print each element using for loop"
   ]
  },
  {
   "cell_type": "code",
   "execution_count": 73,
   "id": "475b562f",
   "metadata": {},
   "outputs": [
    {
     "data": {
      "text/plain": [
       "<reversed at 0x29c5aa1e6b0>"
      ]
     },
     "execution_count": 73,
     "metadata": {},
     "output_type": "execute_result"
    }
   ],
   "source": [
    "val=reversed(\"python\")\n",
    "val"
   ]
  },
  {
   "cell_type": "code",
   "execution_count": 74,
   "id": "36b3a2a6",
   "metadata": {},
   "outputs": [
    {
     "name": "stdout",
     "output_type": "stream",
     "text": [
      "n\n",
      "o\n",
      "h\n",
      "t\n",
      "y\n",
      "p\n"
     ]
    }
   ],
   "source": [
    "for i in val:\n",
    "    print(i)"
   ]
  },
  {
   "cell_type": "code",
   "execution_count": 75,
   "id": "2318c8e3",
   "metadata": {},
   "outputs": [
    {
     "data": {
      "text/plain": [
       "[1, 2, 3, 1, 2, 3, 4]"
      ]
     },
     "execution_count": 75,
     "metadata": {},
     "output_type": "execute_result"
    }
   ],
   "source": [
    "list1=[1,2,3]\n",
    "list1.extend([1,2,3,4])\n",
    "list1"
   ]
  },
  {
   "cell_type": "code",
   "execution_count": 78,
   "id": "f9b5f165",
   "metadata": {},
   "outputs": [
    {
     "data": {
      "text/plain": [
       "[1, 2, 3, 'p', 'y', 't', 'h', 'o', 'n', 'python']"
      ]
     },
     "execution_count": 78,
     "metadata": {},
     "output_type": "execute_result"
    }
   ],
   "source": [
    "list1=[1,2,3]\n",
    "list1.extend(\"python\")\n",
    "list1.append(\"python\")\n",
    "list1"
   ]
  },
  {
   "cell_type": "markdown",
   "id": "e955ea57",
   "metadata": {},
   "source": [
    "$pop-remove-del$"
   ]
  },
  {
   "cell_type": "code",
   "execution_count": 79,
   "id": "2afe9764",
   "metadata": {},
   "outputs": [
    {
     "data": {
      "text/plain": [
       "[1, 2, 3, 'p', 'y', 't', 'h', 'o', 'n', 'python']"
      ]
     },
     "execution_count": 79,
     "metadata": {},
     "output_type": "execute_result"
    }
   ],
   "source": [
    "list1"
   ]
  },
  {
   "cell_type": "code",
   "execution_count": 80,
   "id": "795a8eda",
   "metadata": {},
   "outputs": [
    {
     "data": {
      "text/plain": [
       "'python'"
      ]
     },
     "execution_count": 80,
     "metadata": {},
     "output_type": "execute_result"
    }
   ],
   "source": [
    "list1.pop()"
   ]
  },
  {
   "cell_type": "code",
   "execution_count": 81,
   "id": "196b647e",
   "metadata": {},
   "outputs": [
    {
     "data": {
      "text/plain": [
       "[1, 2, 3, 'p', 'y', 't', 'h', 'o', 'n']"
      ]
     },
     "execution_count": 81,
     "metadata": {},
     "output_type": "execute_result"
    }
   ],
   "source": [
    "list1"
   ]
  },
  {
   "cell_type": "code",
   "execution_count": 82,
   "id": "b4cdc53c",
   "metadata": {},
   "outputs": [
    {
     "data": {
      "text/plain": [
       "'t'"
      ]
     },
     "execution_count": 82,
     "metadata": {},
     "output_type": "execute_result"
    }
   ],
   "source": [
    "list1\n",
    "list1.pop(5)\n",
    "#inside bracket default argument is there====index=-1\n",
    "#-1 menas last value \n",
    "#if u not provide any value it will remove last value\n",
    "#if i provide any index ,it will remove that element\n",
    "#it is also returning which element it is removing"
   ]
  },
  {
   "cell_type": "code",
   "execution_count": 88,
   "id": "3073ca94",
   "metadata": {},
   "outputs": [],
   "source": [
    " list1=[100,200,300,100]  #duplicates are allowed\n",
    "list1.remove(100)         #first occurance will gone\n",
    "                          #it will not return the value"
   ]
  },
  {
   "cell_type": "code",
   "execution_count": 89,
   "id": "cd390825",
   "metadata": {},
   "outputs": [
    {
     "data": {
      "text/plain": [
       "[200, 300, 100]"
      ]
     },
     "execution_count": 89,
     "metadata": {},
     "output_type": "execute_result"
    }
   ],
   "source": [
    "list1"
   ]
  },
  {
   "cell_type": "code",
   "execution_count": 90,
   "id": "570d0360",
   "metadata": {},
   "outputs": [],
   "source": [
    "del(list1)  #list1 will be deleted\n",
    "            #del is keyword not method"
   ]
  },
  {
   "cell_type": "code",
   "execution_count": 91,
   "id": "94f71e49",
   "metadata": {},
   "outputs": [
    {
     "ename": "NameError",
     "evalue": "name 'list1' is not defined",
     "output_type": "error",
     "traceback": [
      "\u001b[1;31m---------------------------------------------------------------------------\u001b[0m",
      "\u001b[1;31mNameError\u001b[0m                                 Traceback (most recent call last)",
      "Cell \u001b[1;32mIn[91], line 1\u001b[0m\n\u001b[1;32m----> 1\u001b[0m list1\n",
      "\u001b[1;31mNameError\u001b[0m: name 'list1' is not defined"
     ]
    }
   ],
   "source": [
    "list1"
   ]
  },
  {
   "cell_type": "code",
   "execution_count": 92,
   "id": "370f7c45",
   "metadata": {},
   "outputs": [
    {
     "data": {
      "text/plain": [
       "[100, 200, 300]"
      ]
     },
     "execution_count": 92,
     "metadata": {},
     "output_type": "execute_result"
    }
   ],
   "source": [
    "list1=[100,200,100,300]\n",
    "del list1[2]\n",
    "list1"
   ]
  },
  {
   "cell_type": "code",
   "execution_count": null,
   "id": "db213740",
   "metadata": {},
   "outputs": [],
   "source": [
    "-index\n",
    "-insert\n",
    "-reverse===========reversed\n",
    "-sort==============sorted"
   ]
  },
  {
   "cell_type": "code",
   "execution_count": 121,
   "id": "555c0b5a",
   "metadata": {},
   "outputs": [
    {
     "data": {
      "text/plain": [
       "0"
      ]
     },
     "execution_count": 121,
     "metadata": {},
     "output_type": "execute_result"
    }
   ],
   "source": [
    "list1.index(100)"
   ]
  },
  {
   "cell_type": "code",
   "execution_count": 113,
   "id": "f04b5a9b",
   "metadata": {},
   "outputs": [],
   "source": [
    "list1=[100,200,100,300]\n",
    "list1.insert(4,500)"
   ]
  },
  {
   "cell_type": "code",
   "execution_count": 116,
   "id": "22d34929",
   "metadata": {},
   "outputs": [
    {
     "data": {
      "text/plain": [
       "[100, 200, 100, 300, 500]"
      ]
     },
     "execution_count": 116,
     "metadata": {},
     "output_type": "execute_result"
    }
   ],
   "source": [
    "list1"
   ]
  },
  {
   "cell_type": "code",
   "execution_count": 117,
   "id": "1e9d9e73",
   "metadata": {},
   "outputs": [],
   "source": [
    "list1.reverse()"
   ]
  },
  {
   "cell_type": "code",
   "execution_count": 118,
   "id": "871861b2",
   "metadata": {},
   "outputs": [
    {
     "data": {
      "text/plain": [
       "[500, 300, 100, 200, 100]"
      ]
     },
     "execution_count": 118,
     "metadata": {},
     "output_type": "execute_result"
    }
   ],
   "source": [
    "list1"
   ]
  },
  {
   "cell_type": "code",
   "execution_count": 119,
   "id": "529bad3b",
   "metadata": {},
   "outputs": [],
   "source": [
    "list1.sort()"
   ]
  },
  {
   "cell_type": "code",
   "execution_count": 120,
   "id": "3a587a0f",
   "metadata": {},
   "outputs": [
    {
     "data": {
      "text/plain": [
       "[100, 100, 200, 300, 500]"
      ]
     },
     "execution_count": 120,
     "metadata": {},
     "output_type": "execute_result"
    }
   ],
   "source": [
    "list1"
   ]
  },
  {
   "cell_type": "code",
   "execution_count": 122,
   "id": "3c315e51",
   "metadata": {},
   "outputs": [],
   "source": [
    "list1.append(200)"
   ]
  },
  {
   "cell_type": "code",
   "execution_count": 123,
   "id": "11d8e923",
   "metadata": {},
   "outputs": [
    {
     "data": {
      "text/plain": [
       "[100, 100, 200, 300, 500, 200]"
      ]
     },
     "execution_count": 123,
     "metadata": {},
     "output_type": "execute_result"
    }
   ],
   "source": [
    "list1"
   ]
  },
  {
   "cell_type": "code",
   "execution_count": 124,
   "id": "17b30a2d",
   "metadata": {},
   "outputs": [],
   "source": [
    "list1.extend(list2)"
   ]
  },
  {
   "cell_type": "code",
   "execution_count": 125,
   "id": "036ec05f",
   "metadata": {},
   "outputs": [
    {
     "data": {
      "text/plain": [
       "[100, 100, 200, 300, 500, 200, 1, 2, 3]"
      ]
     },
     "execution_count": 125,
     "metadata": {},
     "output_type": "execute_result"
    }
   ],
   "source": [
    "list1"
   ]
  },
  {
   "cell_type": "code",
   "execution_count": 130,
   "id": "b8e6e328",
   "metadata": {},
   "outputs": [
    {
     "data": {
      "text/plain": [
       "<list_reverseiterator at 0x29c5aa16e90>"
      ]
     },
     "execution_count": 130,
     "metadata": {},
     "output_type": "execute_result"
    }
   ],
   "source": [
    "val=reversed(list1)\n",
    "val"
   ]
  },
  {
   "cell_type": "code",
   "execution_count": 131,
   "id": "a5cee750",
   "metadata": {},
   "outputs": [
    {
     "name": "stdout",
     "output_type": "stream",
     "text": [
      "3\n",
      "2\n",
      "1\n",
      "200\n",
      "500\n",
      "300\n",
      "200\n",
      "100\n",
      "100\n"
     ]
    }
   ],
   "source": [
    "for i in val:\n",
    "    print(i)"
   ]
  },
  {
   "cell_type": "code",
   "execution_count": 135,
   "id": "7f71f7bd",
   "metadata": {},
   "outputs": [
    {
     "name": "stdout",
     "output_type": "stream",
     "text": [
      "ram 25\n",
      "robert 30\n",
      "raheem 35\n"
     ]
    }
   ],
   "source": [
    "list1=[\"ram\",\"robert\",\"raheem\"]\n",
    "list2=[25,30,35]\n",
    "#\"ram age is 25\"\n",
    "#\"robert age is 30\"\n",
    "#\"raheem age is 35\"\n",
    "for i,j in zip(list1,list2):  #zip is used if two lists are there\n",
    "    print(i,j)"
   ]
  },
  {
   "cell_type": "code",
   "execution_count": 142,
   "id": "a07e41f2",
   "metadata": {},
   "outputs": [
    {
     "name": "stdout",
     "output_type": "stream",
     "text": [
      "100 25\n",
      "200 30\n",
      "300 35\n"
     ]
    },
    {
     "data": {
      "text/plain": [
       "[125, 230, 335]"
      ]
     },
     "execution_count": 142,
     "metadata": {},
     "output_type": "execute_result"
    }
   ],
   "source": [
    "list1=[100,200,300]\n",
    "list2=[25,30,35]\n",
    "output=0\n",
    "for i,j in zip(list1,list2):\n",
    "    print(i,j)\n",
    "list1.append(list2)\n",
    "list1\n",
    "output=[i+j for i,j in zip(list1,list2)]\n",
    "output"
   ]
  },
  {
   "cell_type": "code",
   "execution_count": 152,
   "id": "41ce62f6",
   "metadata": {},
   "outputs": [
    {
     "name": "stdout",
     "output_type": "stream",
     "text": [
      "q1:\n",
      "enter the answer:modi\n",
      "correct\n",
      "q1:\n",
      "enter the answer:india\n",
      "no marks\n",
      "q1:\n",
      "enter the answer:draupathi\n",
      "correct\n",
      "correct_answers is 2 marks 1\n"
     ]
    }
   ],
   "source": [
    "#take 5 questions in list1\n",
    "#tke corresponding 5 ans in another list2\n",
    "#iterate through list1\n",
    "#every question should print\n",
    "#input(\"tell the answer\")\n",
    "#answer will check in list2\n",
    "#if it is there: marks=marks+1\n",
    "#else:no marks\n",
    "#how many right answers you made,how many answers you get\n",
    "#=========================================\n",
    "list1=[\"who is pm of india\",\"what is the capital of india\",\"who is president of india\"]\n",
    "list2=[\"modi\",\"delhi\",\"draupathi\"]\n",
    "marks=0\n",
    "correct_answer=0\n",
    "wrong_answer=0\n",
    "for i in range(len(list1)):\n",
    "    print(\"q1:\")\n",
    "    answer=input(\"enter the answer:\")\n",
    "    if answer.lower()==list2[i]:\n",
    "        print(\"correct\")\n",
    "        marks=marks+1\n",
    "        correct_answer=correct_answer+1\n",
    "    else:\n",
    "        print(\"no marks\")\n",
    "        marks=marks-1\n",
    "        wrong_answer=wrong_answer+1\n",
    "        \n",
    "print(\"correct_answers is {}\".format(correct_answer),\"marks {}\".format(marks))"
   ]
  },
  {
   "cell_type": "code",
   "execution_count": 2,
   "id": "1e814811",
   "metadata": {},
   "outputs": [
    {
     "data": {
      "text/plain": [
       "2"
      ]
     },
     "execution_count": 2,
     "metadata": {},
     "output_type": "execute_result"
    }
   ],
   "source": [
    "list1=[1,4,5,6,5,2]\n",
    "list1.index(5)"
   ]
  },
  {
   "cell_type": "code",
   "execution_count": 4,
   "id": "c746f9f9",
   "metadata": {},
   "outputs": [
    {
     "data": {
      "text/plain": [
       "4"
      ]
     },
     "execution_count": 4,
     "metadata": {},
     "output_type": "execute_result"
    }
   ],
   "source": [
    "f_i=list1.index(5)\n",
    "list1.index(5,f_i+1)"
   ]
  },
  {
   "cell_type": "code",
   "execution_count": null,
   "id": "161ea6e6",
   "metadata": {},
   "outputs": [],
   "source": [
    "x=__next__"
   ]
  },
  {
   "cell_type": "code",
   "execution_count": 27,
   "id": "788ac554",
   "metadata": {},
   "outputs": [
    {
     "name": "stdout",
     "output_type": "stream",
     "text": [
      "[100, 130, 120]\n",
      "[100, 130, 120]\n",
      "[100, 130, 120]\n",
      "130\n"
     ]
    }
   ],
   "source": [
    "#wap to find the max value without suing max keyword\n",
    "arr=[100,130,120]\n",
    "max1=0\n",
    "for i in arr:\n",
    "    print(arr)\n",
    "    if i>max1:\n",
    "        max1=i\n",
    "print(max1)       "
   ]
  }
 ],
 "metadata": {
  "kernelspec": {
   "display_name": "Python 3 (ipykernel)",
   "language": "python",
   "name": "python3"
  },
  "language_info": {
   "codemirror_mode": {
    "name": "ipython",
    "version": 3
   },
   "file_extension": ".py",
   "mimetype": "text/x-python",
   "name": "python",
   "nbconvert_exporter": "python",
   "pygments_lexer": "ipython3",
   "version": "3.11.5"
  }
 },
 "nbformat": 4,
 "nbformat_minor": 5
}
