{
 "cells": [
  {
   "cell_type": "code",
   "execution_count": 7,
   "id": "cc75ae33",
   "metadata": {},
   "outputs": [
    {
     "name": "stdout",
     "output_type": "stream",
     "text": [
      "enter distance in kms:6\n",
      "charge is 40rs\n"
     ]
    }
   ],
   "source": [
    "#wap ask the user enter distance in km\n",
    "#    if distance is more than 10km:print charge is 100rs\n",
    "#    if distance is between 7 to 10km:print charge is 70rs\n",
    "#     if distance is between 4to 7km:print charge is 40rs\n",
    "#     otherwise print charge is 30rs\n",
    "val=eval(input(\"enter distance in kms:\"))\n",
    "if (val>=10):\n",
    "    print(\"charge is 100rs\")\n",
    "elif (val>=7):\n",
    "    print(\"charge is 70rs\")\n",
    "elif (val>=4):\n",
    "    print(\"charge is 40rs\")\n",
    "else:\n",
    "    print(\"charge is 30rs\")"
   ]
  },
  {
   "cell_type": "code",
   "execution_count": 14,
   "id": "6467de3c",
   "metadata": {},
   "outputs": [
    {
     "name": "stdout",
     "output_type": "stream",
     "text": [
      "enter salary:65000000\n",
      "enter tax percentage:50\n",
      "the amount of tax paid 32500000.0\n"
     ]
    }
   ],
   "source": [
    "#wap ask the user enter salary\n",
    "#if salary 10lakhs\n",
    "#        enter the usertax percentage:10%\n",
    "#        print:the ammount of tax paid:(salary*tax_percentage)/100\n",
    "#if salary is between 7 lakhs to 10 lakhs\n",
    "#       enter the user tax percentage:5%\n",
    "#       print the amount of tax paid\n",
    "#if salary is between 4 lakhs to 7lakhs\n",
    "#      enter the user tax percentage :2.5%\n",
    "#      print the amount of tax paid\n",
    "#otherwise:print(\"no tax required\")\n",
    "#if-elif-elif-else\n",
    "salary=eval(input(\"enter salary:\"))\n",
    "if (salary>=1000000):\n",
    "    tax_percentage=eval(input(\"enter tax percentage:\"))\n",
    "    tax_percentage=(salary*tax_percentage)/100\n",
    "    print(\"the amount of tax paid\",tax_percentage)\n",
    "elif (salary>=700000):\n",
    "    tax_percentage=eval(input(\"enter tax percentage:\"))\n",
    "    tax_percentage=(salary*tax_percentage)/100\n",
    "    print(\"the amount of tax paid\",tax_percentage)\n",
    "elif (salary>=400000):\n",
    "    tax_percentage=eval(input(\"enter tax percentage:\"))\n",
    "    tax_percentage=(salary*tax_percentage)/100\n",
    "    print(\"the amount of tax paid\",tax_percentage)\n",
    "else:\n",
    "    print(\"no tax required:\")    "
   ]
  },
  {
   "cell_type": "code",
   "execution_count": 3,
   "id": "e7921daf",
   "metadata": {},
   "outputs": [
    {
     "name": "stdout",
     "output_type": "stream",
     "text": [
      "enter the operation u need to perform:addition\n",
      "enter a num1:3\n",
      "enter a num2:4\n",
      "we are doing addition opeartion:\n",
      "the addition of num1 and num2 7\n"
     ]
    }
   ],
   "source": [
    "#wap ask the user enter which operation u need to perform\n",
    "#                      operations are:addition/mul/sub/di\n",
    "#ask the user enter a number1:\n",
    "#ask the user enter a number2:\n",
    "#if the operation equal to addition\n",
    "#             print(\"we are doing addition operation\")\n",
    "#             print(\"the addition of num1 and num2\")\n",
    "#if the operation equal to multiplication        -------equal to means(==) we are comparing\n",
    "#             print(\"we are doing mul operation\")\n",
    "#             print(\"the mul of num1 and num2\")\n",
    "#if the operation equal to sub\n",
    "#             print(\"we are doing sub operation\")\n",
    "#             print(\"the sub of num1 and num2\")\n",
    "#if the operation equal to div\n",
    "#             print(\"we are doing div operation\")\n",
    "#             print(\"the div of num1 and num2\")\n",
    "#otherwise print(\"provide suitable operation\")\n",
    "ope=input(\"enter the operation u need to perform:\")\n",
    "val=eval(input(\"enter a num1:\"))\n",
    "val1=eval(input(\"enter a num2:\"))\n",
    "if (ope==\"addition\"):\n",
    "    print(\"we are doing addition opeartion:\")\n",
    "    addition_operation=val+val1\n",
    "    print(\"the addition of num1 and num2\",addition_operation)\n",
    "\n",
    "elif (ope==\"multipilcation\"):\n",
    "    print(\"we are doing multipilcation  opeartion:\")\n",
    "    multipilcation_operation=val*val1\n",
    "    print(\"the multipilcation of num1 and num2\",multipilcation_operation)\n",
    "elif (ope==\"sub\"):\n",
    "    print(\"we are doing sub opeartion:\")\n",
    "    sub_operation=val-val1\n",
    "    print(\"the sub of num1 and num2\",sub_operation)\n",
    "elif (ope==\"div\"):\n",
    "    print(\"we are doing div opeartion:\")\n",
    "    div_operation=val/val1\n",
    "    print(\"the div of num1 and num2\",div_operation)\n",
    "else:\n",
    "    print(\"provide suitable operation:\")\n",
    "\n",
    "\n"
   ]
  },
  {
   "cell_type": "markdown",
   "id": "ea139dec",
   "metadata": {},
   "source": [
    "$nested$ $if$ $else$"
   ]
  },
  {
   "cell_type": "code",
   "execution_count": 4,
   "id": "9e211964",
   "metadata": {},
   "outputs": [
    {
     "name": "stdout",
     "output_type": "stream",
     "text": [
      "enter a number:-1\n",
      "it is a neg number\n"
     ]
    }
   ],
   "source": [
    "#wap ask the user enter a number\n",
    "#if the  number greater than zero:\n",
    "#          if the number==0:\n",
    "#               print(\"t is a zero number\")\n",
    "#           else:\n",
    "#              print(\"it is a pos number\")\n",
    "#else\n",
    "#   print(\"it is a neg number\")\n",
    "num=eval(input(\"enter a number:\"))\n",
    "if (num>=0):\n",
    "    if(num==0):\n",
    "        print(\"it is a zero number\")\n",
    "    else:\n",
    "        print(\"it is a pos number\")\n",
    "else:\n",
    "    print(\"it is a neg number\")"
   ]
  },
  {
   "cell_type": "code",
   "execution_count": 2,
   "id": "532af6b4",
   "metadata": {},
   "outputs": [
    {
     "name": "stdout",
     "output_type": "stream",
     "text": [
      "enter gender:male\n",
      "enter age30\n",
      "middle age\n"
     ]
    }
   ],
   "source": [
    "#wap ask the user enter gender either male or female\n",
    "#if gender equal to male\n",
    "#       ask the user enter age\n",
    "#       if age>60:print(cs)\n",
    "#       if age between 30 to 60 print(middle age nam)\n",
    "#       if age is between 20 to 30 print(young age)\n",
    "#       if age is between 13 to 20 print(teenage)\n",
    "#       otherwise:print(\"boy\")\n",
    "#else\n",
    "#       ask the user enter age\n",
    "#       if age>60:print(cs)\n",
    "#       if age between 30 to 60 print(middle age nam)\n",
    "#       if age is between 20 to 30 print(young age)\n",
    "#       if age is between 13 to 20 print(teenage)\n",
    "#       otherwise:print(\"girl\")\n",
    "gender=input(\"enter gender:\")\n",
    "if (gender==\"male\"):\n",
    "    age=eval(input(\"enter age\"))\n",
    "    if (age>=60):\n",
    "        print(\"cs\")\n",
    "    elif (age>=30):\n",
    "        print(\"middle age\")\n",
    "    elif (age>=20):\n",
    "        print(\"young age\")\n",
    "    elif (age>=13):\n",
    "        print(\"teenage\")\n",
    "    else:\n",
    "        print(\"boy\")\n",
    "        \n",
    "else:\n",
    "    (gender==\"female\")\n",
    "    age=eval(input(\"enter age\"))\n",
    "    if (age>=60):\n",
    "        print(\"cs\")\n",
    "    elif (age>=30):\n",
    "        print(\"middle age\")\n",
    "    elif (age>=20):\n",
    "        print(\"young age\")\n",
    "    elif (age>=13):\n",
    "        print(\"teenage\")\n",
    "    else:\n",
    "        print(\"girl\")\n",
    "\n",
    "        "
   ]
  },
  {
   "cell_type": "code",
   "execution_count": 12,
   "id": "0b66d5bd",
   "metadata": {},
   "outputs": [
    {
     "name": "stdout",
     "output_type": "stream",
     "text": [
      "enter 1 st number:2\n",
      "enter 2nd number:3\n",
      "enter 3rd number:4\n",
      "give valid number\n"
     ]
    }
   ],
   "source": [
    "#wap ask the user to enter 3 numbers ask the biggest number\n",
    "num1=eval(input(\"enter 1 st number:\"))\n",
    "num2=eval(input(\"enter 2nd number:\"))\n",
    "num3=eval(input(\"enter 3rd number:\"))\n",
    "if (num1>num2 and num1>num3):\n",
    "    print(\"enter the biggest number is\",num1)\n",
    "    if (num2>num1 and num2>num3):\n",
    "            print(\"enter the biggest number is\",num2)\n",
    "    elif (num3>num1 and num3>num2):\n",
    "            print(\"enter the biggest number is\",num3)\n",
    "else:\n",
    "    print(\"give valid number\")\n"
   ]
  },
  {
   "cell_type": "code",
   "execution_count": null,
   "id": "9deece3a",
   "metadata": {},
   "outputs": [],
   "source": []
  }
 ],
 "metadata": {
  "kernelspec": {
   "display_name": "Python 3 (ipykernel)",
   "language": "python",
   "name": "python3"
  },
  "language_info": {
   "codemirror_mode": {
    "name": "ipython",
    "version": 3
   },
   "file_extension": ".py",
   "mimetype": "text/x-python",
   "name": "python",
   "nbconvert_exporter": "python",
   "pygments_lexer": "ipython3",
   "version": "3.11.5"
  }
 },
 "nbformat": 4,
 "nbformat_minor": 5
}
