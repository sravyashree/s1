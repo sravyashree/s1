{
 "cells": [
  {
   "cell_type": "code",
   "execution_count": 1,
   "id": "0b9626c4",
   "metadata": {},
   "outputs": [
    {
     "data": {
      "text/plain": [
       "[1, 2, 3, 'apple', (10+3j), 11.23]"
      ]
     },
     "execution_count": 1,
     "metadata": {},
     "output_type": "execute_result"
    }
   ],
   "source": [
    "list1=[1,2,3,\"apple\",(10+3j),11.23]\n",
    "list1"
   ]
  },
  {
   "cell_type": "code",
   "execution_count": 6,
   "id": "bf8f77e2",
   "metadata": {
    "scrolled": true
   },
   "outputs": [
    {
     "name": "stdout",
     "output_type": "stream",
     "text": [
      "0 1\n",
      "1 2\n",
      "2 3\n",
      "3 apple\n",
      "4 (10+3j)\n",
      "5 11.23\n"
     ]
    }
   ],
   "source": [
    "for i in range(len(list1)):\n",
    "    print(i,list1[i])"
   ]
  },
  {
   "cell_type": "code",
   "execution_count": 14,
   "id": "ce5fcf41",
   "metadata": {},
   "outputs": [
    {
     "name": "stdout",
     "output_type": "stream",
     "text": [
      "1\n",
      "2\n",
      "3\n",
      "apple\n",
      "(10+3j)\n",
      "11.23\n"
     ]
    }
   ],
   "source": [
    "for i in list1:\n",
    "    print(i)"
   ]
  },
  {
   "cell_type": "code",
   "execution_count": 8,
   "id": "9a0f1bfa",
   "metadata": {},
   "outputs": [
    {
     "data": {
      "text/plain": [
       "(1, list[1], 3, 'apple', (10+3j), 11.23)"
      ]
     },
     "execution_count": 8,
     "metadata": {},
     "output_type": "execute_result"
    }
   ],
   "source": [
    "list1[0],list[1],list1[2],list1[3],list1[4],list1[5]"
   ]
  },
  {
   "cell_type": "code",
   "execution_count": 113,
   "id": "ab693482",
   "metadata": {
    "scrolled": true
   },
   "outputs": [
    {
     "name": "stdout",
     "output_type": "stream",
     "text": [
      "the positive index of1 is 0 and negative index is -4\n",
      "the positive index of2 is 1 and negative index is -3\n",
      "the positive index of3 is 2 and negative index is -2\n",
      "the positive index of4 is 3 and negative index is -1\n"
     ]
    }
   ],
   "source": [
    "list1=[1,2,3,4]\n",
    "for i in range(len(list1)):\n",
    "    #if list1[i]%2==0 :\n",
    "    print(\"the positive index of{} is {} and negative index is {}\".format(list1[i],i,i-len(list1)))\n",
    "    #print(\"the negative index of{} is {}\".format(i,list1[i]))"
   ]
  },
  {
   "cell_type": "code",
   "execution_count": 117,
   "id": "6b2efb90",
   "metadata": {},
   "outputs": [
    {
     "data": {
      "text/plain": [
       "[1, 2, 3, 4]"
      ]
     },
     "execution_count": 117,
     "metadata": {},
     "output_type": "execute_result"
    }
   ],
   "source": [
    "list1[i]\n",
    "list1\n"
   ]
  },
  {
   "cell_type": "code",
   "execution_count": 3,
   "id": "2e57c439",
   "metadata": {},
   "outputs": [
    {
     "name": "stdout",
     "output_type": "stream",
     "text": [
      "ab\n",
      "cd\n",
      "ef\n"
     ]
    }
   ],
   "source": [
    "list1=[\"apple\",\"ball\",\"cat\",\"ab\",\"cd\",\"ef\"]\n",
    "for i in list1:\n",
    "    #print(i)\n",
    "    if len(i)<3:\n",
    "        print(i)"
   ]
  },
  {
   "cell_type": "code",
   "execution_count": 29,
   "id": "e20f7a65",
   "metadata": {},
   "outputs": [
    {
     "name": "stdout",
     "output_type": "stream",
     "text": [
      "ap#le\n",
      "b#ll\n",
      "c#t\n",
      "#\n"
     ]
    }
   ],
   "source": [
    "list1=[\"ap#le\",\"b#ll\",\"c#t\",\"ab\",\"cd\",\"ef\",'#']\n",
    "for i in list1:\n",
    "    #print(i)\n",
    "    if \"#\" in i:\n",
    "        print(i)"
   ]
  },
  {
   "cell_type": "code",
   "execution_count": 28,
   "id": "6b8ad531",
   "metadata": {},
   "outputs": [
    {
     "data": {
      "text/plain": [
       "'#'"
      ]
     },
     "execution_count": 28,
     "metadata": {},
     "output_type": "execute_result"
    }
   ],
   "source": [
    "list1[list1.index('#')]"
   ]
  },
  {
   "cell_type": "code",
   "execution_count": 30,
   "id": "137bd0e6",
   "metadata": {},
   "outputs": [
    {
     "name": "stdout",
     "output_type": "stream",
     "text": [
      "ap#le\n",
      "b#ll\n",
      "c#t\n",
      "#\n",
      "4\n"
     ]
    }
   ],
   "source": [
    "list1=[\"ap#le\",\"b#ll\",\"c#t\",\"ab\",\"cd\",\"ef\",'#']\n",
    "count=0\n",
    "for i in list1:\n",
    "    #print(i)\n",
    "    if \"#\" in i:\n",
    "        print(i)\n",
    "        count=count+1\n",
    "print(count)"
   ]
  },
  {
   "cell_type": "code",
   "execution_count": 31,
   "id": "b8ad4e25",
   "metadata": {},
   "outputs": [
    {
     "data": {
      "text/plain": [
       "'ball'"
      ]
     },
     "execution_count": 31,
     "metadata": {},
     "output_type": "execute_result"
    }
   ],
   "source": [
    "list1=[1,2,3,[\"apple\",\"ball\"]]\n",
    "list1[3][1]"
   ]
  },
  {
   "cell_type": "code",
   "execution_count": 42,
   "id": "3ed347c3",
   "metadata": {},
   "outputs": [
    {
     "data": {
      "text/plain": [
       "'cherry'"
      ]
     },
     "execution_count": 42,
     "metadata": {},
     "output_type": "execute_result"
    }
   ],
   "source": [
    "list1=[[[[[[[\"cherry\"]]]]]]]\n",
    "list1[0][0][0][0][0][0][0]"
   ]
  },
  {
   "cell_type": "code",
   "execution_count": 72,
   "id": "17ba0555",
   "metadata": {},
   "outputs": [
    {
     "data": {
      "text/plain": [
       "'car'"
      ]
     },
     "execution_count": 72,
     "metadata": {},
     "output_type": "execute_result"
    }
   ],
   "source": [
    "list1=[[[[\"a\",\"b\",[[[1,2,3,[\"car\"]]]]]]]]\n",
    "list1[0][0][0][2][0][0][3][0]"
   ]
  },
  {
   "cell_type": "code",
   "execution_count": 84,
   "id": "8e58b3ca",
   "metadata": {},
   "outputs": [
    {
     "name": "stdout",
     "output_type": "stream",
     "text": [
      "[30, 'P', 'H', 'a']\n",
      "[]\n",
      "[]\n",
      "[30]\n",
      "['c']\n",
      "[]\n",
      "['c', 'N', 'T', 50]\n",
      "[]\n"
     ]
    }
   ],
   "source": [
    "list1=[10,20,30,40,50,\"P\",\"Y\",\"T\",\"H\",\"O\",\"N\",\"a\",\"b\",\"c\",\"D\"]\n",
    "print(list1[2:14:3])\n",
    "print(list1[2:14:-3])\n",
    "print(list1[2:-14:3])\n",
    "print(list1[2:-14:-3])\n",
    "print(list1[-2:14:3])\n",
    "print(list1[-2:-14:3])\n",
    "print(list1[-2:-14:-3])\n",
    "print(list1[-2:14:-3])"
   ]
  },
  {
   "cell_type": "code",
   "execution_count": 88,
   "id": "4345cdf3",
   "metadata": {},
   "outputs": [
    {
     "data": {
      "text/plain": [
       "[2, 3, 4, 5]"
      ]
     },
     "execution_count": 88,
     "metadata": {},
     "output_type": "execute_result"
    }
   ],
   "source": [
    "list1=[1,2,3,4]\n",
    "list2=[2,3,4,5]\n",
    "list1=list2.copy()\n",
    "list1"
   ]
  },
  {
   "cell_type": "code",
   "execution_count": 90,
   "id": "e942f7a0",
   "metadata": {},
   "outputs": [
    {
     "data": {
      "text/plain": [
       "[2, 3, 4, 5]"
      ]
     },
     "execution_count": 90,
     "metadata": {},
     "output_type": "execute_result"
    }
   ],
   "source": [
    "list3=list1.copy()\n",
    "list3"
   ]
  },
  {
   "cell_type": "code",
   "execution_count": 91,
   "id": "95d7e2d2",
   "metadata": {},
   "outputs": [
    {
     "data": {
      "text/plain": [
       "[]"
      ]
     },
     "execution_count": 91,
     "metadata": {},
     "output_type": "execute_result"
    }
   ],
   "source": [
    "list1.clear()\n",
    "list1"
   ]
  },
  {
   "cell_type": "code",
   "execution_count": 92,
   "id": "e47418f9",
   "metadata": {},
   "outputs": [
    {
     "data": {
      "text/plain": [
       "[]"
      ]
     },
     "execution_count": 92,
     "metadata": {},
     "output_type": "execute_result"
    }
   ],
   "source": [
    "list2.clear()\n",
    "list2"
   ]
  },
  {
   "cell_type": "code",
   "execution_count": 95,
   "id": "8cec34c9",
   "metadata": {},
   "outputs": [
    {
     "data": {
      "text/plain": [
       "[1, 2, 3, 4, 100]"
      ]
     },
     "execution_count": 95,
     "metadata": {},
     "output_type": "execute_result"
    }
   ],
   "source": [
    "list1=[1,2,3,4]\n",
    "list1.append(100)\n",
    "list1"
   ]
  },
  {
   "cell_type": "code",
   "execution_count": 96,
   "id": "ee476c92",
   "metadata": {},
   "outputs": [
    {
     "name": "stdout",
     "output_type": "stream",
     "text": [
      "1\n",
      "4\n",
      "9\n",
      "16\n",
      "25\n"
     ]
    }
   ],
   "source": [
    "list1=[1,2,3,4,5]\n",
    "for i in list1:\n",
    "    print(i*i)"
   ]
  },
  {
   "cell_type": "code",
   "execution_count": 113,
   "id": "0beeb517",
   "metadata": {},
   "outputs": [
    {
     "data": {
      "text/plain": [
       "[1, 4, 9, 16, 25]"
      ]
     },
     "execution_count": 113,
     "metadata": {},
     "output_type": "execute_result"
    }
   ],
   "source": [
    "list1=[1,2,3,4,5]\n",
    "output=[]\n",
    "for i in list1:\n",
    "    output.append(i*i)\n",
    "output\n"
   ]
  },
  {
   "cell_type": "code",
   "execution_count": 114,
   "id": "dcd48689",
   "metadata": {},
   "outputs": [
    {
     "data": {
      "text/plain": [
       "[1, 4, 9, 16, 25]"
      ]
     },
     "execution_count": 114,
     "metadata": {},
     "output_type": "execute_result"
    }
   ],
   "source": [
    "output1=[i*i for i in list1]\n",
    "output1"
   ]
  },
  {
   "cell_type": "code",
   "execution_count": 45,
   "id": "7e1e2d88",
   "metadata": {},
   "outputs": [
    {
     "name": "stdout",
     "output_type": "stream",
     "text": [
      "[1, 3, 5, 7, 9, 10]\n"
     ]
    }
   ],
   "source": [
    "list1=[1,2,3,4,5,6,7,8,9,10]\n",
    "list2=[2,4,6,8]\n",
    "for i in range(len(list2)):\n",
    "    #print(i)\n",
    "    if list2[i] in list1:\n",
    "        list1.remove(list2[i])\n",
    "print(list1)"
   ]
  },
  {
   "cell_type": "code",
   "execution_count": 36,
   "id": "d5d83ea6",
   "metadata": {
    "scrolled": true
   },
   "outputs": [
    {
     "ename": "TypeError",
     "evalue": "list indices must be integers or slices, not list",
     "output_type": "error",
     "traceback": [
      "\u001b[1;31m---------------------------------------------------------------------------\u001b[0m",
      "\u001b[1;31mTypeError\u001b[0m                                 Traceback (most recent call last)",
      "Cell \u001b[1;32mIn[36], line 1\u001b[0m\n\u001b[1;32m----> 1\u001b[0m list2 \u001b[38;5;129;01min\u001b[39;00m [list1[list2]]\n",
      "\u001b[1;31mTypeError\u001b[0m: list indices must be integers or slices, not list"
     ]
    }
   ],
   "source": [
    "list2 in [list1[list2]]"
   ]
  },
  {
   "cell_type": "code",
   "execution_count": 30,
   "id": "0adbb1ee",
   "metadata": {},
   "outputs": [
    {
     "data": {
      "text/plain": [
       "True"
      ]
     },
     "execution_count": 30,
     "metadata": {},
     "output_type": "execute_result"
    }
   ],
   "source": [
    "[2,4,6,8] in [1,2,3,4,5,6,7,8,9,10,[2,4,6,8]]"
   ]
  },
  {
   "cell_type": "code",
   "execution_count": 4,
   "id": "cc78e41d",
   "metadata": {},
   "outputs": [
    {
     "name": "stdout",
     "output_type": "stream",
     "text": [
      "24\n"
     ]
    }
   ],
   "source": [
    "list1=[1,2,3,4]\n",
    "result=1\n",
    "for i in list1:\n",
    "    result=result*i\n",
    "    #print(i*i) \n",
    "print(result)"
   ]
  },
  {
   "cell_type": "code",
   "execution_count": 5,
   "id": "6fe8a1f8",
   "metadata": {},
   "outputs": [
    {
     "name": "stdout",
     "output_type": "stream",
     "text": [
      "1\n",
      "2\n",
      "3\n",
      "4\n"
     ]
    }
   ],
   "source": [
    "for i in list1:\n",
    "    print(i)"
   ]
  },
  {
   "cell_type": "code",
   "execution_count": 6,
   "id": "329c4794",
   "metadata": {
    "scrolled": true
   },
   "outputs": [
    {
     "name": "stdout",
     "output_type": "stream",
     "text": [
      "0\n",
      "1\n",
      "2\n",
      "3\n"
     ]
    }
   ],
   "source": [
    "for i in range(len(list1)):\n",
    "    print(i)"
   ]
  },
  {
   "cell_type": "code",
   "execution_count": 7,
   "id": "1685b36c",
   "metadata": {},
   "outputs": [
    {
     "ename": "TypeError",
     "evalue": "'list' object cannot be interpreted as an integer",
     "output_type": "error",
     "traceback": [
      "\u001b[1;31m---------------------------------------------------------------------------\u001b[0m",
      "\u001b[1;31mTypeError\u001b[0m                                 Traceback (most recent call last)",
      "Cell \u001b[1;32mIn[7], line 1\u001b[0m\n\u001b[1;32m----> 1\u001b[0m \u001b[38;5;28;01mfor\u001b[39;00m i \u001b[38;5;129;01min\u001b[39;00m \u001b[38;5;28mrange\u001b[39m(list1):\n\u001b[0;32m      2\u001b[0m     \u001b[38;5;28mprint\u001b[39m(i)\n",
      "\u001b[1;31mTypeError\u001b[0m: 'list' object cannot be interpreted as an integer"
     ]
    }
   ],
   "source": [
    "for i in range(list1):\n",
    "    print(i)"
   ]
  },
  {
   "cell_type": "code",
   "execution_count": 118,
   "id": "7af8ade9",
   "metadata": {},
   "outputs": [
    {
     "data": {
      "text/plain": [
       "[2, 3, 4]"
      ]
     },
     "execution_count": 118,
     "metadata": {},
     "output_type": "execute_result"
    }
   ],
   "source": [
    "lidt1=[2,2,3,4] \n",
    "lidt1=set(lidt1)\n",
    "lidt1=list(lidt1)\n",
    "lidt1"
   ]
  },
  {
   "cell_type": "code",
   "execution_count": 159,
   "id": "51db7b64",
   "metadata": {},
   "outputs": [
    {
     "name": "stdout",
     "output_type": "stream",
     "text": [
      "2\n"
     ]
    }
   ],
   "source": [
    "#Write a Python program to count the number of strings from a given list of strings. The string length is 2 or more and the first and last characters are the same.\n",
    "list1=['abc', 'xyz', 'aba', '1221']\n",
    "first_char=0\n",
    "last_char=-1\n",
    "#result11=(first_char==last_char)\n",
    "count=0\n",
    "#Expected Result : 2\n",
    "for i in range(len(list1)):\n",
    "    if list1[i][first_char]==list1[i][last_char] and len(list1[i])>=2:\n",
    "        count=count+1\n",
    "print(count)"
   ]
  },
  {
   "cell_type": "code",
   "execution_count": 151,
   "id": "762f0c3f",
   "metadata": {},
   "outputs": [
    {
     "name": "stdout",
     "output_type": "stream",
     "text": [
      "2\n"
     ]
    }
   ],
   "source": [
    "list1=['abc', 'xyz', 'aba', '1221']\n",
    "count=0\n",
    "for i in list1:\n",
    "    if len(i)>2 and i[0]==i[-1]:\n",
    "        count+=1\n",
    "print(count)       "
   ]
  },
  {
   "cell_type": "code",
   "execution_count": 152,
   "id": "11dc2d90",
   "metadata": {},
   "outputs": [
    {
     "name": "stdout",
     "output_type": "stream",
     "text": [
      "2\n"
     ]
    }
   ],
   "source": [
    "list1=['abc', 'xyz', 'aba', '1221']\n",
    "count = 0\n",
    "for s in list1:\n",
    "        if len(s) >= 2 and s[0] == s[-1]:\n",
    "            count += 1\n",
    "print(count)"
   ]
  },
  {
   "cell_type": "code",
   "execution_count": 16,
   "id": "72629708",
   "metadata": {},
   "outputs": [
    {
     "data": {
      "text/plain": [
       "{'sravya': '2003', 'vijay': '2002', 'reddy': '2003'}"
      ]
     },
     "execution_count": 16,
     "metadata": {},
     "output_type": "execute_result"
    }
   ],
   "source": [
    "#wap create a dictionary based on two lists\n",
    "list11=[\"sravya\",\"vijay\",\"reddy\"]\n",
    "list2=[\"2003\",\"2002\",\"2003\"]\n",
    "d1={}\n",
    "for i,j in zip(list11,list2):\n",
    "    d1[i]=j\n",
    "d1\n",
    "for "
   ]
  },
  {
   "cell_type": "code",
   "execution_count": 21,
   "id": "d3f2bfc2",
   "metadata": {},
   "outputs": [
    {
     "name": "stdout",
     "output_type": "stream",
     "text": [
      "50\n"
     ]
    }
   ],
   "source": [
    "list23={\"soujanya\":30,\"renuka\":50,\"sravya\":30}\n",
    "for i in list23:\n",
    "    if list23[i]>=50:\n",
    "        print(list23[i])"
   ]
  },
  {
   "cell_type": "code",
   "execution_count": 8,
   "id": "d49d144f",
   "metadata": {},
   "outputs": [
    {
     "data": {
      "text/plain": [
       "{0: 10, 1: 20, 2: 30}"
      ]
     },
     "execution_count": 8,
     "metadata": {},
     "output_type": "execute_result"
    }
   ],
   "source": [
    "#Write a Python script to add a key to a dictionary.\n",
    "d1={0:10, 1:20}\n",
    "d1.update({2:30})\n",
    "d1"
   ]
  },
  {
   "cell_type": "code",
   "execution_count": 32,
   "id": "e023ef4b",
   "metadata": {},
   "outputs": [
    {
     "data": {
      "text/plain": [
       "{1: 10, 2: 20, 3: 30, 4: 40, 5: 50, 6: 60}"
      ]
     },
     "execution_count": 32,
     "metadata": {},
     "output_type": "execute_result"
    }
   ],
   "source": [
    "#Write a Python script to concatenate the following dictionaries to create a new one.\n",
    "#Write a Python script to concatenate the following dictionaries to create a new one.\n",
    "\n",
    "d1={}\n",
    "dic1={1:10,2:20}\n",
    "dic2={3:30,4:40}\n",
    "dic3={5:50,6:60}\n",
    "list1=[]\n",
    "list2=[]\n",
    "for i in dic1:\n",
    "    list1.append(i)\n",
    "list1\n",
    "for i in dic2:\n",
    "    list1.append(i)\n",
    "for i in dic3:\n",
    "    list1.append(i)\n",
    "list1\n",
    "for i in dic1:\n",
    "    list2.append(dic1[i])\n",
    "for i in dic2:\n",
    "    list2.append(dic2[i])\n",
    "for i in dic3:\n",
    "    list2.append(dic3[i])\n",
    "list2\n",
    "d1={key:value for key,value in zip(list1,list2)}\n",
    "d1"
   ]
  },
  {
   "cell_type": "code",
   "execution_count": 39,
   "id": "e7f7c433",
   "metadata": {},
   "outputs": [
    {
     "ename": "KeyError",
     "evalue": "6",
     "output_type": "error",
     "traceback": [
      "\u001b[1;31m---------------------------------------------------------------------------\u001b[0m",
      "\u001b[1;31mKeyError\u001b[0m                                  Traceback (most recent call last)",
      "Cell \u001b[1;32mIn[39], line 4\u001b[0m\n\u001b[0;32m      2\u001b[0m sravya(dic2,list1,i)\n\u001b[0;32m      3\u001b[0m sravya(dic3,list1,i)\n\u001b[1;32m----> 4\u001b[0m sravya(dic1,list2,dic1[i])\n\u001b[0;32m      5\u001b[0m sravya(dic2,list2,dic2[i])\n\u001b[0;32m      6\u001b[0m sravya(dic3,list2,dic3[i])\n",
      "\u001b[1;31mKeyError\u001b[0m: 6"
     ]
    }
   ],
   "source": [
    "sravya(dic1,list1,i)\n",
    "sravya(dic2,list1,i)\n",
    "sravya(dic3,list1,i)\n",
    "sravya(dic1,list2,dic1[i])\n",
    "sravya(dic2,list2,dic2[i])\n",
    "sravya(dic3,list2,dic3[i])"
   ]
  },
  {
   "cell_type": "code",
   "execution_count": 38,
   "id": "3ac83335",
   "metadata": {},
   "outputs": [],
   "source": [
    "def sravya(dict89,list11,j):\n",
    "    for i in dict89:\n",
    "        list11.append(j)"
   ]
  },
  {
   "cell_type": "code",
   "execution_count": null,
   "id": "4587322c",
   "metadata": {},
   "outputs": [],
   "source": []
  }
 ],
 "metadata": {
  "kernelspec": {
   "display_name": "Python 3 (ipykernel)",
   "language": "python",
   "name": "python3"
  },
  "language_info": {
   "codemirror_mode": {
    "name": "ipython",
    "version": 3
   },
   "file_extension": ".py",
   "mimetype": "text/x-python",
   "name": "python",
   "nbconvert_exporter": "python",
   "pygments_lexer": "ipython3",
   "version": "3.11.5"
  }
 },
 "nbformat": 4,
 "nbformat_minor": 5
}
