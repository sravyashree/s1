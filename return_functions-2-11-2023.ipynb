{
 "cells": [
  {
   "cell_type": "code",
   "execution_count": 1,
   "id": "6806298a",
   "metadata": {},
   "outputs": [
    {
     "name": "stdout",
     "output_type": "stream",
     "text": [
      "enter radius of circle:2\n",
      "the area of circle is  12.56\n"
     ]
    }
   ],
   "source": [
    "#wap ask the user to find area of circle\n",
    "#normal method\n",
    "num_radius=eval(input(\"enter radius of circle:\"))\n",
    "area=3.14*num_radius*num_radius\n",
    "print(\"the area of circle is \",area)"
   ]
  },
  {
   "cell_type": "code",
   "execution_count": 2,
   "id": "3ab87cec",
   "metadata": {},
   "outputs": [],
   "source": [
    "#without arguments\n",
    "def radius1():\n",
    "    num_radius=eval(input(\"enter radius of circle:\"))\n",
    "    area=3.14*num_radius*num_radius\n",
    "    print(\"the area of circle is \",area)"
   ]
  },
  {
   "cell_type": "code",
   "execution_count": 3,
   "id": "a81a6563",
   "metadata": {},
   "outputs": [
    {
     "name": "stdout",
     "output_type": "stream",
     "text": [
      "enter radius of circle:2\n",
      "the area of circle is  12.56\n"
     ]
    }
   ],
   "source": [
    "radius1()"
   ]
  },
  {
   "cell_type": "code",
   "execution_count": 8,
   "id": "27b240d8",
   "metadata": {},
   "outputs": [],
   "source": [
    "#with arguments\n",
    "def radius1(num_radius):\n",
    "    area=3.14*num_radius*num_radius\n",
    "    print(\"the area of circle is \",areaa)    "
   ]
  },
  {
   "cell_type": "code",
   "execution_count": 7,
   "id": "f564ba6e",
   "metadata": {},
   "outputs": [
    {
     "name": "stdout",
     "output_type": "stream",
     "text": [
      "the area of circle is  12.56\n"
     ]
    }
   ],
   "source": [
    "radius1(2)"
   ]
  },
  {
   "cell_type": "code",
   "execution_count": 11,
   "id": "719172dc",
   "metadata": {},
   "outputs": [],
   "source": [
    "#default mathod\n",
    "def radius1(num_radius=2):\n",
    "    area=3.14*num_radius*num_radius\n",
    "    print(\"the area of circle is \",area)    "
   ]
  },
  {
   "cell_type": "code",
   "execution_count": 12,
   "id": "fb2a7523",
   "metadata": {},
   "outputs": [
    {
     "name": "stdout",
     "output_type": "stream",
     "text": [
      "the area of circle is  12.56\n"
     ]
    }
   ],
   "source": [
    "radius1()"
   ]
  },
  {
   "cell_type": "code",
   "execution_count": 13,
   "id": "d6c9831a",
   "metadata": {},
   "outputs": [],
   "source": [
    "import math\n",
    "valu=math.pi \n",
    "def radius1(num_radius=2):\n",
    "    \n",
    "    area=valu*num_radius*num_radius\n",
    "    print(\"the area of circle is \",area) "
   ]
  },
  {
   "cell_type": "code",
   "execution_count": 14,
   "id": "101b0268",
   "metadata": {},
   "outputs": [
    {
     "name": "stdout",
     "output_type": "stream",
     "text": [
      "the area of circle is  12.566370614359172\n"
     ]
    }
   ],
   "source": [
    "radius1()"
   ]
  },
  {
   "cell_type": "code",
   "execution_count": 3,
   "id": "eeffb333",
   "metadata": {},
   "outputs": [
    {
     "name": "stdout",
     "output_type": "stream",
     "text": [
      "enter radius of circle:2\n",
      "the area of circle is  12.566370614359172\n"
     ]
    }
   ],
   "source": [
    "import math\n",
    "valu=math.pi \n",
    "def radius1():\n",
    "    \n",
    "    area1=valu*num_radius*num_radius\n",
    "    print(\"the area of circle is \",area1)\n",
    "num_radius=eval(input(\"enter radius of circle:\"))\n",
    "radius1()     ##3rd person from keyboard"
   ]
  },
  {
   "cell_type": "code",
   "execution_count": 4,
   "id": "e8b1969e",
   "metadata": {},
   "outputs": [
    {
     "ename": "NameError",
     "evalue": "name 'area1' is not defined",
     "output_type": "error",
     "traceback": [
      "\u001b[1;31m---------------------------------------------------------------------------\u001b[0m",
      "\u001b[1;31mNameError\u001b[0m                                 Traceback (most recent call last)",
      "Cell \u001b[1;32mIn[4], line 1\u001b[0m\n\u001b[1;32m----> 1\u001b[0m area1()\n",
      "\u001b[1;31mNameError\u001b[0m: name 'area1' is not defined"
     ]
    }
   ],
   "source": [
    "area1()\n",
    "#function is calculating area value\n",
    "#but not provididng (retruning the value to you)\n",
    "#when you want to use that value outside------->error\n",
    "    "
   ]
  },
  {
   "cell_type": "markdown",
   "id": "ae9cb3b7",
   "metadata": {},
   "source": [
    "$return$ $the$ $values$"
   ]
  },
  {
   "cell_type": "code",
   "execution_count": 9,
   "id": "a1cd4189",
   "metadata": {},
   "outputs": [],
   "source": [
    "import math\n",
    "def area_of_circle():\n",
    "    pii=math.pi\n",
    "    r=eval(input(\"enter the radius:\"))\n",
    "    area11=round(pii*r*r,2)\n",
    "    print(\"tha arae of the circle is\",area11)\n",
    "    return(area11,pii)"
   ]
  },
  {
   "cell_type": "code",
   "execution_count": 7,
   "id": "533681a2",
   "metadata": {},
   "outputs": [],
   "source": [
    "value=10"
   ]
  },
  {
   "cell_type": "code",
   "execution_count": 10,
   "id": "4f7a441e",
   "metadata": {},
   "outputs": [
    {
     "name": "stdout",
     "output_type": "stream",
     "text": [
      "enter the radius:2\n",
      "tha arae of the circle is 12.57\n"
     ]
    }
   ],
   "source": [
    "#area11 is stored in area,pii value is stored in pii\n",
    "Area,pii=area_of_circle()"
   ]
  },
  {
   "cell_type": "code",
   "execution_count": 11,
   "id": "d4525d72",
   "metadata": {},
   "outputs": [
    {
     "ename": "TypeError",
     "evalue": "'float' object is not callable",
     "output_type": "error",
     "traceback": [
      "\u001b[1;31m---------------------------------------------------------------------------\u001b[0m",
      "\u001b[1;31mTypeError\u001b[0m                                 Traceback (most recent call last)",
      "Cell \u001b[1;32mIn[11], line 1\u001b[0m\n\u001b[1;32m----> 1\u001b[0m Area()\n",
      "\u001b[1;31mTypeError\u001b[0m: 'float' object is not callable"
     ]
    }
   ],
   "source": [
    "Area()"
   ]
  },
  {
   "cell_type": "code",
   "execution_count": 13,
   "id": "826895bc",
   "metadata": {},
   "outputs": [],
   "source": [
    "#wap ask the user enter 3 numbers and find the sum and avg and return the value of sum and avg\n",
    "def num():\n",
    "    \n",
    "    valu1=eval(input(\"enter 1st number:\"))\n",
    "    valu2=eval(input(\"enter 2nd number:\"))\n",
    "    valu3=eval(input(\"enter 3rd number:\"))\n",
    "    sum1=valu1+valu2+valu3\n",
    "    avg=(valu1+valu2+valu3)/3\n",
    "    return(sum1,avg)"
   ]
  },
  {
   "cell_type": "code",
   "execution_count": 19,
   "id": "dc91df17",
   "metadata": {},
   "outputs": [
    {
     "name": "stdout",
     "output_type": "stream",
     "text": [
      "enter 1st number:1\n",
      "enter 2nd number:2\n",
      "enter 3rd number:3\n"
     ]
    }
   ],
   "source": [
    "sum1,avg2=num()"
   ]
  },
  {
   "cell_type": "code",
   "execution_count": 20,
   "id": "918b22b2",
   "metadata": {},
   "outputs": [
    {
     "name": "stdout",
     "output_type": "stream",
     "text": [
      "6\n"
     ]
    }
   ],
   "source": [
    "print(sum1)"
   ]
  },
  {
   "cell_type": "code",
   "execution_count": 21,
   "id": "c1629b8a",
   "metadata": {},
   "outputs": [
    {
     "name": "stdout",
     "output_type": "stream",
     "text": [
      "2.0\n"
     ]
    }
   ],
   "source": [
    "print(avg2)"
   ]
  },
  {
   "cell_type": "code",
   "execution_count": 22,
   "id": "cfbdaafa",
   "metadata": {},
   "outputs": [
    {
     "data": {
      "text/plain": [
       "6"
      ]
     },
     "execution_count": 22,
     "metadata": {},
     "output_type": "execute_result"
    }
   ],
   "source": [
    "sum1"
   ]
  },
  {
   "cell_type": "code",
   "execution_count": 31,
   "id": "39e8df90",
   "metadata": {},
   "outputs": [],
   "source": [
    "#wap find the biggest number of 3 numbers\n",
    "#take three numbers\n",
    "#and find the biggest number\n",
    "#and return that number\n",
    "#if num1>num2 and num1>num3------num1\n",
    "#elif: num2>num3-----num2\n",
    "#else:num\n",
    "def biggest():\n",
    "    valu1=eval(input(\"enter 1st num:\"))\n",
    "    valu2=eval(input(\"enter 2nd num:\"))\n",
    "    valu3=eval(input(\"eval 3rd num:\"))\n",
    "    if valu1>valu2 and valu1>valu3:\n",
    "        print(\"valu1 is biggest\")\n",
    "    elif valu2>valu3:\n",
    "        print(\"valu2 is biggest\")\n",
    "    else:\n",
    "        print(\"valu3\")\n",
    "    return(valu1,valu2,valu3)"
   ]
  },
  {
   "cell_type": "code",
   "execution_count": 32,
   "id": "53abd2b6",
   "metadata": {},
   "outputs": [
    {
     "name": "stdout",
     "output_type": "stream",
     "text": [
      "enter 1st num:20\n",
      "enter 2nd num:30\n",
      "eval 3rd num:40\n",
      "valu3\n"
     ]
    },
    {
     "data": {
      "text/plain": [
       "(20, 30, 40)"
      ]
     },
     "execution_count": 32,
     "metadata": {},
     "output_type": "execute_result"
    }
   ],
   "source": [
    "biggest()"
   ]
  },
  {
   "cell_type": "code",
   "execution_count": 53,
   "id": "dfa20baa",
   "metadata": {},
   "outputs": [],
   "source": [
    "def biggest1():\n",
    "    valu1=eval(input(\"enter 1st num:\"))\n",
    "    valu2=eval(input(\"enter 2nd num:\"))\n",
    "    valu3=eval(input(\"eval 3rd num:\"))\n",
    "    if valu1>valu2 and valu1>valu3:\n",
    "        return(valu1)\n",
    "    elif valu2>valu3:\n",
    "        return valu2\n",
    "        #return(valu2 is biggest)\n",
    "    else:\n",
    "        return(valu3)\n",
    "    \n"
   ]
  },
  {
   "cell_type": "code",
   "execution_count": 55,
   "id": "a898a509",
   "metadata": {},
   "outputs": [
    {
     "name": "stdout",
     "output_type": "stream",
     "text": [
      "enter 1st num:20\n",
      "enter 2nd num:30\n",
      "eval 3rd num:40\n",
      "the largest number is 40\n"
     ]
    }
   ],
   "source": [
    "bigg=biggest1()\n",
    "print(\"the largest number is\",bigg)"
   ]
  },
  {
   "cell_type": "code",
   "execution_count": 43,
   "id": "ac3e29e0",
   "metadata": {},
   "outputs": [
    {
     "name": "stdout",
     "output_type": "stream",
     "text": [
      "50\n"
     ]
    }
   ],
   "source": [
    "def add(a,b):\n",
    "    return(a+b)\n",
    "val=add(20,30)\n",
    "print(val)"
   ]
  },
  {
   "cell_type": "code",
   "execution_count": 45,
   "id": "c17305f8",
   "metadata": {},
   "outputs": [
    {
     "name": "stdout",
     "output_type": "stream",
     "text": [
      "600\n"
     ]
    }
   ],
   "source": [
    "def mul(a,b):\n",
    "    return(a*b)\n",
    "val_=mul(20,30)\n",
    "print(val_)"
   ]
  },
  {
   "cell_type": "code",
   "execution_count": 49,
   "id": "73c673c2",
   "metadata": {},
   "outputs": [
    {
     "name": "stdout",
     "output_type": "stream",
     "text": [
      "-10\n"
     ]
    }
   ],
   "source": [
    "def sub(a,b):\n",
    "    return(a-b)\n",
    "val1=sub(20,30)\n",
    "print(val1)"
   ]
  },
  {
   "cell_type": "code",
   "execution_count": 50,
   "id": "ccec0ba5",
   "metadata": {},
   "outputs": [
    {
     "name": "stdout",
     "output_type": "stream",
     "text": [
      "0.6666666666666666\n"
     ]
    }
   ],
   "source": [
    "def div(a,b):\n",
    "    return(a/b)\n",
    "val=div(20,30)\n",
    "print(val)"
   ]
  },
  {
   "cell_type": "code",
   "execution_count": 51,
   "id": "811f329f",
   "metadata": {},
   "outputs": [
    {
     "name": "stdout",
     "output_type": "stream",
     "text": [
      "30 -10 200 0.5\n"
     ]
    }
   ],
   "source": [
    "def aggregation(a,b):\n",
    "    return(a+b,a-b,a*b,a/b)\n",
    "add,sub,mul,div=aggregation(10,20)\n",
    "print(add,sub,mul,div)"
   ]
  },
  {
   "cell_type": "code",
   "execution_count": null,
   "id": "76a8d91e",
   "metadata": {},
   "outputs": [],
   "source": []
  }
 ],
 "metadata": {
  "kernelspec": {
   "display_name": "Python 3 (ipykernel)",
   "language": "python",
   "name": "python3"
  },
  "language_info": {
   "codemirror_mode": {
    "name": "ipython",
    "version": 3
   },
   "file_extension": ".py",
   "mimetype": "text/x-python",
   "name": "python",
   "nbconvert_exporter": "python",
   "pygments_lexer": "ipython3",
   "version": "3.11.5"
  }
 },
 "nbformat": 4,
 "nbformat_minor": 5
}
