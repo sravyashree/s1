{
 "cells": [
  {
   "cell_type": "code",
   "execution_count": 4,
   "id": "1159b0dd",
   "metadata": {},
   "outputs": [],
   "source": [
    "#wap to extract\n",
    "str1=\"python.anaconda@nareshit.com\"\n",
    "# str2=\n",
    "#extract first name:python\n",
    "#extract second name:anaconda\n",
    "#extract third name:nareshit\n",
    "# str1.index(\"p\")"
   ]
  },
  {
   "cell_type": "code",
   "execution_count": 6,
   "id": "bc9ffc99",
   "metadata": {},
   "outputs": [
    {
     "data": {
      "text/plain": [
       "'python'"
      ]
     },
     "execution_count": 6,
     "metadata": {},
     "output_type": "execute_result"
    }
   ],
   "source": [
    "str1[:str1.find('.')]"
   ]
  },
  {
   "cell_type": "code",
   "execution_count": 15,
   "id": "be6f328e",
   "metadata": {},
   "outputs": [
    {
     "data": {
      "text/plain": [
       "'anaconda'"
      ]
     },
     "execution_count": 15,
     "metadata": {},
     "output_type": "execute_result"
    }
   ],
   "source": [
    "# str1.index('@')\n",
    "str1[str1.index('.')+1:str1.find('@')]"
   ]
  },
  {
   "cell_type": "code",
   "execution_count": 22,
   "id": "32369d24",
   "metadata": {},
   "outputs": [
    {
     "data": {
      "text/plain": [
       "'nareshit'"
      ]
     },
     "execution_count": 22,
     "metadata": {},
     "output_type": "execute_result"
    }
   ],
   "source": [
    "str1.index('.',str1.index('.')+1)\n",
    "str1[str1.index('@')+1:str1.find('.',str1.find('.')+1)]"
   ]
  },
  {
   "cell_type": "code",
   "execution_count": 27,
   "id": "24a3ca5f",
   "metadata": {
    "scrolled": true
   },
   "outputs": [
    {
     "data": {
      "text/plain": [
       "'nareshit'"
      ]
     },
     "execution_count": 27,
     "metadata": {},
     "output_type": "execute_result"
    }
   ],
   "source": [
    "str1.index('.',str1.index('.')+1)\n",
    "str1[str1.index('@')+1:str1.find('.',str1.find('.')+1)]"
   ]
  },
  {
   "cell_type": "code",
   "execution_count": 29,
   "id": "060cc9d4",
   "metadata": {},
   "outputs": [
    {
     "data": {
      "text/plain": [
       "'com'"
      ]
     },
     "execution_count": 29,
     "metadata": {},
     "output_type": "execute_result"
    }
   ],
   "source": [
    "str1[str1.find('.',str1.find('.')+1)+1:]"
   ]
  },
  {
   "cell_type": "code",
   "execution_count": 25,
   "id": "a8ea853a",
   "metadata": {},
   "outputs": [
    {
     "data": {
      "text/plain": [
       "'@adnocana'"
      ]
     },
     "execution_count": 25,
     "metadata": {},
     "output_type": "execute_result"
    }
   ],
   "source": [
    "str1.index('.',str1.index('.')+1)\n",
    "str1[str1.index('@'):str1.find('.'):-1]"
   ]
  },
  {
   "cell_type": "code",
   "execution_count": 20,
   "id": "0dd6463e",
   "metadata": {},
   "outputs": [
    {
     "data": {
      "text/plain": [
       "8"
      ]
     },
     "execution_count": 20,
     "metadata": {},
     "output_type": "execute_result"
    }
   ],
   "source": [
    "string1=\"sravya.k.beryh\"\n",
    "string1.find('.',string1.find('.')+1)"
   ]
  },
  {
   "cell_type": "code",
   "execution_count": 30,
   "id": "77951309",
   "metadata": {},
   "outputs": [
    {
     "data": {
      "text/plain": [
       "6"
      ]
     },
     "execution_count": 30,
     "metadata": {},
     "output_type": "execute_result"
    }
   ],
   "source": [
    "str1=\"sravya.gftygvgfg@gandhinagar.com\"\n",
    "str1.index(\".\")"
   ]
  },
  {
   "cell_type": "code",
   "execution_count": 31,
   "id": "18f4302a",
   "metadata": {},
   "outputs": [
    {
     "data": {
      "text/plain": [
       "'sravya'"
      ]
     },
     "execution_count": 31,
     "metadata": {},
     "output_type": "execute_result"
    }
   ],
   "source": [
    "str1[:str1.index(\".\")]"
   ]
  },
  {
   "cell_type": "code",
   "execution_count": 33,
   "id": "c9390aea",
   "metadata": {},
   "outputs": [
    {
     "data": {
      "text/plain": [
       "16"
      ]
     },
     "execution_count": 33,
     "metadata": {},
     "output_type": "execute_result"
    }
   ],
   "source": [
    "str1.index(\"@\")"
   ]
  },
  {
   "cell_type": "code",
   "execution_count": 38,
   "id": "0e8deb4f",
   "metadata": {},
   "outputs": [
    {
     "data": {
      "text/plain": [
       "'gftygvgfg'"
      ]
     },
     "execution_count": 38,
     "metadata": {},
     "output_type": "execute_result"
    }
   ],
   "source": [
    "str1[str1.index(\".\")+1:str1.index(\"@\")]"
   ]
  },
  {
   "cell_type": "code",
   "execution_count": 39,
   "id": "cca25241",
   "metadata": {},
   "outputs": [
    {
     "data": {
      "text/plain": [
       "'sravya.gftygvgfg'"
      ]
     },
     "execution_count": 39,
     "metadata": {},
     "output_type": "execute_result"
    }
   ],
   "source": [
    "str1[:str1.index(\"@\")]"
   ]
  },
  {
   "cell_type": "code",
   "execution_count": 43,
   "id": "4040bb80",
   "metadata": {},
   "outputs": [
    {
     "data": {
      "text/plain": [
       "28"
      ]
     },
     "execution_count": 43,
     "metadata": {},
     "output_type": "execute_result"
    }
   ],
   "source": [
    "str1.index(\".\",str1.index(\".\")+1)"
   ]
  },
  {
   "cell_type": "code",
   "execution_count": 46,
   "id": "e8ec4813",
   "metadata": {},
   "outputs": [
    {
     "data": {
      "text/plain": [
       "'.'"
      ]
     },
     "execution_count": 46,
     "metadata": {},
     "output_type": "execute_result"
    }
   ],
   "source": [
    "str1[str1.index(\".\",str1.index(\".\")+1)]"
   ]
  },
  {
   "cell_type": "code",
   "execution_count": 50,
   "id": "9541dd81",
   "metadata": {},
   "outputs": [
    {
     "data": {
      "text/plain": [
       "'gandhinagar'"
      ]
     },
     "execution_count": 50,
     "metadata": {},
     "output_type": "execute_result"
    }
   ],
   "source": [
    "str1[str1.index(\"@\")+1:str1.index(\".\",str1.index(\".\")+1)]"
   ]
  },
  {
   "cell_type": "code",
   "execution_count": 55,
   "id": "411143cf",
   "metadata": {},
   "outputs": [
    {
     "data": {
      "text/plain": [
       "'com'"
      ]
     },
     "execution_count": 55,
     "metadata": {},
     "output_type": "execute_result"
    }
   ],
   "source": [
    "str1[str1.index(\".\",str1.index(\".\")+1)+1:]"
   ]
  },
  {
   "cell_type": "code",
   "execution_count": 56,
   "id": "d2b53cc5",
   "metadata": {},
   "outputs": [
    {
     "data": {
      "text/plain": [
       "15"
      ]
     },
     "execution_count": 56,
     "metadata": {},
     "output_type": "execute_result"
    }
   ],
   "source": [
    "str1=\"ruvoffeuffottau-2101@yopmail.com\"\n",
    "str1.index(\"-\")"
   ]
  },
  {
   "cell_type": "code",
   "execution_count": 57,
   "id": "68b0768b",
   "metadata": {},
   "outputs": [
    {
     "data": {
      "text/plain": [
       "'ruvoffeuffottau'"
      ]
     },
     "execution_count": 57,
     "metadata": {},
     "output_type": "execute_result"
    }
   ],
   "source": [
    "str1[:str1.index(\"-\")]"
   ]
  },
  {
   "cell_type": "code",
   "execution_count": 61,
   "id": "b57c2f32",
   "metadata": {},
   "outputs": [
    {
     "data": {
      "text/plain": [
       "20"
      ]
     },
     "execution_count": 61,
     "metadata": {},
     "output_type": "execute_result"
    }
   ],
   "source": [
    "str1.index(\"@\")"
   ]
  },
  {
   "cell_type": "code",
   "execution_count": 63,
   "id": "6ccf2205",
   "metadata": {},
   "outputs": [
    {
     "data": {
      "text/plain": [
       "'2101'"
      ]
     },
     "execution_count": 63,
     "metadata": {},
     "output_type": "execute_result"
    }
   ],
   "source": [
    "str1[str1.index(\"-\")+1:str1.index(\"@\")]"
   ]
  },
  {
   "cell_type": "code",
   "execution_count": 67,
   "id": "7f609cdb",
   "metadata": {},
   "outputs": [
    {
     "data": {
      "text/plain": [
       "28"
      ]
     },
     "execution_count": 67,
     "metadata": {},
     "output_type": "execute_result"
    }
   ],
   "source": [
    "str1.index(\".\")"
   ]
  },
  {
   "cell_type": "code",
   "execution_count": 69,
   "id": "c78d6418",
   "metadata": {},
   "outputs": [
    {
     "data": {
      "text/plain": [
       "'yopmail'"
      ]
     },
     "execution_count": 69,
     "metadata": {},
     "output_type": "execute_result"
    }
   ],
   "source": [
    "str1[str1.index(\"@\")+1:str1.index(\".\")]"
   ]
  },
  {
   "cell_type": "code",
   "execution_count": 71,
   "id": "0ff047f4",
   "metadata": {},
   "outputs": [
    {
     "data": {
      "text/plain": [
       "'com'"
      ]
     },
     "execution_count": 71,
     "metadata": {},
     "output_type": "execute_result"
    }
   ],
   "source": [
    "str1[str1.index(\".\")+1:]"
   ]
  },
  {
   "cell_type": "code",
   "execution_count": 72,
   "id": "e9819e5b",
   "metadata": {},
   "outputs": [
    {
     "data": {
      "text/plain": [
       "7"
      ]
     },
     "execution_count": 72,
     "metadata": {},
     "output_type": "execute_result"
    }
   ],
   "source": [
    "str1=\"shravya.shree296@gmail.com\"\n",
    "str1.index(\".\")"
   ]
  },
  {
   "cell_type": "code",
   "execution_count": 73,
   "id": "8c16639f",
   "metadata": {},
   "outputs": [
    {
     "data": {
      "text/plain": [
       "'shravya'"
      ]
     },
     "execution_count": 73,
     "metadata": {},
     "output_type": "execute_result"
    }
   ],
   "source": [
    "str1[:str1.index(\".\")]"
   ]
  },
  {
   "cell_type": "code",
   "execution_count": 74,
   "id": "d94d4179",
   "metadata": {},
   "outputs": [
    {
     "data": {
      "text/plain": [
       "13"
      ]
     },
     "execution_count": 74,
     "metadata": {},
     "output_type": "execute_result"
    }
   ],
   "source": [
    "str1.index(\"296\")"
   ]
  },
  {
   "cell_type": "code",
   "execution_count": 76,
   "id": "e66b31a5",
   "metadata": {},
   "outputs": [
    {
     "data": {
      "text/plain": [
       "'shree'"
      ]
     },
     "execution_count": 76,
     "metadata": {},
     "output_type": "execute_result"
    }
   ],
   "source": [
    "str1[str1.index(\".\")+1:str1.index(\"296\")]"
   ]
  },
  {
   "cell_type": "code",
   "execution_count": 77,
   "id": "2879cf5c",
   "metadata": {},
   "outputs": [
    {
     "data": {
      "text/plain": [
       "16"
      ]
     },
     "execution_count": 77,
     "metadata": {},
     "output_type": "execute_result"
    }
   ],
   "source": [
    "str1.index(\"@\")"
   ]
  },
  {
   "cell_type": "code",
   "execution_count": 83,
   "id": "895deab7",
   "metadata": {},
   "outputs": [
    {
     "data": {
      "text/plain": [
       "13"
      ]
     },
     "execution_count": 83,
     "metadata": {},
     "output_type": "execute_result"
    }
   ],
   "source": [
    "str1.index(\"2\")"
   ]
  },
  {
   "cell_type": "code",
   "execution_count": 84,
   "id": "91c40940",
   "metadata": {},
   "outputs": [
    {
     "data": {
      "text/plain": [
       "'296'"
      ]
     },
     "execution_count": 84,
     "metadata": {},
     "output_type": "execute_result"
    }
   ],
   "source": [
    "str1[str1.index(\"2\"):str1.index(\"@\")]"
   ]
  },
  {
   "cell_type": "code",
   "execution_count": 86,
   "id": "6cd8c7fa",
   "metadata": {},
   "outputs": [
    {
     "data": {
      "text/plain": [
       "22"
      ]
     },
     "execution_count": 86,
     "metadata": {},
     "output_type": "execute_result"
    }
   ],
   "source": [
    "str1.index(\".\",str1.index(\".\")+1)"
   ]
  },
  {
   "cell_type": "code",
   "execution_count": 88,
   "id": "6e2d0820",
   "metadata": {},
   "outputs": [
    {
     "data": {
      "text/plain": [
       "'gmail'"
      ]
     },
     "execution_count": 88,
     "metadata": {},
     "output_type": "execute_result"
    }
   ],
   "source": [
    "str1[str1.index(\"@\")+1:str1.index(\".\",str1.index(\".\")+1)]"
   ]
  },
  {
   "cell_type": "code",
   "execution_count": 90,
   "id": "d2a57382",
   "metadata": {},
   "outputs": [
    {
     "data": {
      "text/plain": [
       "'com'"
      ]
     },
     "execution_count": 90,
     "metadata": {},
     "output_type": "execute_result"
    }
   ],
   "source": [
    "str1[str1.index(\".\",str1.index(\".\")+1)+1:]"
   ]
  },
  {
   "cell_type": "code",
   "execution_count": null,
   "id": "a9ca0d4e",
   "metadata": {},
   "outputs": [],
   "source": []
  }
 ],
 "metadata": {
  "kernelspec": {
   "display_name": "Python 3 (ipykernel)",
   "language": "python",
   "name": "python3"
  },
  "language_info": {
   "codemirror_mode": {
    "name": "ipython",
    "version": 3
   },
   "file_extension": ".py",
   "mimetype": "text/x-python",
   "name": "python",
   "nbconvert_exporter": "python",
   "pygments_lexer": "ipython3",
   "version": "3.11.5"
  }
 },
 "nbformat": 4,
 "nbformat_minor": 5
}
