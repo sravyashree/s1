{
 "cells": [
  {
   "cell_type": "markdown",
   "id": "57231066",
   "metadata": {},
   "source": [
    "$conditional$ $statements$ or $selection$ $statements$ or $branching$ $statements$ or $decision$ $making$ $statements$"
   ]
  },
  {
   "cell_type": "markdown",
   "id": "889da894",
   "metadata": {},
   "source": [
    "--conditional statements also known as selection or branching statements or decision making statements"
   ]
  },
  {
   "cell_type": "markdown",
   "id": "743febfe",
   "metadata": {},
   "source": [
    "--the purpose of conditional statements is that \"to perform certain operation which depends on a condition\""
   ]
  },
  {
   "cell_type": "markdown",
   "id": "acb6a841",
   "metadata": {},
   "source": [
    "--for example:if the condition is true it performs some x-operation or if the condition is false then it performs some y-operation"
   ]
  },
  {
   "cell_type": "markdown",
   "id": "d439aa9c",
   "metadata": {},
   "source": [
    "$types$ $of$ $conditional statements$"
   ]
  },
  {
   "cell_type": "code",
   "execution_count": null,
   "id": "3ab6c403",
   "metadata": {},
   "outputs": [],
   "source": [
    "1)simple if statements\n",
    "2)if-else statements\n",
    "3)if-elif-else statements\n",
    "4)nested if else"
   ]
  },
  {
   "cell_type": "markdown",
   "id": "2ca5a755",
   "metadata": {},
   "source": [
    "$simple$ $if$"
   ]
  },
  {
   "cell_type": "markdown",
   "id": "86eafd53",
   "metadata": {},
   "source": [
    "syntax"
   ]
  },
  {
   "cell_type": "code",
   "execution_count": null,
   "id": "9ee38c43",
   "metadata": {},
   "outputs": [],
   "source": [
    "if(cond):\n",
    "    statement-1\n",
    "    statement-2\n",
    "    statement-3      #indentation block\n",
    "    ...\n",
    "    ...\n",
    "    statement-n\n",
    "-------------------\n",
    "other statements\n",
    "-------------------"
   ]
  },
  {
   "cell_type": "markdown",
   "id": "f986454d",
   "metadata": {},
   "source": [
    "$flow chart$"
   ]
  },
  {
   "cell_type": "code",
   "execution_count": null,
   "id": "1ec17c1a",
   "metadata": {},
   "outputs": [],
   "source": [
    "                     start\n",
    "                        |\n",
    "          false-----|condition|----true\n",
    "            |                        |\n",
    "            |                        |\n",
    "other statements          executes indentation block of statements "
   ]
  },
  {
   "cell_type": "markdown",
   "id": "bbefc6f9",
   "metadata": {},
   "source": [
    "explanation"
   ]
  },
  {
   "cell_type": "code",
   "execution_count": null,
   "id": "9d74ef73",
   "metadata": {},
   "outputs": [],
   "source": [
    "--here keyword-if\n",
    "--here condition is true or false\n",
    "--if the condition is true then it executes indentation block statements\n",
    "--if the condition is false then it executes other statements in program"
   ]
  },
  {
   "cell_type": "markdown",
   "id": "90e1a4f3",
   "metadata": {},
   "source": [
    "$examples$"
   ]
  },
  {
   "cell_type": "code",
   "execution_count": 1,
   "id": "4c1a7ead",
   "metadata": {
    "scrolled": false
   },
   "outputs": [
    {
     "name": "stdout",
     "output_type": "stream",
     "text": [
      "enter a number:4\n",
      "positive num\n",
      "hi\n"
     ]
    }
   ],
   "source": [
    "#example-1:wap ask the user to enter a number using simple if condition check whether the number is pos or neg num\n",
    "val=eval(input(\"enter a number:\"))\n",
    "if val>0:\n",
    "    print(\"positive num\")\n",
    "if val<0:\n",
    "    print(\"neg num\")\n",
    "print(\"hi\")"
   ]
  },
  {
   "cell_type": "code",
   "execution_count": 1,
   "id": "26b4753e",
   "metadata": {},
   "outputs": [
    {
     "name": "stdout",
     "output_type": "stream",
     "text": [
      "enter a number:-4\n",
      "neg num\n",
      "hi\n"
     ]
    }
   ],
   "source": [
    "#example-1:wap ask the user to enter a number using simple if condition \n",
    "#check whether the number is pos or neg num-try and except\n",
    "try:\n",
    "    val=eval(input(\"enter a number:\"))\n",
    "    if val>0:\n",
    "        print(\"positive num\")\n",
    "    if val<0:\n",
    "        print(\"neg num\")\n",
    "except Exception as e:\n",
    "    print(e)\n",
    "print(\"hi\")"
   ]
  },
  {
   "cell_type": "code",
   "execution_count": 2,
   "id": "a0175ad7",
   "metadata": {},
   "outputs": [
    {
     "name": "stdout",
     "output_type": "stream",
     "text": [
      "Enter value of a:3\n",
      "Enter value of b:4\n",
      "biggest(3,4)=4\n"
     ]
    }
   ],
   "source": [
    "#example-2:WAP ask the user to enter a number and check the biggest among the two numbers\n",
    "a=eval(input(\"Enter value of a:\")) \n",
    "b=eval(input(\"Enter value of b:\")) \n",
    "if (a>b):\n",
    "    print(\"biggest({},{})={}\".format(a,b,a))\n",
    "if(b>a):\n",
    "    print(\"biggest({},{})={}\".format(a,b,b))"
   ]
  },
  {
   "cell_type": "code",
   "execution_count": 3,
   "id": "984aa603",
   "metadata": {},
   "outputs": [
    {
     "name": "stdout",
     "output_type": "stream",
     "text": [
      "Enter value of a:-2\n",
      "Enter value of b:4\n",
      "biggest(-2,4)=4\n"
     ]
    }
   ],
   "source": [
    "#example-2:Wap ask the user to enter a number and check the biggest among the two numbers--try and except\n",
    "try:\n",
    "    a=eval(input(\"Enter value of a:\")) \n",
    "    b=eval(input(\"Enter value of b:\")) \n",
    "    if (a>b):\n",
    "        print(\"biggest({},{})={}\".format(a,b,a))\n",
    "    if(b>a):\n",
    "        print(\"biggest({},{})={}\".format(a,b,b))\n",
    "except Exception as e:\n",
    "    print(e)"
   ]
  },
  {
   "cell_type": "markdown",
   "id": "ef495520",
   "metadata": {},
   "source": [
    "$if$ $else$"
   ]
  },
  {
   "cell_type": "markdown",
   "id": "0c7796b8",
   "metadata": {},
   "source": [
    "syntax"
   ]
  },
  {
   "cell_type": "code",
   "execution_count": null,
   "id": "4fb63108",
   "metadata": {},
   "outputs": [],
   "source": [
    "if(cond):\n",
    "    statement-1\n",
    "    statement-2\n",
    "    statement-3      #indentation block statements-1\n",
    "    ....\n",
    "    ....\n",
    "    statement-n\n",
    "else:\n",
    "    statement-1\n",
    "    statement-2\n",
    "    statement-3      #indentation block statements-2\n",
    "    ....\n",
    "    ....\n",
    "    statement-n\n",
    "------------------\n",
    "other statements          \n",
    "------------------"
   ]
  },
  {
   "cell_type": "markdown",
   "id": "23930a41",
   "metadata": {},
   "source": [
    "$flow chart$ "
   ]
  },
  {
   "cell_type": "code",
   "execution_count": null,
   "id": "39b79e26",
   "metadata": {},
   "outputs": [],
   "source": [
    "                start\n",
    "                   |\n",
    "        false-----|condition|------true\n",
    "          |                         |\n",
    "          |                         |\n",
    "        executes                  executes indentation\n",
    "indentation block of                       block\n",
    "        statements-2                  of statements -1\n",
    "                |                           |\n",
    "                |-------------||------------|                 \n",
    "                executes other statements in program"
   ]
  },
  {
   "cell_type": "markdown",
   "id": "33ef40d1",
   "metadata": {},
   "source": [
    "explanation"
   ]
  },
  {
   "cell_type": "code",
   "execution_count": null,
   "id": "72f08d42",
   "metadata": {},
   "outputs": [],
   "source": [
    "--here keyword--if else\n",
    "--if the condition is true then it executes if block statements\n",
    "--if the condition is false then it executes else block statements"
   ]
  },
  {
   "cell_type": "markdown",
   "id": "f95aff4d",
   "metadata": {},
   "source": [
    "examples"
   ]
  },
  {
   "cell_type": "code",
   "execution_count": 19,
   "id": "74cb78d6",
   "metadata": {},
   "outputs": [
    {
     "name": "stdout",
     "output_type": "stream",
     "text": [
      "enter 1st number:2\n",
      "enter 2nd number:2\n",
      "this is true case\n",
      "we are doing addition operation\n",
      "the addition of 2 and2 is 4\n",
      "happy ending\n"
     ]
    }
   ],
   "source": [
    "#example-1:true case\n",
    "#wap ask the user to enter two number and check whether the two numbers are same and perform add,mul operation\n",
    "num1=eval(input(\"enter 1st number:\"))\n",
    "num2=eval(input(\"enter 2nd number:\"))\n",
    "if (num1==num2):      #here \"==\"\" means comparing num1 is equal to num2\n",
    "    print(\"this is true case\")\n",
    "    print(\"we are doing addition operation\")\n",
    "    print(\"the addition of {} and{} is {}\".format(num1,num2,num1+num2))\n",
    "    print(\"happy ending\")\n",
    "else:\n",
    "    print(\"this is false case\")\n",
    "    print(\"we are doing multipliaction\")\n",
    "    print(\"the multiplication of {} and {} is {}\".format(num1,num2,num1*num2))\n",
    "    print(\"sad ending\")"
   ]
  },
  {
   "cell_type": "code",
   "execution_count": 21,
   "id": "26b4c007",
   "metadata": {},
   "outputs": [
    {
     "name": "stdout",
     "output_type": "stream",
     "text": [
      "enter 1st number:1\n",
      "enter 2nd number:2\n",
      "this is false case\n",
      "we are doing multipliaction\n",
      "the multiplication of 1 and 2 is 2\n",
      "sad ending\n"
     ]
    }
   ],
   "source": [
    "#example-2:false case\n",
    "#wap ask the user toenter two number and check whether the two numbers are same and perform add,mul operation\n",
    "num1=eval(input(\"enter 1st number:\"))\n",
    "num2=eval(input(\"enter 2nd number:\"))\n",
    "if (num1==num2):\n",
    "    print(\"this is true case\")\n",
    "    print(\"we are doing addition operation\")\n",
    "    print(\"the addition of {} and{} is {}\".format(num1,num2,num1+num2))\n",
    "    print(\"happy ending\")\n",
    "else:\n",
    "    print(\"this is false case\")\n",
    "    print(\"we are doing multipliaction\")\n",
    "    print(\"the multiplication of {} and {} is {}\".format(num1,num2,num1*num2))\n",
    "    print(\"sad ending\")"
   ]
  },
  {
   "cell_type": "code",
   "execution_count": 30,
   "id": "718692d5",
   "metadata": {},
   "outputs": [
    {
     "name": "stdout",
     "output_type": "stream",
     "text": [
      "enter 1st number:2\n",
      "enter 2nd number:3\n",
      "this is false case\n",
      "we are doing multipliaction\n",
      "the multiplication of 2 and 3 is 6\n",
      "sad ending\n"
     ]
    }
   ],
   "source": [
    "#example-2:false case\n",
    "#wap ask the user toenter two number and check whether the two numbers are same and perform add,mul operation-try and except\n",
    "try:\n",
    "    num1=eval(input(\"enter 1st number:\"))\n",
    "    num2=eval(input(\"enter 2nd number:\"))\n",
    "    if (num1==num2):\n",
    "        print(\"this is true case\")\n",
    "        print(\"we are doing addition operation\")\n",
    "        print(\"the addition of {} and{} is {}\".format(num1,num2,num1+num2))\n",
    "        print(\"happy ending\")\n",
    "    else:\n",
    "        print(\"this is false case\")\n",
    "        print(\"we are doing multipliaction\")\n",
    "        print(\"the multiplication of {} and {} is {}\".format(num1,num2,num1*num2))\n",
    "        print(\"sad ending\")\n",
    "except Exception as e:\n",
    "            print(e)"
   ]
  },
  {
   "cell_type": "markdown",
   "id": "0f12402a",
   "metadata": {},
   "source": [
    "$if$ $elif$ $else$"
   ]
  },
  {
   "cell_type": "code",
   "execution_count": null,
   "id": "c14318e4",
   "metadata": {},
   "outputs": [],
   "source": [
    "--this statement is used if more two conditions are used"
   ]
  },
  {
   "cell_type": "markdown",
   "id": "1692d341",
   "metadata": {},
   "source": [
    "syntax"
   ]
  },
  {
   "cell_type": "code",
   "execution_count": null,
   "id": "8614bf91",
   "metadata": {},
   "outputs": [],
   "source": [
    "if(condition-1):\n",
    "    statement-1\n",
    "elif(condition-2):\n",
    "    statement-2\n",
    "elif(condition-3):\n",
    "    statement-3\n",
    ".....\n",
    ".....\n",
    "elif(condition-n):\n",
    "    statement-n\n",
    "else:\n",
    "    statement\n",
    "------------------\n",
    "other statements\n",
    "------------------"
   ]
  },
  {
   "cell_type": "markdown",
   "id": "5c5c29cc",
   "metadata": {},
   "source": [
    "flow chart"
   ]
  },
  {
   "cell_type": "code",
   "execution_count": null,
   "id": "26182001",
   "metadata": {},
   "outputs": [],
   "source": [
    "    start\n",
    "      |\n",
    "   |if(condition-1)  |\n",
    "   | statement-1     |----true----executes if(cond-1) statement-1 ===========|\n",
    "        |---false                                                            |\n",
    "   |elif(condition-2)|                                                       |\n",
    "   | statement-2     |----true-----executes elif(cond-2) statement-2 ========|\n",
    "        |---false                                                            |\n",
    "   |elif(condition-3)|                                                       |\n",
    "   | statement-3     |-----true-----executes elif(cond-3) statement-3 =======|\n",
    "        |---false                                                            |\n",
    "    else                                                                     |\n",
    "      |----executes else block statements-----------||-----------------------|                   \n",
    "                                                    ||\n",
    "                                executes other statements in program"
   ]
  },
  {
   "cell_type": "markdown",
   "id": "a98bb22a",
   "metadata": {},
   "source": [
    "$explanation$"
   ]
  },
  {
   "cell_type": "code",
   "execution_count": null,
   "id": "e8460806",
   "metadata": {},
   "outputs": [],
   "source": [
    "--if the if(condition-1) is true it executes block statement-1 and other statements\n",
    "--if the if (condition-1) is false then it test elif(condition-2) is true it executes statements-2 and other statements\n",
    "--this process will be repeated untill all the conditions evaluated and if the all conditions are false it executes else\n",
    "block statements and other statements"
   ]
  },
  {
   "cell_type": "markdown",
   "id": "a3d18e64",
   "metadata": {},
   "source": [
    "examples"
   ]
  },
  {
   "cell_type": "code",
   "execution_count": 4,
   "id": "d2eb794b",
   "metadata": {},
   "outputs": [
    {
     "name": "stdout",
     "output_type": "stream",
     "text": [
      "Enter a digit:0\n",
      "0 is ZERO\n"
     ]
    }
   ],
   "source": [
    "#wap ask the user to enter a digit ,using if-elif-else condition and display the name of the digit\n",
    "d=eval(input(\"Enter a digit:\")) # d= 0 1 2 3 4 5 6 7 8 9    \n",
    "if(d==0):\n",
    "    print(\"{} is ZERO\".format(d))\n",
    "elif(d==1):\n",
    "    print(\"{} is ONE\".format(d))\n",
    "elif(d==2):\n",
    "    print(\"{} is TWO\".format(d))\n",
    "elif(d==3):\n",
    "    print(\"{} is THREE\".format(d))\n",
    "elif(d==4):\n",
    "    print(\"{} is FOUR\".format(d))\n",
    "elif(d==5):\n",
    "    print(\"{} is FIVE\".format(d))\n",
    "elif(d==7):\n",
    "    print(\"{} is SEVEN\".format(d))\n",
    "elif(d==6):\n",
    "    print(\"{} is SIX\".format(d))\n",
    "elif(d==8):\n",
    "    print(\"{} is EIGHT\".format(d))\n",
    "elif(d==9):\n",
    "    print(\"{} is NINE\".format(d))\n",
    "else:\n",
    "    print(\"{} is NUMBER\".format(d))"
   ]
  },
  {
   "cell_type": "code",
   "execution_count": 5,
   "id": "ac197500",
   "metadata": {},
   "outputs": [
    {
     "name": "stdout",
     "output_type": "stream",
     "text": [
      "Enter a digit:-1\n",
      "-1 is NUMBER\n"
     ]
    }
   ],
   "source": [
    "#wap ask the user to enter a digit ,using if-elif-else condition and \n",
    "#display the name of the digit--try and except\n",
    "try:\n",
    "    d=eval(input(\"Enter a digit:\")) # d= 0 1 2 3 4 5 6 7 8 9 99\n",
    "    if(d==0):\n",
    "        print(\"{} is ZERO\".format(d))\n",
    "    elif(d==1):\n",
    "        print(\"{} is ONE\".format(d))\n",
    "    elif(d==2):\n",
    "        print(\"{} is TWO\".format(d))\n",
    "    elif(d==3):\n",
    "        print(\"{} is THREE\".format(d))\n",
    "    elif(d==4):\n",
    "        print(\"{} is FOUR\".format(d))\n",
    "    elif(d==5):\n",
    "        print(\"{} is FIVE\".format(d))\n",
    "    elif(d==7):\n",
    "        print(\"{} is SEVEN\".format(d))\n",
    "    elif(d==6):\n",
    "        print(\"{} is SIX\".format(d))\n",
    "    elif(d==8):\n",
    "        print(\"{} is EIGHT\".format(d))\n",
    "    elif(d==9):\n",
    "        print(\"{} is NINE\".format(d))\n",
    "    else:\n",
    "        print(\"{} is NUMBER\".format(d))\n",
    "except Exception as e:\n",
    "    print(e)"
   ]
  },
  {
   "cell_type": "markdown",
   "id": "13ddd80a",
   "metadata": {},
   "source": [
    "$nested$ $if$ $else$"
   ]
  },
  {
   "cell_type": "markdown",
   "id": "58c6d850",
   "metadata": {},
   "source": [
    "syntax"
   ]
  },
  {
   "cell_type": "code",
   "execution_count": null,
   "id": "500dd14e",
   "metadata": {},
   "outputs": [],
   "source": [
    "if condition1 is true:\n",
    "    statement present inside the if block\n",
    "    if condition2 is true:\n",
    "        executes statement present inside inner if block\n",
    "    else:\n",
    "        executes statement present inside inner else block\n",
    "else:\n",
    "    statement present inside the outer else block"
   ]
  },
  {
   "cell_type": "markdown",
   "id": "49a40ecc",
   "metadata": {},
   "source": [
    "examples"
   ]
  },
  {
   "cell_type": "code",
   "execution_count": 8,
   "id": "b60c9108",
   "metadata": {},
   "outputs": [
    {
     "name": "stdout",
     "output_type": "stream",
     "text": [
      "enter a number:2\n",
      "it is a pos number\n"
     ]
    }
   ],
   "source": [
    "#wap ask the user enter a number\n",
    "#if the  number greater than zero:\n",
    "#          if the number==0:\n",
    "#               print(\"t is a zero number\")\n",
    "#           else:\n",
    "#              print(\"it is a pos number\")\n",
    "#else\n",
    "#   print(\"it is a neg number\")\n",
    "num=eval(input(\"enter a number:\"))\n",
    "if (num>=0):\n",
    "    if(num==0):\n",
    "        print(\"it is a zero number\")\n",
    "    else:\n",
    "        print(\"it is a pos number\")\n",
    "else:\n",
    "    print(\"it is a neg number\")"
   ]
  },
  {
   "cell_type": "code",
   "execution_count": 33,
   "id": "d12c8a74",
   "metadata": {},
   "outputs": [
    {
     "name": "stdout",
     "output_type": "stream",
     "text": [
      "enter a number:3\n",
      "it is a pos number\n"
     ]
    }
   ],
   "source": [
    "try:\n",
    "    num=eval(input(\"enter a number:\"))\n",
    "    if (num>=0):\n",
    "        if(num==0):\n",
    "            print(\"it is a zero number\")\n",
    "        else:\n",
    "            print(\"it is a pos number\")\n",
    "    else:\n",
    "        print(\"it is a neg number\")\n",
    "except Exception as e:\n",
    "    print(e)"
   ]
  }
 ],
 "metadata": {
  "kernelspec": {
   "display_name": "Python 3 (ipykernel)",
   "language": "python",
   "name": "python3"
  },
  "language_info": {
   "codemirror_mode": {
    "name": "ipython",
    "version": 3
   },
   "file_extension": ".py",
   "mimetype": "text/x-python",
   "name": "python",
   "nbconvert_exporter": "python",
   "pygments_lexer": "ipython3",
   "version": "3.11.5"
  }
 },
 "nbformat": 4,
 "nbformat_minor": 5
}
