{
 "cells": [
  {
   "cell_type": "markdown",
   "id": "b55b60ab",
   "metadata": {},
   "source": [
    "$chapter:1:27-11-2023(data-types)$"
   ]
  },
  {
   "cell_type": "code",
   "execution_count": null,
   "id": "2a2de971",
   "metadata": {},
   "outputs": [],
   "source": [
    "-python level-1\n",
    "-lpython evel-2\n",
    "-python level-3{oops}\n",
    "-python flask create frameworks\n",
    "           streamlit apps\n",
    "-generativeAI"
   ]
  },
  {
   "cell_type": "code",
   "execution_count": null,
   "id": "c292c02f",
   "metadata": {},
   "outputs": [],
   "source": [
    "statistics==10classes\n",
    "15 days left for revision for python concepts"
   ]
  },
  {
   "cell_type": "code",
   "execution_count": null,
   "id": "8da9deeb",
   "metadata": {},
   "outputs": [],
   "source": [
    "EDA with python"
   ]
  },
  {
   "cell_type": "markdown",
   "id": "cf7467f2",
   "metadata": {},
   "source": [
    "$statistics$"
   ]
  },
  {
   "cell_type": "code",
   "execution_count": null,
   "id": "75fcb9da",
   "metadata": {},
   "outputs": [],
   "source": [
    "bridge=====ML"
   ]
  },
  {
   "cell_type": "code",
   "execution_count": null,
   "id": "0aed73ab",
   "metadata": {},
   "outputs": [],
   "source": [
    "what is statistics?\n",
    "#for example\n",
    "-mean,meadian,mode\n",
    "-graphs\n",
    "-probability\n",
    "-data presentation\n",
    "-deviations\n",
    "-distribution\n",
    "-maths\n",
    "-analysis"
   ]
  },
  {
   "cell_type": "code",
   "execution_count": null,
   "id": "da1cd8fe",
   "metadata": {},
   "outputs": [],
   "source": [
    "in ds=======no debate,only discussion\n",
    "stats====story\n",
    "viratkohil ODI average is approximately 60\n",
    "1)sourav\n",
    "2)affan\n",
    "3)kumar\n",
    "step-1:take overall run and matches played n calculate\n",
    "    data collection\n",
    "step-2:\n",
    "    organize the data\n",
    "step-3:\n",
    "    analyse the data\n",
    "step-4:\n",
    "    data interperator\n",
    "step-5:\n",
    "    explain about\n",
    "    Statistics is the discipline that concerns the collection, organization, analysis, interpretation, and presentation of data"
   ]
  },
  {
   "cell_type": "markdown",
   "id": "6701dd4b",
   "metadata": {},
   "source": [
    "$data types$"
   ]
  },
  {
   "cell_type": "code",
   "execution_count": null,
   "id": "2d66ca4f",
   "metadata": {},
   "outputs": [],
   "source": [
    "two types of data types\n",
    "integer float string\n",
    "10\n",
    "ten\n",
    "rs agarwal======>quantitative and qualitative\n",
    "quantitative=======numerical data\n",
    "qualitative========categorical data"
   ]
  },
  {
   "cell_type": "code",
   "execution_count": null,
   "id": "54933d4b",
   "metadata": {},
   "outputs": [],
   "source": [
    "physics======>hc varma"
   ]
  },
  {
   "cell_type": "code",
   "execution_count": null,
   "id": "222da1d0",
   "metadata": {},
   "outputs": [],
   "source": [
    "Numerical type(numbers)                                                             categorical(english)\n",
    "quantitative                                                                          qualitative\n",
    "int       float\n",
    "    a)discrete\n",
    "      0 1 2\n",
    "      how manys house:1 2\n",
    "      countable===============discrete\n",
    "    b)continues:(float vlues)\n",
    "        what is ur height:5.5,5.7\n",
    "        what is ur weight:38.8\n",
    "        what is temp:19.5,98.4\n",
    "        "
   ]
  },
  {
   "cell_type": "code",
   "execution_count": null,
   "id": "e308ab12",
   "metadata": {},
   "outputs": [],
   "source": [
    "levels of data:\n",
    "# numbers or sentences\n",
    "# AI========>model\n",
    "# true======>1\n",
    "# numbers are most important\n",
    "categorical data\n",
    "level-1:\n",
    "    nominal \n",
    "level-2:\n",
    "    ordinal\n",
    "numerical data\n",
    "level-3:\n",
    "    intervl \n",
    "level-4:\n",
    "    ratio"
   ]
  },
  {
   "cell_type": "markdown",
   "id": "fc3a1d7a",
   "metadata": {},
   "source": [
    "$categorical-data$"
   ]
  },
  {
   "cell_type": "markdown",
   "id": "268a4ed5",
   "metadata": {},
   "source": [
    "$nominal-level$"
   ]
  },
  {
   "cell_type": "code",
   "execution_count": null,
   "id": "54b6c4dc",
   "metadata": {},
   "outputs": [],
   "source": [
    "-random names\n",
    "     it does not have any logic\n",
    "     sravya,sravani\n",
    "     hyd,blr,cehennai\n",
    "     us,uk\n",
    "=================noun"
   ]
  },
  {
   "cell_type": "markdown",
   "id": "4e168aba",
   "metadata": {},
   "source": [
    "$ordinal-level$"
   ]
  },
  {
   "cell_type": "code",
   "execution_count": null,
   "id": "10746bf6",
   "metadata": {},
   "outputs": [],
   "source": [
    "-u can see some order\n",
    "  flop average hit superhit blockbuster\n",
    "  primary=======>secondary========>territory\n",
    "  teenage=======>younage==========>oldaage\n",
    "  pass=====fail\n",
    "  past====present======future\n",
    "  one====two====three"
   ]
  },
  {
   "cell_type": "markdown",
   "id": "9b352fc6",
   "metadata": {},
   "source": [
    "$numerical-data$"
   ]
  },
  {
   "cell_type": "markdown",
   "id": "c2b3e85f",
   "metadata": {},
   "source": [
    "$interval-level$"
   ]
  },
  {
   "cell_type": "code",
   "execution_count": null,
   "id": "7d3238cd",
   "metadata": {},
   "outputs": [],
   "source": [
    "zero scale\n",
    "-a metric which does not have zero scale====>u can say in negative values \n",
    "-ex:temperature\n",
    "    those who does have a zero scale is called interval level"
   ]
  },
  {
   "cell_type": "markdown",
   "id": "107ed774",
   "metadata": {},
   "source": [
    "$ratio-level$"
   ]
  },
  {
   "cell_type": "code",
   "execution_count": null,
   "id": "d4da1612",
   "metadata": {},
   "outputs": [],
   "source": [
    "those who have a zero scale is called interval level"
   ]
  },
  {
   "cell_type": "code",
   "execution_count": null,
   "id": "3e9938ca",
   "metadata": {},
   "outputs": [],
   "source": [
    "temperature is which  level of data? interval level data\n",
    "temp in hyd:50c\n",
    "temp in blr:25c\n",
    "hyd temp:2*blr temp\n",
    "why cant it be ratio level?\n",
    "temperature does not have zero scale\n",
    "temperature has centigrades and f\n",
    "50c===========f?=122\n",
    "25c===========f?=77\n",
    "50/25=122/77\n",
    "not equal\n",
    "my weight is 60kgs\n",
    "my kid weight is 30kgs\n",
    "60/30\n",
    "60==========pounds#same value\n",
    "30==========pounds\n",
    "km===========m#same value\n",
    "the metric which does not have zero scale does not  fall in ratio level "
   ]
  },
  {
   "cell_type": "code",
   "execution_count": null,
   "id": "fa9b4a3d",
   "metadata": {},
   "outputs": [],
   "source": [
    "what is the other metric have non zero scale?\n",
    "-temperature\n",
    "-inflation"
   ]
  },
  {
   "cell_type": "code",
   "execution_count": null,
   "id": "fa1c4afd",
   "metadata": {},
   "outputs": [],
   "source": [
    "-reference books:\n",
    "    open intro staistics\n",
    "    kern black"
   ]
  },
  {
   "cell_type": "code",
   "execution_count": null,
   "id": "187505d2",
   "metadata": {},
   "outputs": [],
   "source": [
    "khan accademy\n",
    "leonard"
   ]
  },
  {
   "cell_type": "code",
   "execution_count": null,
   "id": "a82a3a73",
   "metadata": {},
   "outputs": [],
   "source": [
    "i have one team:\n",
    "5 members\n",
    "i ask them to do a survey======which party will win"
   ]
  },
  {
   "cell_type": "code",
   "execution_count": null,
   "id": "751f95a8",
   "metadata": {},
   "outputs": [],
   "source": [
    "population                 vs             sample\n",
    "large group"
   ]
  },
  {
   "cell_type": "code",
   "execution_count": null,
   "id": "de210a43",
   "metadata": {},
   "outputs": [],
   "source": [
    "is population really exist?\n",
    "nahi"
   ]
  },
  {
   "cell_type": "code",
   "execution_count": null,
   "id": "f58ac7ff",
   "metadata": {},
   "outputs": [],
   "source": [
    "1)time\n",
    "2)recourses\n",
    "3)money\n",
    "will assume there is a population,but u will work on samples\n",
    "my team selected some people in TS\n",
    "sir we observerd most of the pepole say xyz=====in telegana \n",
    "outcome:inference"
   ]
  },
  {
   "cell_type": "code",
   "execution_count": null,
   "id": "9d703608",
   "metadata": {},
   "outputs": [],
   "source": [
    "inferential statistics\n",
    "we will work on sample and we will infer the population"
   ]
  },
  {
   "cell_type": "code",
   "execution_count": null,
   "id": "a3fefdf0",
   "metadata": {},
   "outputs": [],
   "source": [
    "descriptive statistics:\n",
    "will work on population,will estimate on population"
   ]
  },
  {
   "cell_type": "markdown",
   "id": "b2725939",
   "metadata": {},
   "source": [
    "$chapter:2:28-11-2023(graphical-representation)$"
   ]
  },
  {
   "cell_type": "code",
   "execution_count": null,
   "id": "c714a457",
   "metadata": {},
   "outputs": [],
   "source": [
    "python must\n",
    "statistics theory====will do with python\n",
    "strings/lists/dictionary"
   ]
  },
  {
   "cell_type": "markdown",
   "id": "037990b7",
   "metadata": {},
   "source": [
    "$tabular-representation$"
   ]
  },
  {
   "cell_type": "code",
   "execution_count": null,
   "id": "bc09c6d8",
   "metadata": {},
   "outputs": [],
   "source": [
    "in your class 30 members boys and 50 members girls are there\n",
    "i want to represent this by using a table\n",
    "\n",
    "students/gender              |                 no of students\n",
    "boys                         |                 30\n",
    "girls                        |                 50    "
   ]
  },
  {
   "cell_type": "code",
   "execution_count": null,
   "id": "482a3828",
   "metadata": {},
   "outputs": [],
   "source": [
    "frequency table\n",
    "frequency:number of cycles per second"
   ]
  },
  {
   "cell_type": "code",
   "execution_count": null,
   "id": "d6e1342e",
   "metadata": {},
   "outputs": [],
   "source": [
    "frequency table:"
   ]
  },
  {
   "cell_type": "code",
   "execution_count": null,
   "id": "68adf9b4",
   "metadata": {},
   "outputs": [],
   "source": [
    "class                 |                class frequency \n",
    "boys                  |                30\n",
    "girls                 |                50"
   ]
  },
  {
   "cell_type": "code",
   "execution_count": null,
   "id": "2bea23d0",
   "metadata": {},
   "outputs": [],
   "source": [
    "gender\n",
    "male\n",
    "f\n",
    "m\n",
    "f\n",
    "m\n",
    "f\n",
    "m\n",
    "m\n",
    "f\n",
    "f"
   ]
  },
  {
   "cell_type": "code",
   "execution_count": null,
   "id": "aa7851f5",
   "metadata": {},
   "outputs": [],
   "source": [
    "class               |             class frequency\n",
    "male                |             5\n",
    "female              |             4"
   ]
  },
  {
   "cell_type": "code",
   "execution_count": null,
   "id": "e3d370dd",
   "metadata": {},
   "outputs": [],
   "source": [
    "frequency table is only for categorical data\n",
    "one column====class\n",
    "another column====class frequency"
   ]
  },
  {
   "cell_type": "markdown",
   "id": "8d83ddf3",
   "metadata": {},
   "source": [
    "$graphical -representation$"
   ]
  },
  {
   "cell_type": "markdown",
   "id": "9820d9e8",
   "metadata": {},
   "source": [
    "$bar-graph$"
   ]
  },
  {
   "cell_type": "code",
   "execution_count": null,
   "id": "701e811f",
   "metadata": {},
   "outputs": [],
   "source": [
    "#graph is in notes"
   ]
  },
  {
   "cell_type": "code",
   "execution_count": null,
   "id": "78d13dc9",
   "metadata": {},
   "outputs": [],
   "source": [
    "any categorical column\n",
    "tabular representation:frequncy table\n",
    "graphical representation:bar plot/bar graph\n",
    "       x-axis:class(categorical)\n",
    "       y-axis:class frequency(numerical)    \n",
    "one axis should be categorical and other axis should be numerical"
   ]
  },
  {
   "cell_type": "code",
   "execution_count": null,
   "id": "3d5c7791",
   "metadata": {},
   "outputs": [],
   "source": [
    "80----100%\n",
    "50----?\n",
    "50*100/80=125/2=62.5 of girls are there"
   ]
  },
  {
   "cell_type": "code",
   "execution_count": null,
   "id": "1ad4441c",
   "metadata": {},
   "outputs": [],
   "source": [
    "class                 |                class frequency       |        relative frequency\n",
    "boys                  |                30                    |          37.5%\n",
    "girls                 |                50                    |          62.5%\n",
    "total                 |                80                    |          100%"
   ]
  },
  {
   "cell_type": "markdown",
   "id": "84d05525",
   "metadata": {},
   "source": [
    "$pie-chart$"
   ]
  },
  {
   "cell_type": "code",
   "execution_count": null,
   "id": "cc0e56fd",
   "metadata": {},
   "outputs": [],
   "source": [
    "to draw percentage\n",
    "how much area ur covering\n",
    "pie chart\n",
    "#graph is in notes"
   ]
  },
  {
   "cell_type": "markdown",
   "id": "82795928",
   "metadata": {},
   "source": [
    "$summary-questions$"
   ]
  },
  {
   "cell_type": "markdown",
   "id": "ad348cf9",
   "metadata": {},
   "source": [
    "categorical data:\n",
    "q1)what is the name of tabular representation:frequency table\n",
    "q2)what are the columns names in frequency table: class and class frequency  and realtive frequency\n",
    "q3)graphical representation:bar graph/pie chart\n",
    "q4)bar graph===x-axis:class and y-axis:class frequency\n",
    "q5)pie chart===how much area covering ,realtive frequency representation"
   ]
  },
  {
   "cell_type": "markdown",
   "id": "bf17eff4",
   "metadata": {},
   "source": [
    "$histogram-graph$"
   ]
  },
  {
   "cell_type": "code",
   "execution_count": null,
   "id": "58d15451",
   "metadata": {},
   "outputs": [],
   "source": [
    "there are 10 members are there in the class\n",
    "boys and girls\n",
    "they got the marks\n",
    "3  7  9  11 15 \n",
    "18 20 23 25 30\n",
    "raw data:simply observations\n",
    "what you can do?\n",
    "group the data\n",
    "we divide data into some intervals,we check how many observations are fall in that interval\n",
    "3-6\n",
    "6-9\n",
    "9-12\n",
    "12-15\n",
    "15-18\n",
    "18-21\n",
    "21-24"
   ]
  },
  {
   "cell_type": "code",
   "execution_count": null,
   "id": "4f5ee8e6",
   "metadata": {},
   "outputs": [],
   "source": [
    "frequency distribution table\n",
    "data is distributing from 3 to 30\n",
    "class interval          class interval frequency\n",
    "0-5                     1\n",
    "5-10                    2\n",
    "10-15                   1\n",
    "15-20                   3\n",
    "20-25                   2\n",
    "25-30                   1\n",
    "#graph is in notes:histogram graph"
   ]
  },
  {
   "cell_type": "code",
   "execution_count": null,
   "id": "e4c651d1",
   "metadata": {},
   "outputs": [],
   "source": [
    "histogram graph====x-axis:class interval(numerical)\n",
    "                y-axis:class interval frequency(numerical)\n",
    "if you want to plot histogram\n",
    "x-axis and y-axis should be numerical\n",
    "pli.his(x,y==gender)======error#both should be numerical\n",
    "plt.bar(x=salary,y=age)=====error#one should be numerical and other is categorical"
   ]
  },
  {
   "cell_type": "code",
   "execution_count": null,
   "id": "9c4823c5",
   "metadata": {},
   "outputs": [],
   "source": [
    "step-1:they provide a raw data====numerical type\n",
    "step-2:frequency distribution table,class interval vs class interval frequency(raw data)\n",
    "step-3:graphical representation :histogram( x-axis=numerical,y-axis=numerical)\n",
    "step-4:will plot data distribution\n",
    "#graph is in notes"
   ]
  },
  {
   "cell_type": "markdown",
   "id": "3a2e966f",
   "metadata": {},
   "source": [
    "$summary$"
   ]
  },
  {
   "cell_type": "code",
   "execution_count": null,
   "id": "e2969fa3",
   "metadata": {},
   "outputs": [],
   "source": [
    "categorical                                            |     numerical\n",
    "table:frequency table (class vs class frequency)       |     frequency distribution table  (class inerval va class interval frequency)\n",
    "graph:bar graph (x-axis:class y-axis:class frequency)  |     graph:histogram (class interval vs class interval frequency)\n",
    "pie chart:relative frequency                           |     data distribution plot"
   ]
  },
  {
   "cell_type": "markdown",
   "id": "357566af",
   "metadata": {},
   "source": [
    "$uni,bi,multi==variates$"
   ]
  },
  {
   "cell_type": "code",
   "execution_count": null,
   "id": "aa50ca11",
   "metadata": {},
   "outputs": [],
   "source": [
    "age   gender   income\n",
    "3 variables/columns/features\n",
    "-univariate analysis\n",
    "analyse the age column\n",
    "\n",
    "-bi-variate analysis\n",
    "age and income is realted to eachother\n",
    "\n",
    "-multivariate analysis\n",
    "how age,gender,income realted"
   ]
  },
  {
   "cell_type": "code",
   "execution_count": null,
   "id": "56c9db27",
   "metadata": {},
   "outputs": [],
   "source": [
    "1)univariate\n",
    "2)bi-variate\n",
    "3)multivariate"
   ]
  },
  {
   "cell_type": "code",
   "execution_count": null,
   "id": "5cd776ce",
   "metadata": {},
   "outputs": [],
   "source": [
    "freature selection/variable selection\n",
    "100 coulmns====20 columns(reamining80 columns are duplicate)"
   ]
  },
  {
   "cell_type": "code",
   "execution_count": null,
   "id": "090ede19",
   "metadata": {},
   "outputs": [],
   "source": [
    "age         income\n",
    "30          50k\n",
    "35          60k\n",
    "40          70k\n",
    "age=========>increases\n",
    "income======>increases\n",
    "if you increase interval\n",
    "if you decrease interval\n",
    "debate"
   ]
  },
  {
   "cell_type": "code",
   "execution_count": null,
   "id": "39b00ba6",
   "metadata": {},
   "outputs": [],
   "source": [
    "mutually exclusive  \n",
    "if you toss a coin=====head and tail\n",
    "head===no trail\n",
    "boys\n",
    "girls\n",
    "dice(1 to 6)\n",
    "there is one job====two applicants"
   ]
  },
  {
   "cell_type": "code",
   "execution_count": null,
   "id": "4bf82fad",
   "metadata": {},
   "outputs": [],
   "source": [
    "step-1:min value and maxx value\n",
    "     min=15k max=35k             2powerk\n",
    "step-2:number of data observation=80\n",
    "step-3:how many class intervals,what is the width of the interavl\n",
    "      number of classes=7\n",
    "interval=max-min/class "
   ]
  },
  {
   "cell_type": "code",
   "execution_count": null,
   "id": "f344acdb",
   "metadata": {},
   "outputs": [],
   "source": [
    "15-18\n",
    "18-21\n",
    "21-24\n",
    "24-27\n",
    "27-30\n",
    "30-33\n",
    "33-36"
   ]
  },
  {
   "cell_type": "markdown",
   "id": "ee32bf01",
   "metadata": {},
   "source": [
    "$chapter:3:29-11-2023$"
   ]
  },
  {
   "cell_type": "code",
   "execution_count": null,
   "id": "c2db6bec",
   "metadata": {},
   "outputs": [],
   "source": [
    "1)data types/types of statistics/population vs sample"
   ]
  },
  {
   "cell_type": "code",
   "execution_count": null,
   "id": "ce9f778b",
   "metadata": {},
   "outputs": [],
   "source": [
    "tabular representation and graphical representation\n",
    "     categorical:frequency table                    class vs class frequency\n",
    "                   bar plot/pie chart\n",
    "    numerical data:frequency distribution table     class interval vs class interval frequency\n",
    "                   histogram graph=distribution table"
   ]
  },
  {
   "cell_type": "code",
   "execution_count": null,
   "id": "972f36f5",
   "metadata": {},
   "outputs": [],
   "source": [
    "after plot distribution plot\n",
    "there are two types of analysis\n",
    "1)centre point analysis==============>central tendency\n",
    "   -mean\n",
    "   -median\n",
    "   -mode\n",
    "2)data flow analysis=================>data dispersion/data variance\n",
    "   -range\n",
    "   -mean deviation\n",
    "   -absolute mean deviation\n",
    "   -variance\n",
    "   -standard deviation"
   ]
  },
  {
   "cell_type": "markdown",
   "id": "5729fd65",
   "metadata": {},
   "source": [
    "$center-point-analysis$"
   ]
  },
  {
   "cell_type": "markdown",
   "id": "8545c2ac",
   "metadata": {},
   "source": [
    "$1-mean$"
   ]
  },
  {
   "cell_type": "code",
   "execution_count": null,
   "id": "5043ced0",
   "metadata": {},
   "outputs": [],
   "source": [
    "average\n",
    "equally distribution\n",
    "example:virat kohil average in ODI is 60\n",
    "he is expected to score 60 run in every match\n",
    "in every match VK expected score is 60"
   ]
  },
  {
   "cell_type": "code",
   "execution_count": null,
   "id": "38e5fb57",
   "metadata": {},
   "outputs": [],
   "source": [
    "my ssc percentage is 89.5%\n",
    "i scored 89.5 marks subjects\n",
    "every subject he score near by average\n",
    "89.5 out of 100 marks\n",
    "89.5/100\n",
    "on of average in each subject he can get 89.5  marks"
   ]
  },
  {
   "cell_type": "code",
   "execution_count": null,
   "id": "40a2f97e",
   "metadata": {},
   "outputs": [],
   "source": [
    "1,2,3,4,5\n",
    "1+2+3+4+5/5\n",
    "sum of observations/no of observations\n",
    "x1,x2,x3,x4,x5\n",
    "xbar=sample mean=x1+x2+x3+x4+x5/5\n",
    "population mean=u(mew)\n",
    "there are n obersvation\n",
    "xbar=sample mean=x1+x2+x3+.......+xn/n \n",
    "formula in notes"
   ]
  },
  {
   "cell_type": "code",
   "execution_count": null,
   "id": "3ec7be64",
   "metadata": {},
   "outputs": [],
   "source": [
    "#next topics in notebook"
   ]
  },
  {
   "cell_type": "code",
   "execution_count": null,
   "id": "feae1800",
   "metadata": {},
   "outputs": [],
   "source": []
  },
  {
   "cell_type": "code",
   "execution_count": null,
   "id": "c4d8d492",
   "metadata": {},
   "outputs": [],
   "source": []
  },
  {
   "cell_type": "code",
   "execution_count": null,
   "id": "1ff14391",
   "metadata": {},
   "outputs": [],
   "source": []
  },
  {
   "cell_type": "code",
   "execution_count": null,
   "id": "7349b7ed",
   "metadata": {},
   "outputs": [],
   "source": []
  },
  {
   "cell_type": "code",
   "execution_count": null,
   "id": "d01b401c",
   "metadata": {},
   "outputs": [],
   "source": []
  },
  {
   "cell_type": "code",
   "execution_count": null,
   "id": "5e6fb486",
   "metadata": {},
   "outputs": [],
   "source": []
  },
  {
   "cell_type": "code",
   "execution_count": null,
   "id": "e725ea0d",
   "metadata": {},
   "outputs": [],
   "source": []
  },
  {
   "cell_type": "code",
   "execution_count": null,
   "id": "679d8464",
   "metadata": {},
   "outputs": [],
   "source": []
  },
  {
   "cell_type": "code",
   "execution_count": null,
   "id": "3be4dfbd",
   "metadata": {},
   "outputs": [],
   "source": []
  },
  {
   "cell_type": "code",
   "execution_count": null,
   "id": "22e0fbf1",
   "metadata": {},
   "outputs": [],
   "source": []
  },
  {
   "cell_type": "code",
   "execution_count": null,
   "id": "a3b95b12",
   "metadata": {},
   "outputs": [],
   "source": []
  },
  {
   "cell_type": "code",
   "execution_count": null,
   "id": "c13aa9fa",
   "metadata": {},
   "outputs": [],
   "source": []
  },
  {
   "cell_type": "code",
   "execution_count": null,
   "id": "254c74bb",
   "metadata": {},
   "outputs": [],
   "source": []
  }
 ],
 "metadata": {
  "kernelspec": {
   "display_name": "Python 3 (ipykernel)",
   "language": "python",
   "name": "python3"
  },
  "language_info": {
   "codemirror_mode": {
    "name": "ipython",
    "version": 3
   },
   "file_extension": ".py",
   "mimetype": "text/x-python",
   "name": "python",
   "nbconvert_exporter": "python",
   "pygments_lexer": "ipython3",
   "version": "3.11.5"
  }
 },
 "nbformat": 4,
 "nbformat_minor": 5
}
