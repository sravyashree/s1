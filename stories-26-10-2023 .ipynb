{
 "cells": [
  {
   "cell_type": "code",
   "execution_count": 1,
   "id": "5d735b32",
   "metadata": {},
   "outputs": [],
   "source": [
    "#WAP ask the user enter a basic_salary\n",
    "#     ask the user enter DA AMMOUNT\n",
    "#     ask theuser to enter HRA ammount\n",
    "#     calculate total pay=basic_salary+DA+HRA"
   ]
  },
  {
   "cell_type": "code",
   "execution_count": 5,
   "id": "083fdb30",
   "metadata": {},
   "outputs": [
    {
     "name": "stdout",
     "output_type": "stream",
     "text": [
      "enter a basic salary:20000\n"
     ]
    }
   ],
   "source": [
    "basic_salary=eval(input(\"enter a basic salary:\"))\n"
   ]
  },
  {
   "cell_type": "code",
   "execution_count": 6,
   "id": "0fbb573e",
   "metadata": {},
   "outputs": [
    {
     "name": "stdout",
     "output_type": "stream",
     "text": [
      "enter DA Aammount:280000\n"
     ]
    }
   ],
   "source": [
    "DA=eval(input(\"enter DA Aammount:\"))"
   ]
  },
  {
   "cell_type": "code",
   "execution_count": 7,
   "id": "a7f2492e",
   "metadata": {},
   "outputs": [
    {
     "name": "stdout",
     "output_type": "stream",
     "text": [
      "enter HRA ammount:30000\n"
     ]
    }
   ],
   "source": [
    "HRA=eval(input(\"enter HRA ammount:\"))"
   ]
  },
  {
   "cell_type": "code",
   "execution_count": 10,
   "id": "6e42aa03",
   "metadata": {},
   "outputs": [
    {
     "name": "stdout",
     "output_type": "stream",
     "text": [
      "your total pay is: 330000\n"
     ]
    }
   ],
   "source": [
    "total_pay=basic_salary+DA+HRA\n",
    "print(\"your total pay is:\",total_pay)"
   ]
  },
  {
   "cell_type": "code",
   "execution_count": 39,
   "id": "e28c4e33",
   "metadata": {},
   "outputs": [
    {
     "name": "stdout",
     "output_type": "stream",
     "text": [
      "enter your salary:24000\n"
     ]
    }
   ],
   "source": [
    "# WRITE A PROGRAM ASK THE USER TO ENTER SALARY\n",
    "# ASK THE USER TAX PERCENTAGE\n",
    "#CALCULATE HOW MUCH TAX USERNEETS TO PAy\n",
    "salary=eval(input(\"enter your salary:\"))"
   ]
  },
  {
   "cell_type": "code",
   "execution_count": 40,
   "id": "cdf3520f",
   "metadata": {},
   "outputs": [
    {
     "name": "stdout",
     "output_type": "stream",
     "text": [
      "enter the tax percentage:24\n"
     ]
    }
   ],
   "source": [
    "tax_percentage=eval(input(\"enter the tax percentage:\"))"
   ]
  },
  {
   "cell_type": "code",
   "execution_count": 41,
   "id": "a5d218b0",
   "metadata": {},
   "outputs": [
    {
     "name": "stdout",
     "output_type": "stream",
     "text": [
      "you need to pay: 5760.0\n"
     ]
    }
   ],
   "source": [
    "print(\"you need to pay:\",tax_percentage*0.01*salary)"
   ]
  },
  {
   "cell_type": "code",
   "execution_count": 20,
   "id": "c5d3bd5c",
   "metadata": {},
   "outputs": [],
   "source": [
    "# write a program \n",
    "# wAP askthe user get a random value between 1 and 100\n",
    "# perform the square of the number\n",
    "import random\n",
    "val1=random.randint(1,100)\n",
    "square=val1*val1"
   ]
  },
  {
   "cell_type": "code",
   "execution_count": 22,
   "id": "8e6b0c97",
   "metadata": {},
   "outputs": [
    {
     "name": "stdout",
     "output_type": "stream",
     "text": [
      "the square of the 57 is 3249\n"
     ]
    }
   ],
   "source": [
    "print(\"the square of the {} is {}\".format(val1,square))"
   ]
  },
  {
   "cell_type": "code",
   "execution_count": 25,
   "id": "26cd23c2",
   "metadata": {},
   "outputs": [
    {
     "name": "stdout",
     "output_type": "stream",
     "text": [
      "enter a distance:26\n",
      "enter a rate per distance:27\n",
      "enter total charge: 702\n"
     ]
    }
   ],
   "source": [
    "# WAP ask the user enter a distance\n",
    "#     ask the user enter a rate per distance\n",
    "#     calculate total charge\n",
    "distance=eval(input(\"enter a distance:\"))\n",
    "rate=eval(input(\"enter a rate per distance:\"))\n",
    "total_charge=distance*rate\n",
    "print(\"enter total charge:\",total_charge)"
   ]
  },
  {
   "cell_type": "code",
   "execution_count": 32,
   "id": "291f50c2",
   "metadata": {},
   "outputs": [
    {
     "name": "stdout",
     "output_type": "stream",
     "text": [
      "enter toyal bill in dollar:2\n",
      "manager:the dollars are not accepted\n",
      "user:what will accepted\n",
      "mangaer:only indian rupees\n",
      "enter one dollar is equal to how many rupees:80\n",
      "totalbill 160\n",
      "manager:thank you!\n"
     ]
    }
   ],
   "source": [
    "# ask the user enter total bill in dollars\n",
    "# manager:the dollars are not accepted\n",
    "# user:what will accepted\n",
    "# mangaer:only indian rupees\n",
    "# ask the user \n",
    "# total bill=100*8\n",
    "# manager:thank you!\n",
    "import time\n",
    "bill=eval(input(\"enter toyal bill in dollar:\"))\n",
    "time.sleep(1)\n",
    "print(\"manager:the dollars are not accepted\")\n",
    "print(\"user:what will accepted\")\n",
    "print(\"mangaer:only indian rupees\")\n",
    "time.sleep(0.1)\n",
    "conversion_rate=eval(input(\"enter one dollar is equal to how many rupees:\"))\n",
    "totalbill=bill*conversion_rate\n",
    "print(\"totalbill\",totalbill)\n",
    "print(\"manager:thank you!\")"
   ]
  },
  {
   "cell_type": "code",
   "execution_count": 34,
   "id": "35a18397",
   "metadata": {},
   "outputs": [
    {
     "name": "stdout",
     "output_type": "stream",
     "text": [
      "father : which course you want to do\n",
      "son: i want to pursue data science\n",
      "father:oh!that is very nice!\n",
      "father:may i know ur JEE rank\n",
      "how much is ur rank in JEE:25000\n",
      "rank\n",
      "father:then how can u pursue\n",
      "son:naresh IT\n",
      "father:how much isthe fees\n",
      "how much is the fees:18000\n",
      "fee\n",
      "how many sem:4\n",
      "sem\n",
      "father:how much total cost?\n",
      "totalcost 72000\n"
     ]
    }
   ],
   "source": [
    "# father and son\n",
    "# father : which course you want to do\n",
    "# son: i want to pursue data science\n",
    "# father:oh!that is very nice!\n",
    "# father:may i know ur JEE rank\n",
    "# son:200000\n",
    "# father:then how can u pursue\n",
    "# son:naresh IT\n",
    "# father:how much isthe fees\n",
    "# son:20000\n",
    "# father:how many sems?\n",
    "# father:how much total cost?\n",
    "# son:4*20000(calc)\n",
    "print(\"father : which course you want to do\")\n",
    "print(\"son: i want to pursue data science\")\n",
    "print(\"father:oh!that is very nice!\")\n",
    "print(\"father:may i know ur JEE rank\")\n",
    "rank=eval(input(\"how much is ur rank in JEE:\"))\n",
    "print(\"rank\")\n",
    "print(\"father:then how can u pursue\")\n",
    "print(\"son:naresh IT\")\n",
    "print(\"father:how much isthe fees\")\n",
    "fee=eval(input(\"how much is the fees:\"))\n",
    "print(\"fee\")\n",
    "sem=eval(input(\"how many sem:\"))\n",
    "print(\"sem\")\n",
    "print(\"father:how much total cost?\")\n",
    "totalcost=sem*fee\n",
    "print(\"totalcost\",totalcost)\n"
   ]
  },
  {
   "cell_type": "code",
   "execution_count": null,
   "id": "879f07c3",
   "metadata": {},
   "outputs": [],
   "source": []
  }
 ],
 "metadata": {
  "kernelspec": {
   "display_name": "Python 3 (ipykernel)",
   "language": "python",
   "name": "python3"
  },
  "language_info": {
   "codemirror_mode": {
    "name": "ipython",
    "version": 3
   },
   "file_extension": ".py",
   "mimetype": "text/x-python",
   "name": "python",
   "nbconvert_exporter": "python",
   "pygments_lexer": "ipython3",
   "version": "3.11.5"
  }
 },
 "nbformat": 4,
 "nbformat_minor": 5
}
