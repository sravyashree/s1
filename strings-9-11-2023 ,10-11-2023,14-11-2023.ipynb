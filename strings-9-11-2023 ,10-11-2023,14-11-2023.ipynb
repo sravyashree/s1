{
 "cells": [
  {
   "cell_type": "code",
   "execution_count": null,
   "id": "006945e3",
   "metadata": {},
   "outputs": [],
   "source": [
    "#strings\n",
    "#lists\n",
    "#dictionary\n",
    "#tuple\n",
    "#set"
   ]
  },
  {
   "cell_type": "markdown",
   "id": "7d34bcac",
   "metadata": {},
   "source": [
    "$how$ $to$ $read$ $the$ $strings$"
   ]
  },
  {
   "cell_type": "code",
   "execution_count": 1,
   "id": "d69f4f38",
   "metadata": {},
   "outputs": [
    {
     "data": {
      "text/plain": [
       "'python'"
      ]
     },
     "execution_count": 1,
     "metadata": {},
     "output_type": "execute_result"
    }
   ],
   "source": [
    "string1=\"python\"\n",
    "string1"
   ]
  },
  {
   "cell_type": "code",
   "execution_count": 3,
   "id": "f0988ef6",
   "metadata": {},
   "outputs": [
    {
     "data": {
      "text/plain": [
       "'python'"
      ]
     },
     "execution_count": 3,
     "metadata": {},
     "output_type": "execute_result"
    }
   ],
   "source": [
    "string1='python'\n",
    "string1"
   ]
  },
  {
   "cell_type": "code",
   "execution_count": null,
   "id": "3d8781d0",
   "metadata": {},
   "outputs": [],
   "source": [
    "### triple quotes\n",
    "#doc string is used to say some information about your python code"
   ]
  },
  {
   "cell_type": "code",
   "execution_count": 1,
   "id": "637ab90f",
   "metadata": {},
   "outputs": [],
   "source": [
    "\"\"\"\n",
    "im creating a hello function\n",
    "agrumnets: none\n",
    "return: none\n",
    "\"\"\"\n",
    "def hello():\n",
    "    print(\"gm\")"
   ]
  },
  {
   "cell_type": "code",
   "execution_count": null,
   "id": "6c6c09d0",
   "metadata": {},
   "outputs": [],
   "source": [
    "complex()    #shift tab"
   ]
  },
  {
   "cell_type": "code",
   "execution_count": null,
   "id": "0783a778",
   "metadata": {},
   "outputs": [],
   "source": [
    "'hello python'    #i want to highlight the python word"
   ]
  },
  {
   "cell_type": "code",
   "execution_count": 6,
   "id": "dd2fc397",
   "metadata": {},
   "outputs": [
    {
     "name": "stdout",
     "output_type": "stream",
     "text": [
      "hello \"python\"\n"
     ]
    }
   ],
   "source": [
    "string3='hello \"python\"'\n",
    "print(string3)"
   ]
  },
  {
   "cell_type": "code",
   "execution_count": 7,
   "id": "850740c3",
   "metadata": {},
   "outputs": [
    {
     "name": "stdout",
     "output_type": "stream",
     "text": [
      "hello 'python'\n"
     ]
    }
   ],
   "source": [
    "string3=\"hello 'python'\"\n",
    "print(string3)"
   ]
  },
  {
   "cell_type": "markdown",
   "id": "443b05cf",
   "metadata": {},
   "source": [
    "-type\n",
    "-len\n",
    "-max\n",
    "-min"
   ]
  },
  {
   "cell_type": "markdown",
   "id": "de1ded9c",
   "metadata": {},
   "source": [
    "$type$"
   ]
  },
  {
   "cell_type": "code",
   "execution_count": 9,
   "id": "0586aaea",
   "metadata": {},
   "outputs": [
    {
     "data": {
      "text/plain": [
       "'python'"
      ]
     },
     "execution_count": 9,
     "metadata": {},
     "output_type": "execute_result"
    }
   ],
   "source": [
    "string1"
   ]
  },
  {
   "cell_type": "code",
   "execution_count": 10,
   "id": "827a4ad6",
   "metadata": {},
   "outputs": [
    {
     "data": {
      "text/plain": [
       "str"
      ]
     },
     "execution_count": 10,
     "metadata": {},
     "output_type": "execute_result"
    }
   ],
   "source": [
    "type(string1)    #str"
   ]
  },
  {
   "cell_type": "code",
   "execution_count": 11,
   "id": "4aa27590",
   "metadata": {},
   "outputs": [
    {
     "data": {
      "text/plain": [
       "6"
      ]
     },
     "execution_count": 11,
     "metadata": {},
     "output_type": "execute_result"
    }
   ],
   "source": [
    "len(string1)   #6 letters"
   ]
  },
  {
   "cell_type": "code",
   "execution_count": 12,
   "id": "f1c98d60",
   "metadata": {},
   "outputs": [
    {
     "data": {
      "text/plain": [
       "'y'"
      ]
     },
     "execution_count": 12,
     "metadata": {},
     "output_type": "execute_result"
    }
   ],
   "source": [
    "max(string1)    #alphabets order"
   ]
  },
  {
   "cell_type": "code",
   "execution_count": 5,
   "id": "363d53ef",
   "metadata": {},
   "outputs": [
    {
     "data": {
      "text/plain": [
       "'p'"
      ]
     },
     "execution_count": 5,
     "metadata": {},
     "output_type": "execute_result"
    }
   ],
   "source": [
    "string1='p'    #complete\n",
    "max(string1) \n",
    "#ASCII\n",
    "#A=65 a:95"
   ]
  },
  {
   "cell_type": "code",
   "execution_count": 13,
   "id": "3efde819",
   "metadata": {},
   "outputs": [
    {
     "data": {
      "text/plain": [
       "80"
      ]
     },
     "execution_count": 13,
     "metadata": {},
     "output_type": "execute_result"
    }
   ],
   "source": [
    "ord('P')"
   ]
  },
  {
   "cell_type": "code",
   "execution_count": 14,
   "id": "28a65bc4",
   "metadata": {},
   "outputs": [
    {
     "data": {
      "text/plain": [
       "112"
      ]
     },
     "execution_count": 14,
     "metadata": {},
     "output_type": "execute_result"
    }
   ],
   "source": [
    "ord('p')"
   ]
  },
  {
   "cell_type": "code",
   "execution_count": 15,
   "id": "74a3152f",
   "metadata": {},
   "outputs": [
    {
     "data": {
      "text/plain": [
       "'y'"
      ]
     },
     "execution_count": 15,
     "metadata": {},
     "output_type": "execute_result"
    }
   ],
   "source": [
    "string1='python'\n",
    "max(string1)"
   ]
  },
  {
   "cell_type": "code",
   "execution_count": 16,
   "id": "e0214e3d",
   "metadata": {},
   "outputs": [
    {
     "data": {
      "text/plain": [
       "(112, 121, 116, 104, 111, 110)"
      ]
     },
     "execution_count": 16,
     "metadata": {},
     "output_type": "execute_result"
    }
   ],
   "source": [
    "ord('p'),ord('y'),ord('t'),ord('h'),ord('o'),ord('n')"
   ]
  },
  {
   "cell_type": "code",
   "execution_count": 19,
   "id": "c99da0b4",
   "metadata": {},
   "outputs": [
    {
     "data": {
      "text/plain": [
       "('p', 'y', 't', 'h', 'o', 'n')"
      ]
     },
     "execution_count": 19,
     "metadata": {},
     "output_type": "execute_result"
    }
   ],
   "source": [
    "chr(112),chr(121),chr(116),chr(104),chr(111),chr(110)"
   ]
  },
  {
   "cell_type": "markdown",
   "id": "b8d36030",
   "metadata": {},
   "source": [
    "$how$ $can$ $we$ $implement$ $loop$ $on$ $the$ $string$"
   ]
  },
  {
   "cell_type": "code",
   "execution_count": 6,
   "id": "929e0ed5",
   "metadata": {},
   "outputs": [
    {
     "name": "stdout",
     "output_type": "stream",
     "text": [
      "0\n",
      "1\n",
      "2\n",
      "3\n",
      "4\n",
      "5\n"
     ]
    }
   ],
   "source": [
    "for i in range(len('python')):\n",
    "    print(i)   "
   ]
  },
  {
   "cell_type": "markdown",
   "id": "78d9ea0c",
   "metadata": {},
   "source": [
    " in operator"
   ]
  },
  {
   "cell_type": "code",
   "execution_count": 22,
   "id": "1ede8d4d",
   "metadata": {},
   "outputs": [
    {
     "data": {
      "text/plain": [
       "True"
      ]
     },
     "execution_count": 22,
     "metadata": {},
     "output_type": "execute_result"
    }
   ],
   "source": [
    "string1='python'\n",
    "'p' in string1"
   ]
  },
  {
   "cell_type": "code",
   "execution_count": 23,
   "id": "ff29c773",
   "metadata": {},
   "outputs": [
    {
     "data": {
      "text/plain": [
       "True"
      ]
     },
     "execution_count": 23,
     "metadata": {},
     "output_type": "execute_result"
    }
   ],
   "source": [
    "'y' in string1"
   ]
  },
  {
   "cell_type": "code",
   "execution_count": 24,
   "id": "d3390585",
   "metadata": {},
   "outputs": [
    {
     "data": {
      "text/plain": [
       "True"
      ]
     },
     "execution_count": 24,
     "metadata": {},
     "output_type": "execute_result"
    }
   ],
   "source": [
    "'t' in string1"
   ]
  },
  {
   "cell_type": "code",
   "execution_count": 25,
   "id": "73278c99",
   "metadata": {},
   "outputs": [
    {
     "data": {
      "text/plain": [
       "True"
      ]
     },
     "execution_count": 25,
     "metadata": {},
     "output_type": "execute_result"
    }
   ],
   "source": [
    "'h' in string1"
   ]
  },
  {
   "cell_type": "code",
   "execution_count": 26,
   "id": "f87ec42d",
   "metadata": {},
   "outputs": [
    {
     "data": {
      "text/plain": [
       "True"
      ]
     },
     "execution_count": 26,
     "metadata": {},
     "output_type": "execute_result"
    }
   ],
   "source": [
    "'o' in string1"
   ]
  },
  {
   "cell_type": "code",
   "execution_count": 27,
   "id": "7b3de624",
   "metadata": {},
   "outputs": [
    {
     "data": {
      "text/plain": [
       "True"
      ]
     },
     "execution_count": 27,
     "metadata": {},
     "output_type": "execute_result"
    }
   ],
   "source": [
    "'n' in string1   #instead of writing 6 times other way is generalized method"
   ]
  },
  {
   "cell_type": "code",
   "execution_count": null,
   "id": "aa20dfa5",
   "metadata": {},
   "outputs": [],
   "source": [
    "#i in string1  #generalized experssion for varring and common letters"
   ]
  },
  {
   "cell_type": "code",
   "execution_count": 28,
   "id": "f9a1b749",
   "metadata": {},
   "outputs": [
    {
     "name": "stdout",
     "output_type": "stream",
     "text": [
      "p\n",
      "y\n",
      "t\n",
      "h\n",
      "o\n",
      "n\n"
     ]
    }
   ],
   "source": [
    "for i in (string1):\n",
    "    print(i)     #in operator implemneting in for loop"
   ]
  },
  {
   "cell_type": "markdown",
   "id": "fff877da",
   "metadata": {},
   "source": [
    "$note$"
   ]
  },
  {
   "cell_type": "markdown",
   "id": "0fd127eb",
   "metadata": {},
   "source": [
    "-range() :you need to provide numbers inside the range\n",
    "-in : is used only for strings"
   ]
  },
  {
   "cell_type": "code",
   "execution_count": null,
   "id": "3e8babca",
   "metadata": {},
   "outputs": [],
   "source": [
    "--if u want to print the letters using for loop go for in operator "
   ]
  },
  {
   "cell_type": "code",
   "execution_count": 106,
   "id": "2bf57625",
   "metadata": {},
   "outputs": [
    {
     "name": "stdout",
     "output_type": "stream",
     "text": [
      "112\n",
      "121\n",
      "116\n",
      "104\n",
      "111\n",
      "110\n"
     ]
    }
   ],
   "source": [
    "print(ord('p'))\n",
    "print(ord('y'))\n",
    "print(ord('t'))\n",
    "print(ord('h'))\n",
    "print(ord('o'))\n",
    "print(ord('n'))"
   ]
  },
  {
   "cell_type": "code",
   "execution_count": 30,
   "id": "d2a7da42",
   "metadata": {},
   "outputs": [
    {
     "name": "stdout",
     "output_type": "stream",
     "text": [
      "112\n",
      "121\n",
      "116\n",
      "104\n",
      "111\n",
      "110\n"
     ]
    }
   ],
   "source": [
    "for i in (string1):\n",
    "    print(ord(i))"
   ]
  },
  {
   "cell_type": "code",
   "execution_count": 33,
   "id": "78d0fd5a",
   "metadata": {},
   "outputs": [
    {
     "name": "stdout",
     "output_type": "stream",
     "text": [
      "the ascii value ofp is112\n",
      "the ascii value ofy is121\n",
      "the ascii value oft is116\n",
      "the ascii value ofh is104\n",
      "the ascii value ofo is111\n",
      "the ascii value ofn is110\n"
     ]
    }
   ],
   "source": [
    "for i in (string1):\n",
    "    print(\"the ascii value of{} is{}\".format(i,ord(i)))"
   ]
  },
  {
   "cell_type": "code",
   "execution_count": 107,
   "id": "396f23ab",
   "metadata": {
    "scrolled": true
   },
   "outputs": [
    {
     "name": "stdout",
     "output_type": "stream",
     "text": [
      "the ascii value ofA is65\n",
      "the ascii value ofB is66\n",
      "the ascii value ofC is67\n",
      "the ascii value ofD is68\n",
      "the ascii value ofE is69\n",
      "the ascii value ofF is70\n",
      "the ascii value ofG is71\n",
      "the ascii value ofH is72\n",
      "the ascii value ofI is73\n",
      "the ascii value ofJ is74\n",
      "the ascii value ofK is75\n",
      "the ascii value ofL is76\n",
      "the ascii value ofM is77\n",
      "the ascii value ofN is78\n",
      "the ascii value ofO is79\n",
      "the ascii value ofP is80\n",
      "the ascii value ofQ is81\n",
      "the ascii value ofR is82\n",
      "the ascii value ofS is83\n",
      "the ascii value ofT is84\n",
      "the ascii value ofU is85\n",
      "the ascii value ofV is86\n",
      "the ascii value ofW is87\n",
      "the ascii value ofX is88\n",
      "the ascii value ofY is89\n",
      "the ascii value ofZ is90\n"
     ]
    }
   ],
   "source": [
    "#acii value of a to z\n",
    "for i in range(65,91):\n",
    "    print(\"the ascii value of{} is{}\".format(chr(i),i))\n",
    "    "
   ]
  },
  {
   "cell_type": "code",
   "execution_count": 109,
   "id": "960018fe",
   "metadata": {},
   "outputs": [
    {
     "name": "stdout",
     "output_type": "stream",
     "text": [
      "the ascii value ofA is65\n",
      "the ascii value ofB is66\n",
      "the ascii value ofC is67\n",
      "the ascii value ofD is68\n",
      "the ascii value ofE is69\n",
      "the ascii value ofF is70\n",
      "the ascii value ofG is71\n",
      "the ascii value ofH is72\n",
      "the ascii value ofI is73\n",
      "the ascii value ofJ is74\n",
      "the ascii value ofK is75\n",
      "the ascii value ofL is76\n",
      "the ascii value ofM is77\n",
      "the ascii value ofN is78\n",
      "the ascii value ofO is79\n",
      "the ascii value ofP is80\n",
      "the ascii value ofQ is81\n",
      "the ascii value ofR is82\n",
      "the ascii value ofS is83\n",
      "the ascii value ofT is84\n",
      "the ascii value ofU is85\n",
      "the ascii value ofV is86\n",
      "the ascii value ofW is87\n",
      "the ascii value ofX is88\n",
      "the ascii value ofY is89\n"
     ]
    }
   ],
   "source": [
    "for i in \"ABCDEFGHIJKLMNOPQRSTUVWXY\":\n",
    "    print(\"the ascii value of{} is{}\".format(i,ord(i)))\n",
    "    "
   ]
  },
  {
   "cell_type": "code",
   "execution_count": 37,
   "id": "57615f28",
   "metadata": {},
   "outputs": [],
   "source": [
    "import string"
   ]
  },
  {
   "cell_type": "code",
   "execution_count": 38,
   "id": "7d7d8e57",
   "metadata": {},
   "outputs": [
    {
     "data": {
      "text/plain": [
       "['Formatter',\n",
       " 'Template',\n",
       " '_ChainMap',\n",
       " '__all__',\n",
       " '__builtins__',\n",
       " '__cached__',\n",
       " '__doc__',\n",
       " '__file__',\n",
       " '__loader__',\n",
       " '__name__',\n",
       " '__package__',\n",
       " '__spec__',\n",
       " '_re',\n",
       " '_sentinel_dict',\n",
       " '_string',\n",
       " 'ascii_letters',\n",
       " 'ascii_lowercase',\n",
       " 'ascii_uppercase',\n",
       " 'capwords',\n",
       " 'digits',\n",
       " 'hexdigits',\n",
       " 'octdigits',\n",
       " 'printable',\n",
       " 'punctuation',\n",
       " 'whitespace']"
      ]
     },
     "execution_count": 38,
     "metadata": {},
     "output_type": "execute_result"
    }
   ],
   "source": [
    "dir(string)"
   ]
  },
  {
   "cell_type": "code",
   "execution_count": 41,
   "id": "a9796625",
   "metadata": {},
   "outputs": [
    {
     "data": {
      "text/plain": [
       "'ABCDEFGHIJKLMNOPQRSTUVWXYZ'"
      ]
     },
     "execution_count": 41,
     "metadata": {},
     "output_type": "execute_result"
    }
   ],
   "source": [
    "string.ascii_uppercase"
   ]
  },
  {
   "cell_type": "code",
   "execution_count": 110,
   "id": "5e99f89f",
   "metadata": {},
   "outputs": [
    {
     "name": "stdout",
     "output_type": "stream",
     "text": [
      "the ascii value ofA is65\n",
      "the ascii value ofB is66\n",
      "the ascii value ofC is67\n",
      "the ascii value ofD is68\n",
      "the ascii value ofE is69\n",
      "the ascii value ofF is70\n",
      "the ascii value ofG is71\n",
      "the ascii value ofH is72\n",
      "the ascii value ofI is73\n",
      "the ascii value ofJ is74\n",
      "the ascii value ofK is75\n",
      "the ascii value ofL is76\n",
      "the ascii value ofM is77\n",
      "the ascii value ofN is78\n",
      "the ascii value ofO is79\n",
      "the ascii value ofP is80\n",
      "the ascii value ofQ is81\n",
      "the ascii value ofR is82\n",
      "the ascii value ofS is83\n",
      "the ascii value ofT is84\n",
      "the ascii value ofU is85\n",
      "the ascii value ofV is86\n",
      "the ascii value ofW is87\n",
      "the ascii value ofX is88\n",
      "the ascii value ofY is89\n",
      "the ascii value ofZ is90\n"
     ]
    }
   ],
   "source": [
    "for i in string.ascii_uppercase:\n",
    "    print(\"the ascii value of{} is{}\".format(i,ord(i)))"
   ]
  },
  {
   "cell_type": "code",
   "execution_count": 111,
   "id": "35163be8",
   "metadata": {},
   "outputs": [
    {
     "name": "stdout",
     "output_type": "stream",
     "text": [
      "the ascii value ofa is97\n",
      "the ascii value ofb is98\n",
      "the ascii value ofc is99\n",
      "the ascii value ofd is100\n",
      "the ascii value ofe is101\n",
      "the ascii value off is102\n",
      "the ascii value ofg is103\n",
      "the ascii value ofh is104\n",
      "the ascii value ofi is105\n",
      "the ascii value ofj is106\n",
      "the ascii value ofk is107\n",
      "the ascii value ofl is108\n",
      "the ascii value ofm is109\n",
      "the ascii value ofn is110\n",
      "the ascii value ofo is111\n",
      "the ascii value ofp is112\n",
      "the ascii value ofq is113\n",
      "the ascii value ofr is114\n",
      "the ascii value ofs is115\n",
      "the ascii value oft is116\n",
      "the ascii value ofu is117\n",
      "the ascii value ofv is118\n",
      "the ascii value ofw is119\n",
      "the ascii value ofx is120\n",
      "the ascii value ofy is121\n",
      "the ascii value ofz is122\n"
     ]
    }
   ],
   "source": [
    "for i in string.ascii_lowercase:\n",
    "    print(\"the ascii value of{} is{}\".format(i,ord(i)))"
   ]
  },
  {
   "cell_type": "code",
   "execution_count": 45,
   "id": "f5965c33",
   "metadata": {},
   "outputs": [
    {
     "data": {
      "text/plain": [
       "'!\"#$%&\\'()*+,-./:;<=>?@[\\\\]^_`{|}~'"
      ]
     },
     "execution_count": 45,
     "metadata": {},
     "output_type": "execute_result"
    }
   ],
   "source": [
    "string.punctuation"
   ]
  },
  {
   "cell_type": "code",
   "execution_count": 46,
   "id": "1619c9ff",
   "metadata": {},
   "outputs": [
    {
     "data": {
      "text/plain": [
       "97"
      ]
     },
     "execution_count": 46,
     "metadata": {},
     "output_type": "execute_result"
    }
   ],
   "source": [
    "#start and end of ascii numbers\n",
    "ord('a')"
   ]
  },
  {
   "cell_type": "code",
   "execution_count": 48,
   "id": "57ed518a",
   "metadata": {},
   "outputs": [
    {
     "data": {
      "text/plain": [
       "'\\x01'"
      ]
     },
     "execution_count": 48,
     "metadata": {},
     "output_type": "execute_result"
    }
   ],
   "source": [
    "chr(1)"
   ]
  },
  {
   "cell_type": "code",
   "execution_count": 50,
   "id": "4b0aa7dd",
   "metadata": {},
   "outputs": [
    {
     "name": "stdout",
     "output_type": "stream",
     "text": [
      "1 \u0001\n",
      "2 \u0002\n",
      "3 \u0003\n",
      "4 \u0004\n",
      "5 \u0005\n",
      "6 \u0006\n",
      "7 \u0007\n",
      "8 \b\n",
      "9 \t\n",
      "10 \n",
      "\n",
      "11 \u000b",
      "\n",
      "12 \f",
      "\n",
      "13 \r\n",
      "14 \u000e\n",
      "15 \u000f\n",
      "16 \u0010\n",
      "17 \u0011\n",
      "18 \u0012\n",
      "19 \u0013\n",
      "20 \u0014\n",
      "21 \u0015\n",
      "22 \u0016\n",
      "23 \u0017\n",
      "24 \u0018\n",
      "25 \u0019\n",
      "26 \u001a\n",
      "27 \u001b\n",
      "28 \u001c",
      "\n",
      "29 \u001d",
      "\n",
      "30 \u001e",
      "\n",
      "31 \u001f\n",
      "32  \n",
      "33 !\n",
      "34 \"\n",
      "35 #\n",
      "36 $\n",
      "37 %\n",
      "38 &\n",
      "39 '\n",
      "40 (\n",
      "41 )\n",
      "42 *\n",
      "43 +\n",
      "44 ,\n",
      "45 -\n",
      "46 .\n",
      "47 /\n",
      "48 0\n",
      "49 1\n"
     ]
    }
   ],
   "source": [
    "for i in range(1,50):\n",
    "    print(i,chr(i))"
   ]
  },
  {
   "cell_type": "code",
   "execution_count": 51,
   "id": "2df55672",
   "metadata": {},
   "outputs": [
    {
     "name": "stdout",
     "output_type": "stream",
     "text": [
      "100 d\n",
      "101 e\n",
      "102 f\n",
      "103 g\n",
      "104 h\n",
      "105 i\n",
      "106 j\n",
      "107 k\n",
      "108 l\n",
      "109 m\n",
      "110 n\n",
      "111 o\n",
      "112 p\n",
      "113 q\n",
      "114 r\n",
      "115 s\n",
      "116 t\n",
      "117 u\n",
      "118 v\n",
      "119 w\n",
      "120 x\n",
      "121 y\n",
      "122 z\n",
      "123 {\n",
      "124 |\n",
      "125 }\n",
      "126 ~\n",
      "127 \n",
      "128 \n",
      "129 \n",
      "130 \n",
      "131 \n",
      "132 \n",
      "133 ",
      "\n",
      "134 \n",
      "135 \n",
      "136 \n",
      "137 \n",
      "138 \n",
      "139 \n",
      "140 \n",
      "141 \n",
      "142 \n",
      "143 \n",
      "144 \n",
      "145 \n",
      "146 \n",
      "147 \n",
      "148 \n",
      "149 \n"
     ]
    }
   ],
   "source": [
    "for i in range(100,150):\n",
    "    print(i,chr(i))"
   ]
  },
  {
   "cell_type": "code",
   "execution_count": 52,
   "id": "8c22f5d9",
   "metadata": {},
   "outputs": [
    {
     "name": "stdout",
     "output_type": "stream",
     "text": [
      "33 !\n",
      "34 \"\n",
      "35 #\n",
      "36 $\n",
      "37 %\n",
      "38 &\n",
      "39 '\n",
      "40 (\n",
      "41 )\n",
      "42 *\n",
      "43 +\n",
      "44 ,\n",
      "45 -\n",
      "46 .\n",
      "47 /\n",
      "48 0\n",
      "49 1\n",
      "50 2\n",
      "51 3\n",
      "52 4\n",
      "53 5\n",
      "54 6\n",
      "55 7\n",
      "56 8\n",
      "57 9\n",
      "58 :\n",
      "59 ;\n",
      "60 <\n",
      "61 =\n",
      "62 >\n",
      "63 ?\n",
      "64 @\n",
      "65 A\n",
      "66 B\n",
      "67 C\n",
      "68 D\n",
      "69 E\n",
      "70 F\n",
      "71 G\n",
      "72 H\n",
      "73 I\n",
      "74 J\n",
      "75 K\n",
      "76 L\n",
      "77 M\n",
      "78 N\n",
      "79 O\n",
      "80 P\n",
      "81 Q\n",
      "82 R\n",
      "83 S\n",
      "84 T\n",
      "85 U\n",
      "86 V\n",
      "87 W\n",
      "88 X\n",
      "89 Y\n",
      "90 Z\n",
      "91 [\n",
      "92 \\\n",
      "93 ]\n",
      "94 ^\n",
      "95 _\n",
      "96 `\n",
      "97 a\n",
      "98 b\n",
      "99 c\n",
      "100 d\n",
      "101 e\n",
      "102 f\n",
      "103 g\n",
      "104 h\n",
      "105 i\n",
      "106 j\n",
      "107 k\n",
      "108 l\n",
      "109 m\n",
      "110 n\n",
      "111 o\n",
      "112 p\n",
      "113 q\n",
      "114 r\n",
      "115 s\n",
      "116 t\n",
      "117 u\n",
      "118 v\n",
      "119 w\n",
      "120 x\n",
      "121 y\n",
      "122 z\n",
      "123 {\n",
      "124 |\n",
      "125 }\n"
     ]
    }
   ],
   "source": [
    "for i in range(33,126):\n",
    "    print(i,chr(i))\n",
    "#start with 33\n",
    "#end with 126\n",
    "#ascii:93"
   ]
  },
  {
   "cell_type": "code",
   "execution_count": 53,
   "id": "83f783c9",
   "metadata": {},
   "outputs": [
    {
     "data": {
      "text/plain": [
       "'abcdefghijklmnopqrstuvwxyzABCDEFGHIJKLMNOPQRSTUVWXYZ'"
      ]
     },
     "execution_count": 53,
     "metadata": {},
     "output_type": "execute_result"
    }
   ],
   "source": [
    "string.ascii_letters"
   ]
  },
  {
   "cell_type": "code",
   "execution_count": 54,
   "id": "5ac6717d",
   "metadata": {},
   "outputs": [
    {
     "data": {
      "text/plain": [
       "'0123456789abcdefghijklmnopqrstuvwxyzABCDEFGHIJKLMNOPQRSTUVWXYZ!\"#$%&\\'()*+,-./:;<=>?@[\\\\]^_`{|}~ \\t\\n\\r\\x0b\\x0c'"
      ]
     },
     "execution_count": 54,
     "metadata": {},
     "output_type": "execute_result"
    }
   ],
   "source": [
    "string.printable\n",
    "#digits\n",
    "#lower\n",
    "#upp\n",
    "#punctuation"
   ]
  },
  {
   "cell_type": "code",
   "execution_count": 114,
   "id": "3eb6ac5a",
   "metadata": {},
   "outputs": [
    {
     "name": "stdout",
     "output_type": "stream",
     "text": [
      "a\n",
      "a\n",
      "a\n",
      "3\n"
     ]
    }
   ],
   "source": [
    "#wap ask the user find number of a letters in a given string \n",
    "#string=hai how are you and how do u do\n",
    "count1=0\n",
    "string4=\"hai how are you and how do u do\"\n",
    "for i in string4:\n",
    "    if i==\"a\":\n",
    "        print(i)\n",
    "        count1=count1+1\n",
    "print(count1)"
   ]
  },
  {
   "cell_type": "code",
   "execution_count": 76,
   "id": "aa42bfd6",
   "metadata": {},
   "outputs": [
    {
     "name": "stdout",
     "output_type": "stream",
     "text": [
      "7\n"
     ]
    }
   ],
   "source": [
    "#wap count the number of vowels in a given string\n",
    "string5=\"hai how are you\"\n",
    "count=0\n",
    "for i in string5:\n",
    "    if i in\"aeiou\":\n",
    "        count=count+1\n",
    "print(count)"
   ]
  },
  {
   "cell_type": "code",
   "execution_count": 137,
   "id": "7208f015",
   "metadata": {},
   "outputs": [
    {
     "name": "stdout",
     "output_type": "stream",
     "text": [
      "7\n",
      "aioaeou\n"
     ]
    }
   ],
   "source": [
    "#wap count the number of vowels in a given string\n",
    "string5=\"hai how are you\"\n",
    "str6=\"\"\n",
    "count=0\n",
    "for i in string5:\n",
    "    if i in\"aeiou\":\n",
    "        count=count+1\n",
    "        str6=str6+i\n",
    "print(count)\n",
    "print(str6)"
   ]
  },
  {
   "cell_type": "code",
   "execution_count": 140,
   "id": "cbe2efb6",
   "metadata": {},
   "outputs": [
    {
     "name": "stdout",
     "output_type": "stream",
     "text": [
      "h\n",
      "a\n",
      "i\n",
      " \n",
      "h\n",
      "o\n",
      "w\n",
      " \n",
      "a\n",
      "r\n",
      "e\n",
      " \n",
      "y\n",
      "o\n",
      "u\n",
      "aioeu\n",
      "5\n"
     ]
    }
   ],
   "source": [
    "string6=\"hai how are you\"\n",
    "str7=\"\"\n",
    "count1=0\n",
    "for i in string6:\n",
    "    print(i)\n",
    "    if i in\"aeiou\" and i not in str7:\n",
    "        count1=count1+1\n",
    "        str7=str7+i      \n",
    "print(str7)       \n",
    "print(count1)"
   ]
  },
  {
   "cell_type": "code",
   "execution_count": 143,
   "id": "f2b2f9a2",
   "metadata": {},
   "outputs": [
    {
     "name": "stdout",
     "output_type": "stream",
     "text": [
      "h\n",
      "a\n",
      "i\n",
      " \n",
      "h\n",
      "o\n",
      "w\n",
      " \n",
      "a\n",
      "r\n",
      "e\n",
      " \n",
      "y\n",
      "o\n",
      "u\n",
      "aioeu\n",
      "5\n"
     ]
    }
   ],
   "source": [
    "string6=\"hai how are you\"\n",
    "str7=\"\"\n",
    "count1=0\n",
    "for i in string6:\n",
    "    print(i)\n",
    "    if i in\"aeiou\" :\n",
    "          if i not in str7:\n",
    "            count1=count1+1\n",
    "            str7=str7+i      \n",
    "print(str7)       \n",
    "print(count1)"
   ]
  },
  {
   "cell_type": "code",
   "execution_count": 131,
   "id": "06b73c68",
   "metadata": {},
   "outputs": [
    {
     "data": {
      "text/plain": [
       "'haihow'"
      ]
     },
     "execution_count": 131,
     "metadata": {},
     "output_type": "execute_result"
    }
   ],
   "source": [
    "str1='hai'\n",
    "str2='how'\n",
    "str1+str2"
   ]
  },
  {
   "cell_type": "code",
   "execution_count": 90,
   "id": "4d535542",
   "metadata": {},
   "outputs": [
    {
     "ename": "TypeError",
     "evalue": "can't multiply sequence by non-int of type 'str'",
     "output_type": "error",
     "traceback": [
      "\u001b[1;31m---------------------------------------------------------------------------\u001b[0m",
      "\u001b[1;31mTypeError\u001b[0m                                 Traceback (most recent call last)",
      "Cell \u001b[1;32mIn[90], line 1\u001b[0m\n\u001b[1;32m----> 1\u001b[0m (str1\u001b[38;5;241m*\u001b[39mstr2)\n",
      "\u001b[1;31mTypeError\u001b[0m: can't multiply sequence by non-int of type 'str'"
     ]
    }
   ],
   "source": [
    "(str1*str2)"
   ]
  },
  {
   "cell_type": "code",
   "execution_count": 89,
   "id": "a5331bd4",
   "metadata": {},
   "outputs": [
    {
     "data": {
      "text/plain": [
       "'howhowhow'"
      ]
     },
     "execution_count": 89,
     "metadata": {},
     "output_type": "execute_result"
    }
   ],
   "source": [
    "3*str2"
   ]
  },
  {
   "cell_type": "code",
   "execution_count": null,
   "id": "7ceccb9d",
   "metadata": {},
   "outputs": [],
   "source": [
    "-how to read\n",
    "-single/double/triple\n",
    "-type\n",
    "-len\n",
    "-max\n",
    "-in\n",
    "-concatenation"
   ]
  },
  {
   "cell_type": "markdown",
   "id": "892cde9a",
   "metadata": {},
   "source": [
    "$index$"
   ]
  },
  {
   "cell_type": "code",
   "execution_count": 91,
   "id": "6dadfc20",
   "metadata": {},
   "outputs": [],
   "source": [
    "string1=\"python\""
   ]
  },
  {
   "cell_type": "code",
   "execution_count": null,
   "id": "c921c078",
   "metadata": {},
   "outputs": [],
   "source": [
    "p y t h o n\n",
    "0 1 2 3 4 5 "
   ]
  },
  {
   "cell_type": "code",
   "execution_count": 97,
   "id": "c67ca5a3",
   "metadata": {},
   "outputs": [
    {
     "data": {
      "text/plain": [
       "'o'"
      ]
     },
     "execution_count": 97,
     "metadata": {},
     "output_type": "execute_result"
    }
   ],
   "source": [
    "string1[0],string1[1],string1[2],string1[3],string1[4],string1[5]\n",
    "string1[i]"
   ]
  },
  {
   "cell_type": "code",
   "execution_count": 93,
   "id": "d0414bb9",
   "metadata": {},
   "outputs": [
    {
     "name": "stdout",
     "output_type": "stream",
     "text": [
      "0\n",
      "1\n",
      "2\n",
      "3\n",
      "4\n"
     ]
    }
   ],
   "source": [
    "for i in range(5):\n",
    "    print(i)"
   ]
  },
  {
   "cell_type": "code",
   "execution_count": 104,
   "id": "2aa1312f",
   "metadata": {},
   "outputs": [
    {
     "name": "stdout",
     "output_type": "stream",
     "text": [
      "p\n",
      "y\n",
      "t\n",
      "h\n",
      "o\n"
     ]
    }
   ],
   "source": [
    "for i in range(5):     \n",
    "    print(string1[i])"
   ]
  },
  {
   "cell_type": "code",
   "execution_count": 105,
   "id": "573a168d",
   "metadata": {},
   "outputs": [
    {
     "name": "stdout",
     "output_type": "stream",
     "text": [
      "p\n",
      "y\n",
      "t\n",
      "h\n",
      "o\n",
      "n\n",
      "0 p\n",
      "1 y\n",
      "2 t\n",
      "3 h\n",
      "4 o\n",
      "5 n\n"
     ]
    }
   ],
   "source": [
    "strin1=\"python\"\n",
    "#i want to print letters using in operator\n",
    "#i wnt to print letters range operator\n",
    "for i in string1:\n",
    "    print(i)\n",
    "for i in range(len(string1)):\n",
    "    print(i,string1[i])"
   ]
  },
  {
   "cell_type": "code",
   "execution_count": null,
   "id": "71ffff38",
   "metadata": {},
   "outputs": [],
   "source": [
    "#if youn want to print only letters:in\n",
    "#if you want to print only idex:range\n",
    "#if you want to print both index and range:use range"
   ]
  },
  {
   "cell_type": "markdown",
   "id": "503dac43",
   "metadata": {},
   "source": [
    "10-11-2023"
   ]
  },
  {
   "cell_type": "code",
   "execution_count": 2,
   "id": "11a5b6ea",
   "metadata": {},
   "outputs": [],
   "source": [
    "string1='python'\n",
    "#i want to print the letters using for loop\n",
    "#in\n",
    "#range"
   ]
  },
  {
   "cell_type": "code",
   "execution_count": 6,
   "id": "b8384424",
   "metadata": {},
   "outputs": [
    {
     "name": "stdout",
     "output_type": "stream",
     "text": [
      "p y t h o n 0\n",
      "1\n",
      "2\n",
      "3\n",
      "4\n",
      "5\n"
     ]
    }
   ],
   "source": [
    "for i in string1:     #i means each letter\n",
    "    print(i,end=\" \")\n",
    "for i in range(len('python')):  #i means numbers 0 to len-1\n",
    "    print(i)"
   ]
  },
  {
   "cell_type": "code",
   "execution_count": 8,
   "id": "acc408d7",
   "metadata": {},
   "outputs": [
    {
     "name": "stdout",
     "output_type": "stream",
     "text": [
      "p y t h o n 0 t\n",
      "1 t\n",
      "2 t\n",
      "3 t\n",
      "4 t\n",
      "5 t\n"
     ]
    }
   ],
   "source": [
    "for i in string1:     #i means each letter\n",
    "    print(i,end=\" \")\n",
    "for i in range(len('python')):  #i means numbers 0 to len-1\n",
    "    print(i,string1[2])"
   ]
  },
  {
   "cell_type": "code",
   "execution_count": 10,
   "id": "007d8fb1",
   "metadata": {},
   "outputs": [
    {
     "data": {
      "text/plain": [
       "'t'"
      ]
     },
     "execution_count": 10,
     "metadata": {},
     "output_type": "execute_result"
    }
   ],
   "source": [
    "string1[2]"
   ]
  },
  {
   "cell_type": "code",
   "execution_count": 14,
   "id": "54b4447f",
   "metadata": {},
   "outputs": [
    {
     "name": "stdout",
     "output_type": "stream",
     "text": [
      "p y t h o n the index of p is0\n",
      "the index of y is1\n",
      "the index of t is2\n",
      "the index of h is3\n",
      "the index of o is4\n",
      "the index of n is5\n"
     ]
    }
   ],
   "source": [
    "#the index of p is zero\n",
    "#the index of y is 1\n",
    "for i in string1:     #i means each letter\n",
    "    print(i,end=\" \")\n",
    "for i in range(len('python')):  #i means numbers 0 to len-1\n",
    "    print(\"the index of {} is{}\".format(string1[i],i))"
   ]
  },
  {
   "cell_type": "code",
   "execution_count": null,
   "id": "bd2c7d11",
   "metadata": {},
   "outputs": [],
   "source": [
    "-6-5-4-3-2-1==========>negative index\n",
    "p y  t h o n\n",
    "0 1 2 3 4 5=========>positive index"
   ]
  },
  {
   "cell_type": "code",
   "execution_count": 15,
   "id": "4bc0cbee",
   "metadata": {},
   "outputs": [
    {
     "data": {
      "text/plain": [
       "('p', 'y', 't', 'h', 'o', 'n')"
      ]
     },
     "execution_count": 15,
     "metadata": {},
     "output_type": "execute_result"
    }
   ],
   "source": [
    "string1[-6],string1[-5],string1[-4],string1[-3],string1[-2],string1[-1]"
   ]
  },
  {
   "cell_type": "code",
   "execution_count": 21,
   "id": "683360d3",
   "metadata": {},
   "outputs": [
    {
     "name": "stdout",
     "output_type": "stream",
     "text": [
      "p y t h o n -6 p\n",
      "-5 y\n",
      "-4 t\n",
      "-3 h\n",
      "-2 o\n",
      "-1 n\n"
     ]
    }
   ],
   "source": [
    "#iterate the for loop on string1\n",
    "#print the letters using negative index\n",
    "#the idea is first you need print the numbers between-6 to -1 using for loop\n",
    "string2=\"python\"\n",
    "for i in string2:\n",
    "    print(i,end=\" \")\n",
    "for i in range(-6,0):\n",
    "    print(i,string2[i])"
   ]
  },
  {
   "cell_type": "code",
   "execution_count": 24,
   "id": "59e0934e",
   "metadata": {},
   "outputs": [
    {
     "name": "stdout",
     "output_type": "stream",
     "text": [
      "p y t h o n the negative index p is-6\n",
      "the negative index y is-5\n",
      "the negative index t is-4\n",
      "the negative index h is-3\n",
      "the negative index o is-2\n",
      "the negative index n is-1\n"
     ]
    }
   ],
   "source": [
    "string2=\"python\"\n",
    "for i in string2:\n",
    "    print(i,end=\" \")\n",
    "for i in range(-len(string2),0):\n",
    "    print(\"the negative index {} is{}\".format(string2[i],i))"
   ]
  },
  {
   "cell_type": "code",
   "execution_count": 26,
   "id": "c98adac2",
   "metadata": {},
   "outputs": [
    {
     "name": "stdout",
     "output_type": "stream",
     "text": [
      "-6-5-4-3-2-1"
     ]
    }
   ],
   "source": [
    "for i in range(-6,0):\n",
    "    print(i,end=\"\")"
   ]
  },
  {
   "cell_type": "code",
   "execution_count": 29,
   "id": "ce9602ad",
   "metadata": {},
   "outputs": [],
   "source": [
    "for i in range(6,0):\n",
    "    print(i,end=\"\")"
   ]
  },
  {
   "cell_type": "code",
   "execution_count": 30,
   "id": "cd9b391d",
   "metadata": {},
   "outputs": [
    {
     "name": "stdout",
     "output_type": "stream",
     "text": [
      "-6 -5 -4 -3 -2 -1 "
     ]
    }
   ],
   "source": [
    "for i in range(0,6):\n",
    "    print(i-6,end=\" \")"
   ]
  },
  {
   "cell_type": "code",
   "execution_count": 34,
   "id": "a3c6a2aa",
   "metadata": {},
   "outputs": [
    {
     "name": "stdout",
     "output_type": "stream",
     "text": [
      "p y t h o n the negative index p is-6\n",
      "the negative index y is-5\n",
      "the negative index t is-4\n",
      "the negative index h is-3\n",
      "the negative index o is-2\n",
      "the negative index n is-1\n"
     ]
    }
   ],
   "source": [
    "string2=\"python\"\n",
    "for i in string2:\n",
    "    print(i,end=\" \")\n",
    "for i in range(len(string2)):\n",
    "    print(\"the negative index {} is{}\".format(string2[i],i-6))"
   ]
  },
  {
   "cell_type": "code",
   "execution_count": 38,
   "id": "33c3b90a",
   "metadata": {},
   "outputs": [
    {
     "name": "stdout",
     "output_type": "stream",
     "text": [
      "p y t h o n the  positive index is0 and negative index is p\n",
      "the  positive index is1 and negative index is y\n",
      "the  positive index is2 and negative index is t\n",
      "the  positive index is3 and negative index is h\n",
      "the  positive index is4 and negative index is o\n",
      "the  positive index is5 and negative index is n\n"
     ]
    }
   ],
   "source": [
    "string2=\"python\"\n",
    "for i in string2:\n",
    "    print(i,end=\" \")\n",
    "for i in range(len(string2)):\n",
    "    print(\"the  positive index is{} and negative index is {}\".format(i,string2[i],i-6))"
   ]
  },
  {
   "cell_type": "code",
   "execution_count": 41,
   "id": "ecd17aaf",
   "metadata": {},
   "outputs": [
    {
     "name": "stdout",
     "output_type": "stream",
     "text": [
      "p y t h o n the negative index p is0\n",
      "the negative index y is1\n",
      "the negative index t is2\n",
      "the negative index h is3\n",
      "the negative index o is4\n",
      "the negative index n is5\n",
      "p y t h o n the negative index p is-6\n",
      "the negative index y is-5\n",
      "the negative index t is-4\n",
      "the negative index h is-3\n",
      "the negative index o is-2\n",
      "the negative index n is-1\n",
      "p y t h o n the  positive index is0 and negative index is p\n",
      "the  positive index is1 and negative index is y\n",
      "the  positive index is2 and negative index is t\n",
      "the  positive index is3 and negative index is h\n",
      "the  positive index is4 and negative index is o\n",
      "the  positive index is5 and negative index is n\n"
     ]
    }
   ],
   "source": [
    "string2=\"python\"\n",
    "for i in string2:\n",
    "    print(i,end=\" \")\n",
    "for i in range(-len(string2),0):\n",
    "    print(\"the negative index {} is{}\".format(string2[i],i+6))\n",
    "    \n",
    "    \n",
    "string2=\"python\"\n",
    "for i in string2:\n",
    "    print(i,end=\" \")\n",
    "for i in range(-len(string2),0):\n",
    "    print(\"the negative index {} is{}\".format(string2[i],i))\n",
    "    \n",
    "    \n",
    "string2=\"python\"\n",
    "for i in string2:\n",
    "    print(i,end=\" \")\n",
    "for i in range(-len(string2),0):\n",
    "    print(\"the  positive index is{} and negative index is {}\".format(i+6,string2[i],i))"
   ]
  },
  {
   "cell_type": "code",
   "execution_count": 61,
   "id": "515f307b",
   "metadata": {},
   "outputs": [
    {
     "name": "stdout",
     "output_type": "stream",
     "text": [
      "the negative index 0 is-6\n",
      "the negative index 1 is-5\n",
      "the negative index 2 is-4\n",
      "the negative index 3 is-3\n",
      "the negative index 4 is-2\n",
      "the negative index 5 is-1\n"
     ]
    }
   ],
   "source": [
    "#string2=\"python\"\n",
    "#for i in string2:\n",
    " #   print(i,end=\" \")\n",
    "#for i in range(-len(string2),0):\n",
    " #   print(\"the negative index {} is{}\".format(string2[i],i+6))\n",
    "#while loop\n",
    "i=0\n",
    "string2=\"python\"\n",
    "while (i<len(string2)):\n",
    "    print(\"the negative index {} is{}\".format(i,i-6,string2[i],))\n",
    "    i=i+1"
   ]
  },
  {
   "cell_type": "code",
   "execution_count": 68,
   "id": "5d15aabc",
   "metadata": {},
   "outputs": [
    {
     "name": "stdout",
     "output_type": "stream",
     "text": [
      "2\n"
     ]
    }
   ],
   "source": [
    "string3=\"hai how are you\"\n",
    "count=0\n",
    "for i in range(len(string3)):\n",
    "    if string3[i]==\"a\":\n",
    "        count+=1\n",
    "print(count) "
   ]
  },
  {
   "cell_type": "code",
   "execution_count": null,
   "id": "3c26df9b",
   "metadata": {},
   "outputs": [],
   "source": [
    "mutable and immutable concept\n",
    "mutable=======we can change\n",
    "immutable=====we can not change the value index operation\n",
    "strings are immutable"
   ]
  },
  {
   "cell_type": "code",
   "execution_count": 69,
   "id": "8935a1e1",
   "metadata": {},
   "outputs": [
    {
     "ename": "TypeError",
     "evalue": "'str' object does not support item assignment",
     "output_type": "error",
     "traceback": [
      "\u001b[1;31m---------------------------------------------------------------------------\u001b[0m",
      "\u001b[1;31mTypeError\u001b[0m                                 Traceback (most recent call last)",
      "Cell \u001b[1;32mIn[69], line 4\u001b[0m\n\u001b[0;32m      1\u001b[0m string1\u001b[38;5;241m=\u001b[39m\u001b[38;5;124m\"\u001b[39m\u001b[38;5;124mpython\u001b[39m\u001b[38;5;124m\"\u001b[39m\n\u001b[0;32m      2\u001b[0m \u001b[38;5;66;03m#i want change 'p'==========\"P\"\u001b[39;00m\n\u001b[0;32m      3\u001b[0m \u001b[38;5;66;03m#o/p:\"Python\"\u001b[39;00m\n\u001b[1;32m----> 4\u001b[0m string1[\u001b[38;5;241m0\u001b[39m]\u001b[38;5;241m=\u001b[39m\u001b[38;5;124m\"\u001b[39m\u001b[38;5;124mp\u001b[39m\u001b[38;5;124m\"\u001b[39m\n",
      "\u001b[1;31mTypeError\u001b[0m: 'str' object does not support item assignment"
     ]
    }
   ],
   "source": [
    "string1=\"python\"\n",
    "#i want change 'p'==========\"P\"\n",
    "#o/p:\"Python\"\n",
    "string1[0]=\"p\""
   ]
  },
  {
   "cell_type": "code",
   "execution_count": 70,
   "id": "feab661d",
   "metadata": {},
   "outputs": [
    {
     "data": {
      "text/plain": [
       "[1000, 200, 300]"
      ]
     },
     "execution_count": 70,
     "metadata": {},
     "output_type": "execute_result"
    }
   ],
   "source": [
    "list1=[100,200,300] #100=====1000\n",
    "list1[0]=1000\n",
    "list1"
   ]
  },
  {
   "cell_type": "markdown",
   "id": "70d63014",
   "metadata": {},
   "source": [
    "$slice$"
   ]
  },
  {
   "cell_type": "code",
   "execution_count": 71,
   "id": "edab383b",
   "metadata": {},
   "outputs": [
    {
     "data": {
      "text/plain": [
       "'i how ar'"
      ]
     },
     "execution_count": 71,
     "metadata": {},
     "output_type": "execute_result"
    }
   ],
   "source": [
    "string1=\"hai how are you\"\n",
    "string1[2:10]"
   ]
  },
  {
   "cell_type": "code",
   "execution_count": 73,
   "id": "f1af9dd2",
   "metadata": {},
   "outputs": [
    {
     "data": {
      "text/plain": [
       "'ioa'"
      ]
     },
     "execution_count": 73,
     "metadata": {},
     "output_type": "execute_result"
    }
   ],
   "source": [
    "string1[2:10:3]"
   ]
  },
  {
   "cell_type": "code",
   "execution_count": 78,
   "id": "407943bb",
   "metadata": {},
   "outputs": [
    {
     "data": {
      "text/plain": [
       "'hai how are you'"
      ]
     },
     "execution_count": 78,
     "metadata": {},
     "output_type": "execute_result"
    }
   ],
   "source": [
    "string1[:] #full string will print"
   ]
  },
  {
   "cell_type": "code",
   "execution_count": 75,
   "id": "b8a4fa74",
   "metadata": {},
   "outputs": [
    {
     "data": {
      "text/plain": [
       "'hai how are you'"
      ]
     },
     "execution_count": 75,
     "metadata": {},
     "output_type": "execute_result"
    }
   ],
   "source": [
    "string1[::]  #full string will print"
   ]
  },
  {
   "cell_type": "code",
   "execution_count": 76,
   "id": "1f0d1654",
   "metadata": {},
   "outputs": [
    {
     "data": {
      "text/plain": [
       "''"
      ]
     },
     "execution_count": 76,
     "metadata": {},
     "output_type": "execute_result"
    }
   ],
   "source": [
    "string1[2:10:-3]"
   ]
  },
  {
   "cell_type": "code",
   "execution_count": 77,
   "id": "c6057d4c",
   "metadata": {},
   "outputs": [],
   "source": [
    "for i in range(2,10,-3):\n",
    "    print(i)"
   ]
  },
  {
   "cell_type": "code",
   "execution_count": null,
   "id": "4af79d5e",
   "metadata": {},
   "outputs": [],
   "source": [
    " -15 -14 -13  -12   -11 -10 -9   -8 -7  -6  -5  -4  -3  -2  -1\n",
    "   h   a  i          h    o   w      a   r   e       y  o   u\n",
    "  0    1   2   3     4    5    6   7  8  9   10  11  12  13 14"
   ]
  },
  {
   "cell_type": "code",
   "execution_count": 2,
   "id": "6b8b8fab",
   "metadata": {},
   "outputs": [
    {
     "data": {
      "text/plain": [
       "'o'"
      ]
     },
     "execution_count": 2,
     "metadata": {},
     "output_type": "execute_result"
    }
   ],
   "source": [
    "string1=\"hai how are you\"\n",
    "string1[-10]"
   ]
  },
  {
   "cell_type": "code",
   "execution_count": 3,
   "id": "f8c6b807",
   "metadata": {},
   "outputs": [
    {
     "data": {
      "text/plain": [
       "'o r o '"
      ]
     },
     "execution_count": 3,
     "metadata": {},
     "output_type": "execute_result"
    }
   ],
   "source": [
    "string1[2:14:2] #p\n",
    "string1[2:14:-2]#np  \n",
    "string1[2:-14:2]#np\n",
    "string1[2:-14:-2]#\n",
    "string1[-2:14:2]#p\n",
    "string1[-2:-14:2]#np\n",
    "string1[-2:-14:-2]#p"
   ]
  },
  {
   "cell_type": "code",
   "execution_count": 4,
   "id": "c46bc95c",
   "metadata": {},
   "outputs": [
    {
     "data": {
      "text/plain": [
       "'ihwaey'"
      ]
     },
     "execution_count": 4,
     "metadata": {},
     "output_type": "execute_result"
    }
   ],
   "source": [
    "string1[2:14:2] "
   ]
  },
  {
   "cell_type": "code",
   "execution_count": 82,
   "id": "032f973c",
   "metadata": {},
   "outputs": [
    {
     "data": {
      "text/plain": [
       "'i'"
      ]
     },
     "execution_count": 82,
     "metadata": {},
     "output_type": "execute_result"
    }
   ],
   "source": [
    "string1[2:-14:-2]\n",
    "#start=2\n",
    "#stop=-14+1=-13\n",
    "#2"
   ]
  },
  {
   "cell_type": "code",
   "execution_count": 83,
   "id": "0401da03",
   "metadata": {},
   "outputs": [
    {
     "data": {
      "text/plain": [
       "' '"
      ]
     },
     "execution_count": 83,
     "metadata": {},
     "output_type": "execute_result"
    }
   ],
   "source": [
    "string1[3:-14:-2]\n",
    "#start=2\n",
    "#stop=-14+1=-13\n",
    "#2"
   ]
  },
  {
   "cell_type": "code",
   "execution_count": null,
   "id": "ded0d6c4",
   "metadata": {},
   "outputs": [],
   "source": [
    "-reading methods\n",
    "-single/double/triple(doc string)\n",
    "-type/len/max/min\n",
    "-concatenation\n",
    "-subtraction/mul/div\n",
    "-in\n",
    "-index\n",
    "-mutable\n",
    "-slice"
   ]
  },
  {
   "cell_type": "markdown",
   "id": "2742914b",
   "metadata": {},
   "source": [
    "string methods"
   ]
  },
  {
   "cell_type": "code",
   "execution_count": null,
   "id": "7ea5e086",
   "metadata": {},
   "outputs": [],
   "source": [
    "import <package_name>\n",
    "dir(<package_name>)\n",
    "help(<package_name.<method_name>)\n"
   ]
  },
  {
   "cell_type": "code",
   "execution_count": 84,
   "id": "0ce9c814",
   "metadata": {},
   "outputs": [
    {
     "data": {
      "text/plain": [
       "['__add__',\n",
       " '__class__',\n",
       " '__contains__',\n",
       " '__delattr__',\n",
       " '__dir__',\n",
       " '__doc__',\n",
       " '__eq__',\n",
       " '__format__',\n",
       " '__ge__',\n",
       " '__getattribute__',\n",
       " '__getitem__',\n",
       " '__getnewargs__',\n",
       " '__getstate__',\n",
       " '__gt__',\n",
       " '__hash__',\n",
       " '__init__',\n",
       " '__init_subclass__',\n",
       " '__iter__',\n",
       " '__le__',\n",
       " '__len__',\n",
       " '__lt__',\n",
       " '__mod__',\n",
       " '__mul__',\n",
       " '__ne__',\n",
       " '__new__',\n",
       " '__reduce__',\n",
       " '__reduce_ex__',\n",
       " '__repr__',\n",
       " '__rmod__',\n",
       " '__rmul__',\n",
       " '__setattr__',\n",
       " '__sizeof__',\n",
       " '__str__',\n",
       " '__subclasshook__',\n",
       " 'capitalize',\n",
       " 'casefold',\n",
       " 'center',\n",
       " 'count',\n",
       " 'encode',\n",
       " 'endswith',\n",
       " 'expandtabs',\n",
       " 'find',\n",
       " 'format',\n",
       " 'format_map',\n",
       " 'index',\n",
       " 'isalnum',\n",
       " 'isalpha',\n",
       " 'isascii',\n",
       " 'isdecimal',\n",
       " 'isdigit',\n",
       " 'isidentifier',\n",
       " 'islower',\n",
       " 'isnumeric',\n",
       " 'isprintable',\n",
       " 'isspace',\n",
       " 'istitle',\n",
       " 'isupper',\n",
       " 'join',\n",
       " 'ljust',\n",
       " 'lower',\n",
       " 'lstrip',\n",
       " 'maketrans',\n",
       " 'partition',\n",
       " 'removeprefix',\n",
       " 'removesuffix',\n",
       " 'replace',\n",
       " 'rfind',\n",
       " 'rindex',\n",
       " 'rjust',\n",
       " 'rpartition',\n",
       " 'rsplit',\n",
       " 'rstrip',\n",
       " 'split',\n",
       " 'splitlines',\n",
       " 'startswith',\n",
       " 'strip',\n",
       " 'swapcase',\n",
       " 'title',\n",
       " 'translate',\n",
       " 'upper',\n",
       " 'zfill']"
      ]
     },
     "execution_count": 84,
     "metadata": {},
     "output_type": "execute_result"
    }
   ],
   "source": [
    "dir('')"
   ]
  },
  {
   "cell_type": "markdown",
   "id": "a4c2cb40",
   "metadata": {},
   "source": [
    "capitalized"
   ]
  },
  {
   "cell_type": "code",
   "execution_count": 85,
   "id": "21ae3dd1",
   "metadata": {},
   "outputs": [
    {
     "data": {
      "text/plain": [
       "'Welcome'"
      ]
     },
     "execution_count": 85,
     "metadata": {},
     "output_type": "execute_result"
    }
   ],
   "source": [
    "string1=\"welcome\"\n",
    "string1.capitalize()\n",
    "#only starting letter will be captale"
   ]
  },
  {
   "cell_type": "code",
   "execution_count": 86,
   "id": "c495d643",
   "metadata": {},
   "outputs": [
    {
     "data": {
      "text/plain": [
       "'WELCOME'"
      ]
     },
     "execution_count": 86,
     "metadata": {},
     "output_type": "execute_result"
    }
   ],
   "source": [
    "string1=\"welcome\"\n",
    "string1.upper()"
   ]
  },
  {
   "cell_type": "code",
   "execution_count": 87,
   "id": "21bcae78",
   "metadata": {},
   "outputs": [
    {
     "data": {
      "text/plain": [
       "'welcome'"
      ]
     },
     "execution_count": 87,
     "metadata": {},
     "output_type": "execute_result"
    }
   ],
   "source": [
    "string1.lower()"
   ]
  },
  {
   "cell_type": "code",
   "execution_count": 90,
   "id": "c5515549",
   "metadata": {},
   "outputs": [
    {
     "name": "stdout",
     "output_type": "stream",
     "text": [
      "Welcome\n",
      "WELCOME\n",
      "welcome\n"
     ]
    }
   ],
   "source": [
    "string1=\"weLCome\"\n",
    "print(string1.capitalize())\n",
    "print(string1.upper())\n",
    "print(string1.lower())"
   ]
  },
  {
   "cell_type": "code",
   "execution_count": 92,
   "id": "56f67d87",
   "metadata": {},
   "outputs": [
    {
     "data": {
      "text/plain": [
       "2"
      ]
     },
     "execution_count": 92,
     "metadata": {},
     "output_type": "execute_result"
    }
   ],
   "source": [
    "string1=\"hai how are you\"\n",
    "string1.count('a')"
   ]
  },
  {
   "cell_type": "code",
   "execution_count": 95,
   "id": "22a2c51c",
   "metadata": {},
   "outputs": [
    {
     "name": "stdout",
     "output_type": "stream",
     "text": [
      "2\n"
     ]
    }
   ],
   "source": [
    "count=0\n",
    "for i in string1:\n",
    "    \n",
    "    if i==\"a\":\n",
    "        count+=1\n",
    "print(count)"
   ]
  },
  {
   "cell_type": "code",
   "execution_count": 115,
   "id": "52550d69",
   "metadata": {},
   "outputs": [
    {
     "data": {
      "text/plain": [
       "'weLcome'"
      ]
     },
     "execution_count": 115,
     "metadata": {},
     "output_type": "execute_result"
    }
   ],
   "source": [
    "#string1=\"welcome\"\n",
    "#weLcome\n",
    "#index\n",
    "#slice\n",
    "#concatenation\n",
    "\n",
    "string1=\"welcome\"\n",
    "str1=(string1[:2])\n",
    "str2=(string1[3:])\n",
    "str1+\"L\"+str2\n",
    "        \n",
    " "
   ]
  },
  {
   "cell_type": "code",
   "execution_count": 116,
   "id": "d10ddf2c",
   "metadata": {},
   "outputs": [
    {
     "data": {
      "text/plain": [
       "'weLcome'"
      ]
     },
     "execution_count": 116,
     "metadata": {},
     "output_type": "execute_result"
    }
   ],
   "source": [
    "string1.replace(\"l\",\"L\")"
   ]
  },
  {
   "cell_type": "code",
   "execution_count": 120,
   "id": "cf70605c",
   "metadata": {},
   "outputs": [
    {
     "data": {
      "text/plain": [
       "'o'"
      ]
     },
     "execution_count": 120,
     "metadata": {},
     "output_type": "execute_result"
    }
   ],
   "source": [
    "string1[-2:14:2]#p\n"
   ]
  },
  {
   "cell_type": "code",
   "execution_count": null,
   "id": "9e5a83fd",
   "metadata": {},
   "outputs": [],
   "source": [
    " -15 -14 -13  -12   -11 -10 -9   -8 -7  -6  -5  -4  -3  -2  -1\n",
    "   h   a  i          h    o   w      a   r   e       y  o   u\n",
    "  0    1   2   3     4    5    6   7  8  9   10  11  12  13 14"
   ]
  },
  {
   "cell_type": "markdown",
   "id": "6bbcf7fd",
   "metadata": {},
   "source": [
    "14-11-2023"
   ]
  },
  {
   "cell_type": "markdown",
   "id": "19890bef",
   "metadata": {},
   "source": [
    "$casefold$"
   ]
  },
  {
   "cell_type": "code",
   "execution_count": 1,
   "id": "7f32ede6",
   "metadata": {},
   "outputs": [
    {
     "data": {
      "text/plain": [
       "'welcome'"
      ]
     },
     "execution_count": 1,
     "metadata": {},
     "output_type": "execute_result"
    }
   ],
   "source": [
    "string1=\"welcome\"\n",
    "string1.casefold()"
   ]
  },
  {
   "cell_type": "code",
   "execution_count": 2,
   "id": "ecc1fa2b",
   "metadata": {},
   "outputs": [
    {
     "data": {
      "text/plain": [
       "'welcome'"
      ]
     },
     "execution_count": 2,
     "metadata": {},
     "output_type": "execute_result"
    }
   ],
   "source": [
    "string2=\"welcome\"\n",
    "string2"
   ]
  },
  {
   "cell_type": "markdown",
   "id": "4a5c301b",
   "metadata": {},
   "source": [
    "lower case and casefold both are same"
   ]
  },
  {
   "cell_type": "code",
   "execution_count": null,
   "id": "05a49b73",
   "metadata": {},
   "outputs": [],
   "source": [
    "-capitalize -first letter as capital\n",
    "-upper     -all letters are in upper case\n",
    "-lower     -all letters are in lower case\n",
    "-casefold   -case less comparision(lower case)"
   ]
  },
  {
   "cell_type": "markdown",
   "id": "762b3541",
   "metadata": {},
   "source": [
    "$count$"
   ]
  },
  {
   "cell_type": "code",
   "execution_count": 3,
   "id": "843698de",
   "metadata": {},
   "outputs": [
    {
     "data": {
      "text/plain": [
       "2"
      ]
     },
     "execution_count": 3,
     "metadata": {},
     "output_type": "execute_result"
    }
   ],
   "source": [
    "string1=\"hai how are you\"#how many \"A\" are there\n",
    "string1.count(\"a\")"
   ]
  },
  {
   "cell_type": "code",
   "execution_count": 4,
   "id": "abdfd532",
   "metadata": {},
   "outputs": [
    {
     "data": {
      "text/plain": [
       "1"
      ]
     },
     "execution_count": 4,
     "metadata": {},
     "output_type": "execute_result"
    }
   ],
   "source": [
    "string1.count(\"hai\")"
   ]
  },
  {
   "cell_type": "code",
   "execution_count": 12,
   "id": "7aa15ea6",
   "metadata": {},
   "outputs": [
    {
     "name": "stdout",
     "output_type": "stream",
     "text": [
      "3\n",
      "2\n",
      "3\n",
      "0\n"
     ]
    }
   ],
   "source": [
    "string1=\"ola ola ola\"\n",
    "print(string1.count('ola'))   #3\n",
    "print(string1.count(' ola'))  #2\n",
    "print(string1.count('ol'))   #3\n",
    "print(string1.count('oa'))   #0"
   ]
  },
  {
   "cell_type": "code",
   "execution_count": 19,
   "id": "ee1f8fc1",
   "metadata": {},
   "outputs": [
    {
     "name": "stdout",
     "output_type": "stream",
     "text": [
      "2\n",
      "2\n",
      "0\n",
      "1\n"
     ]
    }
   ],
   "source": [
    "string1='ola ola ola'\n",
    "#ola   ola    ola\n",
    "#012 3 456 7  8910\n",
    "print(string1.count(\"a\",4))   #we are counting the number of \"a\" from index 4\n",
    "print(string1.count(\"a\",6))\n",
    "print(string1.count(\"a\",4,6))\n",
    "print(string1.count(\"a\",4,7))"
   ]
  },
  {
   "cell_type": "code",
   "execution_count": 20,
   "id": "58aae2d7",
   "metadata": {},
   "outputs": [
    {
     "name": "stdout",
     "output_type": "stream",
     "text": [
      "2\n"
     ]
    }
   ],
   "source": [
    "print(string1.count(\"A\".lower(),4))"
   ]
  },
  {
   "cell_type": "code",
   "execution_count": 22,
   "id": "4430e36f",
   "metadata": {},
   "outputs": [
    {
     "name": "stdout",
     "output_type": "stream",
     "text": [
      "3\n"
     ]
    }
   ],
   "source": [
    "string1=\"ola ola ola\"\n",
    "count=0\n",
    "for i in string1:\n",
    "    if i==\"a\":\n",
    "        count=count+1\n",
    "print(count)"
   ]
  },
  {
   "cell_type": "code",
   "execution_count": 30,
   "id": "1ef9b379",
   "metadata": {},
   "outputs": [
    {
     "name": "stdout",
     "output_type": "stream",
     "text": [
      "3\n"
     ]
    }
   ],
   "source": [
    "string1=\"ola ola ola\"\n",
    "count=0\n",
    "for i in range(len(string1)):\n",
    "    if string1[i:i+3]==\"ola\":\n",
    "        count=count+1 \n",
    "print(count)\n"
   ]
  },
  {
   "cell_type": "code",
   "execution_count": null,
   "id": "28b4e08e",
   "metadata": {},
   "outputs": [],
   "source": [
    "#i=0 string1[0:3]: 0 1 2:ola\n",
    "#i=1 string1[1:4]: 1 2 3:la\n",
    "#single letter in operator\n",
    "#multi letters slice operator"
   ]
  },
  {
   "cell_type": "code",
   "execution_count": 31,
   "id": "32ae4113",
   "metadata": {},
   "outputs": [
    {
     "data": {
      "text/plain": [
       "3"
      ]
     },
     "execution_count": 31,
     "metadata": {},
     "output_type": "execute_result"
    }
   ],
   "source": [
    "string1.count(\"a\")   #this a developer\n",
    "string1.count(\"ola\")   #as developer mode"
   ]
  },
  {
   "cell_type": "markdown",
   "id": "f43c40f1",
   "metadata": {},
   "source": [
    "$replace$"
   ]
  },
  {
   "cell_type": "code",
   "execution_count": 32,
   "id": "e296fc53",
   "metadata": {},
   "outputs": [
    {
     "data": {
      "text/plain": [
       "'weLcome'"
      ]
     },
     "execution_count": 32,
     "metadata": {},
     "output_type": "execute_result"
    }
   ],
   "source": [
    "string1=\"welcome\"\n",
    "#replace \"l\" with \"L\" \n",
    "string1.replace(\"l\",\"L\") "
   ]
  },
  {
   "cell_type": "code",
   "execution_count": 33,
   "id": "0be9cafd",
   "metadata": {},
   "outputs": [
    {
     "data": {
      "text/plain": [
       "'$esta$t'"
      ]
     },
     "execution_count": 33,
     "metadata": {},
     "output_type": "execute_result"
    }
   ],
   "source": [
    "string1=\"restart\"\n",
    "string1.replace(\"r\",\"$\")"
   ]
  },
  {
   "cell_type": "code",
   "execution_count": 34,
   "id": "a2fd1ba6",
   "metadata": {},
   "outputs": [
    {
     "data": {
      "text/plain": [
       "'$estart'"
      ]
     },
     "execution_count": 34,
     "metadata": {},
     "output_type": "execute_result"
    }
   ],
   "source": [
    "string1=\"restart\"\n",
    "string1.replace(\"r\",\"$\",1)\n",
    "#str.replace() will not take key word arguments ---count=1"
   ]
  },
  {
   "cell_type": "code",
   "execution_count": 35,
   "id": "f0f8ce27",
   "metadata": {},
   "outputs": [
    {
     "data": {
      "text/plain": [
       "'$esta$t  $$$'"
      ]
     },
     "execution_count": 35,
     "metadata": {},
     "output_type": "execute_result"
    }
   ],
   "source": [
    "string1=\"restart  rrr\"\n",
    "string1.replace(\"r\",\"$\",-1)\n",
    "#-1 means all the occuranceses"
   ]
  },
  {
   "cell_type": "code",
   "execution_count": 47,
   "id": "ad79d75a",
   "metadata": {},
   "outputs": [
    {
     "data": {
      "text/plain": [
       "'resta$t'"
      ]
     },
     "execution_count": 47,
     "metadata": {},
     "output_type": "execute_result"
    }
   ],
   "source": [
    "string1=\"restart\"\n",
    "s1=string1[0]\n",
    "s2=string1[1:].replace(\"r\",\"$\")\n",
    "s1+s2"
   ]
  },
  {
   "cell_type": "code",
   "execution_count": 48,
   "id": "a050c051",
   "metadata": {},
   "outputs": [
    {
     "data": {
      "text/plain": [
       "'resta$t'"
      ]
     },
     "execution_count": 48,
     "metadata": {},
     "output_type": "execute_result"
    }
   ],
   "source": [
    "string1[::-1].replace(\"r\",\"$\",1)[::-1]"
   ]
  },
  {
   "cell_type": "markdown",
   "id": "a92e2b01",
   "metadata": {},
   "source": [
    "$index$"
   ]
  },
  {
   "cell_type": "code",
   "execution_count": 53,
   "id": "3205022c",
   "metadata": {},
   "outputs": [
    {
     "data": {
      "text/plain": [
       "3"
      ]
     },
     "execution_count": 53,
     "metadata": {},
     "output_type": "execute_result"
    }
   ],
   "source": [
    "string1=\"welcome python\"\n",
    "string1.index(\"c\")"
   ]
  },
  {
   "cell_type": "code",
   "execution_count": 54,
   "id": "2326776e",
   "metadata": {},
   "outputs": [
    {
     "ename": "ValueError",
     "evalue": "substring not found",
     "output_type": "error",
     "traceback": [
      "\u001b[1;31m---------------------------------------------------------------------------\u001b[0m",
      "\u001b[1;31mValueError\u001b[0m                                Traceback (most recent call last)",
      "Cell \u001b[1;32mIn[54], line 2\u001b[0m\n\u001b[0;32m      1\u001b[0m string1\u001b[38;5;241m=\u001b[39m\u001b[38;5;124m\"\u001b[39m\u001b[38;5;124mwelcome python\u001b[39m\u001b[38;5;124m\"\u001b[39m\n\u001b[1;32m----> 2\u001b[0m string1\u001b[38;5;241m.\u001b[39mindex(\u001b[38;5;124m\"\u001b[39m\u001b[38;5;124mz\u001b[39m\u001b[38;5;124m\"\u001b[39m)\n",
      "\u001b[1;31mValueError\u001b[0m: substring not found"
     ]
    }
   ],
   "source": [
    "string1=\"welcome python\"\n",
    "string1.index(\"z\")"
   ]
  },
  {
   "cell_type": "code",
   "execution_count": 56,
   "id": "84bd28ef",
   "metadata": {},
   "outputs": [
    {
     "name": "stdout",
     "output_type": "stream",
     "text": [
      "3\n"
     ]
    },
    {
     "data": {
      "text/plain": [
       "3"
      ]
     },
     "execution_count": 56,
     "metadata": {},
     "output_type": "execute_result"
    }
   ],
   "source": [
    "string1=\"hai how are you and\"\n",
    "count=0\n",
    "for i in string1:\n",
    "    if i==\"a\":\n",
    "        count+=1\n",
    "print(count)\n",
    "string1.count(\"a\")"
   ]
  },
  {
   "cell_type": "code",
   "execution_count": 60,
   "id": "8e752a10",
   "metadata": {},
   "outputs": [
    {
     "name": "stdout",
     "output_type": "stream",
     "text": [
      "0\n",
      "1\n",
      "2\n",
      "3\n",
      "4\n",
      "5\n",
      "6\n",
      "7\n",
      "8\n",
      "9\n",
      "10\n",
      "11\n",
      "12\n",
      "13\n",
      "14\n",
      "15\n",
      "16\n",
      "17\n",
      "18\n"
     ]
    }
   ],
   "source": [
    "for i in range(len(string1)):\n",
    "    if string1[1]==\"a\":\n",
    "        print(i)"
   ]
  },
  {
   "cell_type": "code",
   "execution_count": 62,
   "id": "1eacb20b",
   "metadata": {},
   "outputs": [
    {
     "data": {
      "text/plain": [
       "1"
      ]
     },
     "execution_count": 62,
     "metadata": {},
     "output_type": "execute_result"
    }
   ],
   "source": [
    "string1.index(\"a\")#only first occurance"
   ]
  },
  {
   "cell_type": "code",
   "execution_count": 63,
   "id": "14af7362",
   "metadata": {},
   "outputs": [
    {
     "name": "stdout",
     "output_type": "stream",
     "text": [
      "1 5 9 13 17\n"
     ]
    }
   ],
   "source": [
    "string1=\"hai hai hai hai hai\"\n",
    "i1=string1.index(\"a\")\n",
    "i2=string1.index(\"a\",i1+1) #1+1=5\n",
    "i3=string1.index(\"a\",i2+1)  #5+1===9\n",
    "i4=string1.index(\"a\",i3+1)   #9+1===10\n",
    "i5=string1.index(\"a\",i4+1)\n",
    "print(i1,i2,i3,i4,i5)"
   ]
  },
  {
   "cell_type": "code",
   "execution_count": 64,
   "id": "5d848a69",
   "metadata": {},
   "outputs": [
    {
     "data": {
      "text/plain": [
       "5"
      ]
     },
     "execution_count": 64,
     "metadata": {},
     "output_type": "execute_result"
    }
   ],
   "source": [
    "string1.index(\"a\",string1.index(\"a\")+1)"
   ]
  },
  {
   "cell_type": "code",
   "execution_count": 74,
   "id": "7ad2292c",
   "metadata": {},
   "outputs": [
    {
     "ename": "ValueError",
     "evalue": "substring not found",
     "output_type": "error",
     "traceback": [
      "\u001b[1;31m---------------------------------------------------------------------------\u001b[0m",
      "\u001b[1;31mValueError\u001b[0m                                Traceback (most recent call last)",
      "Cell \u001b[1;32mIn[74], line 4\u001b[0m\n\u001b[0;32m      2\u001b[0m string1\u001b[38;5;241m.\u001b[39mindex(\u001b[38;5;124m\"\u001b[39m\u001b[38;5;124ml\u001b[39m\u001b[38;5;124m\"\u001b[39m)\n\u001b[0;32m      3\u001b[0m string1\u001b[38;5;241m.\u001b[39mindex(\u001b[38;5;124m\"\u001b[39m\u001b[38;5;124ml\u001b[39m\u001b[38;5;124m\"\u001b[39m,string1\u001b[38;5;241m.\u001b[39mindex(\u001b[38;5;124m\"\u001b[39m\u001b[38;5;124ml\u001b[39m\u001b[38;5;124m\"\u001b[39m)\u001b[38;5;241m+\u001b[39m\u001b[38;5;241m1\u001b[39m)\n\u001b[1;32m----> 4\u001b[0m string1\u001b[38;5;241m.\u001b[39mindex(\u001b[38;5;124m\"\u001b[39m\u001b[38;5;124ml\u001b[39m\u001b[38;5;124m\"\u001b[39m,string1\u001b[38;5;241m.\u001b[39mindex(\u001b[38;5;124m\"\u001b[39m\u001b[38;5;124ml\u001b[39m\u001b[38;5;124m\"\u001b[39m,string1\u001b[38;5;241m.\u001b[39mindex(\u001b[38;5;124m\"\u001b[39m\u001b[38;5;124ml\u001b[39m\u001b[38;5;124m\"\u001b[39m)\u001b[38;5;241m+\u001b[39m\u001b[38;5;241m1\u001b[39m)\u001b[38;5;241m+\u001b[39m\u001b[38;5;241m1\u001b[39m)\n",
      "\u001b[1;31mValueError\u001b[0m: substring not found"
     ]
    }
   ],
   "source": [
    "string1=\"welcome helo\"\n",
    "string1.index(\"l\")\n",
    "string1.index(\"l\",string1.index(\"l\")+1)\n",
    "string1.index(\"l\",string1.index(\"l\",string1.index(\"l\")+1)+1)"
   ]
  },
  {
   "cell_type": "markdown",
   "id": "d73fa576",
   "metadata": {},
   "source": [
    "$find$"
   ]
  },
  {
   "cell_type": "code",
   "execution_count": 79,
   "id": "46159f95",
   "metadata": {},
   "outputs": [
    {
     "data": {
      "text/plain": [
       "1"
      ]
     },
     "execution_count": 79,
     "metadata": {},
     "output_type": "execute_result"
    }
   ],
   "source": [
    "string1=\"hello\"\n",
    "string1.find(\"e\")"
   ]
  },
  {
   "cell_type": "code",
   "execution_count": 81,
   "id": "150844be",
   "metadata": {},
   "outputs": [
    {
     "ename": "ValueError",
     "evalue": "substring not found",
     "output_type": "error",
     "traceback": [
      "\u001b[1;31m---------------------------------------------------------------------------\u001b[0m",
      "\u001b[1;31mValueError\u001b[0m                                Traceback (most recent call last)",
      "Cell \u001b[1;32mIn[81], line 4\u001b[0m\n\u001b[0;32m      2\u001b[0m string1\u001b[38;5;241m.\u001b[39mfind(\u001b[38;5;124m\"\u001b[39m\u001b[38;5;124mz\u001b[39m\u001b[38;5;124m\"\u001b[39m)\n\u001b[0;32m      3\u001b[0m \u001b[38;5;66;03m#if substring not found it returns -1\u001b[39;00m\n\u001b[1;32m----> 4\u001b[0m string1\u001b[38;5;241m.\u001b[39mindex(\u001b[38;5;124m\"\u001b[39m\u001b[38;5;124mz\u001b[39m\u001b[38;5;124m\"\u001b[39m)\n",
      "\u001b[1;31mValueError\u001b[0m: substring not found"
     ]
    }
   ],
   "source": [
    "string1=\"hello\"\n",
    "string1.find(\"z\")\n",
    "#if substring not found it returns -1\n",
    "string1.index(\"z\")\n",
    "#valueerror:substring not found"
   ]
  },
  {
   "cell_type": "code",
   "execution_count": 82,
   "id": "5c3c46a1",
   "metadata": {
    "scrolled": true
   },
   "outputs": [
    {
     "data": {
      "text/plain": [
       "0"
      ]
     },
     "execution_count": 82,
     "metadata": {},
     "output_type": "execute_result"
    }
   ],
   "source": [
    "string1.count(\"z\")\n",
    "#zero"
   ]
  },
  {
   "cell_type": "code",
   "execution_count": null,
   "id": "5adab280",
   "metadata": {},
   "outputs": [],
   "source": [
    "-capitalize/upper/lower/casefold\n",
    "-index/find\n",
    "-count\n",
    "-replace"
   ]
  },
  {
   "cell_type": "code",
   "execution_count": 3,
   "id": "47103e26",
   "metadata": {},
   "outputs": [
    {
     "data": {
      "text/plain": [
       "2"
      ]
     },
     "execution_count": 3,
     "metadata": {},
     "output_type": "execute_result"
    }
   ],
   "source": [
    "str1=\"hai how are you , im good\"\n",
    "str1.index(\"i\")  #first occurance"
   ]
  },
  {
   "cell_type": "code",
   "execution_count": 4,
   "id": "ad939bb2",
   "metadata": {},
   "outputs": [
    {
     "data": {
      "text/plain": [
       "18"
      ]
     },
     "execution_count": 4,
     "metadata": {},
     "output_type": "execute_result"
    }
   ],
   "source": [
    "str1.index(\"i\",2+1)"
   ]
  },
  {
   "cell_type": "code",
   "execution_count": 5,
   "id": "59a5c9fa",
   "metadata": {},
   "outputs": [
    {
     "data": {
      "text/plain": [
       "18"
      ]
     },
     "execution_count": 5,
     "metadata": {},
     "output_type": "execute_result"
    }
   ],
   "source": [
    "str1.index(\"i\",str1.index(\"i\")+1)"
   ]
  },
  {
   "cell_type": "markdown",
   "id": "0c277edf",
   "metadata": {},
   "source": [
    "$strip$-$lstrip$-$rstrip$"
   ]
  },
  {
   "cell_type": "code",
   "execution_count": 6,
   "id": "3895d6c8",
   "metadata": {},
   "outputs": [
    {
     "name": "stdout",
     "output_type": "stream",
     "text": [
      "hello how are you\n",
      "hello how are you\n",
      " hello how are you\n"
     ]
    }
   ],
   "source": [
    "str1=\" hello how are you\"\n",
    "str2=\" hello how are you\"\n",
    "str3=\"hello how are you \"\n",
    "#i want to remove spaces\n",
    "#if u want to remove the spaces both sides use strip method\n",
    "#if u want to remove the sspace then use left strip:lstrip\n",
    "#to remove right space:rstrip\n",
    "print(str1.strip())\n",
    "print(str1.lstrip())\n",
    "print(str1.rstrip())"
   ]
  },
  {
   "cell_type": "code",
   "execution_count": 7,
   "id": "8000d603",
   "metadata": {},
   "outputs": [
    {
     "name": "stdout",
     "output_type": "stream",
     "text": [
      "hello how are you\n",
      "hello how are you\n",
      "hello how are you\n"
     ]
    }
   ],
   "source": [
    "print(str1.strip())\n",
    "print(str2.lstrip())\n",
    "print(str3.rstrip())"
   ]
  },
  {
   "cell_type": "code",
   "execution_count": 8,
   "id": "88c74e59",
   "metadata": {},
   "outputs": [
    {
     "name": "stdout",
     "output_type": "stream",
     "text": [
      " hello how are you\n"
     ]
    }
   ],
   "source": [
    "print(str1)"
   ]
  },
  {
   "cell_type": "code",
   "execution_count": 69,
   "id": "74f9d9a0",
   "metadata": {
    "scrolled": true
   },
   "outputs": [
    {
     "data": {
      "text/plain": [
       "0"
      ]
     },
     "execution_count": 69,
     "metadata": {},
     "output_type": "execute_result"
    }
   ],
   "source": [
    "#wap to extract\n",
    "str1=\"python.anaconda@nareshit.com\"\n",
    "# str2=\n",
    "#extract first name:python\n",
    "#extract second name:anaconda\n",
    "#extract third name:nareshit\n",
    "str1.index(\"p\")"
   ]
  },
  {
   "cell_type": "code",
   "execution_count": 73,
   "id": "2859983f",
   "metadata": {
    "scrolled": true
   },
   "outputs": [
    {
     "data": {
      "text/plain": [
       "'python'"
      ]
     },
     "execution_count": 73,
     "metadata": {},
     "output_type": "execute_result"
    }
   ],
   "source": [
    "str2=\n",
    "str1[:str1.index('.')]"
   ]
  },
  {
   "cell_type": "code",
   "execution_count": 74,
   "id": "8b024844",
   "metadata": {},
   "outputs": [
    {
     "data": {
      "text/plain": [
       "15"
      ]
     },
     "execution_count": 74,
     "metadata": {},
     "output_type": "execute_result"
    }
   ],
   "source": [
    "str1.index('@')"
   ]
  },
  {
   "cell_type": "code",
   "execution_count": 76,
   "id": "776a05a9",
   "metadata": {},
   "outputs": [
    {
     "data": {
      "text/plain": [
       "'anaconda'"
      ]
     },
     "execution_count": 76,
     "metadata": {},
     "output_type": "execute_result"
    }
   ],
   "source": [
    "#anaconda kavali \n",
    "str1[str1.index('.')+1:str1.index('@')]"
   ]
  },
  {
   "cell_type": "code",
   "execution_count": 80,
   "id": "71f304ef",
   "metadata": {},
   "outputs": [
    {
     "ename": "TypeError",
     "evalue": "can only concatenate str (not \"int\") to str",
     "output_type": "error",
     "traceback": [
      "\u001b[1;31m---------------------------------------------------------------------------\u001b[0m",
      "\u001b[1;31mTypeError\u001b[0m                                 Traceback (most recent call last)",
      "Cell \u001b[1;32mIn[80], line 2\u001b[0m\n\u001b[0;32m      1\u001b[0m \u001b[38;5;66;03m#nareshit kavai\u001b[39;00m\n\u001b[1;32m----> 2\u001b[0m str1\u001b[38;5;241m.\u001b[39mindex(\u001b[38;5;124m\"\u001b[39m\u001b[38;5;124m.\u001b[39m\u001b[38;5;124m\"\u001b[39m\u001b[38;5;241m+\u001b[39m\u001b[38;5;241m1\u001b[39m)\n",
      "\u001b[1;31mTypeError\u001b[0m: can only concatenate str (not \"int\") to str"
     ]
    }
   ],
   "source": [
    "#nareshit kavai\n",
    "str1.index(\".\"+1)"
   ]
  },
  {
   "cell_type": "code",
   "execution_count": 28,
   "id": "039befd7",
   "metadata": {},
   "outputs": [
    {
     "name": "stdout",
     "output_type": "stream",
     "text": [
      "6\n"
     ]
    }
   ],
   "source": [
    "print(str1.index(\".\"))"
   ]
  },
  {
   "cell_type": "code",
   "execution_count": 32,
   "id": "1b3ab6bd",
   "metadata": {},
   "outputs": [
    {
     "name": "stdout",
     "output_type": "stream",
     "text": [
      "24\n"
     ]
    }
   ],
   "source": [
    "print(str1.index(\".\",6+1))"
   ]
  },
  {
   "cell_type": "code",
   "execution_count": 39,
   "id": "428d22da",
   "metadata": {},
   "outputs": [
    {
     "ename": "ValueError",
     "evalue": "substring not found",
     "output_type": "error",
     "traceback": [
      "\u001b[1;31m---------------------------------------------------------------------------\u001b[0m",
      "\u001b[1;31mValueError\u001b[0m                                Traceback (most recent call last)",
      "Cell \u001b[1;32mIn[39], line 1\u001b[0m\n\u001b[1;32m----> 1\u001b[0m \u001b[38;5;28mprint\u001b[39m(str1\u001b[38;5;241m.\u001b[39mindex(\u001b[38;5;124m\"\u001b[39m\u001b[38;5;124mp\u001b[39m\u001b[38;5;124m\"\u001b[39m,\u001b[38;5;241m0\u001b[39m\u001b[38;5;241m+\u001b[39m\u001b[38;5;241m1\u001b[39m))\n",
      "\u001b[1;31mValueError\u001b[0m: substring not found"
     ]
    }
   ],
   "source": [
    "print(str1.index(\"p\",))"
   ]
  },
  {
   "cell_type": "code",
   "execution_count": 40,
   "id": "cb18e85f",
   "metadata": {},
   "outputs": [
    {
     "data": {
      "text/plain": [
       "'python'"
      ]
     },
     "execution_count": 40,
     "metadata": {},
     "output_type": "execute_result"
    }
   ],
   "source": [
    "str1.find(\".\")\n",
    "str1[:6]"
   ]
  },
  {
   "cell_type": "code",
   "execution_count": 41,
   "id": "27b7fa1e",
   "metadata": {},
   "outputs": [
    {
     "data": {
      "text/plain": [
       "'python.anaconda'"
      ]
     },
     "execution_count": 41,
     "metadata": {},
     "output_type": "execute_result"
    }
   ],
   "source": [
    "str1[:15]"
   ]
  },
  {
   "cell_type": "code",
   "execution_count": 42,
   "id": "796edb8d",
   "metadata": {},
   "outputs": [
    {
     "data": {
      "text/plain": [
       "'python.anaconda@nareshit'"
      ]
     },
     "execution_count": 42,
     "metadata": {},
     "output_type": "execute_result"
    }
   ],
   "source": [
    "str1[:24]"
   ]
  },
  {
   "cell_type": "code",
   "execution_count": 43,
   "id": "754a8d4f",
   "metadata": {},
   "outputs": [
    {
     "data": {
      "text/plain": [
       "'anaconda'"
      ]
     },
     "execution_count": 43,
     "metadata": {},
     "output_type": "execute_result"
    }
   ],
   "source": [
    "str1[0:str1.find(\".\")]\n",
    "str1[7:15]"
   ]
  },
  {
   "cell_type": "code",
   "execution_count": 65,
   "id": "5e0ae922",
   "metadata": {},
   "outputs": [],
   "source": [
    "str1='a.b@c.com'"
   ]
  },
  {
   "cell_type": "code",
   "execution_count": 66,
   "id": "bc8ae964",
   "metadata": {},
   "outputs": [
    {
     "data": {
      "text/plain": [
       "(1, 3, 5)"
      ]
     },
     "execution_count": 66,
     "metadata": {},
     "output_type": "execute_result"
    }
   ],
   "source": [
    "str1.index(\".\"),str1.index(\"@\"),str1.index(\".com\")"
   ]
  },
  {
   "cell_type": "code",
   "execution_count": 67,
   "id": "cded0423",
   "metadata": {},
   "outputs": [
    {
     "data": {
      "text/plain": [
       "'k'"
      ]
     },
     "execution_count": 67,
     "metadata": {},
     "output_type": "execute_result"
    }
   ],
   "source": [
    "str1='shravya.k@nareshit.com'\n",
    "str1[str1.index(\".\")+1:str1.index(\"@\")+1:str1.index(\".com\")]"
   ]
  },
  {
   "cell_type": "code",
   "execution_count": 60,
   "id": "8125af4f",
   "metadata": {},
   "outputs": [
    {
     "data": {
      "text/plain": [
       "'k@'"
      ]
     },
     "execution_count": 60,
     "metadata": {},
     "output_type": "execute_result"
    }
   ],
   "source": [
    "str1[str1.index(\".\")+1:str1.index(\"@\")+1]"
   ]
  },
  {
   "cell_type": "code",
   "execution_count": 44,
   "id": "6ad8abb3",
   "metadata": {},
   "outputs": [
    {
     "data": {
      "text/plain": [
       "'@nareshit'"
      ]
     },
     "execution_count": 44,
     "metadata": {},
     "output_type": "execute_result"
    }
   ],
   "source": [
    "str1[15:str1.find(\"@\")]\n",
    "str1[15:24]"
   ]
  },
  {
   "cell_type": "code",
   "execution_count": null,
   "id": "a2d2b6d5",
   "metadata": {},
   "outputs": [],
   "source": [
    "str2="
   ]
  },
  {
   "cell_type": "code",
   "execution_count": 84,
   "id": "cf1d4b96",
   "metadata": {},
   "outputs": [
    {
     "data": {
      "text/plain": [
       "1"
      ]
     },
     "execution_count": 84,
     "metadata": {},
     "output_type": "execute_result"
    }
   ],
   "source": [
    "str1=\"3.1489\"\n",
    "#3\n",
    "#1489\n",
    "str1.index(\".\")"
   ]
  },
  {
   "cell_type": "code",
   "execution_count": 86,
   "id": "be356a30",
   "metadata": {},
   "outputs": [
    {
     "data": {
      "text/plain": [
       "'3'"
      ]
     },
     "execution_count": 86,
     "metadata": {},
     "output_type": "execute_result"
    }
   ],
   "source": [
    "str1[:str1.index(\".\")]"
   ]
  },
  {
   "cell_type": "code",
   "execution_count": 90,
   "id": "dc8b6bdc",
   "metadata": {},
   "outputs": [
    {
     "data": {
      "text/plain": [
       "'1489'"
      ]
     },
     "execution_count": 90,
     "metadata": {},
     "output_type": "execute_result"
    }
   ],
   "source": [
    "str1[str1.index(\".\")+1:]"
   ]
  },
  {
   "cell_type": "markdown",
   "id": "0c0d2191",
   "metadata": {},
   "source": [
    "$startswith$-$endswith$"
   ]
  },
  {
   "cell_type": "code",
   "execution_count": 92,
   "id": "8f93658e",
   "metadata": {},
   "outputs": [
    {
     "data": {
      "text/plain": [
       "True"
      ]
     },
     "execution_count": 92,
     "metadata": {},
     "output_type": "execute_result"
    }
   ],
   "source": [
    "str1=\"hi how are you\"\n",
    "str1.startswith(\"hi\")"
   ]
  },
  {
   "cell_type": "code",
   "execution_count": 93,
   "id": "7e8f0a4f",
   "metadata": {},
   "outputs": [
    {
     "data": {
      "text/plain": [
       "True"
      ]
     },
     "execution_count": 93,
     "metadata": {},
     "output_type": "execute_result"
    }
   ],
   "source": [
    "str1.startswith(\"h\")"
   ]
  },
  {
   "cell_type": "code",
   "execution_count": 95,
   "id": "dbe6770b",
   "metadata": {},
   "outputs": [
    {
     "data": {
      "text/plain": [
       "True"
      ]
     },
     "execution_count": 95,
     "metadata": {},
     "output_type": "execute_result"
    }
   ],
   "source": [
    "str1.endswith(\"you\")"
   ]
  },
  {
   "cell_type": "code",
   "execution_count": 96,
   "id": "c2b8bca8",
   "metadata": {},
   "outputs": [
    {
     "data": {
      "text/plain": [
       "True"
      ]
     },
     "execution_count": 96,
     "metadata": {},
     "output_type": "execute_result"
    }
   ],
   "source": [
    "str1.startswith(str1)"
   ]
  },
  {
   "cell_type": "code",
   "execution_count": 97,
   "id": "0e502497",
   "metadata": {},
   "outputs": [
    {
     "data": {
      "text/plain": [
       "True"
      ]
     },
     "execution_count": 97,
     "metadata": {},
     "output_type": "execute_result"
    }
   ],
   "source": [
    "str1.endswith(str1)"
   ]
  },
  {
   "cell_type": "code",
   "execution_count": 98,
   "id": "bf07162c",
   "metadata": {},
   "outputs": [
    {
     "data": {
      "text/plain": [
       "['In',\n",
       " 'Out',\n",
       " '_',\n",
       " '_1',\n",
       " '_10',\n",
       " '_17',\n",
       " '_2',\n",
       " '_3',\n",
       " '_4',\n",
       " '_40',\n",
       " '_41',\n",
       " '_42',\n",
       " '_43',\n",
       " '_44',\n",
       " '_46',\n",
       " '_47',\n",
       " '_48',\n",
       " '_49',\n",
       " '_5',\n",
       " '_50',\n",
       " '_51',\n",
       " '_52',\n",
       " '_53',\n",
       " '_54',\n",
       " '_55',\n",
       " '_56',\n",
       " '_57',\n",
       " '_60',\n",
       " '_61',\n",
       " '_63',\n",
       " '_64',\n",
       " '_66',\n",
       " '_67',\n",
       " '_69',\n",
       " '_70',\n",
       " '_71',\n",
       " '_72',\n",
       " '_73',\n",
       " '_74',\n",
       " '_76',\n",
       " '_77',\n",
       " '_79',\n",
       " '_81',\n",
       " '_82',\n",
       " '_83',\n",
       " '_84',\n",
       " '_85',\n",
       " '_86',\n",
       " '_9',\n",
       " '_90',\n",
       " '_91',\n",
       " '_92',\n",
       " '_93',\n",
       " '_94',\n",
       " '_95',\n",
       " '_96',\n",
       " '_97',\n",
       " '__',\n",
       " '___',\n",
       " '__annotations__',\n",
       " '__builtin__',\n",
       " '__builtins__',\n",
       " '__doc__',\n",
       " '__loader__',\n",
       " '__name__',\n",
       " '__package__',\n",
       " '__spec__',\n",
       " '_dh',\n",
       " '_i',\n",
       " '_i1',\n",
       " '_i10',\n",
       " '_i11',\n",
       " '_i12',\n",
       " '_i13',\n",
       " '_i14',\n",
       " '_i15',\n",
       " '_i16',\n",
       " '_i17',\n",
       " '_i18',\n",
       " '_i19',\n",
       " '_i2',\n",
       " '_i20',\n",
       " '_i21',\n",
       " '_i22',\n",
       " '_i23',\n",
       " '_i24',\n",
       " '_i25',\n",
       " '_i26',\n",
       " '_i27',\n",
       " '_i28',\n",
       " '_i29',\n",
       " '_i3',\n",
       " '_i30',\n",
       " '_i31',\n",
       " '_i32',\n",
       " '_i33',\n",
       " '_i34',\n",
       " '_i35',\n",
       " '_i36',\n",
       " '_i37',\n",
       " '_i38',\n",
       " '_i39',\n",
       " '_i4',\n",
       " '_i40',\n",
       " '_i41',\n",
       " '_i42',\n",
       " '_i43',\n",
       " '_i44',\n",
       " '_i45',\n",
       " '_i46',\n",
       " '_i47',\n",
       " '_i48',\n",
       " '_i49',\n",
       " '_i5',\n",
       " '_i50',\n",
       " '_i51',\n",
       " '_i52',\n",
       " '_i53',\n",
       " '_i54',\n",
       " '_i55',\n",
       " '_i56',\n",
       " '_i57',\n",
       " '_i58',\n",
       " '_i59',\n",
       " '_i6',\n",
       " '_i60',\n",
       " '_i61',\n",
       " '_i62',\n",
       " '_i63',\n",
       " '_i64',\n",
       " '_i65',\n",
       " '_i66',\n",
       " '_i67',\n",
       " '_i68',\n",
       " '_i69',\n",
       " '_i7',\n",
       " '_i70',\n",
       " '_i71',\n",
       " '_i72',\n",
       " '_i73',\n",
       " '_i74',\n",
       " '_i75',\n",
       " '_i76',\n",
       " '_i77',\n",
       " '_i78',\n",
       " '_i79',\n",
       " '_i8',\n",
       " '_i80',\n",
       " '_i81',\n",
       " '_i82',\n",
       " '_i83',\n",
       " '_i84',\n",
       " '_i85',\n",
       " '_i86',\n",
       " '_i87',\n",
       " '_i88',\n",
       " '_i89',\n",
       " '_i9',\n",
       " '_i90',\n",
       " '_i91',\n",
       " '_i92',\n",
       " '_i93',\n",
       " '_i94',\n",
       " '_i95',\n",
       " '_i96',\n",
       " '_i97',\n",
       " '_i98',\n",
       " '_ih',\n",
       " '_ii',\n",
       " '_iii',\n",
       " '_oh',\n",
       " 'exit',\n",
       " 'get_ipython',\n",
       " 'open',\n",
       " 'quit',\n",
       " 'str1',\n",
       " 'str2',\n",
       " 'str3']"
      ]
     },
     "execution_count": 98,
     "metadata": {},
     "output_type": "execute_result"
    }
   ],
   "source": [
    "dir()"
   ]
  },
  {
   "cell_type": "code",
   "execution_count": 110,
   "id": "767e4e17",
   "metadata": {},
   "outputs": [
    {
     "data": {
      "text/plain": [
       "False"
      ]
     },
     "execution_count": 110,
     "metadata": {},
     "output_type": "execute_result"
    }
   ],
   "source": [
    "str1=\"abc\"\n",
    "str1.isnumeric()"
   ]
  },
  {
   "cell_type": "code",
   "execution_count": 103,
   "id": "c9ce38c9",
   "metadata": {},
   "outputs": [
    {
     "data": {
      "text/plain": [
       "True"
      ]
     },
     "execution_count": 103,
     "metadata": {},
     "output_type": "execute_result"
    }
   ],
   "source": [
    "str1.isalpha()"
   ]
  },
  {
   "cell_type": "code",
   "execution_count": 107,
   "id": "81355f1b",
   "metadata": {},
   "outputs": [
    {
     "data": {
      "text/plain": [
       "True"
      ]
     },
     "execution_count": 107,
     "metadata": {},
     "output_type": "execute_result"
    }
   ],
   "source": [
    "str1.isalnum()"
   ]
  },
  {
   "cell_type": "code",
   "execution_count": 111,
   "id": "2ba59c14",
   "metadata": {},
   "outputs": [
    {
     "data": {
      "text/plain": [
       "False"
      ]
     },
     "execution_count": 111,
     "metadata": {},
     "output_type": "execute_result"
    }
   ],
   "source": [
    "str1=\"abc\"\n",
    "str1.isupper()"
   ]
  },
  {
   "cell_type": "code",
   "execution_count": 112,
   "id": "cbb99eb7",
   "metadata": {},
   "outputs": [
    {
     "data": {
      "text/plain": [
       "True"
      ]
     },
     "execution_count": 112,
     "metadata": {},
     "output_type": "execute_result"
    }
   ],
   "source": [
    "str1=\"abc\"\n",
    "str1.islower()"
   ]
  },
  {
   "cell_type": "code",
   "execution_count": 113,
   "id": "029c1352",
   "metadata": {},
   "outputs": [
    {
     "data": {
      "text/plain": [
       "True"
      ]
     },
     "execution_count": 113,
     "metadata": {},
     "output_type": "execute_result"
    }
   ],
   "source": [
    "str2=\"abc123\"\n",
    "str2.isalnum()"
   ]
  },
  {
   "cell_type": "code",
   "execution_count": 114,
   "id": "6407e0f5",
   "metadata": {},
   "outputs": [
    {
     "data": {
      "text/plain": [
       "False"
      ]
     },
     "execution_count": 114,
     "metadata": {},
     "output_type": "execute_result"
    }
   ],
   "source": [
    "str2.isnumeric()"
   ]
  },
  {
   "cell_type": "code",
   "execution_count": 115,
   "id": "3c57cacd",
   "metadata": {},
   "outputs": [
    {
     "data": {
      "text/plain": [
       "False"
      ]
     },
     "execution_count": 115,
     "metadata": {},
     "output_type": "execute_result"
    }
   ],
   "source": [
    "str2.isupper()"
   ]
  },
  {
   "cell_type": "code",
   "execution_count": 116,
   "id": "a21a8b2f",
   "metadata": {},
   "outputs": [
    {
     "data": {
      "text/plain": [
       "True"
      ]
     },
     "execution_count": 116,
     "metadata": {},
     "output_type": "execute_result"
    }
   ],
   "source": [
    "str2.islower()"
   ]
  },
  {
   "cell_type": "code",
   "execution_count": 117,
   "id": "c58fb699",
   "metadata": {},
   "outputs": [
    {
     "data": {
      "text/plain": [
       "True"
      ]
     },
     "execution_count": 117,
     "metadata": {},
     "output_type": "execute_result"
    }
   ],
   "source": [
    "str3=\"123abc\"\n",
    "str3.isalnum()"
   ]
  },
  {
   "cell_type": "code",
   "execution_count": 118,
   "id": "fdae6823",
   "metadata": {},
   "outputs": [
    {
     "data": {
      "text/plain": [
       "False"
      ]
     },
     "execution_count": 118,
     "metadata": {},
     "output_type": "execute_result"
    }
   ],
   "source": [
    "str3.isnumeric()"
   ]
  },
  {
   "cell_type": "code",
   "execution_count": 119,
   "id": "0ad03103",
   "metadata": {},
   "outputs": [
    {
     "data": {
      "text/plain": [
       "False"
      ]
     },
     "execution_count": 119,
     "metadata": {},
     "output_type": "execute_result"
    }
   ],
   "source": [
    "str3.isupper()"
   ]
  },
  {
   "cell_type": "code",
   "execution_count": 121,
   "id": "5b28a7cf",
   "metadata": {},
   "outputs": [
    {
     "data": {
      "text/plain": [
       "True"
      ]
     },
     "execution_count": 121,
     "metadata": {},
     "output_type": "execute_result"
    }
   ],
   "source": [
    "str3.islower()"
   ]
  },
  {
   "cell_type": "code",
   "execution_count": 122,
   "id": "6a499918",
   "metadata": {},
   "outputs": [],
   "source": [
    "str4=\"ABC\""
   ]
  },
  {
   "cell_type": "code",
   "execution_count": 123,
   "id": "75b6ad02",
   "metadata": {},
   "outputs": [
    {
     "data": {
      "text/plain": [
       "True"
      ]
     },
     "execution_count": 123,
     "metadata": {},
     "output_type": "execute_result"
    }
   ],
   "source": [
    "str4.isalnum()"
   ]
  },
  {
   "cell_type": "code",
   "execution_count": 124,
   "id": "12dc8e45",
   "metadata": {},
   "outputs": [
    {
     "data": {
      "text/plain": [
       "False"
      ]
     },
     "execution_count": 124,
     "metadata": {},
     "output_type": "execute_result"
    }
   ],
   "source": [
    "str4.isnumeric()"
   ]
  },
  {
   "cell_type": "code",
   "execution_count": 125,
   "id": "b5f1ab5c",
   "metadata": {},
   "outputs": [
    {
     "data": {
      "text/plain": [
       "True"
      ]
     },
     "execution_count": 125,
     "metadata": {},
     "output_type": "execute_result"
    }
   ],
   "source": [
    "str4.isupper()"
   ]
  },
  {
   "cell_type": "code",
   "execution_count": 126,
   "id": "a87e821a",
   "metadata": {},
   "outputs": [
    {
     "data": {
      "text/plain": [
       "False"
      ]
     },
     "execution_count": 126,
     "metadata": {},
     "output_type": "execute_result"
    }
   ],
   "source": [
    "str4.islower()"
   ]
  },
  {
   "cell_type": "markdown",
   "id": "c4911069",
   "metadata": {},
   "source": [
    "$split$"
   ]
  },
  {
   "cell_type": "code",
   "execution_count": 127,
   "id": "d80ee887",
   "metadata": {},
   "outputs": [
    {
     "data": {
      "text/plain": [
       "['hai', 'how', 'are', 'you']"
      ]
     },
     "execution_count": 127,
     "metadata": {},
     "output_type": "execute_result"
    }
   ],
   "source": [
    "str1=\"hai how are you\"\n",
    "str1.split()#if i not provide anything inside brackets:space\n",
    "#output is in lisr format\n"
   ]
  },
  {
   "cell_type": "code",
   "execution_count": 128,
   "id": "8623ad05",
   "metadata": {},
   "outputs": [
    {
     "data": {
      "text/plain": [
       "['hai how', 'are you']"
      ]
     },
     "execution_count": 128,
     "metadata": {},
     "output_type": "execute_result"
    }
   ],
   "source": [
    "str1=\"hai how,are you\"\n",
    "str1.split(\",\")"
   ]
  },
  {
   "cell_type": "code",
   "execution_count": 129,
   "id": "9f947f90",
   "metadata": {},
   "outputs": [
    {
     "data": {
      "text/plain": [
       "['h', 'i how,', 're you']"
      ]
     },
     "execution_count": 129,
     "metadata": {},
     "output_type": "execute_result"
    }
   ],
   "source": [
    "str1=\"hai how,are you\"\n",
    "str1.split(\"a\")"
   ]
  },
  {
   "cell_type": "code",
   "execution_count": 132,
   "id": "b314cbeb",
   "metadata": {},
   "outputs": [
    {
     "data": {
      "text/plain": [
       "['hai', 'how,are', 'you']"
      ]
     },
     "execution_count": 132,
     "metadata": {},
     "output_type": "execute_result"
    }
   ],
   "source": [
    "str1=\"hai how,are you\"\n",
    "str1.split()"
   ]
  },
  {
   "cell_type": "markdown",
   "id": "594372de",
   "metadata": {},
   "source": [
    "-capitalize/upper/lower/casefold\n",
    "-index/find\n",
    "-count\n",
    "-replace\n",
    "-lstrip/rstrip\n",
    "-startswith/endswith\n",
    "-isalpha/isnum/isupper/islower\n",
    "-split"
   ]
  },
  {
   "cell_type": "code",
   "execution_count": null,
   "id": "fe4be438",
   "metadata": {},
   "outputs": [],
   "source": [
    "#wap to identify the longest word and shortest word in a given sentence\n",
    "#wap to identify the most repeated word in a given sentence\n",
    "#wap out of 3 strings\"hyd\",\"blr\",\"mumbai\"which is greater and which lower"
   ]
  },
  {
   "cell_type": "markdown",
   "id": "e9bea72c",
   "metadata": {},
   "source": [
    " how to read the strings\n",
    "-single/double/triple quotes\n",
    "-docstring\n",
    "-type\n",
    "-max\n",
    "-min\n",
    "-len\n",
    "-addition of two strings:concatenation\n",
    "-sub\n",
    "-mul-div\n",
    "-in operator\n",
    "-how to iterate through for loop\n",
    "-index\n",
    "-mutable condition\n",
    "-slice\n",
    "-string menthod:\n",
    "    -capitalize/upper/lower/casefold\n",
    "    -index/find\n",
    "    -count\n",
    "    -replace\n",
    "    -lstrip/rstrip\n",
    "    -startswith/endswith\n",
    "    -isalpha/isnum/isupper/islower\n",
    "    -split"
   ]
  },
  {
   "cell_type": "code",
   "execution_count": 1,
   "id": "f952f970",
   "metadata": {},
   "outputs": [
    {
     "data": {
      "text/plain": [
       "['__add__',\n",
       " '__class__',\n",
       " '__class_getitem__',\n",
       " '__contains__',\n",
       " '__delattr__',\n",
       " '__dir__',\n",
       " '__doc__',\n",
       " '__eq__',\n",
       " '__format__',\n",
       " '__ge__',\n",
       " '__getattribute__',\n",
       " '__getitem__',\n",
       " '__getnewargs__',\n",
       " '__getstate__',\n",
       " '__gt__',\n",
       " '__hash__',\n",
       " '__init__',\n",
       " '__init_subclass__',\n",
       " '__iter__',\n",
       " '__le__',\n",
       " '__len__',\n",
       " '__lt__',\n",
       " '__mul__',\n",
       " '__ne__',\n",
       " '__new__',\n",
       " '__reduce__',\n",
       " '__reduce_ex__',\n",
       " '__repr__',\n",
       " '__rmul__',\n",
       " '__setattr__',\n",
       " '__sizeof__',\n",
       " '__str__',\n",
       " '__subclasshook__',\n",
       " 'count',\n",
       " 'index']"
      ]
     },
     "execution_count": 1,
     "metadata": {},
     "output_type": "execute_result"
    }
   ],
   "source": [
    "dir(())"
   ]
  },
  {
   "cell_type": "code",
   "execution_count": null,
   "id": "32b63b83",
   "metadata": {},
   "outputs": [],
   "source": []
  }
 ],
 "metadata": {
  "kernelspec": {
   "display_name": "Python 3 (ipykernel)",
   "language": "python",
   "name": "python3"
  },
  "language_info": {
   "codemirror_mode": {
    "name": "ipython",
    "version": 3
   },
   "file_extension": ".py",
   "mimetype": "text/x-python",
   "name": "python",
   "nbconvert_exporter": "python",
   "pygments_lexer": "ipython3",
   "version": "3.11.5"
  }
 },
 "nbformat": 4,
 "nbformat_minor": 5
}
