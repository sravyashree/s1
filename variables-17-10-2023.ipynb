{
 "cells": [
  {
   "cell_type": "markdown",
   "id": "4db4c388",
   "metadata": {},
   "source": [
    "$variables$"
   ]
  },
  {
   "cell_type": "markdown",
   "id": "4bf231bf",
   "metadata": {},
   "source": [
    "--something will vary is called variable\n",
    "--constant will be same"
   ]
  },
  {
   "cell_type": "code",
   "execution_count": 1,
   "id": "8b394909",
   "metadata": {},
   "outputs": [
    {
     "data": {
      "text/plain": [
       "100"
      ]
     },
     "execution_count": 1,
     "metadata": {},
     "output_type": "execute_result"
    }
   ],
   "source": [
    "#rules\n",
    "number=100\n",
    "number"
   ]
  },
  {
   "cell_type": "code",
   "execution_count": 2,
   "id": "b5d7fadd",
   "metadata": {},
   "outputs": [
    {
     "data": {
      "text/plain": [
       "100"
      ]
     },
     "execution_count": 2,
     "metadata": {},
     "output_type": "execute_result"
    }
   ],
   "source": [
    "NUMBER=100\n",
    "NUMBER"
   ]
  },
  {
   "cell_type": "code",
   "execution_count": 3,
   "id": "b8ca5754",
   "metadata": {},
   "outputs": [
    {
     "data": {
      "text/plain": [
       "100"
      ]
     },
     "execution_count": 3,
     "metadata": {},
     "output_type": "execute_result"
    }
   ],
   "source": [
    "NUMber=100\n",
    "NUMber"
   ]
  },
  {
   "cell_type": "code",
   "execution_count": 4,
   "id": "16ce3a8f",
   "metadata": {},
   "outputs": [
    {
     "data": {
      "text/plain": [
       "100"
      ]
     },
     "execution_count": 4,
     "metadata": {},
     "output_type": "execute_result"
    }
   ],
   "source": [
    "number123=100\n",
    "number123"
   ]
  },
  {
   "cell_type": "code",
   "execution_count": 5,
   "id": "f02955b4",
   "metadata": {},
   "outputs": [
    {
     "ename": "SyntaxError",
     "evalue": "invalid decimal literal (2317837094.py, line 1)",
     "output_type": "error",
     "traceback": [
      "\u001b[1;36m  Cell \u001b[1;32mIn[5], line 1\u001b[1;36m\u001b[0m\n\u001b[1;33m    123number=100\u001b[0m\n\u001b[1;37m      ^\u001b[0m\n\u001b[1;31mSyntaxError\u001b[0m\u001b[1;31m:\u001b[0m invalid decimal literal\n"
     ]
    }
   ],
   "source": [
    "123number=100\n",
    "123number        ###perfix will not work"
   ]
  },
  {
   "cell_type": "code",
   "execution_count": 6,
   "id": "e2cc8370",
   "metadata": {},
   "outputs": [
    {
     "ename": "SyntaxError",
     "evalue": "invalid syntax (1918799515.py, line 2)",
     "output_type": "error",
     "traceback": [
      "\u001b[1;36m  Cell \u001b[1;32mIn[6], line 2\u001b[1;36m\u001b[0m\n\u001b[1;33m    number%\u001b[0m\n\u001b[1;37m           ^\u001b[0m\n\u001b[1;31mSyntaxError\u001b[0m\u001b[1;31m:\u001b[0m invalid syntax\n"
     ]
    }
   ],
   "source": [
    "number%=100\n",
    "number%        ###special characters will not work"
   ]
  },
  {
   "cell_type": "code",
   "execution_count": 7,
   "id": "46b8946d",
   "metadata": {},
   "outputs": [
    {
     "data": {
      "text/plain": [
       "100"
      ]
     },
     "execution_count": 7,
     "metadata": {},
     "output_type": "execute_result"
    }
   ],
   "source": [
    "_number=100\n",
    "_number      "
   ]
  },
  {
   "cell_type": "code",
   "execution_count": 8,
   "id": "253135c8",
   "metadata": {},
   "outputs": [
    {
     "data": {
      "text/plain": [
       "100"
      ]
     },
     "execution_count": 8,
     "metadata": {},
     "output_type": "execute_result"
    }
   ],
   "source": [
    "number =100\n",
    "number"
   ]
  },
  {
   "cell_type": "code",
   "execution_count": 10,
   "id": "d77c2405",
   "metadata": {},
   "outputs": [
    {
     "ename": "SyntaxError",
     "evalue": "invalid syntax (3486595279.py, line 1)",
     "output_type": "error",
     "traceback": [
      "\u001b[1;36m  Cell \u001b[1;32mIn[10], line 1\u001b[1;36m\u001b[0m\n\u001b[1;33m    number one=200\u001b[0m\n\u001b[1;37m           ^\u001b[0m\n\u001b[1;31mSyntaxError\u001b[0m\u001b[1;31m:\u001b[0m invalid syntax\n"
     ]
    }
   ],
   "source": [
    "number one=200\n",
    "number one        ###space between number and one will not work "
   ]
  },
  {
   "cell_type": "code",
   "execution_count": 11,
   "id": "ce57e5a4",
   "metadata": {},
   "outputs": [
    {
     "ename": "SyntaxError",
     "evalue": "invalid syntax (3642134726.py, line 2)",
     "output_type": "error",
     "traceback": [
      "\u001b[1;36m  Cell \u001b[1;32mIn[11], line 2\u001b[1;36m\u001b[0m\n\u001b[1;33m    if=100\u001b[0m\n\u001b[1;37m      ^\u001b[0m\n\u001b[1;31mSyntaxError\u001b[0m\u001b[1;31m:\u001b[0m invalid syntax\n"
     ]
    }
   ],
   "source": [
    "##keyword\n",
    "if=100\n",
    "if        ###keyword will not work"
   ]
  },
  {
   "cell_type": "code",
   "execution_count": 12,
   "id": "02f8a718",
   "metadata": {},
   "outputs": [
    {
     "data": {
      "text/plain": [
       "100"
      ]
     },
     "execution_count": 12,
     "metadata": {},
     "output_type": "execute_result"
    }
   ],
   "source": [
    "###sum\n",
    "sum=100\n",
    "sum        ###sum is a math operation will work"
   ]
  },
  {
   "cell_type": "code",
   "execution_count": 13,
   "id": "042bbfc2",
   "metadata": {},
   "outputs": [
    {
     "data": {
      "text/plain": [
       "100"
      ]
     },
     "execution_count": 13,
     "metadata": {},
     "output_type": "execute_result"
    }
   ],
   "source": [
    "_=100\n",
    "_"
   ]
  },
  {
   "cell_type": "code",
   "execution_count": null,
   "id": "0c2b9c8f",
   "metadata": {},
   "outputs": [],
   "source": [
    "key points for variables\n",
    "1)upper case and lower case will work \n",
    "2)combition of upper and lower case will work\n",
    "3)number perfix will not work\n",
    "4)space b/w the variables will not wotrk\n",
    "5)special characters or symbols will not work\n",
    "6)only underscore will work\n",
    "7)keywords will be displayed in green color\n",
    "8)keywords will not work"
   ]
  },
  {
   "cell_type": "markdown",
   "id": "de016fd8",
   "metadata": {},
   "source": [
    "$keywords$"
   ]
  },
  {
   "cell_type": "code",
   "execution_count": null,
   "id": "0c9ab1c0",
   "metadata": {},
   "outputs": [],
   "source": [
    "keywords   names        examples\n",
    "\n",
    "int       integer       ex:100\n",
    "float     float         ex:10.5\n",
    "str       string        ex:\"name\"\n",
    "bool      boolean       ex:yes/no,true/false,\n",
    "                           1/0\n",
    "complex   complex     "
   ]
  },
  {
   "cell_type": "markdown",
   "id": "96121765",
   "metadata": {},
   "source": [
    "$use cases$"
   ]
  },
  {
   "cell_type": "code",
   "execution_count": null,
   "id": "a6dc9bd8",
   "metadata": {},
   "outputs": [],
   "source": [
    "e-commerce:\n",
    "    --price tracking\n",
    "    --recommendation\n",
    "    \n",
    "    \n",
    "medical:\n",
    "    --pattern recognition of desease\n",
    "    --efficacy of vaccination\n",
    "    --blood grp of availability\n",
    "    --chat boats\n",
    "    \n",
    "automobiles:\n",
    "    --self driving cars\n",
    "    --detection of parts\n",
    "    --user manual analysis\n",
    "    \n",
    "IT companies:\n",
    "    --revenue prediction\n",
    "    --churn prediction\n",
    "    --hr analysis\n",
    "    \n",
    "education:\n",
    "    --avg passing% of students for nxt year\n",
    "    --prediction of avg salaries\n",
    "    --enrollements\n",
    "    --automation in adminstration\n",
    "    --detect the faces and makes the attendance\n",
    "    \n",
    "agriculture:\n",
    "    --seeds sugestion\n",
    "    --drone tech\n",
    "    --seasonal crop analysis\n",
    "    --rain forecast\n",
    "    \n",
    "pharma:\n",
    "    --drug acurate prediction\n",
    "    --alternatedrug suggestion\n",
    "    --medical coding--automated\n",
    "    --side effects"
   ]
  },
  {
   "cell_type": "code",
   "execution_count": null,
   "id": "c6c89c11",
   "metadata": {},
   "outputs": [],
   "source": [
    "##EDA--exploratory data analysis\n",
    "    --numpy(numerical python)\n",
    "    --pandas(data base operation)\n",
    "    --matplotlib(plotting)\n",
    "    --seatorn(plotting)\n",
    "    --bokhe(plotting)\n",
    "\n",
    "##ML--mechine laerning\n",
    "    --sickit-learn (sk learn)(python)(ds)\n",
    "    --ml lib (ml library)\n",
    "    \n",
    "##DL--deep learning\n",
    "    --tensorflow (google)\n",
    "    --keras\n",
    "    --pytorch\n",
    "    --open cv\n",
    "    \n",
    "##NLP--natural language processing\n",
    "     --nltk(natural language tool kit)\n",
    "     --scipy\n",
    "        \n",
    "##BERT models\n",
    "     --transformers\n",
    "    \n",
    "##Azure ml packages\n",
    "##chat gpt packages\n",
    "##Open cv (computer vision)\n",
    "##FLASK\n",
    "##Streamlit\n",
    "##Random\n",
    "##Math\n",
    "##Time"
   ]
  }
 ],
 "metadata": {
  "kernelspec": {
   "display_name": "Python 3 (ipykernel)",
   "language": "python",
   "name": "python3"
  },
  "language_info": {
   "codemirror_mode": {
    "name": "ipython",
    "version": 3
   },
   "file_extension": ".py",
   "mimetype": "text/x-python",
   "name": "python",
   "nbconvert_exporter": "python",
   "pygments_lexer": "ipython3",
   "version": "3.11.5"
  }
 },
 "nbformat": 4,
 "nbformat_minor": 5
}
