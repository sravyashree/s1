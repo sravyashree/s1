{
 "cells": [
  {
   "cell_type": "markdown",
   "id": "94d665c8",
   "metadata": {},
   "source": [
    "#while loop\n"
   ]
  },
  {
   "cell_type": "code",
   "execution_count": null,
   "id": "0ab835b2",
   "metadata": {},
   "outputs": [],
   "source": [
    "#any loop we need three things\n",
    "-initilization\n",
    "-condition\n",
    "-increment/decrement"
   ]
  },
  {
   "cell_type": "code",
   "execution_count": null,
   "id": "dfd12206",
   "metadata": {},
   "outputs": [],
   "source": [
    "for i in range(1,10):\n",
    "in while loop we to provide all three things individually"
   ]
  },
  {
   "cell_type": "code",
   "execution_count": null,
   "id": "b6e7b8b6",
   "metadata": {},
   "outputs": [],
   "source": [
    "#wrapper\n",
    "i=0      #intial point\n",
    "while <condition>:\n",
    "    #st1\n",
    "    #st2\n",
    "    #st3\n",
    "    #st4\n",
    "    i=i+1 "
   ]
  },
  {
   "cell_type": "code",
   "execution_count": 1,
   "id": "59adc652",
   "metadata": {},
   "outputs": [
    {
     "name": "stdout",
     "output_type": "stream",
     "text": [
      "0 1 2 3 4 5 6 7 8 9 "
     ]
    }
   ],
   "source": [
    "#i want to print first 10 number 0 to 9\n",
    "for i in range(10):\n",
    "    print(i,end=\" \")"
   ]
  },
  {
   "cell_type": "code",
   "execution_count": null,
   "id": "5975c0d2",
   "metadata": {},
   "outputs": [],
   "source": [
    "---if u want to avoid infinite loop give a proper condition based on given question\n",
    "---even though the condition is valid,you can enter inside the loop\n",
    "---but you never come out of the loop"
   ]
  },
  {
   "cell_type": "code",
   "execution_count": 3,
   "id": "d79f722a",
   "metadata": {},
   "outputs": [
    {
     "name": "stdout",
     "output_type": "stream",
     "text": [
      "0 1 2 3 4 5 6 7 8 9 "
     ]
    }
   ],
   "source": [
    "#print first 10 numbers\n",
    "i=0\n",
    "while i<10: \n",
    "    print(i,end=\" \")\n",
    "    i=i+1"
   ]
  },
  {
   "cell_type": "code",
   "execution_count": 4,
   "id": "fa979f6d",
   "metadata": {},
   "outputs": [
    {
     "name": "stdout",
     "output_type": "stream",
     "text": [
      "10 11 12 13 14 15 16 17 18 19 20 "
     ]
    }
   ],
   "source": [
    "#print numbers >10 <20\n",
    "i=10\n",
    "while i<=20:\n",
    "    print(i,end=\" \")\n",
    "    i=i+1"
   ]
  },
  {
   "cell_type": "code",
   "execution_count": 11,
   "id": "9b8ced14",
   "metadata": {},
   "outputs": [
    {
     "name": "stdout",
     "output_type": "stream",
     "text": [
      "10 11 12 13 14 15 16 17 18 19 20 "
     ]
    }
   ],
   "source": [
    "i=10\n",
    "while i<21:\n",
    "    print(i,end=\" \")\n",
    "    i=i+1"
   ]
  },
  {
   "cell_type": "code",
   "execution_count": 14,
   "id": "16801875",
   "metadata": {},
   "outputs": [
    {
     "name": "stdout",
     "output_type": "stream",
     "text": [
      "-1 -2 -3 -4 -5 -6 -7 -8 -9 -10 "
     ]
    }
   ],
   "source": [
    "#>-1 <-10 \n",
    "i=-1\n",
    "while i>=-10:\n",
    "    print(i,end=\" \")\n",
    "    i=i-1"
   ]
  },
  {
   "cell_type": "code",
   "execution_count": 16,
   "id": "cca83565",
   "metadata": {},
   "outputs": [
    {
     "name": "stdout",
     "output_type": "stream",
     "text": [
      "-1 -2 -3 -4 -5 -6 -7 -8 -9 -10 "
     ]
    }
   ],
   "source": [
    "i=-1\n",
    "while True:\n",
    "    print(i,end=\" \")\n",
    "    i=i-1            #decrement:i=i-1\n",
    "    if i==-11:\n",
    "        \n",
    "        break"
   ]
  },
  {
   "cell_type": "code",
   "execution_count": null,
   "id": "e1735f30",
   "metadata": {},
   "outputs": [],
   "source": [
    "---by mistake you provided not a valid condition\n",
    "---then your loop is going infinite\n",
    "---then provide a if condition inside the loop\n",
    "---suppose you are not good at providiing conditions\n",
    "---then apply write True==   then provide the if condition\n",
    "---inside the loop"
   ]
  },
  {
   "cell_type": "code",
   "execution_count": 20,
   "id": "909d26cf",
   "metadata": {},
   "outputs": [
    {
     "name": "stdout",
     "output_type": "stream",
     "text": [
      "0 1 2 3 4 5 6 7 8 9 0 1 2 3 4 5 6 7 8 9 0 1 2 3 4 5 6 7 8 9 "
     ]
    }
   ],
   "source": [
    "#============infinite loop====\n",
    "i=0\n",
    "while i>=0:\n",
    "    print(i,end=\" \")\n",
    "    i=i+1\n",
    "    if i==10:\n",
    "        break\n",
    "#============= true==============\n",
    "i=0\n",
    "while True:\n",
    "    print(i,end=\" \")\n",
    "    i=i+1\n",
    "    if i==10:\n",
    "        break\n",
    "#==============i know the condition===========\n",
    "i=0\n",
    "while i<10:\n",
    "    print(i,end=\" \")\n",
    "    i=i+1\n",
    "    if i==10:\n",
    "        break"
   ]
  },
  {
   "cell_type": "code",
   "execution_count": 1,
   "id": "9572b56f",
   "metadata": {},
   "outputs": [
    {
     "name": "stdout",
     "output_type": "stream",
     "text": [
      "enter a number0\n",
      "0\n",
      "enter a number1\n",
      "1\n",
      "enter a number2\n",
      "4\n",
      "enter a number3\n",
      "9\n",
      "enter a number4\n",
      "16\n"
     ]
    }
   ],
   "source": [
    "#wap ask the user enter a number 5 times and print the square of the number\n",
    "for i in range(5):\n",
    "    num=eval(input(\"enter a number\"))\n",
    "    square=num*num\n",
    "    \n",
    "    print(square)"
   ]
  },
  {
   "cell_type": "code",
   "execution_count": 2,
   "id": "deac66e1",
   "metadata": {},
   "outputs": [
    {
     "name": "stdout",
     "output_type": "stream",
     "text": [
      "enter a number0\n",
      "0\n",
      "enter a number1\n",
      "1\n",
      "enter a number2\n",
      "4\n",
      "enter a number3\n",
      "9\n",
      "enter a number4\n",
      "16\n"
     ]
    }
   ],
   "source": [
    "i=0\n",
    "while True:\n",
    "    num=eval(input(\"enter a number\"))\n",
    "    square=num*num\n",
    "    print(square)\n",
    "    i=i+1\n",
    "    if i==5:\n",
    "         break"
   ]
  },
  {
   "cell_type": "code",
   "execution_count": 13,
   "id": "18718151",
   "metadata": {},
   "outputs": [
    {
     "name": "stdout",
     "output_type": "stream",
     "text": [
      "169\n",
      "289\n",
      "225\n",
      "121\n",
      "324\n"
     ]
    }
   ],
   "source": [
    "#wap take a random number between 10 to 20 ,five times you need to take\n",
    "#and print the square of the number\n",
    "import random\n",
    "for i in range(5):\n",
    "    num1=random.randint(10,20)\n",
    "    num11=num1*num1\n",
    "    print(num11)"
   ]
  },
  {
   "cell_type": "code",
   "execution_count": 2,
   "id": "500f942d",
   "metadata": {},
   "outputs": [
    {
     "name": "stdout",
     "output_type": "stream",
     "text": [
      "256\n",
      "256\n",
      "100\n",
      "196\n",
      "225\n"
     ]
    }
   ],
   "source": [
    "import random\n",
    "i=0\n",
    "while True:\n",
    "    num1=random.randint(10,20)\n",
    "    num11=num1*num1\n",
    "    print(num11)\n",
    "    i=i+1\n",
    "    if i==5:\n",
    "        \n",
    "        break\n",
    "    "
   ]
  },
  {
   "cell_type": "code",
   "execution_count": 4,
   "id": "09b22df9",
   "metadata": {},
   "outputs": [
    {
     "name": "stdout",
     "output_type": "stream",
     "text": [
      "10 it is even number\n",
      "11 it is odd number\n",
      "12 it is even number\n",
      "13 it is odd number\n",
      "14 it is even number\n",
      "15 it is odd number\n",
      "16 it is even number\n",
      "17 it is odd number\n",
      "18 it is even number\n",
      "19 it is odd number\n",
      "20 it is even number\n"
     ]
    }
   ],
   "source": [
    "#wap ask the user print a number is an even or odd numbers \n",
    "#consdier numbers from 10 to 20\n",
    "for i in range(10,21):\n",
    "    \n",
    "    if i%2==0:\n",
    "        print(\"{} it is even number\".format(i))\n",
    "    else:\n",
    "        print(\"{} it is odd number\".format(i))"
   ]
  },
  {
   "cell_type": "code",
   "execution_count": 5,
   "id": "3e8fee87",
   "metadata": {},
   "outputs": [
    {
     "name": "stdout",
     "output_type": "stream",
     "text": [
      "10 it is even number\n",
      "11 it is odd number\n",
      "12 it is even number\n",
      "13 it is odd number\n",
      "14 it is even number\n",
      "15 it is odd number\n",
      "16 it is even number\n",
      "17 it is odd number\n",
      "18 it is even number\n",
      "19 it is odd number\n",
      "20 it is even number\n"
     ]
    }
   ],
   "source": [
    "i=10\n",
    "while (i<21):\n",
    "    if i%2==0:\n",
    "        print(\"{} it is even number\".format(i))\n",
    "    else:\n",
    "        print(\"{} it is odd number\".format(i))\n",
    "    \n",
    "    i=i+1"
   ]
  },
  {
   "cell_type": "code",
   "execution_count": 7,
   "id": "e25a17bb",
   "metadata": {},
   "outputs": [
    {
     "name": "stdout",
     "output_type": "stream",
     "text": [
      "10 it is even number\n",
      "11 it is odd number\n",
      "12 it is even number\n",
      "13 it is odd number\n",
      "14 it is even number\n",
      "15 it is odd number\n",
      "16 it is even number\n",
      "17 it is odd number\n",
      "18 it is even number\n",
      "19 it is odd number\n",
      "20 it is even number\n"
     ]
    }
   ],
   "source": [
    "i=10 \n",
    "while True:\n",
    "    if i%2==0:\n",
    "        print(\"{} it is even number\".format(i))\n",
    "    else:\n",
    "        print(\"{} it is odd number\".format(i))\n",
    "    \n",
    "    i=i+1\n",
    "    if i==21:\n",
    "        break"
   ]
  },
  {
   "cell_type": "code",
   "execution_count": 6,
   "id": "bc322bb2",
   "metadata": {},
   "outputs": [
    {
     "name": "stdout",
     "output_type": "stream",
     "text": [
      "11 it is odd\n",
      "12 it is even number\n",
      "13 it is odd\n",
      "14 it is even number\n",
      "15 it is odd\n",
      "16 it is even number\n",
      "17 it is odd\n",
      "18 it is even number\n",
      "19 it is odd\n",
      "20 it is even number\n",
      "21 it is odd\n"
     ]
    }
   ],
   "source": [
    "i=10\n",
    "while (i<21):\n",
    "    i=i+1\n",
    "    if i%2==0:                   #another method but from 11to 21 numbers\n",
    "        print(\"{} it is even number\".format(i))\n",
    "    else:\n",
    "        print(\"{} it is odd\".format(i))"
   ]
  },
  {
   "cell_type": "code",
   "execution_count": 1,
   "id": "3b3203d2",
   "metadata": {},
   "outputs": [
    {
     "name": "stdout",
     "output_type": "stream",
     "text": [
      "55\n"
     ]
    }
   ],
   "source": [
    "#print sum of first 10 natural numbers \n",
    "#ans=55\n",
    "sum1=0\n",
    "for i in range(1,11):\n",
    "    sum1=sum1+i\n",
    "print(sum1)\n",
    "    "
   ]
  },
  {
   "cell_type": "code",
   "execution_count": 2,
   "id": "d8cf62d4",
   "metadata": {},
   "outputs": [
    {
     "name": "stdout",
     "output_type": "stream",
     "text": [
      "55\n"
     ]
    }
   ],
   "source": [
    "i=1\n",
    "sum2=0\n",
    "while (i<11):\n",
    "    sum2=sum2+i\n",
    "   \n",
    "    i=i+1\n",
    "print(sum2)"
   ]
  },
  {
   "cell_type": "code",
   "execution_count": 1,
   "id": "5cc771df",
   "metadata": {},
   "outputs": [
    {
     "name": "stdout",
     "output_type": "stream",
     "text": [
      "55\n"
     ]
    }
   ],
   "source": [
    "i=1\n",
    "sum3=0\n",
    "while True:\n",
    "    sum3=sum3+i\n",
    "    i=i+1\n",
    "    if i==11:\n",
    "        break\n",
    "print(sum3)"
   ]
  },
  {
   "cell_type": "code",
   "execution_count": 7,
   "id": "1f4d414e",
   "metadata": {},
   "outputs": [
    {
     "name": "stdout",
     "output_type": "stream",
     "text": [
      "432\n"
     ]
    }
   ],
   "source": [
    "#wap get 10 random numbers between 1 to 100\n",
    "#and sum those numbers\n",
    "import random\n",
    "summ=0\n",
    "for i in range(10):\n",
    "    num123=random.randint(1,100)\n",
    "    summ=summ+num123\n",
    "print(summ)"
   ]
  },
  {
   "cell_type": "code",
   "execution_count": 11,
   "id": "c191159c",
   "metadata": {},
   "outputs": [
    {
     "name": "stdout",
     "output_type": "stream",
     "text": [
      "395\n"
     ]
    }
   ],
   "source": [
    "import random\n",
    "i=1\n",
    "summ=0\n",
    "while (i<10):\n",
    "    num123=random.randint(1,100)\n",
    "    summ=summ+num123\n",
    "    i=i+1\n",
    "print(summ)"
   ]
  },
  {
   "cell_type": "code",
   "execution_count": 2,
   "id": "3b008802",
   "metadata": {},
   "outputs": [
    {
     "name": "stdout",
     "output_type": "stream",
     "text": [
      "476\n"
     ]
    }
   ],
   "source": [
    "#wap ask the user 10 random numbers between 1 to 100\n",
    "#count how many are greater then 50\n",
    "import random\n",
    "count=0\n",
    "for i in range(10):\n",
    "    num=random.randint(1,100)\n",
    "    if num>50:\n",
    "        count=count+1\n",
    "print(count)"
   ]
  },
  {
   "cell_type": "code",
   "execution_count": 6,
   "id": "00fe2790",
   "metadata": {},
   "outputs": [
    {
     "name": "stdout",
     "output_type": "stream",
     "text": [
      "85 52 85 60 69 53 51 67 64 87 /\n",
      "10\n"
     ]
    }
   ],
   "source": [
    "import random\n",
    "i=0\n",
    "count=0\n",
    "while(i<10):\n",
    "    num=random.randint(1,100)\n",
    "    if num>50:\n",
    "        print(num,end=\" \")\n",
    "        count=count+1\n",
    "        \n",
    "        i=i+1\n",
    "print(\"/\")    \n",
    "print(count)"
   ]
  },
  {
   "cell_type": "code",
   "execution_count": 8,
   "id": "92687d9a",
   "metadata": {},
   "outputs": [
    {
     "name": "stdout",
     "output_type": "stream",
     "text": [
      "91 61 75 55 100 53 90 58 82 90 /\n",
      "10\n"
     ]
    }
   ],
   "source": [
    "import random\n",
    "i=0\n",
    "count=0\n",
    "while True:\n",
    "    num=random.randint(1,100)\n",
    "    if num>50:\n",
    "        print(num,end=\" \")\n",
    "        count=count+1\n",
    "        i=i+1\n",
    "        if i==10:\n",
    "            break\n",
    "print(\"/\")    \n",
    "print(count)"
   ]
  },
  {
   "cell_type": "code",
   "execution_count": 1,
   "id": "5f034ec3",
   "metadata": {},
   "outputs": [
    {
     "name": "stdout",
     "output_type": "stream",
     "text": [
      "8 10 7 6 10 10 0 7 7 0 /\n",
      "10\n"
     ]
    }
   ],
   "source": [
    "#wap ask the user get a 10 random numbers between 0 to 10\n",
    "#count how many are greater the 5 and equal =0\n",
    "import random\n",
    "i=0\n",
    "count=0\n",
    "while(i<10):\n",
    "    num=random.randint(0,10)\n",
    "    if num>5 or num==0:\n",
    "        print(num,end=\" \")\n",
    "        count=count+1\n",
    "        i=i+1\n",
    "print(\"/\")    \n",
    "print(count)"
   ]
  },
  {
   "cell_type": "code",
   "execution_count": 11,
   "id": "6ed391a6",
   "metadata": {},
   "outputs": [
    {
     "name": "stdout",
     "output_type": "stream",
     "text": [
      "10 10 0 7 /\n",
      "3\n",
      "1\n"
     ]
    }
   ],
   "source": [
    "import random\n",
    "i=0\n",
    "count1=0\n",
    "count2=0\n",
    "while(i<10):\n",
    "    num=random.randint(0,10)\n",
    "    if num>5:\n",
    "        print(num,end=\" \")\n",
    "        count1=count1+1\n",
    "    elif(num==0):\n",
    "        print(num,end=\" \")\n",
    "        count2=count2+1\n",
    "    i=i+1\n",
    "print(\"/\")    \n",
    "print(count1)\n",
    "print(count2)"
   ]
  },
  {
   "cell_type": "code",
   "execution_count": null,
   "id": "ae455e69",
   "metadata": {},
   "outputs": [],
   "source": [
    "#Suppose that a player wants to play a game which requires hum Rs. 1,000 to start. \n",
    "#If the current balance in his account is less than Rs 1,000 he needs to withdraw the extra money from his e-wallet\n",
    "\n",
    "#Note that if the sum of money in his courant account and the amount withdrawn is greater than or equal to Rs 1,000 then he can start playing the game However if the sun is less than Rs 1,000 then the program should keep displaying the user the message \"You still do not have enough money to start playing and keep prompting the user to withdraw money unless t acotes Rs 1,000 Once ready Le in current account balance crosses Rs 1,000, a will display a message \"Now you are ready to play the game.\n",
    "#Your program should also display the account balance and the cu Suppose that a player wants to play a game which requires hum Rs. 1,000 to start. If the current balance in his account is less than Rs 1,000 he needs to withdraw the extra money from his e-wallet\n",
    "\n",
    "#Note that if the sum of money in his courant account and the amount withdrawn is greater than or equal to Rs 1,000 then he can start playing the game. However if the sum is less than Rs 1,000 then the program should keep displaying the user the message \"You still do not have enough money to start playing\" and keep prompting the user to withdraw money unless it crosses Rs 1000. \n",
    "#Once ready,i.e if the current account balance crosses Rs 1,000, a will display a message \"Now you are ready to play the game\". Your program should also display the account balance and the current amount in the e-wallet.\n",
    "\n",
    "#(consider initial  account balance is Rs 200 and money to the e-wallet is Rs. 5,000)\n",
    "\n",
    "#(Do further improvement by checking if the e-wallet balance becomes NIL etc.)\n"
   ]
  },
  {
   "cell_type": "code",
   "execution_count": 15,
   "id": "7dde42c9",
   "metadata": {},
   "outputs": [
    {
     "name": "stdout",
     "output_type": "stream",
     "text": [
      "enter a number between 1 to 10:1\n",
      "you lost\n",
      "enter a number between 1 to 10:2\n",
      "you lost\n",
      "enter a number between 1 to 10:4\n",
      "you lost\n"
     ]
    }
   ],
   "source": [
    "#take a random number from random package between 1 to 10\n",
    "#========you need 3 times==========\n",
    "#ask the user enter a number between 1 to 10\n",
    "#if the number ==random number:\n",
    "#print(\"you won\")\n",
    "#else\n",
    "#print(\"you lost\")\n",
    "#while loop\n",
    "import random\n",
    "for i in range(3):\n",
    "    num=random.randint(1,10)\n",
    "    num1=eval(input(\"enter a number between 1 to 10:\"))\n",
    "    if num1==num:\n",
    "        print(\"you won\")\n",
    "    else:\n",
    "        print(\"you lost\")"
   ]
  },
  {
   "cell_type": "code",
   "execution_count": 6,
   "id": "abedbf25",
   "metadata": {},
   "outputs": [
    {
     "name": "stdout",
     "output_type": "stream",
     "text": [
      "enter a number between 1 to 10:1\n",
      "you lost\n",
      "enter a number between 1 to 10:2\n",
      "you lost\n",
      "enter a number between 1 to 10:3\n",
      "you lost\n"
     ]
    }
   ],
   "source": [
    "import random\n",
    "i=0\n",
    "while True:\n",
    "    num=random.randint(1,10)\n",
    "    num1=eval(input(\"enter a number between 1 to 10:\"))\n",
    "    if num1==num:\n",
    "        print(\"you won\")\n",
    "    else:\n",
    "        print(\"you lost\")\n",
    "    i=i+1\n",
    "    if i==3:\n",
    "        break     "
   ]
  },
  {
   "cell_type": "code",
   "execution_count": null,
   "id": "bec33a3c",
   "metadata": {},
   "outputs": [],
   "source": []
  }
 ],
 "metadata": {
  "kernelspec": {
   "display_name": "Python 3 (ipykernel)",
   "language": "python",
   "name": "python3"
  },
  "language_info": {
   "codemirror_mode": {
    "name": "ipython",
    "version": 3
   },
   "file_extension": ".py",
   "mimetype": "text/x-python",
   "name": "python",
   "nbconvert_exporter": "python",
   "pygments_lexer": "ipython3",
   "version": "3.11.5"
  }
 },
 "nbformat": 4,
 "nbformat_minor": 5
}
