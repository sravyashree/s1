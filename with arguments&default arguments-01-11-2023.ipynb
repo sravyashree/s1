{
 "cells": [
  {
   "cell_type": "code",
   "execution_count": 1,
   "id": "96b498d4",
   "metadata": {},
   "outputs": [],
   "source": [
    "#with arguments\n",
    "def bill(bill_amt,tip_amt):\n",
    "    try:\n",
    "        total_bill=bill_amt+tip_amt\n",
    "        print(\"total bill amount is {}\".format(total_bill))\n",
    "    except Exception as e:\n",
    "        print(e)"
   ]
  },
  {
   "cell_type": "code",
   "execution_count": 2,
   "id": "1353d4d6",
   "metadata": {},
   "outputs": [
    {
     "name": "stdout",
     "output_type": "stream",
     "text": [
      "total bill amount is 120\n"
     ]
    }
   ],
   "source": [
    "bill(100,20)"
   ]
  },
  {
   "cell_type": "code",
   "execution_count": 3,
   "id": "85c17939",
   "metadata": {},
   "outputs": [
    {
     "name": "stdout",
     "output_type": "stream",
     "text": [
      "enter a number:5\n",
      "the sqaure of the given number is 25\n"
     ]
    }
   ],
   "source": [
    "#wap ask the user enter a number and find square of the number\n",
    "#m-1:normal program\n",
    "#m2:without arguments\n",
    "#m3-with arguments\n",
    "#m-1\n",
    "try:\n",
    "    val=eval(input(\"enter a number:\"))\n",
    "    square=val*val\n",
    "    print(\"the sqaure of the given number is\",square)\n",
    "except Exception as e:\n",
    "    print(e)"
   ]
  },
  {
   "cell_type": "code",
   "execution_count": 4,
   "id": "a5ed0d5d",
   "metadata": {},
   "outputs": [],
   "source": [
    "#m-2\n",
    "def square():\n",
    "    try:\n",
    "        val=eval(input(\"enter a number:\"))\n",
    "        square=val*val\n",
    "        print(\"the sqaure of the given number is\",square)\n",
    "    except Exception as e:\n",
    "        print(e)\n",
    "    "
   ]
  },
  {
   "cell_type": "code",
   "execution_count": 5,
   "id": "af10551c",
   "metadata": {},
   "outputs": [
    {
     "name": "stdout",
     "output_type": "stream",
     "text": [
      "enter a number:5\n",
      "the sqaure of the given number is 25\n"
     ]
    }
   ],
   "source": [
    "square()"
   ]
  },
  {
   "cell_type": "code",
   "execution_count": 6,
   "id": "d600c9ff",
   "metadata": {},
   "outputs": [],
   "source": [
    "#m-3\n",
    "def square(val):\n",
    "    try:\n",
    "        square=val*val\n",
    "        print(\"the sqaure of the given number is\",square)\n",
    "    except Exception as e:\n",
    "        print(e)\n",
    "    "
   ]
  },
  {
   "cell_type": "code",
   "execution_count": 7,
   "id": "b0cb96e7",
   "metadata": {},
   "outputs": [
    {
     "name": "stdout",
     "output_type": "stream",
     "text": [
      "the sqaure of the given number is 25\n"
     ]
    }
   ],
   "source": [
    "square(5)"
   ]
  },
  {
   "cell_type": "code",
   "execution_count": 9,
   "id": "e09dae9e",
   "metadata": {},
   "outputs": [
    {
     "name": "stdout",
     "output_type": "stream",
     "text": [
      "enter a number:2\n",
      "you lost\n"
     ]
    }
   ],
   "source": [
    "#wap ask the user \n",
    "#get one random number between 1 to 20\n",
    "#enter a number\n",
    "#compare these two numbers\n",
    "#if both are same:print(\"you won\")\n",
    "#else:you lost\n",
    "#m1-normal\n",
    "#m2-withour arguments\n",
    "#m3-with arguments\n",
    "#m-1\n",
    "import random\n",
    "num1=random.randint(1,20)\n",
    "num2=eval(input(\"enter a number:\"))\n",
    "if (num1==num2):\n",
    "    print(\"you won\")\n",
    "else:\n",
    "    print(\"you lost\")"
   ]
  },
  {
   "cell_type": "code",
   "execution_count": 12,
   "id": "baf0a92b",
   "metadata": {},
   "outputs": [],
   "source": [
    "#m-2\n",
    "import random\n",
    "def random1():\n",
    "    num1=random.randint(1,20)\n",
    "    num2=eval(input(\"enter a number:\"))\n",
    "    if (num1==num2):\n",
    "        print(\"you won\")\n",
    "    else:\n",
    "        print(\"you lost\")\n"
   ]
  },
  {
   "cell_type": "code",
   "execution_count": 14,
   "id": "70a3da41",
   "metadata": {},
   "outputs": [
    {
     "name": "stdout",
     "output_type": "stream",
     "text": [
      "enter a number:2\n",
      "you lost\n"
     ]
    }
   ],
   "source": [
    "random1()"
   ]
  },
  {
   "cell_type": "code",
   "execution_count": 15,
   "id": "337815bc",
   "metadata": {},
   "outputs": [],
   "source": [
    "#m-3\n",
    "import random\n",
    "def random1(num1,num2):\n",
    "    if (num1==num2):\n",
    "        print(\"you won\")\n",
    "    else:\n",
    "        print(\"you lost\")\n"
   ]
  },
  {
   "cell_type": "code",
   "execution_count": 17,
   "id": "42e44d55",
   "metadata": {},
   "outputs": [
    {
     "name": "stdout",
     "output_type": "stream",
     "text": [
      "you lost\n"
     ]
    }
   ],
   "source": [
    "random1(1,20)"
   ]
  },
  {
   "cell_type": "code",
   "execution_count": 23,
   "id": "abc4ce0f",
   "metadata": {},
   "outputs": [],
   "source": [
    "#m-2\n",
    "import random\n",
    "def random1(num2):\n",
    "    num1=random.randint(1,20)\n",
    "    num2=eval(input(\"enter a number:\"))\n",
    "    if (num1==num2):\n",
    "        print(\"you won\")\n",
    "    else:\n",
    "        print(\"you lost\")   ##keyword \n"
   ]
  },
  {
   "cell_type": "code",
   "execution_count": 24,
   "id": "cacbc4b5",
   "metadata": {},
   "outputs": [
    {
     "name": "stdout",
     "output_type": "stream",
     "text": [
      "enter a number:2\n",
      "enter a number:3\n",
      "you lost\n"
     ]
    }
   ],
   "source": [
    "random1(eval(input(\"enter a number:\")))"
   ]
  },
  {
   "cell_type": "code",
   "execution_count": 25,
   "id": "de8ddb86",
   "metadata": {},
   "outputs": [
    {
     "name": "stdout",
     "output_type": "stream",
     "text": [
      "enter a number:2\n"
     ]
    }
   ],
   "source": [
    "#m-2\n",
    "import random\n",
    "def random1(random_num1,num2):\n",
    "    \n",
    "    if (random_num1==num2):\n",
    "        print(\"you won\")\n",
    "    else:\n",
    "        print(\"you lost\")   ##keyword \n",
    "valu1=random.randint(1,20)\n",
    "value2=eval(input(\"enter a number:\"))"
   ]
  },
  {
   "cell_type": "code",
   "execution_count": 28,
   "id": "0ed5e402",
   "metadata": {},
   "outputs": [
    {
     "name": "stdout",
     "output_type": "stream",
     "text": [
      "you lost\n"
     ]
    }
   ],
   "source": [
    "random1(valu1,value2)"
   ]
  },
  {
   "cell_type": "code",
   "execution_count": null,
   "id": "cd4a535b",
   "metadata": {},
   "outputs": [],
   "source": [
    "#step-1:import random\n",
    "#step-2:function will defin:not given                #this method will work\n",
    "#step-3:value_random\n",
    "#step-4:value\n",
    "#step-5:calling function----->step2:print\n",
    "                                    # won/lost"
   ]
  },
  {
   "cell_type": "code",
   "execution_count": null,
   "id": "8a10480a",
   "metadata": {},
   "outputs": [],
   "source": [
    "#step-1:import random\n",
    "#step-2:function will defin:not given #this method will not work because we are calling the fuction before\n",
    "#step-5:calling function----->step2:print\n",
    "                                    # won/lost\n",
    "#step-3:value_random\n",
    "#step-4:value\n"
   ]
  },
  {
   "cell_type": "code",
   "execution_count": 29,
   "id": "cd87d570",
   "metadata": {},
   "outputs": [],
   "source": [
    "#wap ask the user enter salary\n",
    "#    ask the user tax percentage\n",
    "#    calculate total tax to pay\n",
    "def tax():\n",
    "    salary=eval(input(\"enter salary:\"))\n",
    "    tax_percentage=eval(input(\"enter tax percentage:\"))\n",
    "    total_tax=(tax_percentage/100)*salary\n",
    "    print(\"total tax is\",total_tax)##without arguments"
   ]
  },
  {
   "cell_type": "code",
   "execution_count": 30,
   "id": "f017221c",
   "metadata": {},
   "outputs": [
    {
     "name": "stdout",
     "output_type": "stream",
     "text": [
      "enter salary:2000\n",
      "enter tax percentage:26\n",
      "total tax is 520.0\n"
     ]
    }
   ],
   "source": [
    "tax()"
   ]
  },
  {
   "cell_type": "code",
   "execution_count": 31,
   "id": "fefcc100",
   "metadata": {},
   "outputs": [],
   "source": [
    "def tax(salary,tax_percentage):\n",
    "    total_tax=(tax_percentage/100)*salary\n",
    "    print(\"total tax is\",total_tax)##with arguments"
   ]
  },
  {
   "cell_type": "code",
   "execution_count": 32,
   "id": "1b7fa2ff",
   "metadata": {},
   "outputs": [
    {
     "name": "stdout",
     "output_type": "stream",
     "text": [
      "total tax is 5200.0\n"
     ]
    }
   ],
   "source": [
    "tax(20000,26)"
   ]
  },
  {
   "cell_type": "code",
   "execution_count": 34,
   "id": "2ec0f58f",
   "metadata": {},
   "outputs": [],
   "source": [
    "try:\n",
    "    def tax():\n",
    "        salary=eval(input(\"enter salary:\"))\n",
    "        tax_percentage=eval(input(\"enter tax percentage:\"))\n",
    "        total_tax=(tax_percentage/100)*salary\n",
    "        print(\"total tax is\",total_tax)\n",
    "except Exception as e:\n",
    "        print(e)"
   ]
  },
  {
   "cell_type": "code",
   "execution_count": 35,
   "id": "ca4fd6a6",
   "metadata": {},
   "outputs": [
    {
     "name": "stdout",
     "output_type": "stream",
     "text": [
      "enter salary:20000\n",
      "enter tax percentage:35\n",
      "total tax is 7000.0\n"
     ]
    }
   ],
   "source": [
    "tax()"
   ]
  },
  {
   "cell_type": "markdown",
   "id": "8ad410c7",
   "metadata": {},
   "source": [
    "$default$ $agruments$"
   ]
  },
  {
   "cell_type": "code",
   "execution_count": 36,
   "id": "a74376cb",
   "metadata": {},
   "outputs": [],
   "source": [
    "#tax percentage is always=20\n",
    "#tax per is fixed\n",
    "#default parameter menas fixed value\n",
    "def tax(salary,tax_percentage=20):\n",
    "    total_tax=(tax_percentage/100)*salary\n",
    "    print(\"total tax is\",total_tax)##with arguments"
   ]
  },
  {
   "cell_type": "code",
   "execution_count": 37,
   "id": "acc4b843",
   "metadata": {},
   "outputs": [
    {
     "name": "stdout",
     "output_type": "stream",
     "text": [
      "total tax is 200.0\n"
     ]
    }
   ],
   "source": [
    "tax(1000)"
   ]
  },
  {
   "cell_type": "code",
   "execution_count": 38,
   "id": "21323bbd",
   "metadata": {},
   "outputs": [],
   "source": [
    "def avg(num1,num2,num3):\n",
    "    print(\"the avg is\",(num1+num2+num3)/3)\n",
    "    "
   ]
  },
  {
   "cell_type": "code",
   "execution_count": 39,
   "id": "f911e744",
   "metadata": {},
   "outputs": [
    {
     "name": "stdout",
     "output_type": "stream",
     "text": [
      "the avg is 20.0\n"
     ]
    }
   ],
   "source": [
    "avg(10,20,30)"
   ]
  },
  {
   "cell_type": "code",
   "execution_count": 40,
   "id": "e57df04b",
   "metadata": {},
   "outputs": [],
   "source": [
    "def avg(num1,num2,num3=30):\n",
    "    print(\"the avg is\",(num1+num2+num3)/3)"
   ]
  },
  {
   "cell_type": "code",
   "execution_count": 41,
   "id": "5232c9c0",
   "metadata": {},
   "outputs": [
    {
     "name": "stdout",
     "output_type": "stream",
     "text": [
      "the avg is 20.0\n"
     ]
    }
   ],
   "source": [
    "avg(20,10)"
   ]
  },
  {
   "cell_type": "code",
   "execution_count": 42,
   "id": "02f59050",
   "metadata": {},
   "outputs": [],
   "source": [
    "def avg(num1,num3,num2=30):\n",
    "    print(\"the avg is\",(num1+num2+num3)/3)\n",
    "    #always default parameters should be at last"
   ]
  },
  {
   "cell_type": "code",
   "execution_count": 43,
   "id": "429a3fe5",
   "metadata": {},
   "outputs": [
    {
     "name": "stdout",
     "output_type": "stream",
     "text": [
      "the avg is 20.0\n"
     ]
    }
   ],
   "source": [
    "avg(10,20)"
   ]
  },
  {
   "cell_type": "code",
   "execution_count": 44,
   "id": "688e5b25",
   "metadata": {},
   "outputs": [
    {
     "data": {
      "text/plain": [
       "<bound method Random.randint of <random.Random object at 0x0000018E1AFC8410>>"
      ]
     },
     "execution_count": 44,
     "metadata": {},
     "output_type": "execute_result"
    }
   ],
   "source": [
    "import random\n",
    "random.randint"
   ]
  },
  {
   "cell_type": "code",
   "execution_count": 45,
   "id": "41c53e48",
   "metadata": {},
   "outputs": [
    {
     "ename": "TypeError",
     "evalue": "Random.randint() missing 2 required positional arguments: 'a' and 'b'",
     "output_type": "error",
     "traceback": [
      "\u001b[1;31m---------------------------------------------------------------------------\u001b[0m",
      "\u001b[1;31mTypeError\u001b[0m                                 Traceback (most recent call last)",
      "Cell \u001b[1;32mIn[45], line 2\u001b[0m\n\u001b[0;32m      1\u001b[0m \u001b[38;5;28;01mimport\u001b[39;00m \u001b[38;5;21;01mrandom\u001b[39;00m\n\u001b[1;32m----> 2\u001b[0m random\u001b[38;5;241m.\u001b[39mrandint()\n",
      "\u001b[1;31mTypeError\u001b[0m: Random.randint() missing 2 required positional arguments: 'a' and 'b'"
     ]
    }
   ],
   "source": [
    "import random\n",
    "random.randint()    #functions means methods and should have brackets"
   ]
  },
  {
   "cell_type": "code",
   "execution_count": 48,
   "id": "d4ab335f",
   "metadata": {},
   "outputs": [
    {
     "ename": "TypeError",
     "evalue": "Random.randint() missing 2 required positional arguments: 'a' and 'b'",
     "output_type": "error",
     "traceback": [
      "\u001b[1;31m---------------------------------------------------------------------------\u001b[0m",
      "\u001b[1;31mTypeError\u001b[0m                                 Traceback (most recent call last)",
      "Cell \u001b[1;32mIn[48], line 2\u001b[0m\n\u001b[0;32m      1\u001b[0m \u001b[38;5;28;01mimport\u001b[39;00m \u001b[38;5;21;01mrandom\u001b[39;00m\n\u001b[1;32m----> 2\u001b[0m random\u001b[38;5;241m.\u001b[39mrandint()\n",
      "\u001b[1;31mTypeError\u001b[0m: Random.randint() missing 2 required positional arguments: 'a' and 'b'"
     ]
    }
   ],
   "source": [
    "import random\n",
    "random.randint()   # two arguments should give"
   ]
  },
  {
   "cell_type": "code",
   "execution_count": 46,
   "id": "a5936140",
   "metadata": {},
   "outputs": [
    {
     "data": {
      "text/plain": [
       "0j"
      ]
     },
     "execution_count": 46,
     "metadata": {},
     "output_type": "execute_result"
    }
   ],
   "source": [
    "complex()   #in complex default is zero if ur not providing"
   ]
  },
  {
   "cell_type": "code",
   "execution_count": 47,
   "id": "13e20596",
   "metadata": {},
   "outputs": [
    {
     "data": {
      "text/plain": [
       "(2+3j)"
      ]
     },
     "execution_count": 47,
     "metadata": {},
     "output_type": "execute_result"
    }
   ],
   "source": [
    "complex(2,3)"
   ]
  },
  {
   "cell_type": "code",
   "execution_count": 49,
   "id": "45e84995",
   "metadata": {},
   "outputs": [
    {
     "data": {
      "text/plain": [
       "13"
      ]
     },
     "execution_count": 49,
     "metadata": {},
     "output_type": "execute_result"
    }
   ],
   "source": [
    "from random import randint\n",
    "randint(10,20)"
   ]
  },
  {
   "cell_type": "code",
   "execution_count": 50,
   "id": "b0a7264b",
   "metadata": {},
   "outputs": [],
   "source": [
    "def sum(a,b):\n",
    "    print(a*b)"
   ]
  },
  {
   "cell_type": "code",
   "execution_count": 52,
   "id": "5aa886a8",
   "metadata": {},
   "outputs": [
    {
     "name": "stdout",
     "output_type": "stream",
     "text": [
      "6\n"
     ]
    }
   ],
   "source": [
    "sum(2,3)"
   ]
  },
  {
   "cell_type": "code",
   "execution_count": 53,
   "id": "f8a089ce",
   "metadata": {},
   "outputs": [],
   "source": [
    "def sum(a=0,b=0):\n",
    "    print(a*b)"
   ]
  },
  {
   "cell_type": "code",
   "execution_count": 54,
   "id": "bccbcb5e",
   "metadata": {},
   "outputs": [
    {
     "name": "stdout",
     "output_type": "stream",
     "text": [
      "0\n"
     ]
    }
   ],
   "source": [
    "sum()"
   ]
  }
 ],
 "metadata": {
  "kernelspec": {
   "display_name": "Python 3 (ipykernel)",
   "language": "python",
   "name": "python3"
  },
  "language_info": {
   "codemirror_mode": {
    "name": "ipython",
    "version": 3
   },
   "file_extension": ".py",
   "mimetype": "text/x-python",
   "name": "python",
   "nbconvert_exporter": "python",
   "pygments_lexer": "ipython3",
   "version": "3.11.5"
  }
 },
 "nbformat": 4,
 "nbformat_minor": 5
}
