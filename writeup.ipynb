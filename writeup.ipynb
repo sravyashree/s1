{
 "cells": [
  {
   "cell_type": "markdown",
   "id": "acdabebc",
   "metadata": {},
   "source": [
    "# $strings$"
   ]
  },
  {
   "cell_type": "markdown",
   "id": "28da9f42",
   "metadata": {},
   "source": [
    "### $how$ $to$ $read$ $the$ $strings$"
   ]
  },
  {
   "cell_type": "markdown",
   "id": "b4684047",
   "metadata": {},
   "source": [
    "### -double quotes"
   ]
  },
  {
   "cell_type": "code",
   "execution_count": 3,
   "id": "0709c782",
   "metadata": {},
   "outputs": [
    {
     "data": {
      "text/plain": [
       "'bingo mad angles'"
      ]
     },
     "execution_count": 3,
     "metadata": {},
     "output_type": "execute_result"
    }
   ],
   "source": [
    "string1=\"bingo mad angles\"    \n",
    "string1"
   ]
  },
  {
   "cell_type": "markdown",
   "id": "9fff3e43",
   "metadata": {},
   "source": [
    "### -single quotes"
   ]
  },
  {
   "cell_type": "code",
   "execution_count": 4,
   "id": "3d5d2757",
   "metadata": {},
   "outputs": [
    {
     "data": {
      "text/plain": [
       "'bingo mad angles'"
      ]
     },
     "execution_count": 4,
     "metadata": {},
     "output_type": "execute_result"
    }
   ],
   "source": [
    "string1='bingo mad angles'    \n",
    "string1"
   ]
  },
  {
   "cell_type": "markdown",
   "id": "7fc6461f",
   "metadata": {},
   "source": [
    "### -triple quotes"
   ]
  },
  {
   "cell_type": "code",
   "execution_count": 5,
   "id": "35ffc371",
   "metadata": {},
   "outputs": [
    {
     "data": {
      "text/plain": [
       "'im hungry\\ni wanna eat something\\nbut im in the class'"
      ]
     },
     "execution_count": 5,
     "metadata": {},
     "output_type": "execute_result"
    }
   ],
   "source": [
    "string1=\"\"\"im hungry\n",
    "i wanna eat something\n",
    "but im in the class\"\"\"\n",
    "string1"
   ]
  },
  {
   "cell_type": "markdown",
   "id": "f0261780",
   "metadata": {},
   "source": [
    "### summary"
   ]
  },
  {
   "cell_type": "code",
   "execution_count": null,
   "id": "57ff2620",
   "metadata": {},
   "outputs": [],
   "source": [
    " -if we write anything in double qoutes in strings it will work===\"\"\n",
    "-if we write anything in single qoutes in strings it will work===''\n",
    "-if we write anything in triple quotes in strings it will work===\"\"\"\"\"\"\n",
    "-other name for triple quotes is doc string"
   ]
  },
  {
   "cell_type": "markdown",
   "id": "67a3cf19",
   "metadata": {},
   "source": [
    "#### -i want to highlight any word in the given string below"
   ]
  },
  {
   "cell_type": "code",
   "execution_count": 6,
   "id": "6a55f4bf",
   "metadata": {},
   "outputs": [
    {
     "name": "stdout",
     "output_type": "stream",
     "text": [
      "hello \"python\"\n"
     ]
    }
   ],
   "source": [
    "string3='hello \"python\"'\n",
    "print(string3)            #highlighting python with double quotes in the given string "
   ]
  },
  {
   "cell_type": "code",
   "execution_count": 1,
   "id": "cac498f1",
   "metadata": {},
   "outputs": [
    {
     "name": "stdout",
     "output_type": "stream",
     "text": [
      "hello 'python'\n"
     ]
    }
   ],
   "source": [
    "string3=\"hello 'python'\"\n",
    "print(string3)            #highlighting python with single quotes in the  given string"
   ]
  },
  {
   "cell_type": "markdown",
   "id": "91a86acb",
   "metadata": {},
   "source": [
    "### type-len-max-min"
   ]
  },
  {
   "cell_type": "code",
   "execution_count": 3,
   "id": "51a4b7c3",
   "metadata": {},
   "outputs": [
    {
     "data": {
      "text/plain": [
       "str"
      ]
     },
     "execution_count": 3,
     "metadata": {},
     "output_type": "execute_result"
    }
   ],
   "source": [
    "string1=\"python\"\n",
    "type(string1)"
   ]
  },
  {
   "cell_type": "code",
   "execution_count": 5,
   "id": "36273d75",
   "metadata": {},
   "outputs": [
    {
     "data": {
      "text/plain": [
       "tuple"
      ]
     },
     "execution_count": 5,
     "metadata": {},
     "output_type": "execute_result"
    }
   ],
   "source": [
    "str1=(1,2,3) \n",
    "type(str1)"
   ]
  },
  {
   "cell_type": "code",
   "execution_count": 6,
   "id": "7b5047c6",
   "metadata": {},
   "outputs": [
    {
     "data": {
      "text/plain": [
       "6"
      ]
     },
     "execution_count": 6,
     "metadata": {},
     "output_type": "execute_result"
    }
   ],
   "source": [
    "len(string1)"
   ]
  },
  {
   "cell_type": "code",
   "execution_count": 7,
   "id": "e0dd7988",
   "metadata": {},
   "outputs": [
    {
     "data": {
      "text/plain": [
       "3"
      ]
     },
     "execution_count": 7,
     "metadata": {},
     "output_type": "execute_result"
    }
   ],
   "source": [
    "max(str1)"
   ]
  },
  {
   "cell_type": "code",
   "execution_count": 8,
   "id": "09311987",
   "metadata": {},
   "outputs": [
    {
     "data": {
      "text/plain": [
       "'h'"
      ]
     },
     "execution_count": 8,
     "metadata": {},
     "output_type": "execute_result"
    }
   ],
   "source": [
    "min(string1)"
   ]
  },
  {
   "cell_type": "code",
   "execution_count": null,
   "id": "5b700d9e",
   "metadata": {},
   "outputs": [],
   "source": [
    "summary\n",
    "-type:it tells which type is the given string\n",
    "-len:it tells the length(how many letters) of the given string\n",
    "-max:it tells the max value in the given string\n",
    "-min:it tells the min value in the given string"
   ]
  },
  {
   "cell_type": "markdown",
   "id": "c6c8c17c",
   "metadata": {},
   "source": [
    "### ASCII-American Standard Code for Information Interchange"
   ]
  },
  {
   "cell_type": "code",
   "execution_count": null,
   "id": "8375e1e5",
   "metadata": {},
   "outputs": [],
   "source": [
    "ordinal===>ord()\n",
    "-in ascii ord() is a functionthat returns the unicode of a character"
   ]
  },
  {
   "cell_type": "markdown",
   "id": "256455ec",
   "metadata": {},
   "source": [
    "examples"
   ]
  },
  {
   "cell_type": "code",
   "execution_count": 12,
   "id": "64067822",
   "metadata": {},
   "outputs": [
    {
     "data": {
      "text/plain": [
       "(112, 121, 116, 104, 111, 110)"
      ]
     },
     "execution_count": 12,
     "metadata": {},
     "output_type": "execute_result"
    }
   ],
   "source": [
    "string1=\"python\"\n",
    "ord(\"p\"),ord(\"y\"),ord(\"t\"),ord(\"h\"),ord(\"o\"),ord(\"n\")"
   ]
  },
  {
   "cell_type": "code",
   "execution_count": null,
   "id": "1894423e",
   "metadata": {},
   "outputs": [],
   "source": [
    "character===>chr()\n",
    "-in ascii chr() is a function that returns a character based on a numeric code"
   ]
  },
  {
   "cell_type": "markdown",
   "id": "2e16572b",
   "metadata": {},
   "source": [
    "examples"
   ]
  },
  {
   "cell_type": "code",
   "execution_count": 13,
   "id": "9080969e",
   "metadata": {},
   "outputs": [
    {
     "data": {
      "text/plain": [
       "('p', 'y', 't', 'h', 'o', 'n')"
      ]
     },
     "execution_count": 13,
     "metadata": {},
     "output_type": "execute_result"
    }
   ],
   "source": [
    "chr(112),chr(121),chr(116),chr(104),chr(111),chr(110)"
   ]
  },
  {
   "cell_type": "markdown",
   "id": "ed64a8a3",
   "metadata": {},
   "source": [
    "#### $how$ $can$ $we$ $implement$ $loop$ $on$ $the$ $string$"
   ]
  },
  {
   "cell_type": "code",
   "execution_count": 14,
   "id": "64e7fa77",
   "metadata": {},
   "outputs": [
    {
     "name": "stdout",
     "output_type": "stream",
     "text": [
      "0\n",
      "1\n",
      "2\n",
      "3\n",
      "4\n",
      "5\n"
     ]
    }
   ],
   "source": [
    "for i in range(len('python')):\n",
    "    print(i)   "
   ]
  },
  {
   "cell_type": "markdown",
   "id": "b4a60a5f",
   "metadata": {},
   "source": [
    "### in operator"
   ]
  },
  {
   "cell_type": "code",
   "execution_count": 15,
   "id": "160c5c04",
   "metadata": {},
   "outputs": [
    {
     "data": {
      "text/plain": [
       "True"
      ]
     },
     "execution_count": 15,
     "metadata": {},
     "output_type": "execute_result"
    }
   ],
   "source": [
    "string1='python'\n",
    "'p' in string1"
   ]
  },
  {
   "cell_type": "code",
   "execution_count": 16,
   "id": "f863e6c9",
   "metadata": {},
   "outputs": [
    {
     "data": {
      "text/plain": [
       "True"
      ]
     },
     "execution_count": 16,
     "metadata": {},
     "output_type": "execute_result"
    }
   ],
   "source": [
    "'y' in string1"
   ]
  },
  {
   "cell_type": "code",
   "execution_count": null,
   "id": "3c693046",
   "metadata": {},
   "outputs": [],
   "source": []
  }
 ],
 "metadata": {
  "kernelspec": {
   "display_name": "Python 3 (ipykernel)",
   "language": "python",
   "name": "python3"
  },
  "language_info": {
   "codemirror_mode": {
    "name": "ipython",
    "version": 3
   },
   "file_extension": ".py",
   "mimetype": "text/x-python",
   "name": "python",
   "nbconvert_exporter": "python",
   "pygments_lexer": "ipython3",
   "version": "3.11.5"
  }
 },
 "nbformat": 4,
 "nbformat_minor": 5
}
